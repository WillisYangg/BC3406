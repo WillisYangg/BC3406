{
 "cells": [
  {
   "cell_type": "code",
   "execution_count": 1,
   "metadata": {},
   "outputs": [],
   "source": [
    "import pandas as pd\n",
    "import numpy as np\n",
    "import matplotlib.pyplot as plt\n",
    "import seaborn as sb\n",
    "\n",
    "sb.set()"
   ]
  },
  {
   "cell_type": "code",
   "execution_count": 2,
   "metadata": {},
   "outputs": [
    {
     "data": {
      "text/html": [
       "<div>\n",
       "<style scoped>\n",
       "    .dataframe tbody tr th:only-of-type {\n",
       "        vertical-align: middle;\n",
       "    }\n",
       "\n",
       "    .dataframe tbody tr th {\n",
       "        vertical-align: top;\n",
       "    }\n",
       "\n",
       "    .dataframe thead th {\n",
       "        text-align: right;\n",
       "    }\n",
       "</style>\n",
       "<table border=\"1\" class=\"dataframe\">\n",
       "  <thead>\n",
       "    <tr style=\"text-align: right;\">\n",
       "      <th></th>\n",
       "      <th>ADI</th>\n",
       "      <th>Age</th>\n",
       "      <th>person_id</th>\n",
       "      <th>Gender</th>\n",
       "      <th>Subgroup</th>\n",
       "      <th>absence_indicator</th>\n",
       "      <th>analytic_period_id</th>\n",
       "      <th>tenure</th>\n",
       "      <th>overtime</th>\n",
       "      <th>salary</th>\n",
       "      <th>...</th>\n",
       "      <th>extreme_heat_ssp585_2045</th>\n",
       "      <th>wildfire_potential_2018</th>\n",
       "      <th>wildfire_potential_2019</th>\n",
       "      <th>wildfire_potential_2019.1</th>\n",
       "      <th>wildfire_potential_ssp245_2025</th>\n",
       "      <th>wildfire_potential_ssp245_2035</th>\n",
       "      <th>wildfire_potential_ssp245_2045</th>\n",
       "      <th>wildfire_potential_ssp585_2025</th>\n",
       "      <th>wildfire_potential_ssp585_2035</th>\n",
       "      <th>wildfire_potential_ssp585_2045</th>\n",
       "    </tr>\n",
       "  </thead>\n",
       "  <tbody>\n",
       "    <tr>\n",
       "      <th>0</th>\n",
       "      <td>28</td>\n",
       "      <td>37</td>\n",
       "      <td>3030515063</td>\n",
       "      <td>Male</td>\n",
       "      <td>Subgroup P</td>\n",
       "      <td>0</td>\n",
       "      <td>1</td>\n",
       "      <td>18.25</td>\n",
       "      <td>1</td>\n",
       "      <td>115700.0</td>\n",
       "      <td>...</td>\n",
       "      <td>13.380953</td>\n",
       "      <td>10.975000</td>\n",
       "      <td>11.460870</td>\n",
       "      <td>12.070652</td>\n",
       "      <td>6.033403</td>\n",
       "      <td>6.347014</td>\n",
       "      <td>6.512159</td>\n",
       "      <td>6.093082</td>\n",
       "      <td>6.504460</td>\n",
       "      <td>6.743331</td>\n",
       "    </tr>\n",
       "    <tr>\n",
       "      <th>1</th>\n",
       "      <td>18</td>\n",
       "      <td>34</td>\n",
       "      <td>9786383567</td>\n",
       "      <td>Male</td>\n",
       "      <td>Subgroup P</td>\n",
       "      <td>0</td>\n",
       "      <td>1</td>\n",
       "      <td>3.99</td>\n",
       "      <td>7</td>\n",
       "      <td>81435.0</td>\n",
       "      <td>...</td>\n",
       "      <td>13.380953</td>\n",
       "      <td>11.141304</td>\n",
       "      <td>11.520652</td>\n",
       "      <td>11.871739</td>\n",
       "      <td>6.033403</td>\n",
       "      <td>6.347014</td>\n",
       "      <td>6.512159</td>\n",
       "      <td>6.093082</td>\n",
       "      <td>6.504460</td>\n",
       "      <td>6.743331</td>\n",
       "    </tr>\n",
       "    <tr>\n",
       "      <th>2</th>\n",
       "      <td>15</td>\n",
       "      <td>36</td>\n",
       "      <td>5602306401</td>\n",
       "      <td>Male</td>\n",
       "      <td>Subgroup P</td>\n",
       "      <td>0</td>\n",
       "      <td>1</td>\n",
       "      <td>3.05</td>\n",
       "      <td>1</td>\n",
       "      <td>86400.0</td>\n",
       "      <td>...</td>\n",
       "      <td>15.597403</td>\n",
       "      <td>10.393478</td>\n",
       "      <td>10.777174</td>\n",
       "      <td>11.659783</td>\n",
       "      <td>6.064177</td>\n",
       "      <td>6.380910</td>\n",
       "      <td>6.548825</td>\n",
       "      <td>6.117186</td>\n",
       "      <td>6.522880</td>\n",
       "      <td>6.771772</td>\n",
       "    </tr>\n",
       "    <tr>\n",
       "      <th>3</th>\n",
       "      <td>36</td>\n",
       "      <td>41</td>\n",
       "      <td>8107765424</td>\n",
       "      <td>Male</td>\n",
       "      <td>Subgroup P</td>\n",
       "      <td>0</td>\n",
       "      <td>1</td>\n",
       "      <td>20.29</td>\n",
       "      <td>1</td>\n",
       "      <td>79176.0</td>\n",
       "      <td>...</td>\n",
       "      <td>12.290043</td>\n",
       "      <td>11.039130</td>\n",
       "      <td>11.023913</td>\n",
       "      <td>11.963043</td>\n",
       "      <td>6.069724</td>\n",
       "      <td>6.365864</td>\n",
       "      <td>6.512409</td>\n",
       "      <td>6.091926</td>\n",
       "      <td>6.469195</td>\n",
       "      <td>6.700504</td>\n",
       "    </tr>\n",
       "    <tr>\n",
       "      <th>4</th>\n",
       "      <td>49</td>\n",
       "      <td>51</td>\n",
       "      <td>7879842771</td>\n",
       "      <td>Male</td>\n",
       "      <td>Subgroup P</td>\n",
       "      <td>0</td>\n",
       "      <td>1</td>\n",
       "      <td>13.66</td>\n",
       "      <td>7</td>\n",
       "      <td>94511.0</td>\n",
       "      <td>...</td>\n",
       "      <td>12.290043</td>\n",
       "      <td>10.760870</td>\n",
       "      <td>11.308696</td>\n",
       "      <td>12.006522</td>\n",
       "      <td>6.069724</td>\n",
       "      <td>6.365864</td>\n",
       "      <td>6.512409</td>\n",
       "      <td>6.091926</td>\n",
       "      <td>6.469195</td>\n",
       "      <td>6.700504</td>\n",
       "    </tr>\n",
       "  </tbody>\n",
       "</table>\n",
       "<p>5 rows × 74 columns</p>\n",
       "</div>"
      ],
      "text/plain": [
       "   ADI  Age   person_id Gender    Subgroup  absence_indicator  \\\n",
       "0   28   37  3030515063   Male  Subgroup P                  0   \n",
       "1   18   34  9786383567   Male  Subgroup P                  0   \n",
       "2   15   36  5602306401   Male  Subgroup P                  0   \n",
       "3   36   41  8107765424   Male  Subgroup P                  0   \n",
       "4   49   51  7879842771   Male  Subgroup P                  0   \n",
       "\n",
       "   analytic_period_id  tenure  overtime    salary  ...  \\\n",
       "0                   1   18.25         1  115700.0  ...   \n",
       "1                   1    3.99         7   81435.0  ...   \n",
       "2                   1    3.05         1   86400.0  ...   \n",
       "3                   1   20.29         1   79176.0  ...   \n",
       "4                   1   13.66         7   94511.0  ...   \n",
       "\n",
       "   extreme_heat_ssp585_2045  wildfire_potential_2018  wildfire_potential_2019  \\\n",
       "0                 13.380953                10.975000                11.460870   \n",
       "1                 13.380953                11.141304                11.520652   \n",
       "2                 15.597403                10.393478                10.777174   \n",
       "3                 12.290043                11.039130                11.023913   \n",
       "4                 12.290043                10.760870                11.308696   \n",
       "\n",
       "   wildfire_potential_2019.1  wildfire_potential_ssp245_2025  \\\n",
       "0                  12.070652                        6.033403   \n",
       "1                  11.871739                        6.033403   \n",
       "2                  11.659783                        6.064177   \n",
       "3                  11.963043                        6.069724   \n",
       "4                  12.006522                        6.069724   \n",
       "\n",
       "   wildfire_potential_ssp245_2035  wildfire_potential_ssp245_2045  \\\n",
       "0                        6.347014                        6.512159   \n",
       "1                        6.347014                        6.512159   \n",
       "2                        6.380910                        6.548825   \n",
       "3                        6.365864                        6.512409   \n",
       "4                        6.365864                        6.512409   \n",
       "\n",
       "   wildfire_potential_ssp585_2025  wildfire_potential_ssp585_2035  \\\n",
       "0                        6.093082                        6.504460   \n",
       "1                        6.093082                        6.504460   \n",
       "2                        6.117186                        6.522880   \n",
       "3                        6.091926                        6.469195   \n",
       "4                        6.091926                        6.469195   \n",
       "\n",
       "   wildfire_potential_ssp585_2045  \n",
       "0                        6.743331  \n",
       "1                        6.743331  \n",
       "2                        6.771772  \n",
       "3                        6.700504  \n",
       "4                        6.700504  \n",
       "\n",
       "[5 rows x 74 columns]"
      ]
     },
     "execution_count": 2,
     "metadata": {},
     "output_type": "execute_result"
    }
   ],
   "source": [
    "df = pd.read_csv('Dataset.csv', index_col=0)\n",
    "df.head()"
   ]
  },
  {
   "cell_type": "code",
   "execution_count": 3,
   "metadata": {
    "scrolled": true
   },
   "outputs": [
    {
     "data": {
      "text/html": [
       "<div>\n",
       "<style scoped>\n",
       "    .dataframe tbody tr th:only-of-type {\n",
       "        vertical-align: middle;\n",
       "    }\n",
       "\n",
       "    .dataframe tbody tr th {\n",
       "        vertical-align: top;\n",
       "    }\n",
       "\n",
       "    .dataframe thead th {\n",
       "        text-align: right;\n",
       "    }\n",
       "</style>\n",
       "<table border=\"1\" class=\"dataframe\">\n",
       "  <thead>\n",
       "    <tr style=\"text-align: right;\">\n",
       "      <th></th>\n",
       "      <th>ADI</th>\n",
       "      <th>Age</th>\n",
       "      <th>person_id</th>\n",
       "      <th>Gender</th>\n",
       "      <th>Subgroup</th>\n",
       "      <th>absence_indicator</th>\n",
       "      <th>analytic_period_id</th>\n",
       "      <th>tenure</th>\n",
       "      <th>overtime</th>\n",
       "      <th>salary</th>\n",
       "      <th>...</th>\n",
       "      <th>extreme_heat_ssp585_2045</th>\n",
       "      <th>wildfire_potential_2018</th>\n",
       "      <th>wildfire_potential_2019</th>\n",
       "      <th>wildfire_potential_2019.1</th>\n",
       "      <th>wildfire_potential_ssp245_2025</th>\n",
       "      <th>wildfire_potential_ssp245_2035</th>\n",
       "      <th>wildfire_potential_ssp245_2045</th>\n",
       "      <th>wildfire_potential_ssp585_2025</th>\n",
       "      <th>wildfire_potential_ssp585_2035</th>\n",
       "      <th>wildfire_potential_ssp585_2045</th>\n",
       "    </tr>\n",
       "  </thead>\n",
       "  <tbody>\n",
       "    <tr>\n",
       "      <th>0</th>\n",
       "      <td>28</td>\n",
       "      <td>37</td>\n",
       "      <td>3030515063</td>\n",
       "      <td>1</td>\n",
       "      <td>Subgroup P</td>\n",
       "      <td>0</td>\n",
       "      <td>1</td>\n",
       "      <td>18.25</td>\n",
       "      <td>1</td>\n",
       "      <td>115700.0</td>\n",
       "      <td>...</td>\n",
       "      <td>13.380953</td>\n",
       "      <td>10.975000</td>\n",
       "      <td>11.460870</td>\n",
       "      <td>12.070652</td>\n",
       "      <td>6.033403</td>\n",
       "      <td>6.347014</td>\n",
       "      <td>6.512159</td>\n",
       "      <td>6.093082</td>\n",
       "      <td>6.504460</td>\n",
       "      <td>6.743331</td>\n",
       "    </tr>\n",
       "    <tr>\n",
       "      <th>1</th>\n",
       "      <td>18</td>\n",
       "      <td>34</td>\n",
       "      <td>9786383567</td>\n",
       "      <td>1</td>\n",
       "      <td>Subgroup P</td>\n",
       "      <td>0</td>\n",
       "      <td>1</td>\n",
       "      <td>3.99</td>\n",
       "      <td>7</td>\n",
       "      <td>81435.0</td>\n",
       "      <td>...</td>\n",
       "      <td>13.380953</td>\n",
       "      <td>11.141304</td>\n",
       "      <td>11.520652</td>\n",
       "      <td>11.871739</td>\n",
       "      <td>6.033403</td>\n",
       "      <td>6.347014</td>\n",
       "      <td>6.512159</td>\n",
       "      <td>6.093082</td>\n",
       "      <td>6.504460</td>\n",
       "      <td>6.743331</td>\n",
       "    </tr>\n",
       "    <tr>\n",
       "      <th>2</th>\n",
       "      <td>15</td>\n",
       "      <td>36</td>\n",
       "      <td>5602306401</td>\n",
       "      <td>1</td>\n",
       "      <td>Subgroup P</td>\n",
       "      <td>0</td>\n",
       "      <td>1</td>\n",
       "      <td>3.05</td>\n",
       "      <td>1</td>\n",
       "      <td>86400.0</td>\n",
       "      <td>...</td>\n",
       "      <td>15.597403</td>\n",
       "      <td>10.393478</td>\n",
       "      <td>10.777174</td>\n",
       "      <td>11.659783</td>\n",
       "      <td>6.064177</td>\n",
       "      <td>6.380910</td>\n",
       "      <td>6.548825</td>\n",
       "      <td>6.117186</td>\n",
       "      <td>6.522880</td>\n",
       "      <td>6.771772</td>\n",
       "    </tr>\n",
       "    <tr>\n",
       "      <th>3</th>\n",
       "      <td>36</td>\n",
       "      <td>41</td>\n",
       "      <td>8107765424</td>\n",
       "      <td>1</td>\n",
       "      <td>Subgroup P</td>\n",
       "      <td>0</td>\n",
       "      <td>1</td>\n",
       "      <td>20.29</td>\n",
       "      <td>1</td>\n",
       "      <td>79176.0</td>\n",
       "      <td>...</td>\n",
       "      <td>12.290043</td>\n",
       "      <td>11.039130</td>\n",
       "      <td>11.023913</td>\n",
       "      <td>11.963043</td>\n",
       "      <td>6.069724</td>\n",
       "      <td>6.365864</td>\n",
       "      <td>6.512409</td>\n",
       "      <td>6.091926</td>\n",
       "      <td>6.469195</td>\n",
       "      <td>6.700504</td>\n",
       "    </tr>\n",
       "    <tr>\n",
       "      <th>4</th>\n",
       "      <td>49</td>\n",
       "      <td>51</td>\n",
       "      <td>7879842771</td>\n",
       "      <td>1</td>\n",
       "      <td>Subgroup P</td>\n",
       "      <td>0</td>\n",
       "      <td>1</td>\n",
       "      <td>13.66</td>\n",
       "      <td>7</td>\n",
       "      <td>94511.0</td>\n",
       "      <td>...</td>\n",
       "      <td>12.290043</td>\n",
       "      <td>10.760870</td>\n",
       "      <td>11.308696</td>\n",
       "      <td>12.006522</td>\n",
       "      <td>6.069724</td>\n",
       "      <td>6.365864</td>\n",
       "      <td>6.512409</td>\n",
       "      <td>6.091926</td>\n",
       "      <td>6.469195</td>\n",
       "      <td>6.700504</td>\n",
       "    </tr>\n",
       "  </tbody>\n",
       "</table>\n",
       "<p>5 rows × 74 columns</p>\n",
       "</div>"
      ],
      "text/plain": [
       "   ADI  Age   person_id  Gender    Subgroup  absence_indicator  \\\n",
       "0   28   37  3030515063       1  Subgroup P                  0   \n",
       "1   18   34  9786383567       1  Subgroup P                  0   \n",
       "2   15   36  5602306401       1  Subgroup P                  0   \n",
       "3   36   41  8107765424       1  Subgroup P                  0   \n",
       "4   49   51  7879842771       1  Subgroup P                  0   \n",
       "\n",
       "   analytic_period_id  tenure  overtime    salary  ...  \\\n",
       "0                   1   18.25         1  115700.0  ...   \n",
       "1                   1    3.99         7   81435.0  ...   \n",
       "2                   1    3.05         1   86400.0  ...   \n",
       "3                   1   20.29         1   79176.0  ...   \n",
       "4                   1   13.66         7   94511.0  ...   \n",
       "\n",
       "   extreme_heat_ssp585_2045  wildfire_potential_2018  wildfire_potential_2019  \\\n",
       "0                 13.380953                10.975000                11.460870   \n",
       "1                 13.380953                11.141304                11.520652   \n",
       "2                 15.597403                10.393478                10.777174   \n",
       "3                 12.290043                11.039130                11.023913   \n",
       "4                 12.290043                10.760870                11.308696   \n",
       "\n",
       "   wildfire_potential_2019.1  wildfire_potential_ssp245_2025  \\\n",
       "0                  12.070652                        6.033403   \n",
       "1                  11.871739                        6.033403   \n",
       "2                  11.659783                        6.064177   \n",
       "3                  11.963043                        6.069724   \n",
       "4                  12.006522                        6.069724   \n",
       "\n",
       "   wildfire_potential_ssp245_2035  wildfire_potential_ssp245_2045  \\\n",
       "0                        6.347014                        6.512159   \n",
       "1                        6.347014                        6.512159   \n",
       "2                        6.380910                        6.548825   \n",
       "3                        6.365864                        6.512409   \n",
       "4                        6.365864                        6.512409   \n",
       "\n",
       "   wildfire_potential_ssp585_2025  wildfire_potential_ssp585_2035  \\\n",
       "0                        6.093082                        6.504460   \n",
       "1                        6.093082                        6.504460   \n",
       "2                        6.117186                        6.522880   \n",
       "3                        6.091926                        6.469195   \n",
       "4                        6.091926                        6.469195   \n",
       "\n",
       "   wildfire_potential_ssp585_2045  \n",
       "0                        6.743331  \n",
       "1                        6.743331  \n",
       "2                        6.771772  \n",
       "3                        6.700504  \n",
       "4                        6.700504  \n",
       "\n",
       "[5 rows x 74 columns]"
      ]
     },
     "execution_count": 3,
     "metadata": {},
     "output_type": "execute_result"
    }
   ],
   "source": [
    "# set gender to 1 and 0\n",
    "\n",
    "df['Gender'] = np.where(df['Gender'] == 'Male', 1, 0)\n",
    "df.head()"
   ]
  },
  {
   "cell_type": "code",
   "execution_count": 4,
   "metadata": {},
   "outputs": [
    {
     "data": {
      "text/html": [
       "<div>\n",
       "<style scoped>\n",
       "    .dataframe tbody tr th:only-of-type {\n",
       "        vertical-align: middle;\n",
       "    }\n",
       "\n",
       "    .dataframe tbody tr th {\n",
       "        vertical-align: top;\n",
       "    }\n",
       "\n",
       "    .dataframe thead th {\n",
       "        text-align: right;\n",
       "    }\n",
       "</style>\n",
       "<table border=\"1\" class=\"dataframe\">\n",
       "  <thead>\n",
       "    <tr style=\"text-align: right;\">\n",
       "      <th></th>\n",
       "      <th>ADI</th>\n",
       "      <th>Age</th>\n",
       "      <th>person_id</th>\n",
       "      <th>Gender</th>\n",
       "      <th>Subgroup</th>\n",
       "      <th>absence_indicator</th>\n",
       "      <th>analytic_period_id</th>\n",
       "      <th>tenure</th>\n",
       "      <th>overtime</th>\n",
       "      <th>salary</th>\n",
       "      <th>...</th>\n",
       "      <th>extreme_heat_ssp585_2045</th>\n",
       "      <th>wildfire_potential_2018</th>\n",
       "      <th>wildfire_potential_2019</th>\n",
       "      <th>wildfire_potential_2019.1</th>\n",
       "      <th>wildfire_potential_ssp245_2025</th>\n",
       "      <th>wildfire_potential_ssp245_2035</th>\n",
       "      <th>wildfire_potential_ssp245_2045</th>\n",
       "      <th>wildfire_potential_ssp585_2025</th>\n",
       "      <th>wildfire_potential_ssp585_2035</th>\n",
       "      <th>wildfire_potential_ssp585_2045</th>\n",
       "    </tr>\n",
       "  </thead>\n",
       "  <tbody>\n",
       "    <tr>\n",
       "      <th>0</th>\n",
       "      <td>28</td>\n",
       "      <td>37</td>\n",
       "      <td>3030515063</td>\n",
       "      <td>1</td>\n",
       "      <td>Subgroup P</td>\n",
       "      <td>0</td>\n",
       "      <td>1</td>\n",
       "      <td>18.25</td>\n",
       "      <td>1</td>\n",
       "      <td>115700.0</td>\n",
       "      <td>...</td>\n",
       "      <td>13.380953</td>\n",
       "      <td>10.975000</td>\n",
       "      <td>11.460870</td>\n",
       "      <td>12.070652</td>\n",
       "      <td>6.033403</td>\n",
       "      <td>6.347014</td>\n",
       "      <td>6.512159</td>\n",
       "      <td>6.093082</td>\n",
       "      <td>6.504460</td>\n",
       "      <td>6.743331</td>\n",
       "    </tr>\n",
       "    <tr>\n",
       "      <th>1</th>\n",
       "      <td>18</td>\n",
       "      <td>34</td>\n",
       "      <td>9786383567</td>\n",
       "      <td>1</td>\n",
       "      <td>Subgroup P</td>\n",
       "      <td>0</td>\n",
       "      <td>1</td>\n",
       "      <td>3.99</td>\n",
       "      <td>7</td>\n",
       "      <td>81435.0</td>\n",
       "      <td>...</td>\n",
       "      <td>13.380953</td>\n",
       "      <td>11.141304</td>\n",
       "      <td>11.520652</td>\n",
       "      <td>11.871739</td>\n",
       "      <td>6.033403</td>\n",
       "      <td>6.347014</td>\n",
       "      <td>6.512159</td>\n",
       "      <td>6.093082</td>\n",
       "      <td>6.504460</td>\n",
       "      <td>6.743331</td>\n",
       "    </tr>\n",
       "    <tr>\n",
       "      <th>2</th>\n",
       "      <td>15</td>\n",
       "      <td>36</td>\n",
       "      <td>5602306401</td>\n",
       "      <td>1</td>\n",
       "      <td>Subgroup P</td>\n",
       "      <td>0</td>\n",
       "      <td>1</td>\n",
       "      <td>3.05</td>\n",
       "      <td>1</td>\n",
       "      <td>86400.0</td>\n",
       "      <td>...</td>\n",
       "      <td>15.597403</td>\n",
       "      <td>10.393478</td>\n",
       "      <td>10.777174</td>\n",
       "      <td>11.659783</td>\n",
       "      <td>6.064177</td>\n",
       "      <td>6.380910</td>\n",
       "      <td>6.548825</td>\n",
       "      <td>6.117186</td>\n",
       "      <td>6.522880</td>\n",
       "      <td>6.771772</td>\n",
       "    </tr>\n",
       "    <tr>\n",
       "      <th>3</th>\n",
       "      <td>36</td>\n",
       "      <td>41</td>\n",
       "      <td>8107765424</td>\n",
       "      <td>1</td>\n",
       "      <td>Subgroup P</td>\n",
       "      <td>0</td>\n",
       "      <td>1</td>\n",
       "      <td>20.29</td>\n",
       "      <td>1</td>\n",
       "      <td>79176.0</td>\n",
       "      <td>...</td>\n",
       "      <td>12.290043</td>\n",
       "      <td>11.039130</td>\n",
       "      <td>11.023913</td>\n",
       "      <td>11.963043</td>\n",
       "      <td>6.069724</td>\n",
       "      <td>6.365864</td>\n",
       "      <td>6.512409</td>\n",
       "      <td>6.091926</td>\n",
       "      <td>6.469195</td>\n",
       "      <td>6.700504</td>\n",
       "    </tr>\n",
       "    <tr>\n",
       "      <th>4</th>\n",
       "      <td>49</td>\n",
       "      <td>51</td>\n",
       "      <td>7879842771</td>\n",
       "      <td>1</td>\n",
       "      <td>Subgroup P</td>\n",
       "      <td>0</td>\n",
       "      <td>1</td>\n",
       "      <td>13.66</td>\n",
       "      <td>7</td>\n",
       "      <td>94511.0</td>\n",
       "      <td>...</td>\n",
       "      <td>12.290043</td>\n",
       "      <td>10.760870</td>\n",
       "      <td>11.308696</td>\n",
       "      <td>12.006522</td>\n",
       "      <td>6.069724</td>\n",
       "      <td>6.365864</td>\n",
       "      <td>6.512409</td>\n",
       "      <td>6.091926</td>\n",
       "      <td>6.469195</td>\n",
       "      <td>6.700504</td>\n",
       "    </tr>\n",
       "  </tbody>\n",
       "</table>\n",
       "<p>5 rows × 74 columns</p>\n",
       "</div>"
      ],
      "text/plain": [
       "   ADI  Age   person_id  Gender    Subgroup  absence_indicator  \\\n",
       "0   28   37  3030515063       1  Subgroup P                  0   \n",
       "1   18   34  9786383567       1  Subgroup P                  0   \n",
       "2   15   36  5602306401       1  Subgroup P                  0   \n",
       "3   36   41  8107765424       1  Subgroup P                  0   \n",
       "4   49   51  7879842771       1  Subgroup P                  0   \n",
       "\n",
       "   analytic_period_id  tenure  overtime    salary  ...  \\\n",
       "0                   1   18.25         1  115700.0  ...   \n",
       "1                   1    3.99         7   81435.0  ...   \n",
       "2                   1    3.05         1   86400.0  ...   \n",
       "3                   1   20.29         1   79176.0  ...   \n",
       "4                   1   13.66         7   94511.0  ...   \n",
       "\n",
       "   extreme_heat_ssp585_2045  wildfire_potential_2018  wildfire_potential_2019  \\\n",
       "0                 13.380953                10.975000                11.460870   \n",
       "1                 13.380953                11.141304                11.520652   \n",
       "2                 15.597403                10.393478                10.777174   \n",
       "3                 12.290043                11.039130                11.023913   \n",
       "4                 12.290043                10.760870                11.308696   \n",
       "\n",
       "   wildfire_potential_2019.1  wildfire_potential_ssp245_2025  \\\n",
       "0                  12.070652                        6.033403   \n",
       "1                  11.871739                        6.033403   \n",
       "2                  11.659783                        6.064177   \n",
       "3                  11.963043                        6.069724   \n",
       "4                  12.006522                        6.069724   \n",
       "\n",
       "   wildfire_potential_ssp245_2035  wildfire_potential_ssp245_2045  \\\n",
       "0                        6.347014                        6.512159   \n",
       "1                        6.347014                        6.512159   \n",
       "2                        6.380910                        6.548825   \n",
       "3                        6.365864                        6.512409   \n",
       "4                        6.365864                        6.512409   \n",
       "\n",
       "   wildfire_potential_ssp585_2025  wildfire_potential_ssp585_2035  \\\n",
       "0                        6.093082                        6.504460   \n",
       "1                        6.093082                        6.504460   \n",
       "2                        6.117186                        6.522880   \n",
       "3                        6.091926                        6.469195   \n",
       "4                        6.091926                        6.469195   \n",
       "\n",
       "   wildfire_potential_ssp585_2045  \n",
       "0                        6.743331  \n",
       "1                        6.743331  \n",
       "2                        6.771772  \n",
       "3                        6.700504  \n",
       "4                        6.700504  \n",
       "\n",
       "[5 rows x 74 columns]"
      ]
     },
     "execution_count": 4,
     "metadata": {},
     "output_type": "execute_result"
    }
   ],
   "source": [
    "df_P = pd.DataFrame(df[df['Subgroup'] == 'Subgroup P'])\n",
    "df_P.head()"
   ]
  },
  {
   "cell_type": "code",
   "execution_count": 5,
   "metadata": {},
   "outputs": [
    {
     "data": {
      "text/plain": [
       "(19623, 74)"
      ]
     },
     "execution_count": 5,
     "metadata": {},
     "output_type": "execute_result"
    }
   ],
   "source": [
    "df_P.shape"
   ]
  },
  {
   "cell_type": "code",
   "execution_count": 6,
   "metadata": {},
   "outputs": [
    {
     "data": {
      "text/plain": [
       "(19623, 74)"
      ]
     },
     "execution_count": 6,
     "metadata": {},
     "output_type": "execute_result"
    }
   ],
   "source": [
    "# Data Cleaning\n",
    "\n",
    "df_wrong_days = df_P.loc[df_P['absence_indicator'] > 365]\n",
    "df_P = df_P.drop(df_wrong_days.index)\n",
    "\n",
    "df_P.shape"
   ]
  },
  {
   "cell_type": "code",
   "execution_count": 7,
   "metadata": {},
   "outputs": [
    {
     "name": "stdout",
     "output_type": "stream",
     "text": [
      "<class 'pandas.core.frame.DataFrame'>\n",
      "Index: 19623 entries, 0 to 39616\n",
      "Data columns (total 74 columns):\n",
      " #   Column                              Non-Null Count  Dtype  \n",
      "---  ------                              --------------  -----  \n",
      " 0   ADI                                 19623 non-null  int64  \n",
      " 1   Age                                 19623 non-null  int64  \n",
      " 2   person_id                           19623 non-null  int64  \n",
      " 3   Gender                              19623 non-null  int32  \n",
      " 4   Subgroup                            19623 non-null  object \n",
      " 5   absence_indicator                   19623 non-null  int64  \n",
      " 6   analytic_period_id                  19623 non-null  int64  \n",
      " 7   tenure                              19623 non-null  float64\n",
      " 8   overtime                            19623 non-null  int64  \n",
      " 9   salary                              19623 non-null  float64\n",
      " 10  performance_rating                  19623 non-null  int64  \n",
      " 11  BiometricScreeningParticipants      19623 non-null  int64  \n",
      " 12  HRQParticipants                     19623 non-null  int64  \n",
      " 13  lsbio_cholesterol                   19623 non-null  int64  \n",
      " 14  lsbio_glucose                       19623 non-null  int64  \n",
      " 15  lsbio_bp                            19623 non-null  int64  \n",
      " 16  lsbio_weight                        19623 non-null  int64  \n",
      " 17  lsbio_trig                          19623 non-null  int64  \n",
      " 18  lshrq_physact                       19623 non-null  int64  \n",
      " 19  lshrq_tobacco                       19623 non-null  int64  \n",
      " 20  lshrq_nutrition                     19623 non-null  int64  \n",
      " 21  lshrq_stress                        19623 non-null  int64  \n",
      " 22  lshrq_genHealth                     19623 non-null  int64  \n",
      " 23  lshrq_wellbeing                     19623 non-null  int64  \n",
      " 24  lshrq_alcohol                       19623 non-null  int64  \n",
      " 25  lshrq_sleeping                      19623 non-null  int64  \n",
      " 26  cc_RespiratorySinusAllergy_chronic  19623 non-null  int64  \n",
      " 27  cc_diabetes                         19623 non-null  int64  \n",
      " 28  cc_cancer                           19623 non-null  int64  \n",
      " 29  cc_mskChronic                       19623 non-null  int64  \n",
      " 30  cc_cholesterol                      19623 non-null  int64  \n",
      " 31  cc_cardiac                          19623 non-null  int64  \n",
      " 32  cc_depression                       19623 non-null  int64  \n",
      " 33  cc_obesity                          19623 non-null  int64  \n",
      " 34  cc_mskAllOther                      19623 non-null  int64  \n",
      " 35  cc_behavioralAllOther               19623 non-null  int64  \n",
      " 36  cc_ckd                              19623 non-null  int64  \n",
      " 37  concurrent_risk                     19623 non-null  float64\n",
      " 38  rx_nonClaimant                      19623 non-null  int64  \n",
      " 39  rx_nonCompliant                     19623 non-null  int64  \n",
      " 40  prog_1                              19623 non-null  int64  \n",
      " 41  prog_2                              19623 non-null  int64  \n",
      " 42  prog_3                              19623 non-null  int64  \n",
      " 43  prog_4                              19623 non-null  int64  \n",
      " 44  prog_5                              19623 non-null  int64  \n",
      " 45  prog_6                              19623 non-null  int64  \n",
      " 46  prog_7                              19623 non-null  int64  \n",
      " 47  prog_8                              19623 non-null  int64  \n",
      " 48  prog_9                              19623 non-null  int64  \n",
      " 49  prog_10                             19623 non-null  int64  \n",
      " 50  prog_11                             19623 non-null  int64  \n",
      " 51  prog_12                             19623 non-null  int64  \n",
      " 52  prog_13                             19623 non-null  int64  \n",
      " 53  prog_14                             19623 non-null  int64  \n",
      " 54  prog_15                             19623 non-null  int64  \n",
      " 55  prog_16                             19623 non-null  int64  \n",
      " 56  extreme_heat_2018                   19623 non-null  int64  \n",
      " 57  extreme_heat_2019                   19623 non-null  int64  \n",
      " 58  extreme_heat_2020                   19623 non-null  int64  \n",
      " 59  extreme_heat_ssp245_2025            19623 non-null  float64\n",
      " 60  extreme_heat_ssp245_2035            19623 non-null  float64\n",
      " 61  extreme_heat_ssp245_2045            19623 non-null  float64\n",
      " 62  extreme_heat_ssp585_2025            19623 non-null  float64\n",
      " 63  extreme_heat_ssp585_2035            19623 non-null  float64\n",
      " 64  extreme_heat_ssp585_2045            19623 non-null  float64\n",
      " 65  wildfire_potential_2018             19623 non-null  float64\n",
      " 66  wildfire_potential_2019             19623 non-null  float64\n",
      " 67  wildfire_potential_2019.1           19623 non-null  float64\n",
      " 68  wildfire_potential_ssp245_2025      19623 non-null  float64\n",
      " 69  wildfire_potential_ssp245_2035      19623 non-null  float64\n",
      " 70  wildfire_potential_ssp245_2045      19623 non-null  float64\n",
      " 71  wildfire_potential_ssp585_2025      19623 non-null  float64\n",
      " 72  wildfire_potential_ssp585_2035      19623 non-null  float64\n",
      " 73  wildfire_potential_ssp585_2045      19623 non-null  float64\n",
      "dtypes: float64(18), int32(1), int64(54), object(1)\n",
      "memory usage: 11.2+ MB\n"
     ]
    }
   ],
   "source": [
    "df_P.info()"
   ]
  },
  {
   "cell_type": "code",
   "execution_count": 8,
   "metadata": {},
   "outputs": [],
   "source": [
    "health_factors = ['ADI', 'Age', 'Gender', 'lsbio_cholesterol', 'lsbio_glucose', 'lsbio_bp', 'lsbio_weight', 'lsbio_trig', \n",
    "                  'lshrq_physact', 'lshrq_tobacco', 'lshrq_nutrition', 'lshrq_stress', 'lshrq_genHealth', 'lshrq_wellbeing', 'lshrq_alcohol', 'lshrq_sleeping', \n",
    "                  'cc_RespiratorySinusAllergy_chronic', 'cc_diabetes', 'cc_cancer', 'cc_mskChronic', 'cc_cholesterol', 'cc_cardiac', 'cc_depression', 'cc_obesity', \n",
    "                  'cc_mskAllOther', 'cc_behavioralAllOther', 'cc_ckd', 'concurrent_risk', 'rx_nonClaimant', 'rx_nonCompliant']\n",
    "\n",
    "categorical_variables = ['Gender', 'lsbio_cholesterol', 'lsbio_glucose', 'lsbio_bp', 'lsbio_weight', 'lsbio_trig', \n",
    "                         'lshrq_physact', 'lshrq_tobacco', 'lshrq_nutrition', 'lshrq_stress', 'lshrq_genHealth', 'lshrq_wellbeing', 'lshrq_alcohol', 'lshrq_sleeping', \n",
    "                         'cc_RespiratorySinusAllergy_chronic', 'cc_diabetes', 'cc_cancer', 'cc_mskChronic', 'cc_cholesterol', 'cc_cardiac', 'cc_depression', 'cc_obesity', \n",
    "                         'cc_mskAllOther', 'cc_behavioralAllOther', 'cc_ckd', 'concurrent_risk', 'rx_nonClaimant', 'rx_nonCompliant']"
   ]
  },
  {
   "cell_type": "markdown",
   "metadata": {},
   "source": [
    "# absence_indicator vs health"
   ]
  },
  {
   "cell_type": "markdown",
   "metadata": {},
   "source": [
    "## linear regression"
   ]
  },
  {
   "cell_type": "code",
   "execution_count": 9,
   "metadata": {},
   "outputs": [
    {
     "name": "stdout",
     "output_type": "stream",
     "text": [
      "Train Set : (14717, 1) (14717, 30)\n",
      "Test Set  : (4906, 1) (4906, 30)\n"
     ]
    }
   ],
   "source": [
    "# y variable = absence_indicator\n",
    "# x variables = health_factors\n",
    "from sklearn.model_selection import train_test_split\n",
    "from sklearn.linear_model import LinearRegression\n",
    "from sklearn.metrics import mean_squared_error\n",
    "\n",
    "y = pd.DataFrame(df_P['absence_indicator'])\n",
    "x = pd.DataFrame(df_P[health_factors])\n",
    "\n",
    "x[categorical_variables] = x[categorical_variables].astype('category')\n",
    "\n",
    "x_train, x_test, y_train, y_test = train_test_split(x, y, test_size = 0.25)\n",
    "\n",
    "print(\"Train Set :\", y_train.shape, x_train.shape)\n",
    "print(\"Test Set  :\", y_test.shape, x_test.shape)"
   ]
  },
  {
   "cell_type": "code",
   "execution_count": 10,
   "metadata": {},
   "outputs": [
    {
     "data": {
      "text/plain": [
       "array([  0,  25,  18,  46,   2,   9,  42, 101,  52,   1,  64, 126,  11,\n",
       "        17,  31,   5,  29,  86,   6,  15,  75,  16,  21,  32,   4,  81,\n",
       "        39,  20,  56,  45,  44,  19,   7,  36,  27,  10,  33,  43,  65,\n",
       "        37,  61,  12, 115,  91,  30,  50,  59,  71,  55,  38,   8, 106,\n",
       "        40,  48,  22,  58,  35,  13,  96,  60,  26,  83, 132,  47,  77,\n",
       "        28,  88,  78, 181,  23,   3, 121,  66,  57,  82, 111,  51,  89,\n",
       "        74,  69,  67,  14,  24, 112,  85,  92, 203,  41, 114, 156, 161,\n",
       "       125, 105, 110,  72,  98,  53,  63,  95,  84,  76,  54,  34, 116,\n",
       "        90, 141, 118, 131, 204,  80,  73, 104,  99, 245, 138, 119, 150,\n",
       "        70,  93, 188,  97,  68, 100, 136, 235, 182, 261,  94, 102, 217,\n",
       "       358, 322, 226,  62, 152, 120, 129, 218, 117, 163, 142, 133, 240,\n",
       "       147, 122, 211,  87, 127, 109, 113,  79, 128, 124, 199, 103, 154,\n",
       "       262, 201,  49, 184, 145, 169, 265, 171, 214, 149, 123, 168, 195],\n",
       "      dtype=int64)"
      ]
     },
     "execution_count": 10,
     "metadata": {},
     "output_type": "execute_result"
    }
   ],
   "source": [
    "y.absence_indicator.unique()"
   ]
  },
  {
   "cell_type": "code",
   "execution_count": 11,
   "metadata": {},
   "outputs": [
    {
     "data": {
      "text/plain": [
       "absence_indicator\n",
       "0      15752\n",
       "1        641\n",
       "6        227\n",
       "11       180\n",
       "16       132\n",
       "       ...  \n",
       "226        1\n",
       "218        1\n",
       "163        1\n",
       "147        1\n",
       "195        1\n",
       "Name: count, Length: 169, dtype: int64"
      ]
     },
     "execution_count": 11,
     "metadata": {},
     "output_type": "execute_result"
    }
   ],
   "source": [
    "y.absence_indicator.value_counts()"
   ]
  },
  {
   "cell_type": "code",
   "execution_count": 12,
   "metadata": {},
   "outputs": [
    {
     "name": "stdout",
     "output_type": "stream",
     "text": [
      "Intercept of Regression \t: b =  [3.12259027]\n",
      "Goodness of Fit of Model \tTrain Dataset\n",
      "Explained Variance (R^2) \t: 0.14481360630520224\n",
      "Mean Squared Error (MSE) \t: 320.0956438138734\n",
      "\n",
      "Goodness of Fit of Model \tTest Dataset\n",
      "Explained Variance (R^2) \t: 0.15744429759063572\n",
      "Mean Squared Error (MSE) \t: 340.51620981440755\n",
      "\n"
     ]
    }
   ],
   "source": [
    "linreg = LinearRegression()\n",
    "\n",
    "linreg.fit(x_train, y_train)\n",
    "\n",
    "print('Intercept of Regression \\t: b = ', linreg.intercept_)\n",
    "\n",
    "y_train_pred = linreg.predict(x_train)\n",
    "y_test_pred = linreg.predict(x_test)\n",
    "\n",
    "# Check the Goodness of Fit (on Train Data)\n",
    "print(\"Goodness of Fit of Model \\tTrain Dataset\")\n",
    "print(\"Explained Variance (R^2) \\t:\", linreg.score(x_train, y_train))\n",
    "print(\"Mean Squared Error (MSE) \\t:\", mean_squared_error(y_train, y_train_pred))\n",
    "print()\n",
    "\n",
    "# Check the Goodness of Fit (on Test Data)\n",
    "print(\"Goodness of Fit of Model \\tTest Dataset\")\n",
    "print(\"Explained Variance (R^2) \\t:\", linreg.score(x_test, y_test))\n",
    "print(\"Mean Squared Error (MSE) \\t:\", mean_squared_error(y_test, y_test_pred))\n",
    "print()"
   ]
  },
  {
   "cell_type": "code",
   "execution_count": 13,
   "metadata": {},
   "outputs": [
    {
     "name": "stdout",
     "output_type": "stream",
     "text": [
      "                            OLS Regression Results                            \n",
      "==============================================================================\n",
      "Dep. Variable:      absence_indicator   R-squared:                       0.145\n",
      "Model:                            OLS   Adj. R-squared:                  0.143\n",
      "Method:                 Least Squares   F-statistic:                     82.90\n",
      "Date:                Fri, 29 Mar 2024   Prob (F-statistic):               0.00\n",
      "Time:                        23:25:01   Log-Likelihood:                -63331.\n",
      "No. Observations:               14717   AIC:                         1.267e+05\n",
      "Df Residuals:                   14686   BIC:                         1.270e+05\n",
      "Df Model:                          30                                         \n",
      "Covariance Type:            nonrobust                                         \n",
      "======================================================================================================\n",
      "                                         coef    std err          t      P>|t|      [0.025      0.975]\n",
      "------------------------------------------------------------------------------------------------------\n",
      "const                                  3.1226      0.993      3.145      0.002       1.176       5.069\n",
      "ADI                                    0.0404      0.010      3.859      0.000       0.020       0.061\n",
      "Age                                   -0.1043      0.015     -6.936      0.000      -0.134      -0.075\n",
      "Gender                                -2.0880      0.410     -5.090      0.000      -2.892      -1.284\n",
      "lsbio_cholesterol                     -0.4110      0.543     -0.757      0.449      -1.475       0.653\n",
      "lsbio_glucose                         -0.4317      1.483     -0.291      0.771      -3.338       2.474\n",
      "lsbio_bp                              -0.2547      0.553     -0.461      0.645      -1.338       0.829\n",
      "lsbio_weight                          -0.5723      0.558     -1.025      0.305      -1.666       0.522\n",
      "lsbio_trig                             0.5919      0.642      0.921      0.357      -0.667       1.851\n",
      "lshrq_physact                         -0.6033      0.422     -1.431      0.153      -1.430       0.223\n",
      "lshrq_tobacco                          0.1142      0.742      0.154      0.878      -1.340       1.568\n",
      "lshrq_nutrition                       -0.0215      0.432     -0.050      0.960      -0.869       0.826\n",
      "lshrq_stress                          -0.8175      0.535     -1.528      0.127      -1.866       0.231\n",
      "lshrq_genHealth                        0.5329      0.764      0.697      0.486      -0.965       2.031\n",
      "lshrq_wellbeing                       -1.3058      0.638     -2.048      0.041      -2.556      -0.056\n",
      "lshrq_alcohol                         -0.8032      0.520     -1.545      0.122      -1.822       0.216\n",
      "lshrq_sleeping                         1.0633      0.649      1.638      0.101      -0.209       2.335\n",
      "cc_RespiratorySinusAllergy_chronic    -0.0702      0.587     -0.120      0.905      -1.220       1.080\n",
      "cc_diabetes                            1.4619      0.715      2.045      0.041       0.061       2.863\n",
      "cc_cancer                              0.7875      0.804      0.979      0.327      -0.789       2.364\n",
      "cc_mskChronic                          5.9763      0.365     16.394      0.000       5.262       6.691\n",
      "cc_cholesterol                        -0.6783      0.525     -1.292      0.196      -1.707       0.351\n",
      "cc_cardiac                             1.1283      0.512      2.205      0.027       0.126       2.131\n",
      "cc_depression                          9.0308      0.578     15.623      0.000       7.898      10.164\n",
      "cc_obesity                             1.3696      0.361      3.797      0.000       0.663       2.077\n",
      "cc_mskAllOther                         1.6784      0.476      3.527      0.000       0.746       2.611\n",
      "cc_behavioralAllOther                  2.9171      0.442      6.604      0.000       2.051       3.783\n",
      "cc_ckd                                -1.5742      1.936     -0.813      0.416      -5.370       2.221\n",
      "concurrent_risk                        3.2096      0.114     28.158      0.000       2.986       3.433\n",
      "rx_nonClaimant                         2.0758      0.509      4.080      0.000       1.079       3.073\n",
      "rx_nonCompliant                        2.5738      0.642      4.011      0.000       1.316       3.832\n",
      "==============================================================================\n",
      "Omnibus:                    15658.698   Durbin-Watson:                   2.002\n",
      "Prob(Omnibus):                  0.000   Jarque-Bera (JB):          1508269.482\n",
      "Skew:                           5.299   Prob(JB):                         0.00\n",
      "Kurtosis:                      51.449   Cond. No.                         737.\n",
      "==============================================================================\n",
      "\n",
      "Notes:\n",
      "[1] Standard Errors assume that the covariance matrix of the errors is correctly specified.\n"
     ]
    }
   ],
   "source": [
    "import statsmodels.api as sm\n",
    "\n",
    "x_train_with_constant = sm.add_constant(x_train)\n",
    "model = sm.OLS(y_train, x_train_with_constant)\n",
    "result = model.fit()\n",
    "\n",
    "print(result.summary())"
   ]
  },
  {
   "cell_type": "code",
   "execution_count": 14,
   "metadata": {},
   "outputs": [
    {
     "name": "stdout",
     "output_type": "stream",
     "text": [
      "{'p-value': ['const', 'ADI', 'Age', 'Gender', 'lshrq_wellbeing', 'cc_diabetes', 'cc_mskChronic', 'cc_cardiac', 'cc_depression', 'cc_obesity', 'cc_mskAllOther', 'cc_behavioralAllOther', 'concurrent_risk', 'rx_nonClaimant', 'rx_nonCompliant']}\n"
     ]
    }
   ],
   "source": [
    "significant_variable_P = {}\n",
    "\n",
    "p_value_dataframe = pd.DataFrame(result.pvalues)\n",
    "p_value_dataframe = p_value_dataframe.rename(columns={0: 'p-value'})\n",
    "p_value_dataframe = p_value_dataframe.round(2)\n",
    "\n",
    "significant_variable_P['p-value'] = p_value_dataframe[(p_value_dataframe['p-value'] < 0.1)].index.tolist()\n",
    "\n",
    "\n",
    "print(significant_variable_P)"
   ]
  },
  {
   "cell_type": "code",
   "execution_count": 15,
   "metadata": {},
   "outputs": [
    {
     "data": {
      "image/png": "[encoded data removed]",
      "text/plain": [
       "<Figure size 640x480 with 1 Axes>"
      ]
     },
     "metadata": {},
     "output_type": "display_data"
    }
   ],
   "source": [
    "from statsmodels.graphics.gofplots import qqplot\n",
    "\n",
    "# Obtain residuals\n",
    "residuals = result.resid\n",
    "\n",
    "# Create Q-Q plot of residuals\n",
    "qqplot(residuals, line='s')\n",
    "plt.title('Normal Q-Q Plot of Residuals')\n",
    "plt.xlabel('Theoretical Quantile')\n",
    "plt.ylabel('Standardized Residuals')\n",
    "plt.show()"
   ]
  },
  {
   "cell_type": "markdown",
   "metadata": {},
   "source": [
    "### transformation"
   ]
  },
  {
   "cell_type": "markdown",
   "metadata": {},
   "source": [
    "#### square root"
   ]
  },
  {
   "cell_type": "code",
   "execution_count": 16,
   "metadata": {},
   "outputs": [
    {
     "name": "stdout",
     "output_type": "stream",
     "text": [
      "Train Set : (14717, 1) (14717, 30)\n",
      "Test Set  : (4906, 1) (4906, 30)\n"
     ]
    }
   ],
   "source": [
    "y = pd.DataFrame(df_P['absence_indicator'])\n",
    "y['absence_indicator'] = np.sqrt(y['absence_indicator'])\n",
    "\n",
    "x_train, x_test, y_train, y_test = train_test_split(x, y, test_size = 0.25)\n",
    "\n",
    "print(\"Train Set :\", y_train.shape, x_train.shape)\n",
    "print(\"Test Set  :\", y_test.shape, x_test.shape)"
   ]
  },
  {
   "cell_type": "code",
   "execution_count": 17,
   "metadata": {},
   "outputs": [
    {
     "name": "stdout",
     "output_type": "stream",
     "text": [
      "Intercept of Regression \t: b =  [0.54718419]\n",
      "Goodness of Fit of Model \tTrain Dataset\n",
      "Explained Variance (R^2) \t: 0.2072432610705195\n",
      "Mean Squared Error (MSE) \t: 4.018665142732143\n",
      "\n",
      "Goodness of Fit of Model \tTest Dataset\n",
      "Explained Variance (R^2) \t: 0.1728294253113547\n",
      "Mean Squared Error (MSE) \t: 3.9821279998481227\n",
      "\n"
     ]
    }
   ],
   "source": [
    "linreg = LinearRegression()\n",
    "\n",
    "linreg.fit(x_train, y_train)\n",
    "\n",
    "print('Intercept of Regression \\t: b = ', linreg.intercept_)\n",
    "\n",
    "y_train_pred = linreg.predict(x_train)\n",
    "y_test_pred = linreg.predict(x_test)\n",
    "\n",
    "# Check the Goodness of Fit (on Train Data)\n",
    "print(\"Goodness of Fit of Model \\tTrain Dataset\")\n",
    "print(\"Explained Variance (R^2) \\t:\", linreg.score(x_train, y_train))\n",
    "print(\"Mean Squared Error (MSE) \\t:\", mean_squared_error(y_train, y_train_pred))\n",
    "print()\n",
    "\n",
    "# Check the Goodness of Fit (on Test Data)\n",
    "print(\"Goodness of Fit of Model \\tTest Dataset\")\n",
    "print(\"Explained Variance (R^2) \\t:\", linreg.score(x_test, y_test))\n",
    "print(\"Mean Squared Error (MSE) \\t:\", mean_squared_error(y_test, y_test_pred))\n",
    "print()"
   ]
  },
  {
   "cell_type": "code",
   "execution_count": 18,
   "metadata": {},
   "outputs": [
    {
     "name": "stdout",
     "output_type": "stream",
     "text": [
      "                            OLS Regression Results                            \n",
      "==============================================================================\n",
      "Dep. Variable:      absence_indicator   R-squared:                       0.207\n",
      "Model:                            OLS   Adj. R-squared:                  0.206\n",
      "Method:                 Least Squares   F-statistic:                     128.0\n",
      "Date:                Fri, 29 Mar 2024   Prob (F-statistic):               0.00\n",
      "Time:                        23:25:02   Log-Likelihood:                -31118.\n",
      "No. Observations:               14717   AIC:                         6.230e+04\n",
      "Df Residuals:                   14686   BIC:                         6.253e+04\n",
      "Df Model:                          30                                         \n",
      "Covariance Type:            nonrobust                                         \n",
      "======================================================================================================\n",
      "                                         coef    std err          t      P>|t|      [0.025      0.975]\n",
      "------------------------------------------------------------------------------------------------------\n",
      "const                                  0.5472      0.111      4.918      0.000       0.329       0.765\n",
      "ADI                                    0.0067      0.001      5.673      0.000       0.004       0.009\n",
      "Age                                   -0.0153      0.002     -9.095      0.000      -0.019      -0.012\n",
      "Gender                                -0.2376      0.046     -5.175      0.000      -0.328      -0.148\n",
      "lsbio_cholesterol                     -0.0790      0.061     -1.293      0.196      -0.199       0.041\n",
      "lsbio_glucose                         -0.2976      0.165     -1.800      0.072      -0.622       0.026\n",
      "lsbio_bp                              -0.1322      0.062     -2.136      0.033      -0.254      -0.011\n",
      "lsbio_weight                           0.0067      0.062      0.108      0.914      -0.115       0.129\n",
      "lsbio_trig                             0.0483      0.072      0.670      0.503      -0.093       0.190\n",
      "lshrq_physact                         -0.0923      0.047     -1.958      0.050      -0.185    9.52e-05\n",
      "lshrq_tobacco                         -0.0158      0.083     -0.192      0.848      -0.178       0.146\n",
      "lshrq_nutrition                        0.0819      0.049      1.687      0.092      -0.013       0.177\n",
      "lshrq_stress                          -0.1093      0.060     -1.821      0.069      -0.227       0.008\n",
      "lshrq_genHealth                        0.0520      0.086      0.607      0.544      -0.116       0.220\n",
      "lshrq_wellbeing                       -0.1833      0.071     -2.600      0.009      -0.322      -0.045\n",
      "lshrq_alcohol                         -0.0102      0.058     -0.176      0.860      -0.124       0.104\n",
      "lshrq_sleeping                         0.1880      0.073      2.578      0.010       0.045       0.331\n",
      "cc_RespiratorySinusAllergy_chronic     0.0201      0.065      0.308      0.758      -0.108       0.148\n",
      "cc_diabetes                            0.0686      0.080      0.858      0.391      -0.088       0.225\n",
      "cc_cancer                              0.2038      0.088      2.318      0.020       0.031       0.376\n",
      "cc_mskChronic                          0.7895      0.041     19.347      0.000       0.709       0.869\n",
      "cc_cholesterol                        -0.0715      0.059     -1.220      0.222      -0.186       0.043\n",
      "cc_cardiac                             0.1253      0.058      2.171      0.030       0.012       0.239\n",
      "cc_depression                          1.1295      0.065     17.276      0.000       1.001       1.258\n",
      "cc_obesity                             0.1994      0.041      4.909      0.000       0.120       0.279\n",
      "cc_mskAllOther                         0.2916      0.054      5.431      0.000       0.186       0.397\n",
      "cc_behavioralAllOther                  0.4062      0.050      8.194      0.000       0.309       0.503\n",
      "cc_ckd                                 0.1147      0.207      0.555      0.579      -0.290       0.519\n",
      "concurrent_risk                        0.4576      0.013     35.931      0.000       0.433       0.483\n",
      "rx_nonClaimant                         0.1985      0.057      3.466      0.001       0.086       0.311\n",
      "rx_nonCompliant                        0.3558      0.072      4.948      0.000       0.215       0.497\n",
      "==============================================================================\n",
      "Omnibus:                     7333.917   Durbin-Watson:                   2.002\n",
      "Prob(Omnibus):                  0.000   Jarque-Bera (JB):            52310.145\n",
      "Skew:                           2.309   Prob(JB):                         0.00\n",
      "Kurtosis:                      10.999   Cond. No.                         701.\n",
      "==============================================================================\n",
      "\n",
      "Notes:\n",
      "[1] Standard Errors assume that the covariance matrix of the errors is correctly specified.\n"
     ]
    }
   ],
   "source": [
    "import statsmodels.api as sm\n",
    "\n",
    "x_train_with_constant = sm.add_constant(x_train)\n",
    "model = sm.OLS(y_train, x_train_with_constant)\n",
    "result = model.fit()\n",
    "\n",
    "print(result.summary())"
   ]
  },
  {
   "cell_type": "code",
   "execution_count": 19,
   "metadata": {},
   "outputs": [
    {
     "name": "stdout",
     "output_type": "stream",
     "text": [
      "{'p-value': ['const', 'ADI', 'Age', 'Gender', 'lsbio_glucose', 'lsbio_bp', 'lshrq_physact', 'lshrq_nutrition', 'lshrq_stress', 'lshrq_wellbeing', 'lshrq_sleeping', 'cc_cancer', 'cc_mskChronic', 'cc_cardiac', 'cc_depression', 'cc_obesity', 'cc_mskAllOther', 'cc_behavioralAllOther', 'concurrent_risk', 'rx_nonClaimant', 'rx_nonCompliant']}\n"
     ]
    }
   ],
   "source": [
    "significant_variable_P = {}\n",
    "\n",
    "p_value_dataframe = pd.DataFrame(result.pvalues)\n",
    "p_value_dataframe = p_value_dataframe.rename(columns={0: 'p-value'})\n",
    "p_value_dataframe = p_value_dataframe.round(2)\n",
    "\n",
    "significant_variable_P['p-value'] = p_value_dataframe[(p_value_dataframe['p-value'] < 0.1)].index.tolist()\n",
    "\n",
    "\n",
    "print(significant_variable_P)"
   ]
  },
  {
   "cell_type": "code",
   "execution_count": 20,
   "metadata": {},
   "outputs": [
    {
     "data": {
      "image/png": "[encoded data removed]",
      "text/plain": [
       "<Figure size 640x480 with 1 Axes>"
      ]
     },
     "metadata": {},
     "output_type": "display_data"
    }
   ],
   "source": [
    "from statsmodels.graphics.gofplots import qqplot\n",
    "\n",
    "# Obtain residuals\n",
    "residuals = result.resid\n",
    "\n",
    "# Create Q-Q plot of residuals\n",
    "qqplot(residuals, line='s')\n",
    "plt.title('Normal Q-Q Plot of Residuals')\n",
    "plt.xlabel('Theoretical Quantile')\n",
    "plt.ylabel('Standardized Residuals')\n",
    "plt.show()"
   ]
  },
  {
   "cell_type": "markdown",
   "metadata": {},
   "source": [
    "#### logarithmic"
   ]
  },
  {
   "cell_type": "code",
   "execution_count": 21,
   "metadata": {},
   "outputs": [
    {
     "name": "stdout",
     "output_type": "stream",
     "text": [
      "Train Set : (14717, 1) (14717, 30)\n",
      "Test Set  : (4906, 1) (4906, 30)\n"
     ]
    },
    {
     "name": "stderr",
     "output_type": "stream",
     "text": [
      "C:\\Users\\Willis\\AppData\\Local\\Temp\\ipykernel_27316\\4257889001.py:2: FutureWarning: Setting an item of incompatible dtype is deprecated and will raise in a future error of pandas. Value '[3.21887582 2.89037176 3.8286414  ... 1.79175947 4.21950771 0.        ]' has dtype incompatible with int64, please explicitly cast to a compatible dtype first.\n",
      "  y.loc[y['absence_indicator'] != 0, 'absence_indicator'] = np.log(y.loc[y['absence_indicator'] != 0, 'absence_indicator'])\n"
     ]
    }
   ],
   "source": [
    "y = pd.DataFrame(df_P['absence_indicator'])\n",
    "y.loc[y['absence_indicator'] != 0, 'absence_indicator'] = np.log(y.loc[y['absence_indicator'] != 0, 'absence_indicator'])\n",
    "\n",
    "x_train, x_test, y_train, y_test = train_test_split(x, y, test_size = 0.25)\n",
    "\n",
    "print(\"Train Set :\", y_train.shape, x_train.shape)\n",
    "print(\"Test Set  :\", y_test.shape, x_test.shape)"
   ]
  },
  {
   "cell_type": "code",
   "execution_count": 22,
   "metadata": {},
   "outputs": [
    {
     "name": "stdout",
     "output_type": "stream",
     "text": [
      "Intercept of Regression \t: b =  [0.35303328]\n",
      "Goodness of Fit of Model \tTrain Dataset\n",
      "Explained Variance (R^2) \t: 0.19595239174716772\n",
      "Mean Squared Error (MSE) \t: 1.188892259693043\n",
      "\n",
      "Goodness of Fit of Model \tTest Dataset\n",
      "Explained Variance (R^2) \t: 0.19385747079379256\n",
      "Mean Squared Error (MSE) \t: 1.2156149123412503\n",
      "\n"
     ]
    }
   ],
   "source": [
    "linreg = LinearRegression()\n",
    "\n",
    "linreg.fit(x_train, y_train)\n",
    "\n",
    "print('Intercept of Regression \\t: b = ', linreg.intercept_)\n",
    "\n",
    "y_train_pred = linreg.predict(x_train)\n",
    "y_test_pred = linreg.predict(x_test)\n",
    "\n",
    "# Check the Goodness of Fit (on Train Data)\n",
    "print(\"Goodness of Fit of Model \\tTrain Dataset\")\n",
    "print(\"Explained Variance (R^2) \\t:\", linreg.score(x_train, y_train))\n",
    "print(\"Mean Squared Error (MSE) \\t:\", mean_squared_error(y_train, y_train_pred))\n",
    "print()\n",
    "\n",
    "# Check the Goodness of Fit (on Test Data)\n",
    "print(\"Goodness of Fit of Model \\tTest Dataset\")\n",
    "print(\"Explained Variance (R^2) \\t:\", linreg.score(x_test, y_test))\n",
    "print(\"Mean Squared Error (MSE) \\t:\", mean_squared_error(y_test, y_test_pred))\n",
    "print()"
   ]
  },
  {
   "cell_type": "code",
   "execution_count": 23,
   "metadata": {},
   "outputs": [
    {
     "name": "stdout",
     "output_type": "stream",
     "text": [
      "                            OLS Regression Results                            \n",
      "==============================================================================\n",
      "Dep. Variable:      absence_indicator   R-squared:                       0.196\n",
      "Model:                            OLS   Adj. R-squared:                  0.194\n",
      "Method:                 Least Squares   F-statistic:                     119.3\n",
      "Date:                Fri, 29 Mar 2024   Prob (F-statistic):               0.00\n",
      "Time:                        23:25:02   Log-Likelihood:                -22156.\n",
      "No. Observations:               14717   AIC:                         4.437e+04\n",
      "Df Residuals:                   14686   BIC:                         4.461e+04\n",
      "Df Model:                          30                                         \n",
      "Covariance Type:            nonrobust                                         \n",
      "======================================================================================================\n",
      "                                         coef    std err          t      P>|t|      [0.025      0.975]\n",
      "------------------------------------------------------------------------------------------------------\n",
      "const                                  0.3530      0.061      5.815      0.000       0.234       0.472\n",
      "ADI                                    0.0040      0.001      6.340      0.000       0.003       0.005\n",
      "Age                                   -0.0100      0.001    -10.925      0.000      -0.012      -0.008\n",
      "Gender                                -0.1382      0.025     -5.511      0.000      -0.187      -0.089\n",
      "lsbio_cholesterol                     -0.0483      0.033     -1.463      0.143      -0.113       0.016\n",
      "lsbio_glucose                          0.0163      0.090      0.181      0.856      -0.159       0.192\n",
      "lsbio_bp                              -0.0426      0.034     -1.257      0.209      -0.109       0.024\n",
      "lsbio_weight                          -0.0110      0.034     -0.322      0.748      -0.078       0.056\n",
      "lsbio_trig                             0.0106      0.039      0.273      0.785      -0.065       0.087\n",
      "lshrq_physact                         -0.0444      0.026     -1.725      0.084      -0.095       0.006\n",
      "lshrq_tobacco                          0.0128      0.045      0.285      0.776      -0.075       0.101\n",
      "lshrq_nutrition                        0.0501      0.027      1.884      0.060      -0.002       0.102\n",
      "lshrq_stress                          -0.0111      0.033     -0.340      0.734      -0.075       0.053\n",
      "lshrq_genHealth                        0.0434      0.047      0.924      0.356      -0.049       0.135\n",
      "lshrq_wellbeing                       -0.1223      0.038     -3.179      0.001      -0.198      -0.047\n",
      "lshrq_alcohol                         -0.0541      0.032     -1.698      0.090      -0.116       0.008\n",
      "lshrq_sleeping                         0.0762      0.040      1.916      0.055      -0.002       0.154\n",
      "cc_RespiratorySinusAllergy_chronic     0.0159      0.036      0.445      0.656      -0.054       0.086\n",
      "cc_diabetes                            0.0408      0.043      0.948      0.343      -0.044       0.125\n",
      "cc_cancer                              0.1506      0.048      3.153      0.002       0.057       0.244\n",
      "cc_mskChronic                          0.4641      0.022     20.973      0.000       0.421       0.507\n",
      "cc_cholesterol                        -0.0160      0.032     -0.504      0.614      -0.078       0.046\n",
      "cc_cardiac                             0.1042      0.031      3.341      0.001       0.043       0.165\n",
      "cc_depression                          0.6495      0.036     18.225      0.000       0.580       0.719\n",
      "cc_obesity                             0.1013      0.022      4.581      0.000       0.058       0.145\n",
      "cc_mskAllOther                         0.1358      0.029      4.678      0.000       0.079       0.193\n",
      "cc_behavioralAllOther                  0.2392      0.027      8.885      0.000       0.186       0.292\n",
      "cc_ckd                                 0.1053      0.111      0.947      0.344      -0.113       0.323\n",
      "concurrent_risk                        0.2198      0.007     32.412      0.000       0.206       0.233\n",
      "rx_nonClaimant                         0.1484      0.031      4.774      0.000       0.087       0.209\n",
      "rx_nonCompliant                        0.1745      0.039      4.505      0.000       0.099       0.250\n",
      "==============================================================================\n",
      "Omnibus:                     4674.449   Durbin-Watson:                   1.989\n",
      "Prob(Omnibus):                  0.000   Jarque-Bera (JB):            13121.475\n",
      "Skew:                           1.701   Prob(JB):                         0.00\n",
      "Kurtosis:                       6.134   Cond. No.                         694.\n",
      "==============================================================================\n",
      "\n",
      "Notes:\n",
      "[1] Standard Errors assume that the covariance matrix of the errors is correctly specified.\n"
     ]
    }
   ],
   "source": [
    "import statsmodels.api as sm\n",
    "\n",
    "x_train_with_constant = sm.add_constant(x_train)\n",
    "model = sm.OLS(y_train, x_train_with_constant)\n",
    "result = model.fit()\n",
    "\n",
    "print(result.summary())"
   ]
  },
  {
   "cell_type": "code",
   "execution_count": 24,
   "metadata": {},
   "outputs": [
    {
     "name": "stdout",
     "output_type": "stream",
     "text": [
      "{'p-value': ['const', 'ADI', 'Age', 'Gender', 'lshrq_physact', 'lshrq_nutrition', 'lshrq_wellbeing', 'lshrq_alcohol', 'lshrq_sleeping', 'cc_cancer', 'cc_mskChronic', 'cc_cardiac', 'cc_depression', 'cc_obesity', 'cc_mskAllOther', 'cc_behavioralAllOther', 'concurrent_risk', 'rx_nonClaimant', 'rx_nonCompliant']}\n"
     ]
    }
   ],
   "source": [
    "significant_variable_P = {}\n",
    "\n",
    "p_value_dataframe = pd.DataFrame(result.pvalues)\n",
    "p_value_dataframe = p_value_dataframe.rename(columns={0: 'p-value'})\n",
    "p_value_dataframe = p_value_dataframe.round(2)\n",
    "\n",
    "significant_variable_P['p-value'] = p_value_dataframe[(p_value_dataframe['p-value'] < 0.1)].index.tolist()\n",
    "\n",
    "\n",
    "print(significant_variable_P)"
   ]
  },
  {
   "cell_type": "code",
   "execution_count": 25,
   "metadata": {},
   "outputs": [
    {
     "data": {
      "image/png": "[encoded data removed]",
      "text/plain": [
       "<Figure size 640x480 with 1 Axes>"
      ]
     },
     "metadata": {},
     "output_type": "display_data"
    }
   ],
   "source": [
    "from statsmodels.graphics.gofplots import qqplot\n",
    "\n",
    "# Obtain residuals\n",
    "residuals = result.resid\n",
    "\n",
    "# Create Q-Q plot of residuals\n",
    "qqplot(residuals, line='s')\n",
    "plt.title('Normal Q-Q Plot of Residuals')\n",
    "plt.xlabel('Theoretical Quantile')\n",
    "plt.ylabel('Standardized Residuals')\n",
    "plt.show()"
   ]
  },
  {
   "cell_type": "markdown",
   "metadata": {},
   "source": [
    "## Decision Tree Regressor"
   ]
  },
  {
   "cell_type": "code",
   "execution_count": 26,
   "metadata": {},
   "outputs": [
    {
     "name": "stdout",
     "output_type": "stream",
     "text": [
      "Train Set : (14717, 1) (14717, 30)\n",
      "Test Set  : (4906, 1) (4906, 30)\n"
     ]
    }
   ],
   "source": [
    "# y variable = absence_indicator\n",
    "# x variables = health_factors\n",
    "from sklearn.model_selection import train_test_split\n",
    "from sklearn.tree import DecisionTreeRegressor\n",
    "from sklearn.metrics import mean_squared_error\n",
    "\n",
    "y = pd.DataFrame(df_P['absence_indicator'])\n",
    "x = pd.DataFrame(df_P[health_factors])\n",
    "\n",
    "x[categorical_variables] = x[categorical_variables].astype('category')\n",
    "\n",
    "x_train, x_test, y_train, y_test = train_test_split(x, y, test_size = 0.25)\n",
    "\n",
    "print(\"Train Set :\", y_train.shape, x_train.shape)\n",
    "print(\"Test Set  :\", y_test.shape, x_test.shape)"
   ]
  },
  {
   "cell_type": "code",
   "execution_count": 27,
   "metadata": {},
   "outputs": [
    {
     "name": "stdout",
     "output_type": "stream",
     "text": [
      "Mean Squared Error (Train Dataset): 319.18203006424756\n",
      "Mean Squared Error (Test Dataset): 370.1983311760882\n"
     ]
    }
   ],
   "source": [
    "decisiontreemodel = DecisionTreeRegressor(max_depth=3)\n",
    "result = decisiontreemodel.fit(x_train, y_train)\n",
    "\n",
    "y_train_pred = decisiontreemodel.predict(x_train)\n",
    "train_mse = mean_squared_error(y_train_pred, y_train)\n",
    "y_test_pred = decisiontreemodel.predict(x_test)\n",
    "test_mse = mean_squared_error(y_test_pred, y_test)\n",
    "\n",
    "print(\"Mean Squared Error (Train Dataset):\", train_mse)\n",
    "print(\"Mean Squared Error (Test Dataset):\", test_mse)"
   ]
  },
  {
   "cell_type": "code",
   "execution_count": 28,
   "metadata": {},
   "outputs": [
    {
     "name": "stdout",
     "output_type": "stream",
     "text": [
      "Best max_depth: 4\n"
     ]
    }
   ],
   "source": [
    "from sklearn.model_selection import GridSearchCV\n",
    "\n",
    "param_grid = {'max_depth': range(1, 11)}\n",
    "\n",
    "decisiontreemodel = DecisionTreeRegressor()\n",
    "\n",
    "grid_search = GridSearchCV(estimator=decisiontreemodel, param_grid=param_grid, cv=5)\n",
    "\n",
    "grid_search.fit(x_train, y_train)\n",
    "best_max_depth = grid_search.best_params_['max_depth']\n",
    "\n",
    "print(\"Best max_depth:\", best_max_depth)"
   ]
  },
  {
   "cell_type": "code",
   "execution_count": 29,
   "metadata": {},
   "outputs": [
    {
     "name": "stdout",
     "output_type": "stream",
     "text": [
      "Mean Squared Error (Train Dataset): 311.53586913526493\n",
      "Mean Squared Error (Test Dataset): 372.03580115152147\n"
     ]
    }
   ],
   "source": [
    "decisiontreemodel = DecisionTreeRegressor(max_depth=best_max_depth)\n",
    "result = decisiontreemodel.fit(x_train, y_train)\n",
    "\n",
    "y_train_pred = decisiontreemodel.predict(x_train)\n",
    "train_mse = mean_squared_error(y_train_pred, y_train)\n",
    "y_test_pred = decisiontreemodel.predict(x_test)\n",
    "test_mse = mean_squared_error(y_test_pred, y_test)\n",
    "\n",
    "print(\"Mean Squared Error (Train Dataset):\", train_mse)\n",
    "print(\"Mean Squared Error (Test Dataset):\", test_mse)"
   ]
  },
  {
   "cell_type": "code",
   "execution_count": 30,
   "metadata": {},
   "outputs": [
    {
     "name": "stdout",
     "output_type": "stream",
     "text": [
      "{'significant_variables': ['ADI', 'cc_cancer', 'cc_mskChronic', 'cc_depression', 'concurrent_risk']}\n"
     ]
    }
   ],
   "source": [
    "significant_variable = {}\n",
    "significant_variable['significant_variables'] = []\n",
    "fr = decisiontreemodel.feature_importances_ \n",
    "importance_dict = dict(zip(x_train.columns, fr))\n",
    "for key in importance_dict:\n",
    "    if importance_dict[key] > 0:\n",
    "        significant_variable['significant_variables'].append(key)\n",
    "        \n",
    "print(significant_variable)"
   ]
  },
  {
   "cell_type": "markdown",
   "metadata": {},
   "source": [
    "### transformation"
   ]
  },
  {
   "cell_type": "markdown",
   "metadata": {},
   "source": [
    "#### sqrt"
   ]
  },
  {
   "cell_type": "code",
   "execution_count": 31,
   "metadata": {},
   "outputs": [
    {
     "name": "stdout",
     "output_type": "stream",
     "text": [
      "Train Set : (14717, 1) (14717, 30)\n",
      "Test Set  : (4906, 1) (4906, 30)\n"
     ]
    }
   ],
   "source": [
    "y = pd.DataFrame(df_P['absence_indicator'])\n",
    "y['absence_indicator'] = np.sqrt(y['absence_indicator'])\n",
    "\n",
    "x_train, x_test, y_train, y_test = train_test_split(x, y, test_size = 0.25)\n",
    "\n",
    "print(\"Train Set :\", y_train.shape, x_train.shape)\n",
    "print(\"Test Set  :\", y_test.shape, x_test.shape)"
   ]
  },
  {
   "cell_type": "code",
   "execution_count": 32,
   "metadata": {},
   "outputs": [
    {
     "name": "stdout",
     "output_type": "stream",
     "text": [
      "Mean Squared Error (Train Dataset): 4.141211227438556\n",
      "Mean Squared Error (Test Dataset): 4.156505752061194\n"
     ]
    }
   ],
   "source": [
    "decisiontreemodel = DecisionTreeRegressor(max_depth=3)\n",
    "result = decisiontreemodel.fit(x_train, y_train)\n",
    "\n",
    "y_train_pred = decisiontreemodel.predict(x_train)\n",
    "train_mse = mean_squared_error(y_train_pred, y_train)\n",
    "y_test_pred = decisiontreemodel.predict(x_test)\n",
    "test_mse = mean_squared_error(y_test_pred, y_test)\n",
    "\n",
    "print(\"Mean Squared Error (Train Dataset):\", train_mse)\n",
    "print(\"Mean Squared Error (Test Dataset):\", test_mse)"
   ]
  },
  {
   "cell_type": "code",
   "execution_count": 33,
   "metadata": {},
   "outputs": [
    {
     "name": "stdout",
     "output_type": "stream",
     "text": [
      "Best max_depth: 4\n"
     ]
    }
   ],
   "source": [
    "from sklearn.model_selection import GridSearchCV\n",
    "\n",
    "param_grid = {'max_depth': range(1, 11)}\n",
    "\n",
    "decisiontreemodel = DecisionTreeRegressor()\n",
    "\n",
    "grid_search = GridSearchCV(estimator=decisiontreemodel, param_grid=param_grid, cv=5)\n",
    "\n",
    "grid_search.fit(x_train, y_train)\n",
    "best_max_depth = grid_search.best_params_['max_depth']\n",
    "\n",
    "print(\"Best max_depth:\", best_max_depth)"
   ]
  },
  {
   "cell_type": "code",
   "execution_count": 34,
   "metadata": {},
   "outputs": [
    {
     "name": "stdout",
     "output_type": "stream",
     "text": [
      "Mean Squared Error (Train Dataset): 4.031523340460407\n",
      "Mean Squared Error (Test Dataset): 4.11582881030717\n"
     ]
    }
   ],
   "source": [
    "decisiontreemodel = DecisionTreeRegressor(max_depth=best_max_depth)\n",
    "result = decisiontreemodel.fit(x_train, y_train)\n",
    "\n",
    "y_train_pred = decisiontreemodel.predict(x_train)\n",
    "train_mse = mean_squared_error(y_train_pred, y_train)\n",
    "y_test_pred = decisiontreemodel.predict(x_test)\n",
    "test_mse = mean_squared_error(y_test_pred, y_test)\n",
    "\n",
    "print(\"Mean Squared Error (Train Dataset):\", train_mse)\n",
    "print(\"Mean Squared Error (Test Dataset):\", test_mse)"
   ]
  },
  {
   "cell_type": "code",
   "execution_count": 35,
   "metadata": {},
   "outputs": [
    {
     "name": "stdout",
     "output_type": "stream",
     "text": [
      "{'significant_variables': ['ADI', 'cc_mskChronic', 'cc_depression', 'cc_behavioralAllOther', 'concurrent_risk', 'rx_nonCompliant']}\n"
     ]
    }
   ],
   "source": [
    "significant_variable = {}\n",
    "significant_variable['significant_variables'] = []\n",
    "fr = decisiontreemodel.feature_importances_ \n",
    "importance_dict = dict(zip(x_train.columns, fr))\n",
    "for key in importance_dict:\n",
    "    if importance_dict[key] > 0:\n",
    "        significant_variable['significant_variables'].append(key)\n",
    "        \n",
    "print(significant_variable)"
   ]
  },
  {
   "cell_type": "markdown",
   "metadata": {},
   "source": [
    "#### logarithmic"
   ]
  },
  {
   "cell_type": "code",
   "execution_count": 36,
   "metadata": {},
   "outputs": [
    {
     "name": "stdout",
     "output_type": "stream",
     "text": [
      "Train Set : (14717, 1) (14717, 30)\n",
      "Test Set  : (4906, 1) (4906, 30)\n"
     ]
    },
    {
     "name": "stderr",
     "output_type": "stream",
     "text": [
      "C:\\Users\\Willis\\AppData\\Local\\Temp\\ipykernel_27316\\4257889001.py:2: FutureWarning: Setting an item of incompatible dtype is deprecated and will raise in a future error of pandas. Value '[3.21887582 2.89037176 3.8286414  ... 1.79175947 4.21950771 0.        ]' has dtype incompatible with int64, please explicitly cast to a compatible dtype first.\n",
      "  y.loc[y['absence_indicator'] != 0, 'absence_indicator'] = np.log(y.loc[y['absence_indicator'] != 0, 'absence_indicator'])\n"
     ]
    }
   ],
   "source": [
    "y = pd.DataFrame(df_P['absence_indicator'])\n",
    "y.loc[y['absence_indicator'] != 0, 'absence_indicator'] = np.log(y.loc[y['absence_indicator'] != 0, 'absence_indicator'])\n",
    "\n",
    "x_train, x_test, y_train, y_test = train_test_split(x, y, test_size = 0.25)\n",
    "\n",
    "print(\"Train Set :\", y_train.shape, x_train.shape)\n",
    "print(\"Test Set  :\", y_test.shape, x_test.shape)"
   ]
  },
  {
   "cell_type": "code",
   "execution_count": 37,
   "metadata": {},
   "outputs": [
    {
     "name": "stdout",
     "output_type": "stream",
     "text": [
      "Mean Squared Error (Train Dataset): 1.2296862053170432\n",
      "Mean Squared Error (Test Dataset): 1.2495951904277247\n"
     ]
    }
   ],
   "source": [
    "decisiontreemodel = DecisionTreeRegressor(max_depth=3)\n",
    "result = decisiontreemodel.fit(x_train, y_train)\n",
    "\n",
    "y_train_pred = decisiontreemodel.predict(x_train)\n",
    "train_mse = mean_squared_error(y_train_pred, y_train)\n",
    "y_test_pred = decisiontreemodel.predict(x_test)\n",
    "test_mse = mean_squared_error(y_test_pred, y_test)\n",
    "\n",
    "print(\"Mean Squared Error (Train Dataset):\", train_mse)\n",
    "print(\"Mean Squared Error (Test Dataset):\", test_mse)"
   ]
  },
  {
   "cell_type": "code",
   "execution_count": 38,
   "metadata": {},
   "outputs": [
    {
     "name": "stdout",
     "output_type": "stream",
     "text": [
      "Best max_depth: 5\n"
     ]
    }
   ],
   "source": [
    "from sklearn.model_selection import GridSearchCV\n",
    "\n",
    "param_grid = {'max_depth': range(1, 11)}\n",
    "\n",
    "decisiontreemodel = DecisionTreeRegressor()\n",
    "\n",
    "grid_search = GridSearchCV(estimator=decisiontreemodel, param_grid=param_grid, cv=5)\n",
    "\n",
    "grid_search.fit(x_train, y_train)\n",
    "best_max_depth = grid_search.best_params_['max_depth']\n",
    "\n",
    "print(\"Best max_depth:\", best_max_depth)"
   ]
  },
  {
   "cell_type": "code",
   "execution_count": 39,
   "metadata": {},
   "outputs": [
    {
     "name": "stdout",
     "output_type": "stream",
     "text": [
      "Mean Squared Error (Train Dataset): 1.1754042606214943\n",
      "Mean Squared Error (Test Dataset): 1.2398078571040567\n"
     ]
    }
   ],
   "source": [
    "decisiontreemodel = DecisionTreeRegressor(max_depth=best_max_depth)\n",
    "result = decisiontreemodel.fit(x_train, y_train)\n",
    "\n",
    "y_train_pred = decisiontreemodel.predict(x_train)\n",
    "train_mse = mean_squared_error(y_train_pred, y_train)\n",
    "y_test_pred = decisiontreemodel.predict(x_test)\n",
    "test_mse = mean_squared_error(y_test_pred, y_test)\n",
    "\n",
    "print(\"Mean Squared Error (Train Dataset):\", train_mse)\n",
    "print(\"Mean Squared Error (Test Dataset):\", test_mse)"
   ]
  },
  {
   "cell_type": "code",
   "execution_count": 40,
   "metadata": {},
   "outputs": [
    {
     "name": "stdout",
     "output_type": "stream",
     "text": [
      "{'significant_variables': ['ADI', 'Age', 'Gender', 'cc_mskChronic', 'cc_depression', 'cc_behavioralAllOther', 'concurrent_risk']}\n"
     ]
    }
   ],
   "source": [
    "significant_variable = {}\n",
    "significant_variable['significant_variables'] = []\n",
    "fr = decisiontreemodel.feature_importances_ \n",
    "importance_dict = dict(zip(x_train.columns, fr))\n",
    "for key in importance_dict:\n",
    "    if importance_dict[key] > 0:\n",
    "        significant_variable['significant_variables'].append(key)\n",
    "        \n",
    "print(significant_variable)"
   ]
  },
  {
   "cell_type": "markdown",
   "metadata": {},
   "source": [
    "## Random Forest Regressor"
   ]
  },
  {
   "cell_type": "code",
   "execution_count": 41,
   "metadata": {},
   "outputs": [
    {
     "name": "stdout",
     "output_type": "stream",
     "text": [
      "Train Set : (14717, 1) (14717, 30)\n",
      "Test Set  : (4906, 1) (4906, 30)\n"
     ]
    }
   ],
   "source": [
    "y = pd.DataFrame(df_P['absence_indicator'])\n",
    "x = pd.DataFrame(df_P[health_factors])\n",
    "\n",
    "x[categorical_variables] = x[categorical_variables].astype('category')\n",
    "\n",
    "from sklearn.model_selection import train_test_split\n",
    "from sklearn.metrics import mean_squared_error\n",
    "from sklearn.ensemble import RandomForestRegressor\n",
    "from sklearn.metrics import mean_squared_error, accuracy_score, precision_score, recall_score\n",
    "\n",
    "x_train, x_test, y_train, y_test = train_test_split(x, y, test_size = 0.25)\n",
    "\n",
    "print(\"Train Set :\", y_train.shape, x_train.shape)\n",
    "print(\"Test Set  :\", y_test.shape, x_test.shape)"
   ]
  },
  {
   "cell_type": "code",
   "execution_count": 42,
   "metadata": {},
   "outputs": [
    {
     "name": "stderr",
     "output_type": "stream",
     "text": [
      "C:\\Users\\Willis\\AppData\\Local\\Temp\\ipykernel_27316\\2405233170.py:2: DataConversionWarning: A column-vector y was passed when a 1d array was expected. Please change the shape of y to (n_samples,), for example using ravel().\n",
      "  randomforest.fit(x_train, y_train)\n"
     ]
    },
    {
     "name": "stdout",
     "output_type": "stream",
     "text": [
      "Mean Squared Error (Train Dataset): 298.7667862568572\n",
      "Mean Squared Error (Test Dataset): 331.83446295735536\n"
     ]
    }
   ],
   "source": [
    "randomforest = RandomForestRegressor(n_estimators=100, max_depth=5, random_state=42)\n",
    "randomforest.fit(x_train, y_train)\n",
    "\n",
    "y_train_pred = randomforest.predict(x_train)\n",
    "train_mse = mean_squared_error(y_train_pred, y_train)\n",
    "y_test_pred = randomforest.predict(x_test)\n",
    "test_mse = mean_squared_error(y_test_pred, y_test)\n",
    "\n",
    "print(\"Mean Squared Error (Train Dataset):\", train_mse)\n",
    "print(\"Mean Squared Error (Test Dataset):\", test_mse)"
   ]
  },
  {
   "cell_type": "code",
   "execution_count": 43,
   "metadata": {},
   "outputs": [
    {
     "name": "stderr",
     "output_type": "stream",
     "text": [
      "c:\\Users\\Willis\\anaconda3\\Lib\\site-packages\\sklearn\\model_selection\\_validation.py:686: DataConversionWarning: A column-vector y was passed when a 1d array was expected. Please change the shape of y to (n_samples,), for example using ravel().\n",
      "  estimator.fit(X_train, y_train, **fit_params)\n",
      "c:\\Users\\Willis\\anaconda3\\Lib\\site-packages\\sklearn\\model_selection\\_validation.py:686: DataConversionWarning: A column-vector y was passed when a 1d array was expected. Please change the shape of y to (n_samples,), for example using ravel().\n",
      "  estimator.fit(X_train, y_train, **fit_params)\n",
      "c:\\Users\\Willis\\anaconda3\\Lib\\site-packages\\sklearn\\model_selection\\_validation.py:686: DataConversionWarning: A column-vector y was passed when a 1d array was expected. Please change the shape of y to (n_samples,), for example using ravel().\n",
      "  estimator.fit(X_train, y_train, **fit_params)\n",
      "c:\\Users\\Willis\\anaconda3\\Lib\\site-packages\\sklearn\\model_selection\\_validation.py:686: DataConversionWarning: A column-vector y was passed when a 1d array was expected. Please change the shape of y to (n_samples,), for example using ravel().\n",
      "  estimator.fit(X_train, y_train, **fit_params)\n",
      "c:\\Users\\Willis\\anaconda3\\Lib\\site-packages\\sklearn\\model_selection\\_validation.py:686: DataConversionWarning: A column-vector y was passed when a 1d array was expected. Please change the shape of y to (n_samples,), for example using ravel().\n",
      "  estimator.fit(X_train, y_train, **fit_params)\n",
      "c:\\Users\\Willis\\anaconda3\\Lib\\site-packages\\sklearn\\model_selection\\_validation.py:686: DataConversionWarning: A column-vector y was passed when a 1d array was expected. Please change the shape of y to (n_samples,), for example using ravel().\n",
      "  estimator.fit(X_train, y_train, **fit_params)\n",
      "c:\\Users\\Willis\\anaconda3\\Lib\\site-packages\\sklearn\\model_selection\\_validation.py:686: DataConversionWarning: A column-vector y was passed when a 1d array was expected. Please change the shape of y to (n_samples,), for example using ravel().\n",
      "  estimator.fit(X_train, y_train, **fit_params)\n",
      "c:\\Users\\Willis\\anaconda3\\Lib\\site-packages\\sklearn\\model_selection\\_validation.py:686: DataConversionWarning: A column-vector y was passed when a 1d array was expected. Please change the shape of y to (n_samples,), for example using ravel().\n",
      "  estimator.fit(X_train, y_train, **fit_params)\n",
      "c:\\Users\\Willis\\anaconda3\\Lib\\site-packages\\sklearn\\model_selection\\_validation.py:686: DataConversionWarning: A column-vector y was passed when a 1d array was expected. Please change the shape of y to (n_samples,), for example using ravel().\n",
      "  estimator.fit(X_train, y_train, **fit_params)\n",
      "c:\\Users\\Willis\\anaconda3\\Lib\\site-packages\\sklearn\\model_selection\\_validation.py:686: DataConversionWarning: A column-vector y was passed when a 1d array was expected. Please change the shape of y to (n_samples,), for example using ravel().\n",
      "  estimator.fit(X_train, y_train, **fit_params)\n",
      "c:\\Users\\Willis\\anaconda3\\Lib\\site-packages\\sklearn\\model_selection\\_validation.py:686: DataConversionWarning: A column-vector y was passed when a 1d array was expected. Please change the shape of y to (n_samples,), for example using ravel().\n",
      "  estimator.fit(X_train, y_train, **fit_params)\n",
      "c:\\Users\\Willis\\anaconda3\\Lib\\site-packages\\sklearn\\model_selection\\_validation.py:686: DataConversionWarning: A column-vector y was passed when a 1d array was expected. Please change the shape of y to (n_samples,), for example using ravel().\n",
      "  estimator.fit(X_train, y_train, **fit_params)\n",
      "c:\\Users\\Willis\\anaconda3\\Lib\\site-packages\\sklearn\\model_selection\\_validation.py:686: DataConversionWarning: A column-vector y was passed when a 1d array was expected. Please change the shape of y to (n_samples,), for example using ravel().\n",
      "  estimator.fit(X_train, y_train, **fit_params)\n",
      "c:\\Users\\Willis\\anaconda3\\Lib\\site-packages\\sklearn\\model_selection\\_validation.py:686: DataConversionWarning: A column-vector y was passed when a 1d array was expected. Please change the shape of y to (n_samples,), for example using ravel().\n",
      "  estimator.fit(X_train, y_train, **fit_params)\n",
      "c:\\Users\\Willis\\anaconda3\\Lib\\site-packages\\sklearn\\model_selection\\_validation.py:686: DataConversionWarning: A column-vector y was passed when a 1d array was expected. Please change the shape of y to (n_samples,), for example using ravel().\n",
      "  estimator.fit(X_train, y_train, **fit_params)\n",
      "c:\\Users\\Willis\\anaconda3\\Lib\\site-packages\\sklearn\\model_selection\\_validation.py:686: DataConversionWarning: A column-vector y was passed when a 1d array was expected. Please change the shape of y to (n_samples,), for example using ravel().\n",
      "  estimator.fit(X_train, y_train, **fit_params)\n",
      "c:\\Users\\Willis\\anaconda3\\Lib\\site-packages\\sklearn\\model_selection\\_validation.py:686: DataConversionWarning: A column-vector y was passed when a 1d array was expected. Please change the shape of y to (n_samples,), for example using ravel().\n",
      "  estimator.fit(X_train, y_train, **fit_params)\n",
      "c:\\Users\\Willis\\anaconda3\\Lib\\site-packages\\sklearn\\model_selection\\_validation.py:686: DataConversionWarning: A column-vector y was passed when a 1d array was expected. Please change the shape of y to (n_samples,), for example using ravel().\n",
      "  estimator.fit(X_train, y_train, **fit_params)\n",
      "c:\\Users\\Willis\\anaconda3\\Lib\\site-packages\\sklearn\\model_selection\\_validation.py:686: DataConversionWarning: A column-vector y was passed when a 1d array was expected. Please change the shape of y to (n_samples,), for example using ravel().\n",
      "  estimator.fit(X_train, y_train, **fit_params)\n",
      "c:\\Users\\Willis\\anaconda3\\Lib\\site-packages\\sklearn\\model_selection\\_validation.py:686: DataConversionWarning: A column-vector y was passed when a 1d array was expected. Please change the shape of y to (n_samples,), for example using ravel().\n",
      "  estimator.fit(X_train, y_train, **fit_params)\n",
      "c:\\Users\\Willis\\anaconda3\\Lib\\site-packages\\sklearn\\model_selection\\_validation.py:686: DataConversionWarning: A column-vector y was passed when a 1d array was expected. Please change the shape of y to (n_samples,), for example using ravel().\n",
      "  estimator.fit(X_train, y_train, **fit_params)\n",
      "c:\\Users\\Willis\\anaconda3\\Lib\\site-packages\\sklearn\\model_selection\\_validation.py:686: DataConversionWarning: A column-vector y was passed when a 1d array was expected. Please change the shape of y to (n_samples,), for example using ravel().\n",
      "  estimator.fit(X_train, y_train, **fit_params)\n",
      "c:\\Users\\Willis\\anaconda3\\Lib\\site-packages\\sklearn\\model_selection\\_validation.py:686: DataConversionWarning: A column-vector y was passed when a 1d array was expected. Please change the shape of y to (n_samples,), for example using ravel().\n",
      "  estimator.fit(X_train, y_train, **fit_params)\n",
      "c:\\Users\\Willis\\anaconda3\\Lib\\site-packages\\sklearn\\model_selection\\_validation.py:686: DataConversionWarning: A column-vector y was passed when a 1d array was expected. Please change the shape of y to (n_samples,), for example using ravel().\n",
      "  estimator.fit(X_train, y_train, **fit_params)\n",
      "c:\\Users\\Willis\\anaconda3\\Lib\\site-packages\\sklearn\\model_selection\\_validation.py:686: DataConversionWarning: A column-vector y was passed when a 1d array was expected. Please change the shape of y to (n_samples,), for example using ravel().\n",
      "  estimator.fit(X_train, y_train, **fit_params)\n",
      "c:\\Users\\Willis\\anaconda3\\Lib\\site-packages\\sklearn\\model_selection\\_search.py:909: DataConversionWarning: A column-vector y was passed when a 1d array was expected. Please change the shape of y to (n_samples,), for example using ravel().\n",
      "  self.best_estimator_.fit(X, y, **fit_params)\n"
     ]
    },
    {
     "name": "stdout",
     "output_type": "stream",
     "text": [
      "{'max_depth': 6, 'min_samples_split': 12, 'n_estimators': 137}\n"
     ]
    }
   ],
   "source": [
    "from sklearn.model_selection import RandomizedSearchCV\n",
    "from scipy.stats import randint\n",
    "\n",
    "param_dist = {\n",
    "    'n_estimators': randint(50, 200),\n",
    "    'max_depth': [None] + list(range(5, 20)),\n",
    "    'min_samples_split': randint(2, 20)\n",
    "}\n",
    "\n",
    "randomized_search = RandomizedSearchCV(estimator=RandomForestRegressor(), param_distributions=param_dist, n_iter=5, cv=5, scoring='neg_mean_squared_error', random_state=42)\n",
    "\n",
    "randomized_search.fit(x_train, y_train)\n",
    "\n",
    "best_params = randomized_search.best_params_\n",
    "print(best_params)"
   ]
  },
  {
   "cell_type": "code",
   "execution_count": 44,
   "metadata": {},
   "outputs": [
    {
     "name": "stderr",
     "output_type": "stream",
     "text": [
      "C:\\Users\\Willis\\AppData\\Local\\Temp\\ipykernel_27316\\3010193299.py:2: DataConversionWarning: A column-vector y was passed when a 1d array was expected. Please change the shape of y to (n_samples,), for example using ravel().\n",
      "  randomforest.fit(x_train, y_train)\n"
     ]
    },
    {
     "name": "stdout",
     "output_type": "stream",
     "text": [
      "Mean Squared Error (Train Dataset): 284.0607063793647\n",
      "Mean Squared Error (Test Dataset): 331.2047353548904\n"
     ]
    }
   ],
   "source": [
    "randomforest = RandomForestRegressor(n_estimators=best_params['n_estimators'], max_depth=best_params['max_depth'], min_samples_split=best_params['min_samples_split'], random_state=42)\n",
    "randomforest.fit(x_train, y_train)\n",
    "\n",
    "y_train_pred = randomforest.predict(x_train)\n",
    "train_mse = mean_squared_error(y_train_pred, y_train)\n",
    "y_test_pred = randomforest.predict(x_test)\n",
    "test_mse = mean_squared_error(y_test_pred, y_test)\n",
    "\n",
    "print(\"Mean Squared Error (Train Dataset):\", train_mse)\n",
    "print(\"Mean Squared Error (Test Dataset):\", test_mse)"
   ]
  },
  {
   "cell_type": "markdown",
   "metadata": {},
   "source": [
    "### transformation"
   ]
  },
  {
   "cell_type": "markdown",
   "metadata": {},
   "source": [
    "#### sqrt"
   ]
  },
  {
   "cell_type": "code",
   "execution_count": null,
   "metadata": {},
   "outputs": [],
   "source": []
  }
 ],
 "metadata": {
  "interpreter": {
   "hash": "aee8b7b246df8f9039afb4144a1f6fd8d2ca17a180786b69acc140d282b71a49"
  },
  "kernelspec": {
   "display_name": "Python 3 (ipykernel)",
   "language": "python",
   "name": "python3"
  },
  "language_info": {
   "codemirror_mode": {
    "name": "ipython",
    "version": 3
   },
   "file_extension": ".py",
   "mimetype": "text/x-python",
   "name": "python",
   "nbconvert_exporter": "python",
   "pygments_lexer": "ipython3",
   "version": "3.11.7"
  }
 },
 "nbformat": 4,
 "nbformat_minor": 2
}
