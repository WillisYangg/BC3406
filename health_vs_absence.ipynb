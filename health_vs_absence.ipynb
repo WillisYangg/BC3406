{
 "cells": [
  {
   "cell_type": "code",
   "execution_count": 132,
   "metadata": {},
   "outputs": [],
   "source": [
    "import pandas as pd\n",
    "import numpy as np\n",
    "import matplotlib.pyplot as plt\n",
    "import seaborn as sb\n",
    "\n",
    "sb.set()"
   ]
  },
  {
   "cell_type": "code",
   "execution_count": 133,
   "metadata": {},
   "outputs": [
    {
     "data": {
      "text/html": [
       "<div>\n",
       "<style scoped>\n",
       "    .dataframe tbody tr th:only-of-type {\n",
       "        vertical-align: middle;\n",
       "    }\n",
       "\n",
       "    .dataframe tbody tr th {\n",
       "        vertical-align: top;\n",
       "    }\n",
       "\n",
       "    .dataframe thead th {\n",
       "        text-align: right;\n",
       "    }\n",
       "</style>\n",
       "<table border=\"1\" class=\"dataframe\">\n",
       "  <thead>\n",
       "    <tr style=\"text-align: right;\">\n",
       "      <th></th>\n",
       "      <th>ADI</th>\n",
       "      <th>Age</th>\n",
       "      <th>person_id</th>\n",
       "      <th>Gender</th>\n",
       "      <th>Subgroup</th>\n",
       "      <th>absence_indicator</th>\n",
       "      <th>analytic_period_id</th>\n",
       "      <th>tenure</th>\n",
       "      <th>overtime</th>\n",
       "      <th>salary</th>\n",
       "      <th>...</th>\n",
       "      <th>extreme_heat_ssp585_2045</th>\n",
       "      <th>wildfire_potential_2018</th>\n",
       "      <th>wildfire_potential_2019</th>\n",
       "      <th>wildfire_potential_2019.1</th>\n",
       "      <th>wildfire_potential_ssp245_2025</th>\n",
       "      <th>wildfire_potential_ssp245_2035</th>\n",
       "      <th>wildfire_potential_ssp245_2045</th>\n",
       "      <th>wildfire_potential_ssp585_2025</th>\n",
       "      <th>wildfire_potential_ssp585_2035</th>\n",
       "      <th>wildfire_potential_ssp585_2045</th>\n",
       "    </tr>\n",
       "  </thead>\n",
       "  <tbody>\n",
       "    <tr>\n",
       "      <th>0</th>\n",
       "      <td>28</td>\n",
       "      <td>37</td>\n",
       "      <td>3030515063</td>\n",
       "      <td>Male</td>\n",
       "      <td>Subgroup P</td>\n",
       "      <td>0</td>\n",
       "      <td>1</td>\n",
       "      <td>18.25</td>\n",
       "      <td>1</td>\n",
       "      <td>115700.0</td>\n",
       "      <td>...</td>\n",
       "      <td>13.380953</td>\n",
       "      <td>10.975000</td>\n",
       "      <td>11.460870</td>\n",
       "      <td>12.070652</td>\n",
       "      <td>6.033403</td>\n",
       "      <td>6.347014</td>\n",
       "      <td>6.512159</td>\n",
       "      <td>6.093082</td>\n",
       "      <td>6.504460</td>\n",
       "      <td>6.743331</td>\n",
       "    </tr>\n",
       "    <tr>\n",
       "      <th>1</th>\n",
       "      <td>18</td>\n",
       "      <td>34</td>\n",
       "      <td>9786383567</td>\n",
       "      <td>Male</td>\n",
       "      <td>Subgroup P</td>\n",
       "      <td>0</td>\n",
       "      <td>1</td>\n",
       "      <td>3.99</td>\n",
       "      <td>7</td>\n",
       "      <td>81435.0</td>\n",
       "      <td>...</td>\n",
       "      <td>13.380953</td>\n",
       "      <td>11.141304</td>\n",
       "      <td>11.520652</td>\n",
       "      <td>11.871739</td>\n",
       "      <td>6.033403</td>\n",
       "      <td>6.347014</td>\n",
       "      <td>6.512159</td>\n",
       "      <td>6.093082</td>\n",
       "      <td>6.504460</td>\n",
       "      <td>6.743331</td>\n",
       "    </tr>\n",
       "    <tr>\n",
       "      <th>2</th>\n",
       "      <td>15</td>\n",
       "      <td>36</td>\n",
       "      <td>5602306401</td>\n",
       "      <td>Male</td>\n",
       "      <td>Subgroup P</td>\n",
       "      <td>0</td>\n",
       "      <td>1</td>\n",
       "      <td>3.05</td>\n",
       "      <td>1</td>\n",
       "      <td>86400.0</td>\n",
       "      <td>...</td>\n",
       "      <td>15.597403</td>\n",
       "      <td>10.393478</td>\n",
       "      <td>10.777174</td>\n",
       "      <td>11.659783</td>\n",
       "      <td>6.064177</td>\n",
       "      <td>6.380910</td>\n",
       "      <td>6.548825</td>\n",
       "      <td>6.117186</td>\n",
       "      <td>6.522880</td>\n",
       "      <td>6.771772</td>\n",
       "    </tr>\n",
       "    <tr>\n",
       "      <th>3</th>\n",
       "      <td>36</td>\n",
       "      <td>41</td>\n",
       "      <td>8107765424</td>\n",
       "      <td>Male</td>\n",
       "      <td>Subgroup P</td>\n",
       "      <td>0</td>\n",
       "      <td>1</td>\n",
       "      <td>20.29</td>\n",
       "      <td>1</td>\n",
       "      <td>79176.0</td>\n",
       "      <td>...</td>\n",
       "      <td>12.290043</td>\n",
       "      <td>11.039130</td>\n",
       "      <td>11.023913</td>\n",
       "      <td>11.963043</td>\n",
       "      <td>6.069724</td>\n",
       "      <td>6.365864</td>\n",
       "      <td>6.512409</td>\n",
       "      <td>6.091926</td>\n",
       "      <td>6.469195</td>\n",
       "      <td>6.700504</td>\n",
       "    </tr>\n",
       "    <tr>\n",
       "      <th>4</th>\n",
       "      <td>49</td>\n",
       "      <td>51</td>\n",
       "      <td>7879842771</td>\n",
       "      <td>Male</td>\n",
       "      <td>Subgroup P</td>\n",
       "      <td>0</td>\n",
       "      <td>1</td>\n",
       "      <td>13.66</td>\n",
       "      <td>7</td>\n",
       "      <td>94511.0</td>\n",
       "      <td>...</td>\n",
       "      <td>12.290043</td>\n",
       "      <td>10.760870</td>\n",
       "      <td>11.308696</td>\n",
       "      <td>12.006522</td>\n",
       "      <td>6.069724</td>\n",
       "      <td>6.365864</td>\n",
       "      <td>6.512409</td>\n",
       "      <td>6.091926</td>\n",
       "      <td>6.469195</td>\n",
       "      <td>6.700504</td>\n",
       "    </tr>\n",
       "  </tbody>\n",
       "</table>\n",
       "<p>5 rows × 74 columns</p>\n",
       "</div>"
      ],
      "text/plain": [
       "   ADI  Age   person_id Gender    Subgroup  absence_indicator  \\\n",
       "0   28   37  3030515063   Male  Subgroup P                  0   \n",
       "1   18   34  9786383567   Male  Subgroup P                  0   \n",
       "2   15   36  5602306401   Male  Subgroup P                  0   \n",
       "3   36   41  8107765424   Male  Subgroup P                  0   \n",
       "4   49   51  7879842771   Male  Subgroup P                  0   \n",
       "\n",
       "   analytic_period_id  tenure  overtime    salary  ...  \\\n",
       "0                   1   18.25         1  115700.0  ...   \n",
       "1                   1    3.99         7   81435.0  ...   \n",
       "2                   1    3.05         1   86400.0  ...   \n",
       "3                   1   20.29         1   79176.0  ...   \n",
       "4                   1   13.66         7   94511.0  ...   \n",
       "\n",
       "   extreme_heat_ssp585_2045  wildfire_potential_2018  wildfire_potential_2019  \\\n",
       "0                 13.380953                10.975000                11.460870   \n",
       "1                 13.380953                11.141304                11.520652   \n",
       "2                 15.597403                10.393478                10.777174   \n",
       "3                 12.290043                11.039130                11.023913   \n",
       "4                 12.290043                10.760870                11.308696   \n",
       "\n",
       "   wildfire_potential_2019.1  wildfire_potential_ssp245_2025  \\\n",
       "0                  12.070652                        6.033403   \n",
       "1                  11.871739                        6.033403   \n",
       "2                  11.659783                        6.064177   \n",
       "3                  11.963043                        6.069724   \n",
       "4                  12.006522                        6.069724   \n",
       "\n",
       "   wildfire_potential_ssp245_2035  wildfire_potential_ssp245_2045  \\\n",
       "0                        6.347014                        6.512159   \n",
       "1                        6.347014                        6.512159   \n",
       "2                        6.380910                        6.548825   \n",
       "3                        6.365864                        6.512409   \n",
       "4                        6.365864                        6.512409   \n",
       "\n",
       "   wildfire_potential_ssp585_2025  wildfire_potential_ssp585_2035  \\\n",
       "0                        6.093082                        6.504460   \n",
       "1                        6.093082                        6.504460   \n",
       "2                        6.117186                        6.522880   \n",
       "3                        6.091926                        6.469195   \n",
       "4                        6.091926                        6.469195   \n",
       "\n",
       "   wildfire_potential_ssp585_2045  \n",
       "0                        6.743331  \n",
       "1                        6.743331  \n",
       "2                        6.771772  \n",
       "3                        6.700504  \n",
       "4                        6.700504  \n",
       "\n",
       "[5 rows x 74 columns]"
      ]
     },
     "execution_count": 133,
     "metadata": {},
     "output_type": "execute_result"
    }
   ],
   "source": [
    "df = pd.read_csv('Dataset.csv', index_col=0)\n",
    "df.head()"
   ]
  },
  {
   "cell_type": "code",
   "execution_count": 134,
   "metadata": {
    "scrolled": true
   },
   "outputs": [
    {
     "data": {
      "text/html": [
       "<div>\n",
       "<style scoped>\n",
       "    .dataframe tbody tr th:only-of-type {\n",
       "        vertical-align: middle;\n",
       "    }\n",
       "\n",
       "    .dataframe tbody tr th {\n",
       "        vertical-align: top;\n",
       "    }\n",
       "\n",
       "    .dataframe thead th {\n",
       "        text-align: right;\n",
       "    }\n",
       "</style>\n",
       "<table border=\"1\" class=\"dataframe\">\n",
       "  <thead>\n",
       "    <tr style=\"text-align: right;\">\n",
       "      <th></th>\n",
       "      <th>ADI</th>\n",
       "      <th>Age</th>\n",
       "      <th>person_id</th>\n",
       "      <th>Gender</th>\n",
       "      <th>Subgroup</th>\n",
       "      <th>absence_indicator</th>\n",
       "      <th>analytic_period_id</th>\n",
       "      <th>tenure</th>\n",
       "      <th>overtime</th>\n",
       "      <th>salary</th>\n",
       "      <th>...</th>\n",
       "      <th>extreme_heat_ssp585_2045</th>\n",
       "      <th>wildfire_potential_2018</th>\n",
       "      <th>wildfire_potential_2019</th>\n",
       "      <th>wildfire_potential_2019.1</th>\n",
       "      <th>wildfire_potential_ssp245_2025</th>\n",
       "      <th>wildfire_potential_ssp245_2035</th>\n",
       "      <th>wildfire_potential_ssp245_2045</th>\n",
       "      <th>wildfire_potential_ssp585_2025</th>\n",
       "      <th>wildfire_potential_ssp585_2035</th>\n",
       "      <th>wildfire_potential_ssp585_2045</th>\n",
       "    </tr>\n",
       "  </thead>\n",
       "  <tbody>\n",
       "    <tr>\n",
       "      <th>0</th>\n",
       "      <td>28</td>\n",
       "      <td>37</td>\n",
       "      <td>3030515063</td>\n",
       "      <td>1</td>\n",
       "      <td>Subgroup P</td>\n",
       "      <td>0</td>\n",
       "      <td>1</td>\n",
       "      <td>18.25</td>\n",
       "      <td>1</td>\n",
       "      <td>115700.0</td>\n",
       "      <td>...</td>\n",
       "      <td>13.380953</td>\n",
       "      <td>10.975000</td>\n",
       "      <td>11.460870</td>\n",
       "      <td>12.070652</td>\n",
       "      <td>6.033403</td>\n",
       "      <td>6.347014</td>\n",
       "      <td>6.512159</td>\n",
       "      <td>6.093082</td>\n",
       "      <td>6.504460</td>\n",
       "      <td>6.743331</td>\n",
       "    </tr>\n",
       "    <tr>\n",
       "      <th>1</th>\n",
       "      <td>18</td>\n",
       "      <td>34</td>\n",
       "      <td>9786383567</td>\n",
       "      <td>1</td>\n",
       "      <td>Subgroup P</td>\n",
       "      <td>0</td>\n",
       "      <td>1</td>\n",
       "      <td>3.99</td>\n",
       "      <td>7</td>\n",
       "      <td>81435.0</td>\n",
       "      <td>...</td>\n",
       "      <td>13.380953</td>\n",
       "      <td>11.141304</td>\n",
       "      <td>11.520652</td>\n",
       "      <td>11.871739</td>\n",
       "      <td>6.033403</td>\n",
       "      <td>6.347014</td>\n",
       "      <td>6.512159</td>\n",
       "      <td>6.093082</td>\n",
       "      <td>6.504460</td>\n",
       "      <td>6.743331</td>\n",
       "    </tr>\n",
       "    <tr>\n",
       "      <th>2</th>\n",
       "      <td>15</td>\n",
       "      <td>36</td>\n",
       "      <td>5602306401</td>\n",
       "      <td>1</td>\n",
       "      <td>Subgroup P</td>\n",
       "      <td>0</td>\n",
       "      <td>1</td>\n",
       "      <td>3.05</td>\n",
       "      <td>1</td>\n",
       "      <td>86400.0</td>\n",
       "      <td>...</td>\n",
       "      <td>15.597403</td>\n",
       "      <td>10.393478</td>\n",
       "      <td>10.777174</td>\n",
       "      <td>11.659783</td>\n",
       "      <td>6.064177</td>\n",
       "      <td>6.380910</td>\n",
       "      <td>6.548825</td>\n",
       "      <td>6.117186</td>\n",
       "      <td>6.522880</td>\n",
       "      <td>6.771772</td>\n",
       "    </tr>\n",
       "    <tr>\n",
       "      <th>3</th>\n",
       "      <td>36</td>\n",
       "      <td>41</td>\n",
       "      <td>8107765424</td>\n",
       "      <td>1</td>\n",
       "      <td>Subgroup P</td>\n",
       "      <td>0</td>\n",
       "      <td>1</td>\n",
       "      <td>20.29</td>\n",
       "      <td>1</td>\n",
       "      <td>79176.0</td>\n",
       "      <td>...</td>\n",
       "      <td>12.290043</td>\n",
       "      <td>11.039130</td>\n",
       "      <td>11.023913</td>\n",
       "      <td>11.963043</td>\n",
       "      <td>6.069724</td>\n",
       "      <td>6.365864</td>\n",
       "      <td>6.512409</td>\n",
       "      <td>6.091926</td>\n",
       "      <td>6.469195</td>\n",
       "      <td>6.700504</td>\n",
       "    </tr>\n",
       "    <tr>\n",
       "      <th>4</th>\n",
       "      <td>49</td>\n",
       "      <td>51</td>\n",
       "      <td>7879842771</td>\n",
       "      <td>1</td>\n",
       "      <td>Subgroup P</td>\n",
       "      <td>0</td>\n",
       "      <td>1</td>\n",
       "      <td>13.66</td>\n",
       "      <td>7</td>\n",
       "      <td>94511.0</td>\n",
       "      <td>...</td>\n",
       "      <td>12.290043</td>\n",
       "      <td>10.760870</td>\n",
       "      <td>11.308696</td>\n",
       "      <td>12.006522</td>\n",
       "      <td>6.069724</td>\n",
       "      <td>6.365864</td>\n",
       "      <td>6.512409</td>\n",
       "      <td>6.091926</td>\n",
       "      <td>6.469195</td>\n",
       "      <td>6.700504</td>\n",
       "    </tr>\n",
       "  </tbody>\n",
       "</table>\n",
       "<p>5 rows × 74 columns</p>\n",
       "</div>"
      ],
      "text/plain": [
       "   ADI  Age   person_id  Gender    Subgroup  absence_indicator  \\\n",
       "0   28   37  3030515063       1  Subgroup P                  0   \n",
       "1   18   34  9786383567       1  Subgroup P                  0   \n",
       "2   15   36  5602306401       1  Subgroup P                  0   \n",
       "3   36   41  8107765424       1  Subgroup P                  0   \n",
       "4   49   51  7879842771       1  Subgroup P                  0   \n",
       "\n",
       "   analytic_period_id  tenure  overtime    salary  ...  \\\n",
       "0                   1   18.25         1  115700.0  ...   \n",
       "1                   1    3.99         7   81435.0  ...   \n",
       "2                   1    3.05         1   86400.0  ...   \n",
       "3                   1   20.29         1   79176.0  ...   \n",
       "4                   1   13.66         7   94511.0  ...   \n",
       "\n",
       "   extreme_heat_ssp585_2045  wildfire_potential_2018  wildfire_potential_2019  \\\n",
       "0                 13.380953                10.975000                11.460870   \n",
       "1                 13.380953                11.141304                11.520652   \n",
       "2                 15.597403                10.393478                10.777174   \n",
       "3                 12.290043                11.039130                11.023913   \n",
       "4                 12.290043                10.760870                11.308696   \n",
       "\n",
       "   wildfire_potential_2019.1  wildfire_potential_ssp245_2025  \\\n",
       "0                  12.070652                        6.033403   \n",
       "1                  11.871739                        6.033403   \n",
       "2                  11.659783                        6.064177   \n",
       "3                  11.963043                        6.069724   \n",
       "4                  12.006522                        6.069724   \n",
       "\n",
       "   wildfire_potential_ssp245_2035  wildfire_potential_ssp245_2045  \\\n",
       "0                        6.347014                        6.512159   \n",
       "1                        6.347014                        6.512159   \n",
       "2                        6.380910                        6.548825   \n",
       "3                        6.365864                        6.512409   \n",
       "4                        6.365864                        6.512409   \n",
       "\n",
       "   wildfire_potential_ssp585_2025  wildfire_potential_ssp585_2035  \\\n",
       "0                        6.093082                        6.504460   \n",
       "1                        6.093082                        6.504460   \n",
       "2                        6.117186                        6.522880   \n",
       "3                        6.091926                        6.469195   \n",
       "4                        6.091926                        6.469195   \n",
       "\n",
       "   wildfire_potential_ssp585_2045  \n",
       "0                        6.743331  \n",
       "1                        6.743331  \n",
       "2                        6.771772  \n",
       "3                        6.700504  \n",
       "4                        6.700504  \n",
       "\n",
       "[5 rows x 74 columns]"
      ]
     },
     "execution_count": 134,
     "metadata": {},
     "output_type": "execute_result"
    }
   ],
   "source": [
    "# set gender to 1 and 0\n",
    "\n",
    "df['Gender'] = np.where(df['Gender'] == 'Male', 1, 0)\n",
    "df.head()"
   ]
  },
  {
   "cell_type": "code",
   "execution_count": 135,
   "metadata": {},
   "outputs": [
    {
     "data": {
      "text/html": [
       "<div>\n",
       "<style scoped>\n",
       "    .dataframe tbody tr th:only-of-type {\n",
       "        vertical-align: middle;\n",
       "    }\n",
       "\n",
       "    .dataframe tbody tr th {\n",
       "        vertical-align: top;\n",
       "    }\n",
       "\n",
       "    .dataframe thead th {\n",
       "        text-align: right;\n",
       "    }\n",
       "</style>\n",
       "<table border=\"1\" class=\"dataframe\">\n",
       "  <thead>\n",
       "    <tr style=\"text-align: right;\">\n",
       "      <th></th>\n",
       "      <th>ADI</th>\n",
       "      <th>Age</th>\n",
       "      <th>person_id</th>\n",
       "      <th>Gender</th>\n",
       "      <th>Subgroup</th>\n",
       "      <th>absence_indicator</th>\n",
       "      <th>analytic_period_id</th>\n",
       "      <th>tenure</th>\n",
       "      <th>overtime</th>\n",
       "      <th>salary</th>\n",
       "      <th>...</th>\n",
       "      <th>extreme_heat_ssp585_2045</th>\n",
       "      <th>wildfire_potential_2018</th>\n",
       "      <th>wildfire_potential_2019</th>\n",
       "      <th>wildfire_potential_2019.1</th>\n",
       "      <th>wildfire_potential_ssp245_2025</th>\n",
       "      <th>wildfire_potential_ssp245_2035</th>\n",
       "      <th>wildfire_potential_ssp245_2045</th>\n",
       "      <th>wildfire_potential_ssp585_2025</th>\n",
       "      <th>wildfire_potential_ssp585_2035</th>\n",
       "      <th>wildfire_potential_ssp585_2045</th>\n",
       "    </tr>\n",
       "  </thead>\n",
       "  <tbody>\n",
       "    <tr>\n",
       "      <th>7249</th>\n",
       "      <td>11</td>\n",
       "      <td>37</td>\n",
       "      <td>8546337240</td>\n",
       "      <td>1</td>\n",
       "      <td>Subgroup C</td>\n",
       "      <td>88</td>\n",
       "      <td>1</td>\n",
       "      <td>17.621833</td>\n",
       "      <td>1</td>\n",
       "      <td>87639.00</td>\n",
       "      <td>...</td>\n",
       "      <td>22.606060</td>\n",
       "      <td>20.069565</td>\n",
       "      <td>19.326087</td>\n",
       "      <td>22.286957</td>\n",
       "      <td>12.084754</td>\n",
       "      <td>12.515748</td>\n",
       "      <td>12.869328</td>\n",
       "      <td>12.338427</td>\n",
       "      <td>12.880823</td>\n",
       "      <td>13.652612</td>\n",
       "    </tr>\n",
       "    <tr>\n",
       "      <th>7250</th>\n",
       "      <td>59</td>\n",
       "      <td>30</td>\n",
       "      <td>4414458229</td>\n",
       "      <td>0</td>\n",
       "      <td>Subgroup C</td>\n",
       "      <td>0</td>\n",
       "      <td>1</td>\n",
       "      <td>10.990623</td>\n",
       "      <td>1</td>\n",
       "      <td>64418.00</td>\n",
       "      <td>...</td>\n",
       "      <td>30.393940</td>\n",
       "      <td>8.805435</td>\n",
       "      <td>8.142391</td>\n",
       "      <td>8.914130</td>\n",
       "      <td>5.748487</td>\n",
       "      <td>5.972501</td>\n",
       "      <td>6.138339</td>\n",
       "      <td>5.835410</td>\n",
       "      <td>6.371663</td>\n",
       "      <td>6.963992</td>\n",
       "    </tr>\n",
       "    <tr>\n",
       "      <th>7251</th>\n",
       "      <td>61</td>\n",
       "      <td>28</td>\n",
       "      <td>9953807739</td>\n",
       "      <td>1</td>\n",
       "      <td>Subgroup C</td>\n",
       "      <td>0</td>\n",
       "      <td>1</td>\n",
       "      <td>9.534056</td>\n",
       "      <td>1</td>\n",
       "      <td>32779.00</td>\n",
       "      <td>...</td>\n",
       "      <td>63.987010</td>\n",
       "      <td>13.167391</td>\n",
       "      <td>10.141304</td>\n",
       "      <td>11.293478</td>\n",
       "      <td>9.254983</td>\n",
       "      <td>9.716663</td>\n",
       "      <td>9.908102</td>\n",
       "      <td>9.034873</td>\n",
       "      <td>9.514288</td>\n",
       "      <td>10.380012</td>\n",
       "    </tr>\n",
       "    <tr>\n",
       "      <th>7252</th>\n",
       "      <td>69</td>\n",
       "      <td>45</td>\n",
       "      <td>3512709535</td>\n",
       "      <td>0</td>\n",
       "      <td>Subgroup C</td>\n",
       "      <td>0</td>\n",
       "      <td>1</td>\n",
       "      <td>9.419064</td>\n",
       "      <td>1</td>\n",
       "      <td>64418.00</td>\n",
       "      <td>...</td>\n",
       "      <td>30.952381</td>\n",
       "      <td>9.072826</td>\n",
       "      <td>8.681522</td>\n",
       "      <td>9.335870</td>\n",
       "      <td>5.895154</td>\n",
       "      <td>6.130974</td>\n",
       "      <td>6.297318</td>\n",
       "      <td>5.976431</td>\n",
       "      <td>6.537423</td>\n",
       "      <td>7.158043</td>\n",
       "    </tr>\n",
       "    <tr>\n",
       "      <th>7253</th>\n",
       "      <td>34</td>\n",
       "      <td>52</td>\n",
       "      <td>3553003505</td>\n",
       "      <td>1</td>\n",
       "      <td>Subgroup C</td>\n",
       "      <td>0</td>\n",
       "      <td>1</td>\n",
       "      <td>10.254126</td>\n",
       "      <td>1</td>\n",
       "      <td>24414.33</td>\n",
       "      <td>...</td>\n",
       "      <td>14.709957</td>\n",
       "      <td>9.011957</td>\n",
       "      <td>8.191304</td>\n",
       "      <td>9.889130</td>\n",
       "      <td>6.199946</td>\n",
       "      <td>6.496116</td>\n",
       "      <td>6.723905</td>\n",
       "      <td>5.991765</td>\n",
       "      <td>6.531004</td>\n",
       "      <td>7.068315</td>\n",
       "    </tr>\n",
       "  </tbody>\n",
       "</table>\n",
       "<p>5 rows × 74 columns</p>\n",
       "</div>"
      ],
      "text/plain": [
       "      ADI  Age   person_id  Gender    Subgroup  absence_indicator  \\\n",
       "7249   11   37  8546337240       1  Subgroup C                 88   \n",
       "7250   59   30  4414458229       0  Subgroup C                  0   \n",
       "7251   61   28  9953807739       1  Subgroup C                  0   \n",
       "7252   69   45  3512709535       0  Subgroup C                  0   \n",
       "7253   34   52  3553003505       1  Subgroup C                  0   \n",
       "\n",
       "      analytic_period_id     tenure  overtime    salary  ...  \\\n",
       "7249                   1  17.621833         1  87639.00  ...   \n",
       "7250                   1  10.990623         1  64418.00  ...   \n",
       "7251                   1   9.534056         1  32779.00  ...   \n",
       "7252                   1   9.419064         1  64418.00  ...   \n",
       "7253                   1  10.254126         1  24414.33  ...   \n",
       "\n",
       "      extreme_heat_ssp585_2045  wildfire_potential_2018  \\\n",
       "7249                 22.606060                20.069565   \n",
       "7250                 30.393940                 8.805435   \n",
       "7251                 63.987010                13.167391   \n",
       "7252                 30.952381                 9.072826   \n",
       "7253                 14.709957                 9.011957   \n",
       "\n",
       "      wildfire_potential_2019  wildfire_potential_2019.1  \\\n",
       "7249                19.326087                  22.286957   \n",
       "7250                 8.142391                   8.914130   \n",
       "7251                10.141304                  11.293478   \n",
       "7252                 8.681522                   9.335870   \n",
       "7253                 8.191304                   9.889130   \n",
       "\n",
       "      wildfire_potential_ssp245_2025  wildfire_potential_ssp245_2035  \\\n",
       "7249                       12.084754                       12.515748   \n",
       "7250                        5.748487                        5.972501   \n",
       "7251                        9.254983                        9.716663   \n",
       "7252                        5.895154                        6.130974   \n",
       "7253                        6.199946                        6.496116   \n",
       "\n",
       "      wildfire_potential_ssp245_2045  wildfire_potential_ssp585_2025  \\\n",
       "7249                       12.869328                       12.338427   \n",
       "7250                        6.138339                        5.835410   \n",
       "7251                        9.908102                        9.034873   \n",
       "7252                        6.297318                        5.976431   \n",
       "7253                        6.723905                        5.991765   \n",
       "\n",
       "      wildfire_potential_ssp585_2035  wildfire_potential_ssp585_2045  \n",
       "7249                       12.880823                       13.652612  \n",
       "7250                        6.371663                        6.963992  \n",
       "7251                        9.514288                       10.380012  \n",
       "7252                        6.537423                        7.158043  \n",
       "7253                        6.531004                        7.068315  \n",
       "\n",
       "[5 rows x 74 columns]"
      ]
     },
     "execution_count": 135,
     "metadata": {},
     "output_type": "execute_result"
    }
   ],
   "source": [
    "# uncomment below to run for outdoor\n",
    "# df_P = pd.DataFrame(df[df['Subgroup'] == 'Subgroup P'])\n",
    "\n",
    "# uncomment below to run for indoor\n",
    "df_P = pd.DataFrame(df[df['Subgroup'] == 'Subgroup C'])\n",
    "\n",
    "df_P.head()"
   ]
  },
  {
   "cell_type": "code",
   "execution_count": 136,
   "metadata": {},
   "outputs": [
    {
     "data": {
      "text/plain": [
       "(23561, 74)"
      ]
     },
     "execution_count": 136,
     "metadata": {},
     "output_type": "execute_result"
    }
   ],
   "source": [
    "df_P.shape"
   ]
  },
  {
   "cell_type": "code",
   "execution_count": 137,
   "metadata": {},
   "outputs": [
    {
     "data": {
      "text/plain": [
       "(23559, 74)"
      ]
     },
     "execution_count": 137,
     "metadata": {},
     "output_type": "execute_result"
    }
   ],
   "source": [
    "# Data Cleaning\n",
    "\n",
    "df_wrong_days = df_P.loc[df_P['absence_indicator'] > 365]\n",
    "df_P = df_P.drop(df_wrong_days.index)\n",
    "\n",
    "df_P.shape"
   ]
  },
  {
   "cell_type": "code",
   "execution_count": 138,
   "metadata": {},
   "outputs": [
    {
     "name": "stdout",
     "output_type": "stream",
     "text": [
      "<class 'pandas.core.frame.DataFrame'>\n",
      "Index: 23559 entries, 7249 to 43183\n",
      "Data columns (total 74 columns):\n",
      " #   Column                              Non-Null Count  Dtype  \n",
      "---  ------                              --------------  -----  \n",
      " 0   ADI                                 23559 non-null  int64  \n",
      " 1   Age                                 23559 non-null  int64  \n",
      " 2   person_id                           23559 non-null  int64  \n",
      " 3   Gender                              23559 non-null  int32  \n",
      " 4   Subgroup                            23559 non-null  object \n",
      " 5   absence_indicator                   23559 non-null  int64  \n",
      " 6   analytic_period_id                  23559 non-null  int64  \n",
      " 7   tenure                              23559 non-null  float64\n",
      " 8   overtime                            23559 non-null  int64  \n",
      " 9   salary                              23559 non-null  float64\n",
      " 10  performance_rating                  23559 non-null  int64  \n",
      " 11  BiometricScreeningParticipants      23559 non-null  int64  \n",
      " 12  HRQParticipants                     23559 non-null  int64  \n",
      " 13  lsbio_cholesterol                   23559 non-null  int64  \n",
      " 14  lsbio_glucose                       23559 non-null  int64  \n",
      " 15  lsbio_bp                            23559 non-null  int64  \n",
      " 16  lsbio_weight                        23559 non-null  int64  \n",
      " 17  lsbio_trig                          23559 non-null  int64  \n",
      " 18  lshrq_physact                       23559 non-null  int64  \n",
      " 19  lshrq_tobacco                       23559 non-null  int64  \n",
      " 20  lshrq_nutrition                     23559 non-null  int64  \n",
      " 21  lshrq_stress                        23559 non-null  int64  \n",
      " 22  lshrq_genHealth                     23559 non-null  int64  \n",
      " 23  lshrq_wellbeing                     23559 non-null  int64  \n",
      " 24  lshrq_alcohol                       23559 non-null  int64  \n",
      " 25  lshrq_sleeping                      23559 non-null  int64  \n",
      " 26  cc_RespiratorySinusAllergy_chronic  23559 non-null  int64  \n",
      " 27  cc_diabetes                         23559 non-null  int64  \n",
      " 28  cc_cancer                           23559 non-null  int64  \n",
      " 29  cc_mskChronic                       23559 non-null  int64  \n",
      " 30  cc_cholesterol                      23559 non-null  int64  \n",
      " 31  cc_cardiac                          23559 non-null  int64  \n",
      " 32  cc_depression                       23559 non-null  int64  \n",
      " 33  cc_obesity                          23559 non-null  int64  \n",
      " 34  cc_mskAllOther                      23559 non-null  int64  \n",
      " 35  cc_behavioralAllOther               23559 non-null  int64  \n",
      " 36  cc_ckd                              23559 non-null  int64  \n",
      " 37  concurrent_risk                     23559 non-null  float64\n",
      " 38  rx_nonClaimant                      23559 non-null  int64  \n",
      " 39  rx_nonCompliant                     23559 non-null  int64  \n",
      " 40  prog_1                              23559 non-null  int64  \n",
      " 41  prog_2                              23559 non-null  int64  \n",
      " 42  prog_3                              23559 non-null  int64  \n",
      " 43  prog_4                              23559 non-null  int64  \n",
      " 44  prog_5                              23559 non-null  int64  \n",
      " 45  prog_6                              23559 non-null  int64  \n",
      " 46  prog_7                              23559 non-null  int64  \n",
      " 47  prog_8                              23559 non-null  int64  \n",
      " 48  prog_9                              23559 non-null  int64  \n",
      " 49  prog_10                             23559 non-null  int64  \n",
      " 50  prog_11                             23559 non-null  int64  \n",
      " 51  prog_12                             23559 non-null  int64  \n",
      " 52  prog_13                             23559 non-null  int64  \n",
      " 53  prog_14                             23559 non-null  int64  \n",
      " 54  prog_15                             23559 non-null  int64  \n",
      " 55  prog_16                             23559 non-null  int64  \n",
      " 56  extreme_heat_2018                   23559 non-null  int64  \n",
      " 57  extreme_heat_2019                   23559 non-null  int64  \n",
      " 58  extreme_heat_2020                   23559 non-null  int64  \n",
      " 59  extreme_heat_ssp245_2025            23559 non-null  float64\n",
      " 60  extreme_heat_ssp245_2035            23559 non-null  float64\n",
      " 61  extreme_heat_ssp245_2045            23559 non-null  float64\n",
      " 62  extreme_heat_ssp585_2025            23559 non-null  float64\n",
      " 63  extreme_heat_ssp585_2035            23559 non-null  float64\n",
      " 64  extreme_heat_ssp585_2045            23559 non-null  float64\n",
      " 65  wildfire_potential_2018             23559 non-null  float64\n",
      " 66  wildfire_potential_2019             23559 non-null  float64\n",
      " 67  wildfire_potential_2019.1           23559 non-null  float64\n",
      " 68  wildfire_potential_ssp245_2025      23559 non-null  float64\n",
      " 69  wildfire_potential_ssp245_2035      23559 non-null  float64\n",
      " 70  wildfire_potential_ssp245_2045      23559 non-null  float64\n",
      " 71  wildfire_potential_ssp585_2025      23559 non-null  float64\n",
      " 72  wildfire_potential_ssp585_2035      23559 non-null  float64\n",
      " 73  wildfire_potential_ssp585_2045      23559 non-null  float64\n",
      "dtypes: float64(18), int32(1), int64(54), object(1)\n",
      "memory usage: 13.4+ MB\n"
     ]
    }
   ],
   "source": [
    "df_P.info()"
   ]
  },
  {
   "cell_type": "code",
   "execution_count": 139,
   "metadata": {},
   "outputs": [],
   "source": [
    "health_factors = ['ADI', 'Age', 'Gender', 'lsbio_cholesterol', 'lsbio_glucose', 'lsbio_bp', 'lsbio_weight', 'lsbio_trig', \n",
    "                  'lshrq_physact', 'lshrq_tobacco', 'lshrq_nutrition', 'lshrq_stress', 'lshrq_genHealth', 'lshrq_wellbeing', 'lshrq_alcohol', 'lshrq_sleeping', \n",
    "                  'cc_RespiratorySinusAllergy_chronic', 'cc_diabetes', 'cc_cancer', 'cc_mskChronic', 'cc_cholesterol', 'cc_cardiac', 'cc_depression', 'cc_obesity', \n",
    "                  'cc_mskAllOther', 'cc_behavioralAllOther', 'cc_ckd', 'concurrent_risk', 'rx_nonClaimant', 'rx_nonCompliant']\n",
    "\n",
    "categorical_variables = ['Gender', 'lsbio_cholesterol', 'lsbio_glucose', 'lsbio_bp', 'lsbio_weight', 'lsbio_trig', \n",
    "                         'lshrq_physact', 'lshrq_tobacco', 'lshrq_nutrition', 'lshrq_stress', 'lshrq_genHealth', 'lshrq_wellbeing', 'lshrq_alcohol', 'lshrq_sleeping', \n",
    "                         'cc_RespiratorySinusAllergy_chronic', 'cc_diabetes', 'cc_cancer', 'cc_mskChronic', 'cc_cholesterol', 'cc_cardiac', 'cc_depression', 'cc_obesity', \n",
    "                         'cc_mskAllOther', 'cc_behavioralAllOther', 'cc_ckd', 'concurrent_risk', 'rx_nonClaimant', 'rx_nonCompliant']"
   ]
  },
  {
   "cell_type": "markdown",
   "metadata": {},
   "source": [
    "# absence_indicator vs health"
   ]
  },
  {
   "cell_type": "markdown",
   "metadata": {},
   "source": [
    "## linear regression"
   ]
  },
  {
   "cell_type": "code",
   "execution_count": 140,
   "metadata": {},
   "outputs": [
    {
     "name": "stdout",
     "output_type": "stream",
     "text": [
      "Train Set : (17669, 1) (17669, 30)\n",
      "Test Set  : (5890, 1) (5890, 30)\n"
     ]
    }
   ],
   "source": [
    "# y variable = absence_indicator\n",
    "# x variables = health_factors\n",
    "from sklearn.model_selection import train_test_split\n",
    "from sklearn.linear_model import LinearRegression\n",
    "from sklearn.metrics import mean_squared_error\n",
    "\n",
    "y = pd.DataFrame(df_P['absence_indicator'])\n",
    "x = pd.DataFrame(df_P[health_factors])\n",
    "\n",
    "x[categorical_variables] = x[categorical_variables].astype('category')\n",
    "\n",
    "x_train, x_test, y_train, y_test = train_test_split(x, y, test_size = 0.25)\n",
    "\n",
    "print(\"Train Set :\", y_train.shape, x_train.shape)\n",
    "print(\"Test Set  :\", y_test.shape, x_test.shape)"
   ]
  },
  {
   "cell_type": "code",
   "execution_count": 141,
   "metadata": {},
   "outputs": [
    {
     "data": {
      "text/plain": [
       "array([ 88,   0, 174, 209, 185, 169, 232,  89, 119,  22,   1, 107,  63,\n",
       "       197, 149, 255, 171, 214,   2,  14,  26,  48, 140, 198, 192, 239,\n",
       "       109,  30, 153, 164,  59, 206, 158, 178, 226,  67,  50, 240, 199,\n",
       "        61,   4,  44, 135, 106, 114,  65,  86,  39, 126, 228,  54, 144,\n",
       "        42, 111, 183,   3, 234,  60,  69,  32, 229, 134,  64,  25,  94,\n",
       "       168, 179, 216,  55,  46,  34, 210, 215,  68,  74, 175, 157, 139,\n",
       "       165,  85,  20,  15, 133,  58, 113, 181, 244, 161, 141, 205, 222,\n",
       "       246, 248, 211,  10, 118,  38, 224,  47, 184,  21, 236, 219, 217,\n",
       "       241,  66,  87, 147,  56,  91, 193, 163, 249,  52,  79, 124,  33,\n",
       "        18, 188, 122,  53,  24,   7,  99, 218, 129, 191,  37, 154, 131,\n",
       "       104, 121,  73, 230,  71, 105, 254, 261, 233, 252, 202, 200,  83,\n",
       "        41, 238, 227, 128, 203,   9,  49,  13,  19, 189, 204, 213, 172,\n",
       "        98, 115,  84, 100,  31,  17, 243, 138, 125, 208,  28, 116, 127,\n",
       "       167, 256,   5, 120,  27,  29, 103, 242, 123,  70, 212,  77,  72,\n",
       "       136, 160, 182, 247,  11, 187,  90, 186,  16,  35, 151,  12,   8,\n",
       "       231,  95,  62, 145, 156,  81, 173, 159, 235,  92, 176, 190, 155,\n",
       "        78, 117, 251,  23,  75, 207,  82, 137, 102, 110,  57, 195, 194,\n",
       "        97, 237, 223, 148, 142,  96, 201,  80, 166,  93, 221, 143, 259,\n",
       "       170, 302, 150,  76,   6, 250,  40, 180, 162, 225, 260,  43, 130,\n",
       "       253, 132, 332, 220, 152, 112, 177, 245,  51, 101,  45, 196, 108,\n",
       "       146, 257,  36], dtype=int64)"
      ]
     },
     "execution_count": 141,
     "metadata": {},
     "output_type": "execute_result"
    }
   ],
   "source": [
    "y.absence_indicator.unique()"
   ]
  },
  {
   "cell_type": "code",
   "execution_count": 142,
   "metadata": {},
   "outputs": [
    {
     "data": {
      "text/plain": [
       "absence_indicator\n",
       "0      21418\n",
       "1        241\n",
       "6         31\n",
       "61        29\n",
       "20        18\n",
       "       ...  \n",
       "332        1\n",
       "112        1\n",
       "302        1\n",
       "259        1\n",
       "257        1\n",
       "Name: count, Length: 263, dtype: int64"
      ]
     },
     "execution_count": 142,
     "metadata": {},
     "output_type": "execute_result"
    }
   ],
   "source": [
    "y.absence_indicator.value_counts()"
   ]
  },
  {
   "cell_type": "code",
   "execution_count": 143,
   "metadata": {},
   "outputs": [
    {
     "name": "stdout",
     "output_type": "stream",
     "text": [
      "Intercept of Regression \t: b =  [11.42459589]\n",
      "Goodness of Fit of Model \tTrain Dataset\n",
      "Explained Variance (R^2) \t: 0.049465121459848715\n",
      "Mean Squared Error (MSE) \t: 1427.2077553187778\n",
      "\n",
      "Goodness of Fit of Model \tTest Dataset\n",
      "Explained Variance (R^2) \t: 0.05547119926191635\n",
      "Mean Squared Error (MSE) \t: 1338.3398485456291\n",
      "\n"
     ]
    }
   ],
   "source": [
    "linreg = LinearRegression()\n",
    "\n",
    "linreg.fit(x_train, y_train)\n",
    "\n",
    "print('Intercept of Regression \\t: b = ', linreg.intercept_)\n",
    "\n",
    "y_train_pred = linreg.predict(x_train)\n",
    "y_test_pred = linreg.predict(x_test)\n",
    "\n",
    "# Check the Goodness of Fit (on Train Data)\n",
    "print(\"Goodness of Fit of Model \\tTrain Dataset\")\n",
    "print(\"Explained Variance (R^2) \\t:\", linreg.score(x_train, y_train))\n",
    "print(\"Mean Squared Error (MSE) \\t:\", mean_squared_error(y_train, y_train_pred))\n",
    "print()\n",
    "\n",
    "# Check the Goodness of Fit (on Test Data)\n",
    "print(\"Goodness of Fit of Model \\tTest Dataset\")\n",
    "print(\"Explained Variance (R^2) \\t:\", linreg.score(x_test, y_test))\n",
    "print(\"Mean Squared Error (MSE) \\t:\", mean_squared_error(y_test, y_test_pred))\n",
    "print()"
   ]
  },
  {
   "cell_type": "code",
   "execution_count": 144,
   "metadata": {},
   "outputs": [
    {
     "name": "stdout",
     "output_type": "stream",
     "text": [
      "                            OLS Regression Results                            \n",
      "==============================================================================\n",
      "Dep. Variable:      absence_indicator   R-squared:                       0.049\n",
      "Model:                            OLS   Adj. R-squared:                  0.048\n",
      "Method:                 Least Squares   F-statistic:                     30.60\n",
      "Date:                Sun, 31 Mar 2024   Prob (F-statistic):          5.43e-169\n",
      "Time:                        17:16:19   Log-Likelihood:                -89240.\n",
      "No. Observations:               17669   AIC:                         1.785e+05\n",
      "Df Residuals:                   17638   BIC:                         1.788e+05\n",
      "Df Model:                          30                                         \n",
      "Covariance Type:            nonrobust                                         \n",
      "======================================================================================================\n",
      "                                         coef    std err          t      P>|t|      [0.025      0.975]\n",
      "------------------------------------------------------------------------------------------------------\n",
      "const                                 11.4246      2.049      5.575      0.000       7.408      15.441\n",
      "ADI                                    0.0182      0.014      1.333      0.182      -0.009       0.045\n",
      "Age                                   -0.2617      0.028     -9.290      0.000      -0.317      -0.207\n",
      "Gender                                -1.1941      0.597     -2.001      0.045      -2.364      -0.024\n",
      "lsbio_cholesterol                      0.1308      0.719      0.182      0.856      -1.279       1.540\n",
      "lsbio_glucose                         -2.7067      1.543     -1.754      0.079      -5.732       0.318\n",
      "lsbio_bp                              -0.1735      0.738     -0.235      0.814      -1.620       1.273\n",
      "lsbio_weight                           0.6688      0.862      0.776      0.438      -1.021       2.358\n",
      "lsbio_trig                            -1.6782      1.126     -1.491      0.136      -3.885       0.528\n",
      "lshrq_physact                         -0.3494      0.769     -0.454      0.649      -1.856       1.157\n",
      "lshrq_tobacco                          1.6947      1.902      0.891      0.373      -2.033       5.423\n",
      "lshrq_nutrition                        0.5698      0.714      0.798      0.425      -0.830       1.970\n",
      "lshrq_stress                          -0.8374      0.754     -1.111      0.266      -2.315       0.640\n",
      "lshrq_genHealth                        2.1889      1.406      1.556      0.120      -0.568       4.946\n",
      "lshrq_wellbeing                        1.8608      0.905      2.056      0.040       0.087       3.635\n",
      "lshrq_alcohol                         -4.2556      2.376     -1.791      0.073      -8.913       0.402\n",
      "lshrq_sleeping                         2.2293      0.774      2.881      0.004       0.713       3.746\n",
      "cc_RespiratorySinusAllergy_chronic    -3.1415      0.997     -3.152      0.002      -5.095      -1.188\n",
      "cc_diabetes                            0.8307      1.411      0.589      0.556      -1.935       3.597\n",
      "cc_cancer                              3.6431      1.719      2.120      0.034       0.274       7.012\n",
      "cc_mskChronic                          3.9911      0.801      4.981      0.000       2.420       5.562\n",
      "cc_cholesterol                        -0.0691      1.129     -0.061      0.951      -2.283       2.145\n",
      "cc_cardiac                             4.0744      1.241      3.283      0.001       1.642       6.507\n",
      "cc_depression                          0.9305      1.329      0.700      0.484      -1.675       3.536\n",
      "cc_obesity                             0.0604      0.757      0.080      0.936      -1.424       1.544\n",
      "cc_mskAllOther                         0.7357      0.952      0.773      0.439      -1.129       2.601\n",
      "cc_behavioralAllOther                  1.8326      0.969      1.890      0.059      -0.068       3.733\n",
      "cc_ckd                               -12.1392      4.293     -2.828      0.005     -20.553      -3.725\n",
      "concurrent_risk                        5.1373      0.230     22.295      0.000       4.686       5.589\n",
      "rx_nonClaimant                         1.9360      1.376      1.407      0.160      -0.762       4.634\n",
      "rx_nonCompliant                        2.7686      1.268      2.183      0.029       0.282       5.255\n",
      "==============================================================================\n",
      "Omnibus:                    15272.553   Durbin-Watson:                   2.017\n",
      "Prob(Omnibus):                  0.000   Jarque-Bera (JB):           334661.732\n",
      "Skew:                           4.315   Prob(JB):                         0.00\n",
      "Kurtosis:                      22.496   Cond. No.                     1.00e+03\n",
      "==============================================================================\n",
      "\n",
      "Notes:\n",
      "[1] Standard Errors assume that the covariance matrix of the errors is correctly specified.\n",
      "[2] The condition number is large,  1e+03. This might indicate that there are\n",
      "strong multicollinearity or other numerical problems.\n"
     ]
    }
   ],
   "source": [
    "import statsmodels.api as sm\n",
    "\n",
    "x_train_with_constant = sm.add_constant(x_train)\n",
    "model = sm.OLS(y_train, x_train_with_constant)\n",
    "result = model.fit()\n",
    "\n",
    "print(result.summary())"
   ]
  },
  {
   "cell_type": "code",
   "execution_count": 145,
   "metadata": {},
   "outputs": [
    {
     "name": "stdout",
     "output_type": "stream",
     "text": [
      "{'p-value': ['const', 'Age', 'Gender', 'lsbio_glucose', 'lshrq_wellbeing', 'lshrq_alcohol', 'lshrq_sleeping', 'cc_RespiratorySinusAllergy_chronic', 'cc_cancer', 'cc_mskChronic', 'cc_cardiac', 'cc_behavioralAllOther', 'cc_ckd', 'concurrent_risk', 'rx_nonCompliant']}\n"
     ]
    }
   ],
   "source": [
    "significant_variable_P = {}\n",
    "\n",
    "p_value_dataframe = pd.DataFrame(result.pvalues)\n",
    "p_value_dataframe = p_value_dataframe.rename(columns={0: 'p-value'})\n",
    "p_value_dataframe = p_value_dataframe.round(2)\n",
    "\n",
    "significant_variable_P['p-value'] = p_value_dataframe[(p_value_dataframe['p-value'] < 0.1)].index.tolist()\n",
    "\n",
    "\n",
    "print(significant_variable_P)"
   ]
  },
  {
   "cell_type": "code",
   "execution_count": 146,
   "metadata": {},
   "outputs": [
    {
     "data": {
      "image/png": "[encoded data removed]",
      "text/plain": [
       "<Figure size 640x480 with 1 Axes>"
      ]
     },
     "metadata": {},
     "output_type": "display_data"
    }
   ],
   "source": [
    "from statsmodels.graphics.gofplots import qqplot\n",
    "\n",
    "# Obtain residuals\n",
    "residuals = result.resid\n",
    "\n",
    "# Create Q-Q plot of residuals\n",
    "qqplot(residuals, line='s')\n",
    "plt.title('Normal Q-Q Plot of Residuals')\n",
    "plt.xlabel('Theoretical Quantile')\n",
    "plt.ylabel('Standardized Residuals')\n",
    "plt.show()"
   ]
  },
  {
   "cell_type": "markdown",
   "metadata": {},
   "source": [
    "### transformation"
   ]
  },
  {
   "cell_type": "markdown",
   "metadata": {},
   "source": [
    "#### square root"
   ]
  },
  {
   "cell_type": "code",
   "execution_count": 147,
   "metadata": {},
   "outputs": [
    {
     "name": "stdout",
     "output_type": "stream",
     "text": [
      "Train Set : (17669, 1) (17669, 30)\n",
      "Test Set  : (5890, 1) (5890, 30)\n"
     ]
    }
   ],
   "source": [
    "y = pd.DataFrame(df_P['absence_indicator'])\n",
    "y['absence_indicator'] = np.sqrt(y['absence_indicator'])\n",
    "\n",
    "x_train, x_test, y_train, y_test = train_test_split(x, y, test_size = 0.25)\n",
    "\n",
    "print(\"Train Set :\", y_train.shape, x_train.shape)\n",
    "print(\"Test Set  :\", y_test.shape, x_test.shape)"
   ]
  },
  {
   "cell_type": "code",
   "execution_count": 148,
   "metadata": {},
   "outputs": [
    {
     "name": "stdout",
     "output_type": "stream",
     "text": [
      "Intercept of Regression \t: b =  [0.9962137]\n",
      "Goodness of Fit of Model \tTrain Dataset\n",
      "Explained Variance (R^2) \t: 0.06387983992490076\n",
      "Mean Squared Error (MSE) \t: 8.332850864749968\n",
      "\n",
      "Goodness of Fit of Model \tTest Dataset\n",
      "Explained Variance (R^2) \t: 0.06537246505212435\n",
      "Mean Squared Error (MSE) \t: 7.498810262363961\n",
      "\n"
     ]
    }
   ],
   "source": [
    "linreg = LinearRegression()\n",
    "\n",
    "linreg.fit(x_train, y_train)\n",
    "\n",
    "print('Intercept of Regression \\t: b = ', linreg.intercept_)\n",
    "\n",
    "y_train_pred = linreg.predict(x_train)\n",
    "y_test_pred = linreg.predict(x_test)\n",
    "\n",
    "# Check the Goodness of Fit (on Train Data)\n",
    "print(\"Goodness of Fit of Model \\tTrain Dataset\")\n",
    "print(\"Explained Variance (R^2) \\t:\", linreg.score(x_train, y_train))\n",
    "print(\"Mean Squared Error (MSE) \\t:\", mean_squared_error(y_train, y_train_pred))\n",
    "print()\n",
    "\n",
    "# Check the Goodness of Fit (on Test Data)\n",
    "print(\"Goodness of Fit of Model \\tTest Dataset\")\n",
    "print(\"Explained Variance (R^2) \\t:\", linreg.score(x_test, y_test))\n",
    "print(\"Mean Squared Error (MSE) \\t:\", mean_squared_error(y_test, y_test_pred))\n",
    "print()"
   ]
  },
  {
   "cell_type": "code",
   "execution_count": 149,
   "metadata": {},
   "outputs": [
    {
     "name": "stdout",
     "output_type": "stream",
     "text": [
      "                            OLS Regression Results                            \n",
      "==============================================================================\n",
      "Dep. Variable:      absence_indicator   R-squared:                       0.064\n",
      "Model:                            OLS   Adj. R-squared:                  0.062\n",
      "Method:                 Least Squares   F-statistic:                     40.12\n",
      "Date:                Sun, 31 Mar 2024   Prob (F-statistic):          5.75e-226\n",
      "Time:                        17:16:19   Log-Likelihood:                -43802.\n",
      "No. Observations:               17669   AIC:                         8.767e+04\n",
      "Df Residuals:                   17638   BIC:                         8.791e+04\n",
      "Df Model:                          30                                         \n",
      "Covariance Type:            nonrobust                                         \n",
      "======================================================================================================\n",
      "                                         coef    std err          t      P>|t|      [0.025      0.975]\n",
      "------------------------------------------------------------------------------------------------------\n",
      "const                                  0.9962      0.156      6.403      0.000       0.691       1.301\n",
      "ADI                                    0.0017      0.001      1.583      0.113      -0.000       0.004\n",
      "Age                                   -0.0241      0.002    -11.192      0.000      -0.028      -0.020\n",
      "Gender                                -0.0753      0.046     -1.650      0.099      -0.165       0.014\n",
      "lsbio_cholesterol                      0.0040      0.055      0.072      0.943      -0.104       0.112\n",
      "lsbio_glucose                         -0.2493      0.115     -2.159      0.031      -0.476      -0.023\n",
      "lsbio_bp                              -0.0091      0.057     -0.160      0.873      -0.120       0.102\n",
      "lsbio_weight                          -0.0045      0.066     -0.069      0.945      -0.133       0.124\n",
      "lsbio_trig                            -0.0430      0.086     -0.501      0.616      -0.211       0.125\n",
      "lshrq_physact                         -0.0455      0.059     -0.772      0.440      -0.161       0.070\n",
      "lshrq_tobacco                          0.0319      0.146      0.218      0.827      -0.254       0.318\n",
      "lshrq_nutrition                        0.0026      0.055      0.047      0.962      -0.104       0.109\n",
      "lshrq_stress                          -0.0592      0.058     -1.029      0.304      -0.172       0.054\n",
      "lshrq_genHealth                        0.1246      0.108      1.153      0.249      -0.087       0.336\n",
      "lshrq_wellbeing                        0.1175      0.069      1.699      0.089      -0.018       0.253\n",
      "lshrq_alcohol                         -0.2630      0.182     -1.444      0.149      -0.620       0.094\n",
      "lshrq_sleeping                         0.1488      0.059      2.519      0.012       0.033       0.265\n",
      "cc_RespiratorySinusAllergy_chronic    -0.2225      0.077     -2.905      0.004      -0.373      -0.072\n",
      "cc_diabetes                           -0.0898      0.108     -0.833      0.405      -0.301       0.121\n",
      "cc_cancer                              0.2694      0.133      2.025      0.043       0.009       0.530\n",
      "cc_mskChronic                          0.4768      0.061      7.801      0.000       0.357       0.597\n",
      "cc_cholesterol                         0.0427      0.086      0.495      0.620      -0.126       0.212\n",
      "cc_cardiac                             0.4950      0.094      5.240      0.000       0.310       0.680\n",
      "cc_depression                          0.0795      0.103      0.772      0.440      -0.122       0.282\n",
      "cc_obesity                             0.0646      0.058      1.118      0.263      -0.049       0.178\n",
      "cc_mskAllOther                         0.0990      0.073      1.358      0.175      -0.044       0.242\n",
      "cc_behavioralAllOther                  0.1298      0.073      1.766      0.077      -0.014       0.274\n",
      "cc_ckd                                -0.5917      0.338     -1.750      0.080      -1.254       0.071\n",
      "concurrent_risk                        0.4485      0.018     25.143      0.000       0.414       0.483\n",
      "rx_nonClaimant                         0.2408      0.104      2.310      0.021       0.036       0.445\n",
      "rx_nonCompliant                        0.2531      0.097      2.601      0.009       0.062       0.444\n",
      "==============================================================================\n",
      "Omnibus:                    12612.995   Durbin-Watson:                   1.996\n",
      "Prob(Omnibus):                  0.000   Jarque-Bera (JB):           147790.395\n",
      "Skew:                           3.491   Prob(JB):                         0.00\n",
      "Kurtosis:                      15.329   Cond. No.                     1.03e+03\n",
      "==============================================================================\n",
      "\n",
      "Notes:\n",
      "[1] Standard Errors assume that the covariance matrix of the errors is correctly specified.\n",
      "[2] The condition number is large, 1.03e+03. This might indicate that there are\n",
      "strong multicollinearity or other numerical problems.\n"
     ]
    }
   ],
   "source": [
    "import statsmodels.api as sm\n",
    "\n",
    "x_train_with_constant = sm.add_constant(x_train)\n",
    "model = sm.OLS(y_train, x_train_with_constant)\n",
    "result = model.fit()\n",
    "\n",
    "print(result.summary())"
   ]
  },
  {
   "cell_type": "code",
   "execution_count": 150,
   "metadata": {},
   "outputs": [
    {
     "name": "stdout",
     "output_type": "stream",
     "text": [
      "{'p-value': ['const', 'Age', 'lsbio_glucose', 'lshrq_wellbeing', 'lshrq_sleeping', 'cc_RespiratorySinusAllergy_chronic', 'cc_cancer', 'cc_mskChronic', 'cc_cardiac', 'cc_behavioralAllOther', 'cc_ckd', 'concurrent_risk', 'rx_nonClaimant', 'rx_nonCompliant']}\n"
     ]
    }
   ],
   "source": [
    "significant_variable_P = {}\n",
    "\n",
    "p_value_dataframe = pd.DataFrame(result.pvalues)\n",
    "p_value_dataframe = p_value_dataframe.rename(columns={0: 'p-value'})\n",
    "p_value_dataframe = p_value_dataframe.round(2)\n",
    "\n",
    "significant_variable_P['p-value'] = p_value_dataframe[(p_value_dataframe['p-value'] < 0.1)].index.tolist()\n",
    "\n",
    "\n",
    "print(significant_variable_P)"
   ]
  },
  {
   "cell_type": "code",
   "execution_count": 151,
   "metadata": {},
   "outputs": [
    {
     "data": {
      "image/png": "[encoded data removed]",
      "text/plain": [
       "<Figure size 640x480 with 1 Axes>"
      ]
     },
     "metadata": {},
     "output_type": "display_data"
    }
   ],
   "source": [
    "from statsmodels.graphics.gofplots import qqplot\n",
    "\n",
    "# Obtain residuals\n",
    "residuals = result.resid\n",
    "\n",
    "# Create Q-Q plot of residuals\n",
    "qqplot(residuals, line='s')\n",
    "plt.title('Normal Q-Q Plot of Residuals')\n",
    "plt.xlabel('Theoretical Quantile')\n",
    "plt.ylabel('Standardized Residuals')\n",
    "plt.show()"
   ]
  },
  {
   "cell_type": "markdown",
   "metadata": {},
   "source": [
    "#### logarithmic"
   ]
  },
  {
   "cell_type": "code",
   "execution_count": 152,
   "metadata": {},
   "outputs": [
    {
     "name": "stdout",
     "output_type": "stream",
     "text": [
      "Train Set : (17669, 1) (17669, 30)\n",
      "Test Set  : (5890, 1) (5890, 30)\n"
     ]
    },
    {
     "name": "stderr",
     "output_type": "stream",
     "text": [
      "C:\\Users\\Willis\\AppData\\Local\\Temp\\ipykernel_12396\\4257889001.py:2: FutureWarning: Setting an item of incompatible dtype is deprecated and will raise in a future error of pandas. Value '[4.47733681 5.1590553  5.34233425 ... 1.79175947 4.70048037 4.11087386]' has dtype incompatible with int64, please explicitly cast to a compatible dtype first.\n",
      "  y.loc[y['absence_indicator'] != 0, 'absence_indicator'] = np.log(y.loc[y['absence_indicator'] != 0, 'absence_indicator'])\n"
     ]
    }
   ],
   "source": [
    "y = pd.DataFrame(df_P['absence_indicator'])\n",
    "y.loc[y['absence_indicator'] != 0, 'absence_indicator'] = np.log(y.loc[y['absence_indicator'] != 0, 'absence_indicator'])\n",
    "\n",
    "x_train, x_test, y_train, y_test = train_test_split(x, y, test_size = 0.25)\n",
    "\n",
    "print(\"Train Set :\", y_train.shape, x_train.shape)\n",
    "print(\"Test Set  :\", y_test.shape, x_test.shape)"
   ]
  },
  {
   "cell_type": "code",
   "execution_count": 153,
   "metadata": {},
   "outputs": [
    {
     "name": "stdout",
     "output_type": "stream",
     "text": [
      "Intercept of Regression \t: b =  [0.39580904]\n",
      "Goodness of Fit of Model \tTrain Dataset\n",
      "Explained Variance (R^2) \t: 0.07008861267276689\n",
      "Mean Squared Error (MSE) \t: 1.405689825469055\n",
      "\n",
      "Goodness of Fit of Model \tTest Dataset\n",
      "Explained Variance (R^2) \t: 0.07734292460838954\n",
      "Mean Squared Error (MSE) \t: 1.3626393076907213\n",
      "\n"
     ]
    }
   ],
   "source": [
    "linreg = LinearRegression()\n",
    "\n",
    "linreg.fit(x_train, y_train)\n",
    "\n",
    "print('Intercept of Regression \\t: b = ', linreg.intercept_)\n",
    "\n",
    "y_train_pred = linreg.predict(x_train)\n",
    "y_test_pred = linreg.predict(x_test)\n",
    "\n",
    "# Check the Goodness of Fit (on Train Data)\n",
    "print(\"Goodness of Fit of Model \\tTrain Dataset\")\n",
    "print(\"Explained Variance (R^2) \\t:\", linreg.score(x_train, y_train))\n",
    "print(\"Mean Squared Error (MSE) \\t:\", mean_squared_error(y_train, y_train_pred))\n",
    "print()\n",
    "\n",
    "# Check the Goodness of Fit (on Test Data)\n",
    "print(\"Goodness of Fit of Model \\tTest Dataset\")\n",
    "print(\"Explained Variance (R^2) \\t:\", linreg.score(x_test, y_test))\n",
    "print(\"Mean Squared Error (MSE) \\t:\", mean_squared_error(y_test, y_test_pred))\n",
    "print()"
   ]
  },
  {
   "cell_type": "code",
   "execution_count": 154,
   "metadata": {},
   "outputs": [
    {
     "name": "stdout",
     "output_type": "stream",
     "text": [
      "                            OLS Regression Results                            \n",
      "==============================================================================\n",
      "Dep. Variable:      absence_indicator   R-squared:                       0.070\n",
      "Model:                            OLS   Adj. R-squared:                  0.069\n",
      "Method:                 Least Squares   F-statistic:                     44.31\n",
      "Date:                Sun, 31 Mar 2024   Prob (F-statistic):          6.84e-251\n",
      "Time:                        17:16:19   Log-Likelihood:                -28080.\n",
      "No. Observations:               17669   AIC:                         5.622e+04\n",
      "Df Residuals:                   17638   BIC:                         5.646e+04\n",
      "Df Model:                          30                                         \n",
      "Covariance Type:            nonrobust                                         \n",
      "======================================================================================================\n",
      "                                         coef    std err          t      P>|t|      [0.025      0.975]\n",
      "------------------------------------------------------------------------------------------------------\n",
      "const                                  0.3958      0.064      6.199      0.000       0.271       0.521\n",
      "ADI                                    0.0008      0.000      1.805      0.071   -6.65e-05       0.002\n",
      "Age                                   -0.0105      0.001    -11.954      0.000      -0.012      -0.009\n",
      "Gender                                -0.0346      0.019     -1.848      0.065      -0.071       0.002\n",
      "lsbio_cholesterol                      0.0028      0.023      0.122      0.903      -0.042       0.047\n",
      "lsbio_glucose                         -0.0609      0.048     -1.271      0.204      -0.155       0.033\n",
      "lsbio_bp                              -0.0406      0.023     -1.740      0.082      -0.086       0.005\n",
      "lsbio_weight                           0.0215      0.027      0.794      0.427      -0.031       0.074\n",
      "lsbio_trig                            -0.0500      0.035     -1.409      0.159      -0.119       0.020\n",
      "lshrq_physact                         -0.0132      0.024     -0.543      0.587      -0.061       0.035\n",
      "lshrq_tobacco                          0.0271      0.059      0.463      0.643      -0.088       0.142\n",
      "lshrq_nutrition                       -0.0273      0.022     -1.215      0.224      -0.071       0.017\n",
      "lshrq_stress                          -0.0123      0.024     -0.517      0.605      -0.059       0.034\n",
      "lshrq_genHealth                        0.0388      0.045      0.867      0.386      -0.049       0.127\n",
      "lshrq_wellbeing                        0.0458      0.029      1.606      0.108      -0.010       0.102\n",
      "lshrq_alcohol                         -0.0379      0.074     -0.515      0.606      -0.182       0.106\n",
      "lshrq_sleeping                         0.0452      0.024      1.848      0.065      -0.003       0.093\n",
      "cc_RespiratorySinusAllergy_chronic    -0.1025      0.031     -3.298      0.001      -0.163      -0.042\n",
      "cc_diabetes                            0.0315      0.044      0.718      0.473      -0.054       0.117\n",
      "cc_cancer                              0.0833      0.054      1.537      0.124      -0.023       0.189\n",
      "cc_mskChronic                          0.2108      0.025      8.400      0.000       0.162       0.260\n",
      "cc_cholesterol                         0.0629      0.035      1.777      0.076      -0.006       0.132\n",
      "cc_cardiac                             0.2016      0.039      5.235      0.000       0.126       0.277\n",
      "cc_depression                          0.0662      0.042      1.581      0.114      -0.016       0.148\n",
      "cc_obesity                             0.0153      0.024      0.648      0.517      -0.031       0.062\n",
      "cc_mskAllOther                         0.0272      0.030      0.906      0.365      -0.032       0.086\n",
      "cc_behavioralAllOther                  0.0487      0.030      1.606      0.108      -0.011       0.108\n",
      "cc_ckd                                -0.3933      0.141     -2.797      0.005      -0.669      -0.118\n",
      "concurrent_risk                        0.1977      0.007     27.131      0.000       0.183       0.212\n",
      "rx_nonClaimant                         0.1651      0.043      3.868      0.000       0.081       0.249\n",
      "rx_nonCompliant                        0.0732      0.040      1.852      0.064      -0.004       0.151\n",
      "==============================================================================\n",
      "Omnibus:                    11020.712   Durbin-Watson:                   1.992\n",
      "Prob(Omnibus):                  0.000   Jarque-Bera (JB):            87013.710\n",
      "Skew:                           3.066   Prob(JB):                         0.00\n",
      "Kurtosis:                      11.977   Cond. No.                     1.05e+03\n",
      "==============================================================================\n",
      "\n",
      "Notes:\n",
      "[1] Standard Errors assume that the covariance matrix of the errors is correctly specified.\n",
      "[2] The condition number is large, 1.05e+03. This might indicate that there are\n",
      "strong multicollinearity or other numerical problems.\n"
     ]
    }
   ],
   "source": [
    "import statsmodels.api as sm\n",
    "\n",
    "x_train_with_constant = sm.add_constant(x_train)\n",
    "model = sm.OLS(y_train, x_train_with_constant)\n",
    "result = model.fit()\n",
    "\n",
    "print(result.summary())"
   ]
  },
  {
   "cell_type": "code",
   "execution_count": 155,
   "metadata": {},
   "outputs": [
    {
     "name": "stdout",
     "output_type": "stream",
     "text": [
      "{'significant_variable': ['const', 'ADI', 'Age', 'Gender', 'lsbio_bp', 'lshrq_sleeping', 'cc_RespiratorySinusAllergy_chronic', 'cc_mskChronic', 'cc_cholesterol', 'cc_cardiac', 'cc_ckd', 'concurrent_risk', 'rx_nonClaimant', 'rx_nonCompliant']}\n"
     ]
    }
   ],
   "source": [
    "significant_variable_lr = {}\n",
    "\n",
    "p_value_dataframe = pd.DataFrame(result.pvalues)\n",
    "p_value_dataframe = p_value_dataframe.rename(columns={0: 'p-value'})\n",
    "p_value_dataframe = p_value_dataframe.round(2)\n",
    "\n",
    "significant_variable_lr['significant_variable'] = p_value_dataframe[(p_value_dataframe['p-value'] < 0.1)].index.tolist()\n",
    "\n",
    "\n",
    "print(significant_variable_lr)"
   ]
  },
  {
   "cell_type": "code",
   "execution_count": 156,
   "metadata": {},
   "outputs": [
    {
     "data": {
      "image/png": "[encoded data removed]",
      "text/plain": [
       "<Figure size 640x480 with 1 Axes>"
      ]
     },
     "metadata": {},
     "output_type": "display_data"
    }
   ],
   "source": [
    "from statsmodels.graphics.gofplots import qqplot\n",
    "\n",
    "# Obtain residuals\n",
    "residuals = result.resid\n",
    "\n",
    "# Create Q-Q plot of residuals\n",
    "qqplot(residuals, line='s')\n",
    "plt.title('Normal Q-Q Plot of Residuals')\n",
    "plt.xlabel('Theoretical Quantile')\n",
    "plt.ylabel('Standardized Residuals')\n",
    "plt.show()"
   ]
  },
  {
   "cell_type": "markdown",
   "metadata": {},
   "source": [
    "## Decision Tree Regressor"
   ]
  },
  {
   "cell_type": "code",
   "execution_count": 157,
   "metadata": {},
   "outputs": [
    {
     "name": "stdout",
     "output_type": "stream",
     "text": [
      "Train Set : (17669, 1) (17669, 30)\n",
      "Test Set  : (5890, 1) (5890, 30)\n"
     ]
    }
   ],
   "source": [
    "# y variable = absence_indicator\n",
    "# x variables = health_factors\n",
    "from sklearn.model_selection import train_test_split\n",
    "from sklearn.tree import DecisionTreeRegressor\n",
    "from sklearn.metrics import mean_squared_error\n",
    "\n",
    "y = pd.DataFrame(df_P['absence_indicator'])\n",
    "x = pd.DataFrame(df_P[health_factors])\n",
    "\n",
    "x[categorical_variables] = x[categorical_variables].astype('category')\n",
    "\n",
    "x_train, x_test, y_train, y_test = train_test_split(x, y, test_size = 0.25)\n",
    "\n",
    "print(\"Train Set :\", y_train.shape, x_train.shape)\n",
    "print(\"Test Set  :\", y_test.shape, x_test.shape)"
   ]
  },
  {
   "cell_type": "code",
   "execution_count": 158,
   "metadata": {},
   "outputs": [
    {
     "name": "stdout",
     "output_type": "stream",
     "text": [
      "Mean Squared Error (Train Dataset): 1423.3034897438486\n",
      "Mean Squared Error (Test Dataset): 1356.0657345113436\n"
     ]
    }
   ],
   "source": [
    "decisiontreemodel = DecisionTreeRegressor(max_depth=3)\n",
    "result = decisiontreemodel.fit(x_train, y_train)\n",
    "\n",
    "y_train_pred = decisiontreemodel.predict(x_train)\n",
    "train_mse = mean_squared_error(y_train_pred, y_train)\n",
    "y_test_pred = decisiontreemodel.predict(x_test)\n",
    "test_mse = mean_squared_error(y_test_pred, y_test)\n",
    "\n",
    "print(\"Mean Squared Error (Train Dataset):\", train_mse)\n",
    "print(\"Mean Squared Error (Test Dataset):\", test_mse)"
   ]
  },
  {
   "cell_type": "code",
   "execution_count": 159,
   "metadata": {},
   "outputs": [
    {
     "name": "stdout",
     "output_type": "stream",
     "text": [
      "Best max_depth: 4\n"
     ]
    }
   ],
   "source": [
    "from sklearn.model_selection import GridSearchCV\n",
    "\n",
    "param_grid = {'max_depth': range(1, 11)}\n",
    "\n",
    "decisiontreemodel = DecisionTreeRegressor()\n",
    "\n",
    "grid_search = GridSearchCV(estimator=decisiontreemodel, param_grid=param_grid, cv=5)\n",
    "\n",
    "grid_search.fit(x_train, y_train)\n",
    "best_max_depth = grid_search.best_params_['max_depth']\n",
    "\n",
    "print(\"Best max_depth:\", best_max_depth)"
   ]
  },
  {
   "cell_type": "code",
   "execution_count": 160,
   "metadata": {},
   "outputs": [
    {
     "name": "stdout",
     "output_type": "stream",
     "text": [
      "Mean Squared Error (Train Dataset): 1408.0920386269001\n",
      "Mean Squared Error (Test Dataset): 1365.056228164429\n"
     ]
    }
   ],
   "source": [
    "decisiontreemodel = DecisionTreeRegressor(max_depth=best_max_depth)\n",
    "result = decisiontreemodel.fit(x_train, y_train)\n",
    "\n",
    "y_train_pred = decisiontreemodel.predict(x_train)\n",
    "train_mse = mean_squared_error(y_train_pred, y_train)\n",
    "y_test_pred = decisiontreemodel.predict(x_test)\n",
    "test_mse = mean_squared_error(y_test_pred, y_test)\n",
    "\n",
    "print(\"Mean Squared Error (Train Dataset):\", train_mse)\n",
    "print(\"Mean Squared Error (Test Dataset):\", test_mse)"
   ]
  },
  {
   "cell_type": "code",
   "execution_count": 161,
   "metadata": {},
   "outputs": [
    {
     "name": "stdout",
     "output_type": "stream",
     "text": [
      "{'significant_variables': ['Age', 'lshrq_wellbeing', 'lshrq_sleeping', 'cc_cancer', 'cc_mskChronic', 'concurrent_risk']}\n"
     ]
    }
   ],
   "source": [
    "significant_variable = {}\n",
    "significant_variable['significant_variables'] = []\n",
    "fr = decisiontreemodel.feature_importances_ \n",
    "importance_dict = dict(zip(x_train.columns, fr))\n",
    "for key in importance_dict:\n",
    "    if importance_dict[key] > 0:\n",
    "        significant_variable['significant_variables'].append(key)\n",
    "        \n",
    "print(significant_variable)"
   ]
  },
  {
   "cell_type": "markdown",
   "metadata": {},
   "source": [
    "### transformation"
   ]
  },
  {
   "cell_type": "markdown",
   "metadata": {},
   "source": [
    "#### sqrt"
   ]
  },
  {
   "cell_type": "code",
   "execution_count": 162,
   "metadata": {},
   "outputs": [
    {
     "name": "stdout",
     "output_type": "stream",
     "text": [
      "Train Set : (17669, 1) (17669, 30)\n",
      "Test Set  : (5890, 1) (5890, 30)\n"
     ]
    }
   ],
   "source": [
    "y = pd.DataFrame(df_P['absence_indicator'])\n",
    "y['absence_indicator'] = np.sqrt(y['absence_indicator'])\n",
    "\n",
    "x_train, x_test, y_train, y_test = train_test_split(x, y, test_size = 0.25)\n",
    "\n",
    "print(\"Train Set :\", y_train.shape, x_train.shape)\n",
    "print(\"Test Set  :\", y_test.shape, x_test.shape)"
   ]
  },
  {
   "cell_type": "code",
   "execution_count": 163,
   "metadata": {},
   "outputs": [
    {
     "name": "stdout",
     "output_type": "stream",
     "text": [
      "Mean Squared Error (Train Dataset): 8.271072836778462\n",
      "Mean Squared Error (Test Dataset): 7.6119237724251345\n"
     ]
    }
   ],
   "source": [
    "decisiontreemodel = DecisionTreeRegressor(max_depth=3)\n",
    "result = decisiontreemodel.fit(x_train, y_train)\n",
    "\n",
    "y_train_pred = decisiontreemodel.predict(x_train)\n",
    "train_mse = mean_squared_error(y_train_pred, y_train)\n",
    "y_test_pred = decisiontreemodel.predict(x_test)\n",
    "test_mse = mean_squared_error(y_test_pred, y_test)\n",
    "\n",
    "print(\"Mean Squared Error (Train Dataset):\", train_mse)\n",
    "print(\"Mean Squared Error (Test Dataset):\", test_mse)"
   ]
  },
  {
   "cell_type": "code",
   "execution_count": 164,
   "metadata": {},
   "outputs": [
    {
     "name": "stdout",
     "output_type": "stream",
     "text": [
      "Best max_depth: 3\n"
     ]
    }
   ],
   "source": [
    "from sklearn.model_selection import GridSearchCV\n",
    "\n",
    "param_grid = {'max_depth': range(1, 11)}\n",
    "\n",
    "decisiontreemodel = DecisionTreeRegressor()\n",
    "\n",
    "grid_search = GridSearchCV(estimator=decisiontreemodel, param_grid=param_grid, cv=5)\n",
    "\n",
    "grid_search.fit(x_train, y_train)\n",
    "best_max_depth = grid_search.best_params_['max_depth']\n",
    "\n",
    "print(\"Best max_depth:\", best_max_depth)"
   ]
  },
  {
   "cell_type": "code",
   "execution_count": 165,
   "metadata": {},
   "outputs": [
    {
     "name": "stdout",
     "output_type": "stream",
     "text": [
      "Mean Squared Error (Train Dataset): 8.271072836778462\n",
      "Mean Squared Error (Test Dataset): 7.6119237724251345\n"
     ]
    }
   ],
   "source": [
    "decisiontreemodel = DecisionTreeRegressor(max_depth=best_max_depth)\n",
    "result = decisiontreemodel.fit(x_train, y_train)\n",
    "\n",
    "y_train_pred = decisiontreemodel.predict(x_train)\n",
    "train_mse = mean_squared_error(y_train_pred, y_train)\n",
    "y_test_pred = decisiontreemodel.predict(x_test)\n",
    "test_mse = mean_squared_error(y_test_pred, y_test)\n",
    "\n",
    "print(\"Mean Squared Error (Train Dataset):\", train_mse)\n",
    "print(\"Mean Squared Error (Test Dataset):\", test_mse)"
   ]
  },
  {
   "cell_type": "code",
   "execution_count": 166,
   "metadata": {},
   "outputs": [
    {
     "name": "stdout",
     "output_type": "stream",
     "text": [
      "{'significant_variables': ['Age', 'Gender', 'cc_mskChronic', 'concurrent_risk']}\n"
     ]
    }
   ],
   "source": [
    "significant_variable = {}\n",
    "significant_variable['significant_variables'] = []\n",
    "fr = decisiontreemodel.feature_importances_ \n",
    "importance_dict = dict(zip(x_train.columns, fr))\n",
    "for key in importance_dict:\n",
    "    if importance_dict[key] > 0:\n",
    "        significant_variable['significant_variables'].append(key)\n",
    "        \n",
    "print(significant_variable)"
   ]
  },
  {
   "cell_type": "markdown",
   "metadata": {},
   "source": [
    "#### logarithmic"
   ]
  },
  {
   "cell_type": "code",
   "execution_count": 167,
   "metadata": {},
   "outputs": [
    {
     "name": "stdout",
     "output_type": "stream",
     "text": [
      "Train Set : (17669, 1) (17669, 30)\n",
      "Test Set  : (5890, 1) (5890, 30)\n"
     ]
    },
    {
     "name": "stderr",
     "output_type": "stream",
     "text": [
      "C:\\Users\\Willis\\AppData\\Local\\Temp\\ipykernel_12396\\4257889001.py:2: FutureWarning: Setting an item of incompatible dtype is deprecated and will raise in a future error of pandas. Value '[4.47733681 5.1590553  5.34233425 ... 1.79175947 4.70048037 4.11087386]' has dtype incompatible with int64, please explicitly cast to a compatible dtype first.\n",
      "  y.loc[y['absence_indicator'] != 0, 'absence_indicator'] = np.log(y.loc[y['absence_indicator'] != 0, 'absence_indicator'])\n"
     ]
    }
   ],
   "source": [
    "y = pd.DataFrame(df_P['absence_indicator'])\n",
    "y.loc[y['absence_indicator'] != 0, 'absence_indicator'] = np.log(y.loc[y['absence_indicator'] != 0, 'absence_indicator'])\n",
    "\n",
    "x_train, x_test, y_train, y_test = train_test_split(x, y, test_size = 0.25)\n",
    "\n",
    "print(\"Train Set :\", y_train.shape, x_train.shape)\n",
    "print(\"Test Set  :\", y_test.shape, x_test.shape)"
   ]
  },
  {
   "cell_type": "code",
   "execution_count": 168,
   "metadata": {},
   "outputs": [
    {
     "name": "stdout",
     "output_type": "stream",
     "text": [
      "Mean Squared Error (Train Dataset): 1.420480372279269\n",
      "Mean Squared Error (Test Dataset): 1.309235671019103\n"
     ]
    }
   ],
   "source": [
    "decisiontreemodel = DecisionTreeRegressor(max_depth=3)\n",
    "result = decisiontreemodel.fit(x_train, y_train)\n",
    "\n",
    "y_train_pred = decisiontreemodel.predict(x_train)\n",
    "train_mse = mean_squared_error(y_train_pred, y_train)\n",
    "y_test_pred = decisiontreemodel.predict(x_test)\n",
    "test_mse = mean_squared_error(y_test_pred, y_test)\n",
    "\n",
    "print(\"Mean Squared Error (Train Dataset):\", train_mse)\n",
    "print(\"Mean Squared Error (Test Dataset):\", test_mse)"
   ]
  },
  {
   "cell_type": "code",
   "execution_count": 169,
   "metadata": {},
   "outputs": [
    {
     "name": "stdout",
     "output_type": "stream",
     "text": [
      "Best max_depth: 4\n"
     ]
    }
   ],
   "source": [
    "from sklearn.model_selection import GridSearchCV\n",
    "\n",
    "param_grid = {'max_depth': range(1, 11)}\n",
    "\n",
    "decisiontreemodel = DecisionTreeRegressor()\n",
    "\n",
    "grid_search = GridSearchCV(estimator=decisiontreemodel, param_grid=param_grid, cv=5)\n",
    "\n",
    "grid_search.fit(x_train, y_train)\n",
    "best_max_depth = grid_search.best_params_['max_depth']\n",
    "\n",
    "print(\"Best max_depth:\", best_max_depth)"
   ]
  },
  {
   "cell_type": "code",
   "execution_count": 170,
   "metadata": {},
   "outputs": [
    {
     "name": "stdout",
     "output_type": "stream",
     "text": [
      "Mean Squared Error (Train Dataset): 1.4009765290258769\n",
      "Mean Squared Error (Test Dataset): 1.3192001143505288\n"
     ]
    }
   ],
   "source": [
    "decisiontreemodel = DecisionTreeRegressor(max_depth=best_max_depth)\n",
    "result = decisiontreemodel.fit(x_train, y_train)\n",
    "\n",
    "y_train_pred = decisiontreemodel.predict(x_train)\n",
    "train_mse = mean_squared_error(y_train_pred, y_train)\n",
    "y_test_pred = decisiontreemodel.predict(x_test)\n",
    "test_mse = mean_squared_error(y_test_pred, y_test)\n",
    "\n",
    "print(\"Mean Squared Error (Train Dataset):\", train_mse)\n",
    "print(\"Mean Squared Error (Test Dataset):\", test_mse)"
   ]
  },
  {
   "cell_type": "code",
   "execution_count": 171,
   "metadata": {},
   "outputs": [
    {
     "name": "stdout",
     "output_type": "stream",
     "text": [
      "{'significant_variable': ['ADI', 'Age', 'Gender', 'lshrq_sleeping', 'cc_mskChronic', 'concurrent_risk']}\n"
     ]
    }
   ],
   "source": [
    "significant_variable_dt = {}\n",
    "significant_variable_dt['significant_variable'] = []\n",
    "fr = decisiontreemodel.feature_importances_ \n",
    "importance_dict = dict(zip(x_train.columns, fr))\n",
    "for key in importance_dict:\n",
    "    if importance_dict[key] > 0:\n",
    "        significant_variable_dt['significant_variable'].append(key)\n",
    "        \n",
    "print(significant_variable_dt)"
   ]
  },
  {
   "cell_type": "markdown",
   "metadata": {},
   "source": [
    "## Random Forest Regressor"
   ]
  },
  {
   "cell_type": "code",
   "execution_count": 172,
   "metadata": {},
   "outputs": [
    {
     "name": "stdout",
     "output_type": "stream",
     "text": [
      "Train Set : (17669, 1) (17669, 30)\n",
      "Test Set  : (5890, 1) (5890, 30)\n"
     ]
    }
   ],
   "source": [
    "y = pd.DataFrame(df_P['absence_indicator'])\n",
    "x = pd.DataFrame(df_P[health_factors])\n",
    "\n",
    "x[categorical_variables] = x[categorical_variables].astype('category')\n",
    "\n",
    "from sklearn.model_selection import train_test_split\n",
    "from sklearn.metrics import mean_squared_error\n",
    "from sklearn.ensemble import RandomForestRegressor\n",
    "from sklearn.metrics import mean_squared_error, accuracy_score, precision_score, recall_score\n",
    "\n",
    "x_train, x_test, y_train, y_test = train_test_split(x, y, test_size = 0.25)\n",
    "\n",
    "print(\"Train Set :\", y_train.shape, x_train.shape)\n",
    "print(\"Test Set  :\", y_test.shape, x_test.shape)"
   ]
  },
  {
   "cell_type": "code",
   "execution_count": 173,
   "metadata": {},
   "outputs": [
    {
     "name": "stderr",
     "output_type": "stream",
     "text": [
      "C:\\Users\\Willis\\AppData\\Local\\Temp\\ipykernel_12396\\2405233170.py:2: DataConversionWarning: A column-vector y was passed when a 1d array was expected. Please change the shape of y to (n_samples,), for example using ravel().\n",
      "  randomforest.fit(x_train, y_train)\n"
     ]
    },
    {
     "name": "stdout",
     "output_type": "stream",
     "text": [
      "Mean Squared Error (Train Dataset): 1315.9991548048822\n",
      "Mean Squared Error (Test Dataset): 1483.0093446025824\n"
     ]
    }
   ],
   "source": [
    "randomforest = RandomForestRegressor(n_estimators=100, max_depth=5, random_state=42)\n",
    "randomforest.fit(x_train, y_train)\n",
    "\n",
    "y_train_pred = randomforest.predict(x_train)\n",
    "train_mse = mean_squared_error(y_train_pred, y_train)\n",
    "y_test_pred = randomforest.predict(x_test)\n",
    "test_mse = mean_squared_error(y_test_pred, y_test)\n",
    "\n",
    "print(\"Mean Squared Error (Train Dataset):\", train_mse)\n",
    "print(\"Mean Squared Error (Test Dataset):\", test_mse)"
   ]
  },
  {
   "cell_type": "code",
   "execution_count": 174,
   "metadata": {},
   "outputs": [
    {
     "name": "stderr",
     "output_type": "stream",
     "text": [
      "c:\\Users\\Willis\\anaconda3\\Lib\\site-packages\\sklearn\\model_selection\\_validation.py:686: DataConversionWarning: A column-vector y was passed when a 1d array was expected. Please change the shape of y to (n_samples,), for example using ravel().\n",
      "  estimator.fit(X_train, y_train, **fit_params)\n",
      "c:\\Users\\Willis\\anaconda3\\Lib\\site-packages\\sklearn\\model_selection\\_validation.py:686: DataConversionWarning: A column-vector y was passed when a 1d array was expected. Please change the shape of y to (n_samples,), for example using ravel().\n",
      "  estimator.fit(X_train, y_train, **fit_params)\n",
      "c:\\Users\\Willis\\anaconda3\\Lib\\site-packages\\sklearn\\model_selection\\_validation.py:686: DataConversionWarning: A column-vector y was passed when a 1d array was expected. Please change the shape of y to (n_samples,), for example using ravel().\n",
      "  estimator.fit(X_train, y_train, **fit_params)\n",
      "c:\\Users\\Willis\\anaconda3\\Lib\\site-packages\\sklearn\\model_selection\\_validation.py:686: DataConversionWarning: A column-vector y was passed when a 1d array was expected. Please change the shape of y to (n_samples,), for example using ravel().\n",
      "  estimator.fit(X_train, y_train, **fit_params)\n",
      "c:\\Users\\Willis\\anaconda3\\Lib\\site-packages\\sklearn\\model_selection\\_validation.py:686: DataConversionWarning: A column-vector y was passed when a 1d array was expected. Please change the shape of y to (n_samples,), for example using ravel().\n",
      "  estimator.fit(X_train, y_train, **fit_params)\n",
      "c:\\Users\\Willis\\anaconda3\\Lib\\site-packages\\sklearn\\model_selection\\_validation.py:686: DataConversionWarning: A column-vector y was passed when a 1d array was expected. Please change the shape of y to (n_samples,), for example using ravel().\n",
      "  estimator.fit(X_train, y_train, **fit_params)\n",
      "c:\\Users\\Willis\\anaconda3\\Lib\\site-packages\\sklearn\\model_selection\\_validation.py:686: DataConversionWarning: A column-vector y was passed when a 1d array was expected. Please change the shape of y to (n_samples,), for example using ravel().\n",
      "  estimator.fit(X_train, y_train, **fit_params)\n",
      "c:\\Users\\Willis\\anaconda3\\Lib\\site-packages\\sklearn\\model_selection\\_validation.py:686: DataConversionWarning: A column-vector y was passed when a 1d array was expected. Please change the shape of y to (n_samples,), for example using ravel().\n",
      "  estimator.fit(X_train, y_train, **fit_params)\n",
      "c:\\Users\\Willis\\anaconda3\\Lib\\site-packages\\sklearn\\model_selection\\_validation.py:686: DataConversionWarning: A column-vector y was passed when a 1d array was expected. Please change the shape of y to (n_samples,), for example using ravel().\n",
      "  estimator.fit(X_train, y_train, **fit_params)\n",
      "c:\\Users\\Willis\\anaconda3\\Lib\\site-packages\\sklearn\\model_selection\\_validation.py:686: DataConversionWarning: A column-vector y was passed when a 1d array was expected. Please change the shape of y to (n_samples,), for example using ravel().\n",
      "  estimator.fit(X_train, y_train, **fit_params)\n",
      "c:\\Users\\Willis\\anaconda3\\Lib\\site-packages\\sklearn\\model_selection\\_validation.py:686: DataConversionWarning: A column-vector y was passed when a 1d array was expected. Please change the shape of y to (n_samples,), for example using ravel().\n",
      "  estimator.fit(X_train, y_train, **fit_params)\n",
      "c:\\Users\\Willis\\anaconda3\\Lib\\site-packages\\sklearn\\model_selection\\_validation.py:686: DataConversionWarning: A column-vector y was passed when a 1d array was expected. Please change the shape of y to (n_samples,), for example using ravel().\n",
      "  estimator.fit(X_train, y_train, **fit_params)\n",
      "c:\\Users\\Willis\\anaconda3\\Lib\\site-packages\\sklearn\\model_selection\\_validation.py:686: DataConversionWarning: A column-vector y was passed when a 1d array was expected. Please change the shape of y to (n_samples,), for example using ravel().\n",
      "  estimator.fit(X_train, y_train, **fit_params)\n",
      "c:\\Users\\Willis\\anaconda3\\Lib\\site-packages\\sklearn\\model_selection\\_validation.py:686: DataConversionWarning: A column-vector y was passed when a 1d array was expected. Please change the shape of y to (n_samples,), for example using ravel().\n",
      "  estimator.fit(X_train, y_train, **fit_params)\n",
      "c:\\Users\\Willis\\anaconda3\\Lib\\site-packages\\sklearn\\model_selection\\_validation.py:686: DataConversionWarning: A column-vector y was passed when a 1d array was expected. Please change the shape of y to (n_samples,), for example using ravel().\n",
      "  estimator.fit(X_train, y_train, **fit_params)\n",
      "c:\\Users\\Willis\\anaconda3\\Lib\\site-packages\\sklearn\\model_selection\\_validation.py:686: DataConversionWarning: A column-vector y was passed when a 1d array was expected. Please change the shape of y to (n_samples,), for example using ravel().\n",
      "  estimator.fit(X_train, y_train, **fit_params)\n",
      "c:\\Users\\Willis\\anaconda3\\Lib\\site-packages\\sklearn\\model_selection\\_validation.py:686: DataConversionWarning: A column-vector y was passed when a 1d array was expected. Please change the shape of y to (n_samples,), for example using ravel().\n",
      "  estimator.fit(X_train, y_train, **fit_params)\n",
      "c:\\Users\\Willis\\anaconda3\\Lib\\site-packages\\sklearn\\model_selection\\_validation.py:686: DataConversionWarning: A column-vector y was passed when a 1d array was expected. Please change the shape of y to (n_samples,), for example using ravel().\n",
      "  estimator.fit(X_train, y_train, **fit_params)\n",
      "c:\\Users\\Willis\\anaconda3\\Lib\\site-packages\\sklearn\\model_selection\\_validation.py:686: DataConversionWarning: A column-vector y was passed when a 1d array was expected. Please change the shape of y to (n_samples,), for example using ravel().\n",
      "  estimator.fit(X_train, y_train, **fit_params)\n",
      "c:\\Users\\Willis\\anaconda3\\Lib\\site-packages\\sklearn\\model_selection\\_validation.py:686: DataConversionWarning: A column-vector y was passed when a 1d array was expected. Please change the shape of y to (n_samples,), for example using ravel().\n",
      "  estimator.fit(X_train, y_train, **fit_params)\n",
      "c:\\Users\\Willis\\anaconda3\\Lib\\site-packages\\sklearn\\model_selection\\_validation.py:686: DataConversionWarning: A column-vector y was passed when a 1d array was expected. Please change the shape of y to (n_samples,), for example using ravel().\n",
      "  estimator.fit(X_train, y_train, **fit_params)\n",
      "c:\\Users\\Willis\\anaconda3\\Lib\\site-packages\\sklearn\\model_selection\\_validation.py:686: DataConversionWarning: A column-vector y was passed when a 1d array was expected. Please change the shape of y to (n_samples,), for example using ravel().\n",
      "  estimator.fit(X_train, y_train, **fit_params)\n",
      "c:\\Users\\Willis\\anaconda3\\Lib\\site-packages\\sklearn\\model_selection\\_validation.py:686: DataConversionWarning: A column-vector y was passed when a 1d array was expected. Please change the shape of y to (n_samples,), for example using ravel().\n",
      "  estimator.fit(X_train, y_train, **fit_params)\n",
      "c:\\Users\\Willis\\anaconda3\\Lib\\site-packages\\sklearn\\model_selection\\_validation.py:686: DataConversionWarning: A column-vector y was passed when a 1d array was expected. Please change the shape of y to (n_samples,), for example using ravel().\n",
      "  estimator.fit(X_train, y_train, **fit_params)\n",
      "c:\\Users\\Willis\\anaconda3\\Lib\\site-packages\\sklearn\\model_selection\\_validation.py:686: DataConversionWarning: A column-vector y was passed when a 1d array was expected. Please change the shape of y to (n_samples,), for example using ravel().\n",
      "  estimator.fit(X_train, y_train, **fit_params)\n",
      "c:\\Users\\Willis\\anaconda3\\Lib\\site-packages\\sklearn\\model_selection\\_search.py:909: DataConversionWarning: A column-vector y was passed when a 1d array was expected. Please change the shape of y to (n_samples,), for example using ravel().\n",
      "  self.best_estimator_.fit(X, y, **fit_params)\n"
     ]
    },
    {
     "name": "stdout",
     "output_type": "stream",
     "text": [
      "{'max_depth': 6, 'min_samples_split': 12, 'n_estimators': 137}\n"
     ]
    }
   ],
   "source": [
    "from sklearn.model_selection import RandomizedSearchCV\n",
    "from scipy.stats import randint\n",
    "\n",
    "param_dist = {\n",
    "    'n_estimators': randint(50, 200),\n",
    "    'max_depth': [None] + list(range(5, 20)),\n",
    "    'min_samples_split': randint(2, 20)\n",
    "}\n",
    "\n",
    "randomized_search = RandomizedSearchCV(estimator=RandomForestRegressor(), param_distributions=param_dist, n_iter=5, cv=5, scoring='neg_mean_squared_error', random_state=42)\n",
    "\n",
    "randomized_search.fit(x_train, y_train)\n",
    "\n",
    "best_params = randomized_search.best_params_\n",
    "print(best_params)"
   ]
  },
  {
   "cell_type": "code",
   "execution_count": 175,
   "metadata": {},
   "outputs": [
    {
     "name": "stderr",
     "output_type": "stream",
     "text": [
      "C:\\Users\\Willis\\AppData\\Local\\Temp\\ipykernel_12396\\3010193299.py:2: DataConversionWarning: A column-vector y was passed when a 1d array was expected. Please change the shape of y to (n_samples,), for example using ravel().\n",
      "  randomforest.fit(x_train, y_train)\n"
     ]
    },
    {
     "name": "stdout",
     "output_type": "stream",
     "text": [
      "Mean Squared Error (Train Dataset): 1283.5691345682612\n",
      "Mean Squared Error (Test Dataset): 1483.4182678402815\n"
     ]
    }
   ],
   "source": [
    "randomforest = RandomForestRegressor(n_estimators=best_params['n_estimators'], max_depth=best_params['max_depth'], min_samples_split=best_params['min_samples_split'], random_state=42)\n",
    "randomforest.fit(x_train, y_train)\n",
    "\n",
    "y_train_pred = randomforest.predict(x_train)\n",
    "train_mse = mean_squared_error(y_train_pred, y_train)\n",
    "y_test_pred = randomforest.predict(x_test)\n",
    "test_mse = mean_squared_error(y_test_pred, y_test)\n",
    "\n",
    "print(\"Mean Squared Error (Train Dataset):\", train_mse)\n",
    "print(\"Mean Squared Error (Test Dataset):\", test_mse)"
   ]
  },
  {
   "cell_type": "markdown",
   "metadata": {},
   "source": [
    "### transformation"
   ]
  },
  {
   "cell_type": "markdown",
   "metadata": {},
   "source": [
    "#### sqrt"
   ]
  },
  {
   "cell_type": "code",
   "execution_count": 176,
   "metadata": {},
   "outputs": [
    {
     "name": "stdout",
     "output_type": "stream",
     "text": [
      "Train Set : (17669, 1) (17669, 30)\n",
      "Test Set  : (5890, 1) (5890, 30)\n"
     ]
    }
   ],
   "source": [
    "y = pd.DataFrame(df_P['absence_indicator'])\n",
    "y['absence_indicator'] = np.sqrt(y['absence_indicator'])\n",
    "\n",
    "x_train, x_test, y_train, y_test = train_test_split(x, y, test_size = 0.25)\n",
    "\n",
    "print(\"Train Set :\", y_train.shape, x_train.shape)\n",
    "print(\"Test Set  :\", y_test.shape, x_test.shape)"
   ]
  },
  {
   "cell_type": "code",
   "execution_count": 177,
   "metadata": {},
   "outputs": [
    {
     "name": "stderr",
     "output_type": "stream",
     "text": [
      "C:\\Users\\Willis\\AppData\\Local\\Temp\\ipykernel_12396\\2405233170.py:2: DataConversionWarning: A column-vector y was passed when a 1d array was expected. Please change the shape of y to (n_samples,), for example using ravel().\n",
      "  randomforest.fit(x_train, y_train)\n"
     ]
    },
    {
     "name": "stdout",
     "output_type": "stream",
     "text": [
      "Mean Squared Error (Train Dataset): 7.743022038808871\n",
      "Mean Squared Error (Test Dataset): 8.055196967530382\n"
     ]
    }
   ],
   "source": [
    "randomforest = RandomForestRegressor(n_estimators=100, max_depth=5, random_state=42)\n",
    "randomforest.fit(x_train, y_train)\n",
    "\n",
    "y_train_pred = randomforest.predict(x_train)\n",
    "train_mse = mean_squared_error(y_train_pred, y_train)\n",
    "y_test_pred = randomforest.predict(x_test)\n",
    "test_mse = mean_squared_error(y_test_pred, y_test)\n",
    "\n",
    "print(\"Mean Squared Error (Train Dataset):\", train_mse)\n",
    "print(\"Mean Squared Error (Test Dataset):\", test_mse)"
   ]
  },
  {
   "cell_type": "code",
   "execution_count": 178,
   "metadata": {},
   "outputs": [
    {
     "name": "stderr",
     "output_type": "stream",
     "text": [
      "c:\\Users\\Willis\\anaconda3\\Lib\\site-packages\\sklearn\\model_selection\\_validation.py:686: DataConversionWarning: A column-vector y was passed when a 1d array was expected. Please change the shape of y to (n_samples,), for example using ravel().\n",
      "  estimator.fit(X_train, y_train, **fit_params)\n",
      "c:\\Users\\Willis\\anaconda3\\Lib\\site-packages\\sklearn\\model_selection\\_validation.py:686: DataConversionWarning: A column-vector y was passed when a 1d array was expected. Please change the shape of y to (n_samples,), for example using ravel().\n",
      "  estimator.fit(X_train, y_train, **fit_params)\n",
      "c:\\Users\\Willis\\anaconda3\\Lib\\site-packages\\sklearn\\model_selection\\_validation.py:686: DataConversionWarning: A column-vector y was passed when a 1d array was expected. Please change the shape of y to (n_samples,), for example using ravel().\n",
      "  estimator.fit(X_train, y_train, **fit_params)\n",
      "c:\\Users\\Willis\\anaconda3\\Lib\\site-packages\\sklearn\\model_selection\\_validation.py:686: DataConversionWarning: A column-vector y was passed when a 1d array was expected. Please change the shape of y to (n_samples,), for example using ravel().\n",
      "  estimator.fit(X_train, y_train, **fit_params)\n",
      "c:\\Users\\Willis\\anaconda3\\Lib\\site-packages\\sklearn\\model_selection\\_validation.py:686: DataConversionWarning: A column-vector y was passed when a 1d array was expected. Please change the shape of y to (n_samples,), for example using ravel().\n",
      "  estimator.fit(X_train, y_train, **fit_params)\n",
      "c:\\Users\\Willis\\anaconda3\\Lib\\site-packages\\sklearn\\model_selection\\_validation.py:686: DataConversionWarning: A column-vector y was passed when a 1d array was expected. Please change the shape of y to (n_samples,), for example using ravel().\n",
      "  estimator.fit(X_train, y_train, **fit_params)\n",
      "c:\\Users\\Willis\\anaconda3\\Lib\\site-packages\\sklearn\\model_selection\\_validation.py:686: DataConversionWarning: A column-vector y was passed when a 1d array was expected. Please change the shape of y to (n_samples,), for example using ravel().\n",
      "  estimator.fit(X_train, y_train, **fit_params)\n",
      "c:\\Users\\Willis\\anaconda3\\Lib\\site-packages\\sklearn\\model_selection\\_validation.py:686: DataConversionWarning: A column-vector y was passed when a 1d array was expected. Please change the shape of y to (n_samples,), for example using ravel().\n",
      "  estimator.fit(X_train, y_train, **fit_params)\n",
      "c:\\Users\\Willis\\anaconda3\\Lib\\site-packages\\sklearn\\model_selection\\_validation.py:686: DataConversionWarning: A column-vector y was passed when a 1d array was expected. Please change the shape of y to (n_samples,), for example using ravel().\n",
      "  estimator.fit(X_train, y_train, **fit_params)\n",
      "c:\\Users\\Willis\\anaconda3\\Lib\\site-packages\\sklearn\\model_selection\\_validation.py:686: DataConversionWarning: A column-vector y was passed when a 1d array was expected. Please change the shape of y to (n_samples,), for example using ravel().\n",
      "  estimator.fit(X_train, y_train, **fit_params)\n",
      "c:\\Users\\Willis\\anaconda3\\Lib\\site-packages\\sklearn\\model_selection\\_validation.py:686: DataConversionWarning: A column-vector y was passed when a 1d array was expected. Please change the shape of y to (n_samples,), for example using ravel().\n",
      "  estimator.fit(X_train, y_train, **fit_params)\n",
      "c:\\Users\\Willis\\anaconda3\\Lib\\site-packages\\sklearn\\model_selection\\_validation.py:686: DataConversionWarning: A column-vector y was passed when a 1d array was expected. Please change the shape of y to (n_samples,), for example using ravel().\n",
      "  estimator.fit(X_train, y_train, **fit_params)\n",
      "c:\\Users\\Willis\\anaconda3\\Lib\\site-packages\\sklearn\\model_selection\\_validation.py:686: DataConversionWarning: A column-vector y was passed when a 1d array was expected. Please change the shape of y to (n_samples,), for example using ravel().\n",
      "  estimator.fit(X_train, y_train, **fit_params)\n",
      "c:\\Users\\Willis\\anaconda3\\Lib\\site-packages\\sklearn\\model_selection\\_validation.py:686: DataConversionWarning: A column-vector y was passed when a 1d array was expected. Please change the shape of y to (n_samples,), for example using ravel().\n",
      "  estimator.fit(X_train, y_train, **fit_params)\n",
      "c:\\Users\\Willis\\anaconda3\\Lib\\site-packages\\sklearn\\model_selection\\_validation.py:686: DataConversionWarning: A column-vector y was passed when a 1d array was expected. Please change the shape of y to (n_samples,), for example using ravel().\n",
      "  estimator.fit(X_train, y_train, **fit_params)\n",
      "c:\\Users\\Willis\\anaconda3\\Lib\\site-packages\\sklearn\\model_selection\\_validation.py:686: DataConversionWarning: A column-vector y was passed when a 1d array was expected. Please change the shape of y to (n_samples,), for example using ravel().\n",
      "  estimator.fit(X_train, y_train, **fit_params)\n",
      "c:\\Users\\Willis\\anaconda3\\Lib\\site-packages\\sklearn\\model_selection\\_validation.py:686: DataConversionWarning: A column-vector y was passed when a 1d array was expected. Please change the shape of y to (n_samples,), for example using ravel().\n",
      "  estimator.fit(X_train, y_train, **fit_params)\n",
      "c:\\Users\\Willis\\anaconda3\\Lib\\site-packages\\sklearn\\model_selection\\_validation.py:686: DataConversionWarning: A column-vector y was passed when a 1d array was expected. Please change the shape of y to (n_samples,), for example using ravel().\n",
      "  estimator.fit(X_train, y_train, **fit_params)\n",
      "c:\\Users\\Willis\\anaconda3\\Lib\\site-packages\\sklearn\\model_selection\\_validation.py:686: DataConversionWarning: A column-vector y was passed when a 1d array was expected. Please change the shape of y to (n_samples,), for example using ravel().\n",
      "  estimator.fit(X_train, y_train, **fit_params)\n",
      "c:\\Users\\Willis\\anaconda3\\Lib\\site-packages\\sklearn\\model_selection\\_validation.py:686: DataConversionWarning: A column-vector y was passed when a 1d array was expected. Please change the shape of y to (n_samples,), for example using ravel().\n",
      "  estimator.fit(X_train, y_train, **fit_params)\n",
      "c:\\Users\\Willis\\anaconda3\\Lib\\site-packages\\sklearn\\model_selection\\_validation.py:686: DataConversionWarning: A column-vector y was passed when a 1d array was expected. Please change the shape of y to (n_samples,), for example using ravel().\n",
      "  estimator.fit(X_train, y_train, **fit_params)\n",
      "c:\\Users\\Willis\\anaconda3\\Lib\\site-packages\\sklearn\\model_selection\\_validation.py:686: DataConversionWarning: A column-vector y was passed when a 1d array was expected. Please change the shape of y to (n_samples,), for example using ravel().\n",
      "  estimator.fit(X_train, y_train, **fit_params)\n",
      "c:\\Users\\Willis\\anaconda3\\Lib\\site-packages\\sklearn\\model_selection\\_validation.py:686: DataConversionWarning: A column-vector y was passed when a 1d array was expected. Please change the shape of y to (n_samples,), for example using ravel().\n",
      "  estimator.fit(X_train, y_train, **fit_params)\n",
      "c:\\Users\\Willis\\anaconda3\\Lib\\site-packages\\sklearn\\model_selection\\_validation.py:686: DataConversionWarning: A column-vector y was passed when a 1d array was expected. Please change the shape of y to (n_samples,), for example using ravel().\n",
      "  estimator.fit(X_train, y_train, **fit_params)\n",
      "c:\\Users\\Willis\\anaconda3\\Lib\\site-packages\\sklearn\\model_selection\\_validation.py:686: DataConversionWarning: A column-vector y was passed when a 1d array was expected. Please change the shape of y to (n_samples,), for example using ravel().\n",
      "  estimator.fit(X_train, y_train, **fit_params)\n",
      "c:\\Users\\Willis\\anaconda3\\Lib\\site-packages\\sklearn\\model_selection\\_search.py:909: DataConversionWarning: A column-vector y was passed when a 1d array was expected. Please change the shape of y to (n_samples,), for example using ravel().\n",
      "  self.best_estimator_.fit(X, y, **fit_params)\n"
     ]
    },
    {
     "name": "stdout",
     "output_type": "stream",
     "text": [
      "{'max_depth': 6, 'min_samples_split': 12, 'n_estimators': 137}\n"
     ]
    }
   ],
   "source": [
    "from sklearn.model_selection import RandomizedSearchCV\n",
    "from scipy.stats import randint\n",
    "\n",
    "param_dist = {\n",
    "    'n_estimators': randint(50, 200),\n",
    "    'max_depth': [None] + list(range(5, 20)),\n",
    "    'min_samples_split': randint(2, 20)\n",
    "}\n",
    "\n",
    "randomized_search = RandomizedSearchCV(estimator=RandomForestRegressor(), param_distributions=param_dist, n_iter=5, cv=5, scoring='neg_mean_squared_error', random_state=42)\n",
    "\n",
    "randomized_search.fit(x_train, y_train)\n",
    "\n",
    "best_params = randomized_search.best_params_\n",
    "print(best_params)"
   ]
  },
  {
   "cell_type": "code",
   "execution_count": 179,
   "metadata": {},
   "outputs": [
    {
     "name": "stderr",
     "output_type": "stream",
     "text": [
      "C:\\Users\\Willis\\AppData\\Local\\Temp\\ipykernel_12396\\3010193299.py:2: DataConversionWarning: A column-vector y was passed when a 1d array was expected. Please change the shape of y to (n_samples,), for example using ravel().\n",
      "  randomforest.fit(x_train, y_train)\n"
     ]
    },
    {
     "name": "stdout",
     "output_type": "stream",
     "text": [
      "Mean Squared Error (Train Dataset): 7.526512062433212\n",
      "Mean Squared Error (Test Dataset): 8.050328727346987\n"
     ]
    }
   ],
   "source": [
    "randomforest = RandomForestRegressor(n_estimators=best_params['n_estimators'], max_depth=best_params['max_depth'], min_samples_split=best_params['min_samples_split'], random_state=42)\n",
    "randomforest.fit(x_train, y_train)\n",
    "\n",
    "y_train_pred = randomforest.predict(x_train)\n",
    "train_mse = mean_squared_error(y_train_pred, y_train)\n",
    "y_test_pred = randomforest.predict(x_test)\n",
    "test_mse = mean_squared_error(y_test_pred, y_test)\n",
    "\n",
    "print(\"Mean Squared Error (Train Dataset):\", train_mse)\n",
    "print(\"Mean Squared Error (Test Dataset):\", test_mse)"
   ]
  },
  {
   "cell_type": "markdown",
   "metadata": {},
   "source": [
    "#### logarithmic"
   ]
  },
  {
   "cell_type": "code",
   "execution_count": 180,
   "metadata": {},
   "outputs": [
    {
     "name": "stdout",
     "output_type": "stream",
     "text": [
      "Train Set : (17669, 1) (17669, 30)\n",
      "Test Set  : (5890, 1) (5890, 30)\n"
     ]
    },
    {
     "name": "stderr",
     "output_type": "stream",
     "text": [
      "C:\\Users\\Willis\\AppData\\Local\\Temp\\ipykernel_12396\\4257889001.py:2: FutureWarning: Setting an item of incompatible dtype is deprecated and will raise in a future error of pandas. Value '[4.47733681 5.1590553  5.34233425 ... 1.79175947 4.70048037 4.11087386]' has dtype incompatible with int64, please explicitly cast to a compatible dtype first.\n",
      "  y.loc[y['absence_indicator'] != 0, 'absence_indicator'] = np.log(y.loc[y['absence_indicator'] != 0, 'absence_indicator'])\n"
     ]
    }
   ],
   "source": [
    "y = pd.DataFrame(df_P['absence_indicator'])\n",
    "y.loc[y['absence_indicator'] != 0, 'absence_indicator'] = np.log(y.loc[y['absence_indicator'] != 0, 'absence_indicator'])\n",
    "\n",
    "x_train, x_test, y_train, y_test = train_test_split(x, y, test_size = 0.25)\n",
    "\n",
    "print(\"Train Set :\", y_train.shape, x_train.shape)\n",
    "print(\"Test Set  :\", y_test.shape, x_test.shape)"
   ]
  },
  {
   "cell_type": "code",
   "execution_count": 181,
   "metadata": {},
   "outputs": [
    {
     "name": "stderr",
     "output_type": "stream",
     "text": [
      "C:\\Users\\Willis\\AppData\\Local\\Temp\\ipykernel_12396\\2405233170.py:2: DataConversionWarning: A column-vector y was passed when a 1d array was expected. Please change the shape of y to (n_samples,), for example using ravel().\n",
      "  randomforest.fit(x_train, y_train)\n"
     ]
    },
    {
     "name": "stdout",
     "output_type": "stream",
     "text": [
      "Mean Squared Error (Train Dataset): 1.3133118446250978\n",
      "Mean Squared Error (Test Dataset): 1.4166938902525426\n"
     ]
    }
   ],
   "source": [
    "randomforest = RandomForestRegressor(n_estimators=100, max_depth=5, random_state=42)\n",
    "randomforest.fit(x_train, y_train)\n",
    "\n",
    "y_train_pred = randomforest.predict(x_train)\n",
    "train_mse = mean_squared_error(y_train_pred, y_train)\n",
    "y_test_pred = randomforest.predict(x_test)\n",
    "test_mse = mean_squared_error(y_test_pred, y_test)\n",
    "\n",
    "print(\"Mean Squared Error (Train Dataset):\", train_mse)\n",
    "print(\"Mean Squared Error (Test Dataset):\", test_mse)"
   ]
  },
  {
   "cell_type": "code",
   "execution_count": 182,
   "metadata": {},
   "outputs": [
    {
     "name": "stderr",
     "output_type": "stream",
     "text": [
      "c:\\Users\\Willis\\anaconda3\\Lib\\site-packages\\sklearn\\model_selection\\_validation.py:686: DataConversionWarning: A column-vector y was passed when a 1d array was expected. Please change the shape of y to (n_samples,), for example using ravel().\n",
      "  estimator.fit(X_train, y_train, **fit_params)\n",
      "c:\\Users\\Willis\\anaconda3\\Lib\\site-packages\\sklearn\\model_selection\\_validation.py:686: DataConversionWarning: A column-vector y was passed when a 1d array was expected. Please change the shape of y to (n_samples,), for example using ravel().\n",
      "  estimator.fit(X_train, y_train, **fit_params)\n",
      "c:\\Users\\Willis\\anaconda3\\Lib\\site-packages\\sklearn\\model_selection\\_validation.py:686: DataConversionWarning: A column-vector y was passed when a 1d array was expected. Please change the shape of y to (n_samples,), for example using ravel().\n",
      "  estimator.fit(X_train, y_train, **fit_params)\n",
      "c:\\Users\\Willis\\anaconda3\\Lib\\site-packages\\sklearn\\model_selection\\_validation.py:686: DataConversionWarning: A column-vector y was passed when a 1d array was expected. Please change the shape of y to (n_samples,), for example using ravel().\n",
      "  estimator.fit(X_train, y_train, **fit_params)\n",
      "c:\\Users\\Willis\\anaconda3\\Lib\\site-packages\\sklearn\\model_selection\\_validation.py:686: DataConversionWarning: A column-vector y was passed when a 1d array was expected. Please change the shape of y to (n_samples,), for example using ravel().\n",
      "  estimator.fit(X_train, y_train, **fit_params)\n",
      "c:\\Users\\Willis\\anaconda3\\Lib\\site-packages\\sklearn\\model_selection\\_validation.py:686: DataConversionWarning: A column-vector y was passed when a 1d array was expected. Please change the shape of y to (n_samples,), for example using ravel().\n",
      "  estimator.fit(X_train, y_train, **fit_params)\n",
      "c:\\Users\\Willis\\anaconda3\\Lib\\site-packages\\sklearn\\model_selection\\_validation.py:686: DataConversionWarning: A column-vector y was passed when a 1d array was expected. Please change the shape of y to (n_samples,), for example using ravel().\n",
      "  estimator.fit(X_train, y_train, **fit_params)\n",
      "c:\\Users\\Willis\\anaconda3\\Lib\\site-packages\\sklearn\\model_selection\\_validation.py:686: DataConversionWarning: A column-vector y was passed when a 1d array was expected. Please change the shape of y to (n_samples,), for example using ravel().\n",
      "  estimator.fit(X_train, y_train, **fit_params)\n",
      "c:\\Users\\Willis\\anaconda3\\Lib\\site-packages\\sklearn\\model_selection\\_validation.py:686: DataConversionWarning: A column-vector y was passed when a 1d array was expected. Please change the shape of y to (n_samples,), for example using ravel().\n",
      "  estimator.fit(X_train, y_train, **fit_params)\n",
      "c:\\Users\\Willis\\anaconda3\\Lib\\site-packages\\sklearn\\model_selection\\_validation.py:686: DataConversionWarning: A column-vector y was passed when a 1d array was expected. Please change the shape of y to (n_samples,), for example using ravel().\n",
      "  estimator.fit(X_train, y_train, **fit_params)\n",
      "c:\\Users\\Willis\\anaconda3\\Lib\\site-packages\\sklearn\\model_selection\\_validation.py:686: DataConversionWarning: A column-vector y was passed when a 1d array was expected. Please change the shape of y to (n_samples,), for example using ravel().\n",
      "  estimator.fit(X_train, y_train, **fit_params)\n",
      "c:\\Users\\Willis\\anaconda3\\Lib\\site-packages\\sklearn\\model_selection\\_validation.py:686: DataConversionWarning: A column-vector y was passed when a 1d array was expected. Please change the shape of y to (n_samples,), for example using ravel().\n",
      "  estimator.fit(X_train, y_train, **fit_params)\n",
      "c:\\Users\\Willis\\anaconda3\\Lib\\site-packages\\sklearn\\model_selection\\_validation.py:686: DataConversionWarning: A column-vector y was passed when a 1d array was expected. Please change the shape of y to (n_samples,), for example using ravel().\n",
      "  estimator.fit(X_train, y_train, **fit_params)\n",
      "c:\\Users\\Willis\\anaconda3\\Lib\\site-packages\\sklearn\\model_selection\\_validation.py:686: DataConversionWarning: A column-vector y was passed when a 1d array was expected. Please change the shape of y to (n_samples,), for example using ravel().\n",
      "  estimator.fit(X_train, y_train, **fit_params)\n",
      "c:\\Users\\Willis\\anaconda3\\Lib\\site-packages\\sklearn\\model_selection\\_validation.py:686: DataConversionWarning: A column-vector y was passed when a 1d array was expected. Please change the shape of y to (n_samples,), for example using ravel().\n",
      "  estimator.fit(X_train, y_train, **fit_params)\n",
      "c:\\Users\\Willis\\anaconda3\\Lib\\site-packages\\sklearn\\model_selection\\_validation.py:686: DataConversionWarning: A column-vector y was passed when a 1d array was expected. Please change the shape of y to (n_samples,), for example using ravel().\n",
      "  estimator.fit(X_train, y_train, **fit_params)\n",
      "c:\\Users\\Willis\\anaconda3\\Lib\\site-packages\\sklearn\\model_selection\\_validation.py:686: DataConversionWarning: A column-vector y was passed when a 1d array was expected. Please change the shape of y to (n_samples,), for example using ravel().\n",
      "  estimator.fit(X_train, y_train, **fit_params)\n",
      "c:\\Users\\Willis\\anaconda3\\Lib\\site-packages\\sklearn\\model_selection\\_validation.py:686: DataConversionWarning: A column-vector y was passed when a 1d array was expected. Please change the shape of y to (n_samples,), for example using ravel().\n",
      "  estimator.fit(X_train, y_train, **fit_params)\n",
      "c:\\Users\\Willis\\anaconda3\\Lib\\site-packages\\sklearn\\model_selection\\_validation.py:686: DataConversionWarning: A column-vector y was passed when a 1d array was expected. Please change the shape of y to (n_samples,), for example using ravel().\n",
      "  estimator.fit(X_train, y_train, **fit_params)\n",
      "c:\\Users\\Willis\\anaconda3\\Lib\\site-packages\\sklearn\\model_selection\\_validation.py:686: DataConversionWarning: A column-vector y was passed when a 1d array was expected. Please change the shape of y to (n_samples,), for example using ravel().\n",
      "  estimator.fit(X_train, y_train, **fit_params)\n",
      "c:\\Users\\Willis\\anaconda3\\Lib\\site-packages\\sklearn\\model_selection\\_validation.py:686: DataConversionWarning: A column-vector y was passed when a 1d array was expected. Please change the shape of y to (n_samples,), for example using ravel().\n",
      "  estimator.fit(X_train, y_train, **fit_params)\n",
      "c:\\Users\\Willis\\anaconda3\\Lib\\site-packages\\sklearn\\model_selection\\_validation.py:686: DataConversionWarning: A column-vector y was passed when a 1d array was expected. Please change the shape of y to (n_samples,), for example using ravel().\n",
      "  estimator.fit(X_train, y_train, **fit_params)\n",
      "c:\\Users\\Willis\\anaconda3\\Lib\\site-packages\\sklearn\\model_selection\\_validation.py:686: DataConversionWarning: A column-vector y was passed when a 1d array was expected. Please change the shape of y to (n_samples,), for example using ravel().\n",
      "  estimator.fit(X_train, y_train, **fit_params)\n",
      "c:\\Users\\Willis\\anaconda3\\Lib\\site-packages\\sklearn\\model_selection\\_validation.py:686: DataConversionWarning: A column-vector y was passed when a 1d array was expected. Please change the shape of y to (n_samples,), for example using ravel().\n",
      "  estimator.fit(X_train, y_train, **fit_params)\n",
      "c:\\Users\\Willis\\anaconda3\\Lib\\site-packages\\sklearn\\model_selection\\_validation.py:686: DataConversionWarning: A column-vector y was passed when a 1d array was expected. Please change the shape of y to (n_samples,), for example using ravel().\n",
      "  estimator.fit(X_train, y_train, **fit_params)\n",
      "c:\\Users\\Willis\\anaconda3\\Lib\\site-packages\\sklearn\\model_selection\\_search.py:909: DataConversionWarning: A column-vector y was passed when a 1d array was expected. Please change the shape of y to (n_samples,), for example using ravel().\n",
      "  self.best_estimator_.fit(X, y, **fit_params)\n"
     ]
    },
    {
     "name": "stdout",
     "output_type": "stream",
     "text": [
      "{'max_depth': 6, 'min_samples_split': 12, 'n_estimators': 137}\n"
     ]
    }
   ],
   "source": [
    "from sklearn.model_selection import RandomizedSearchCV\n",
    "from scipy.stats import randint\n",
    "\n",
    "param_dist = {\n",
    "    'n_estimators': randint(50, 200),\n",
    "    'max_depth': [None] + list(range(5, 20)),\n",
    "    'min_samples_split': randint(2, 20)\n",
    "}\n",
    "\n",
    "randomized_search = RandomizedSearchCV(estimator=RandomForestRegressor(), param_distributions=param_dist, n_iter=5, cv=5, scoring='neg_mean_squared_error', random_state=42)\n",
    "\n",
    "randomized_search.fit(x_train, y_train)\n",
    "\n",
    "best_params = randomized_search.best_params_\n",
    "print(best_params)"
   ]
  },
  {
   "cell_type": "code",
   "execution_count": 183,
   "metadata": {},
   "outputs": [
    {
     "name": "stderr",
     "output_type": "stream",
     "text": [
      "C:\\Users\\Willis\\AppData\\Local\\Temp\\ipykernel_12396\\3010193299.py:2: DataConversionWarning: A column-vector y was passed when a 1d array was expected. Please change the shape of y to (n_samples,), for example using ravel().\n",
      "  randomforest.fit(x_train, y_train)\n"
     ]
    },
    {
     "name": "stdout",
     "output_type": "stream",
     "text": [
      "Mean Squared Error (Train Dataset): 1.2719677524671986\n",
      "Mean Squared Error (Test Dataset): 1.4157877909384493\n"
     ]
    }
   ],
   "source": [
    "randomforest = RandomForestRegressor(n_estimators=best_params['n_estimators'], max_depth=best_params['max_depth'], min_samples_split=best_params['min_samples_split'], random_state=42)\n",
    "randomforest.fit(x_train, y_train)\n",
    "\n",
    "y_train_pred = randomforest.predict(x_train)\n",
    "train_mse = mean_squared_error(y_train_pred, y_train)\n",
    "y_test_pred = randomforest.predict(x_test)\n",
    "test_mse = mean_squared_error(y_test_pred, y_test)\n",
    "\n",
    "print(\"Mean Squared Error (Train Dataset):\", train_mse)\n",
    "print(\"Mean Squared Error (Test Dataset):\", test_mse)"
   ]
  },
  {
   "cell_type": "code",
   "execution_count": 184,
   "metadata": {},
   "outputs": [
    {
     "data": {
      "text/plain": [
       "{'significant_variable': ['concurrent_risk',\n",
       "  'Age',\n",
       "  'ADI',\n",
       "  'Gender',\n",
       "  'cc_mskChronic',\n",
       "  'rx_nonClaimant',\n",
       "  'cc_RespiratorySinusAllergy_chronic',\n",
       "  'rx_nonCompliant',\n",
       "  'lshrq_wellbeing',\n",
       "  'cc_behavioralAllOther',\n",
       "  'cc_cardiac',\n",
       "  'lshrq_physact',\n",
       "  'cc_cancer',\n",
       "  'cc_obesity',\n",
       "  'lshrq_sleeping',\n",
       "  'cc_depression',\n",
       "  'lsbio_cholesterol',\n",
       "  'lsbio_bp',\n",
       "  'lsbio_weight',\n",
       "  'lsbio_trig',\n",
       "  'lshrq_tobacco',\n",
       "  'lshrq_alcohol',\n",
       "  'lshrq_stress',\n",
       "  'lshrq_genHealth',\n",
       "  'cc_cholesterol',\n",
       "  'cc_diabetes',\n",
       "  'lsbio_glucose']}"
      ]
     },
     "execution_count": 184,
     "metadata": {},
     "output_type": "execute_result"
    }
   ],
   "source": [
    "significant_variable_rf = {}\n",
    "significant_variable_rf['significant_variable'] = []\n",
    "\n",
    "feature_importances = randomforest.feature_importances_\n",
    "feature_importance_dict = dict(zip(x_train.columns, feature_importances))\n",
    "sorted_features = sorted(feature_importance_dict.items(), key=lambda x: x[1], reverse=True)\n",
    "\n",
    "for feature, importance in sorted_features:\n",
    "    if importance > 0.0035:\n",
    "        significant_variable_rf['significant_variable'].append(feature)\n",
    "\n",
    "significant_variable_rf"
   ]
  },
  {
   "cell_type": "code",
   "execution_count": 190,
   "metadata": {},
   "outputs": [
    {
     "data": {
      "text/plain": [
       "[('concurrent_risk', 0.5380889976307014),\n",
       " ('Age', 0.14434154577171157),\n",
       " ('ADI', 0.0909961281792402),\n",
       " ('Gender', 0.042465177498549875),\n",
       " ('cc_mskChronic', 0.03492468723620185),\n",
       " ('rx_nonClaimant', 0.013057865076044771),\n",
       " ('cc_RespiratorySinusAllergy_chronic', 0.008560311090873813),\n",
       " ('rx_nonCompliant', 0.008545392198870589),\n",
       " ('lshrq_wellbeing', 0.008370173782119404),\n",
       " ('cc_behavioralAllOther', 0.008199860001424529),\n",
       " ('cc_cardiac', 0.008169072292906731),\n",
       " ('lshrq_physact', 0.007084729735561549),\n",
       " ('cc_cancer', 0.007074212523720196),\n",
       " ('cc_obesity', 0.006595844920981775),\n",
       " ('lshrq_sleeping', 0.0065356941158109015),\n",
       " ('cc_depression', 0.00637584556164854),\n",
       " ('lsbio_cholesterol', 0.006190575427735517),\n",
       " ('lsbio_bp', 0.005706801107156078),\n",
       " ('lsbio_weight', 0.005669835103617816),\n",
       " ('lsbio_trig', 0.005456041177720628),\n",
       " ('lshrq_tobacco', 0.0052780438600052515),\n",
       " ('lshrq_alcohol', 0.004583201506993494),\n",
       " ('lshrq_stress', 0.004561038293279577),\n",
       " ('lshrq_genHealth', 0.004559146374516184),\n",
       " ('cc_cholesterol', 0.004532970721211744),\n",
       " ('cc_diabetes', 0.0038096201854798417),\n",
       " ('lsbio_glucose', 0.0035161024440302966),\n",
       " ('cc_mskAllOther', 0.002737328276565039),\n",
       " ('lshrq_nutrition', 0.002728353698016059),\n",
       " ('cc_ckd', 0.0012854042073047263)]"
      ]
     },
     "execution_count": 190,
     "metadata": {},
     "output_type": "execute_result"
    }
   ],
   "source": [
    "sorted_features"
   ]
  },
  {
   "cell_type": "markdown",
   "metadata": {},
   "source": [
    "### Significant Variable"
   ]
  },
  {
   "cell_type": "code",
   "execution_count": 185,
   "metadata": {},
   "outputs": [
    {
     "data": {
      "text/plain": [
       "{'significant_variable': ['const',\n",
       "  'ADI',\n",
       "  'Age',\n",
       "  'Gender',\n",
       "  'lsbio_bp',\n",
       "  'lshrq_sleeping',\n",
       "  'cc_RespiratorySinusAllergy_chronic',\n",
       "  'cc_mskChronic',\n",
       "  'cc_cholesterol',\n",
       "  'cc_cardiac',\n",
       "  'cc_ckd',\n",
       "  'concurrent_risk',\n",
       "  'rx_nonClaimant',\n",
       "  'rx_nonCompliant']}"
      ]
     },
     "execution_count": 185,
     "metadata": {},
     "output_type": "execute_result"
    }
   ],
   "source": [
    "significant_variable_lr"
   ]
  },
  {
   "cell_type": "code",
   "execution_count": 186,
   "metadata": {},
   "outputs": [
    {
     "data": {
      "text/plain": [
       "{'significant_variable': ['ADI',\n",
       "  'Age',\n",
       "  'Gender',\n",
       "  'lshrq_sleeping',\n",
       "  'cc_mskChronic',\n",
       "  'concurrent_risk']}"
      ]
     },
     "execution_count": 186,
     "metadata": {},
     "output_type": "execute_result"
    }
   ],
   "source": [
    "significant_variable_dt"
   ]
  },
  {
   "cell_type": "code",
   "execution_count": 187,
   "metadata": {},
   "outputs": [
    {
     "data": {
      "text/plain": [
       "{'significant_variable': ['concurrent_risk',\n",
       "  'Age',\n",
       "  'ADI',\n",
       "  'Gender',\n",
       "  'cc_mskChronic',\n",
       "  'rx_nonClaimant',\n",
       "  'cc_RespiratorySinusAllergy_chronic',\n",
       "  'rx_nonCompliant',\n",
       "  'lshrq_wellbeing',\n",
       "  'cc_behavioralAllOther',\n",
       "  'cc_cardiac',\n",
       "  'lshrq_physact',\n",
       "  'cc_cancer',\n",
       "  'cc_obesity',\n",
       "  'lshrq_sleeping',\n",
       "  'cc_depression',\n",
       "  'lsbio_cholesterol',\n",
       "  'lsbio_bp',\n",
       "  'lsbio_weight',\n",
       "  'lsbio_trig',\n",
       "  'lshrq_tobacco',\n",
       "  'lshrq_alcohol',\n",
       "  'lshrq_stress',\n",
       "  'lshrq_genHealth',\n",
       "  'cc_cholesterol',\n",
       "  'cc_diabetes',\n",
       "  'lsbio_glucose']}"
      ]
     },
     "execution_count": 187,
     "metadata": {},
     "output_type": "execute_result"
    }
   ],
   "source": [
    "significant_variable_rf"
   ]
  },
  {
   "cell_type": "code",
   "execution_count": 188,
   "metadata": {},
   "outputs": [],
   "source": [
    "from collections import Counter\n",
    "\n",
    "significant_health_variables = sum([d['significant_variable'] for d in [significant_variable_lr, significant_variable_dt, significant_variable_rf]], [])\n",
    "\n",
    "significant_health_variables_counts = Counter(significant_health_variables)"
   ]
  },
  {
   "cell_type": "code",
   "execution_count": 189,
   "metadata": {},
   "outputs": [
    {
     "data": {
      "text/plain": [
       "['lsbio_bp',\n",
       " 'lshrq_sleeping',\n",
       " 'cc_RespiratorySinusAllergy_chronic',\n",
       " 'cc_mskChronic',\n",
       " 'cc_cholesterol',\n",
       " 'cc_cardiac',\n",
       " 'cc_ckd',\n",
       " 'concurrent_risk',\n",
       " 'rx_nonClaimant',\n",
       " 'rx_nonCompliant',\n",
       " 'lshrq_wellbeing',\n",
       " 'cc_behavioralAllOther',\n",
       " 'lshrq_physact',\n",
       " 'cc_cancer',\n",
       " 'cc_obesity',\n",
       " 'cc_depression',\n",
       " 'lsbio_cholesterol',\n",
       " 'lsbio_weight',\n",
       " 'lsbio_trig',\n",
       " 'lshrq_tobacco',\n",
       " 'lshrq_alcohol',\n",
       " 'lshrq_stress',\n",
       " 'lshrq_genHealth',\n",
       " 'cc_diabetes',\n",
       " 'lsbio_glucose']"
      ]
     },
     "execution_count": 189,
     "metadata": {},
     "output_type": "execute_result"
    }
   ],
   "source": [
    "significant_health_variables_list = []\n",
    "\n",
    "for key, value in significant_health_variables_counts.items():\n",
    "    if key != 'const' and key != 'ADI' and key != 'Gender' and key != 'Age':\n",
    "        significant_health_variables_list.append(key)\n",
    "\n",
    "significant_health_variables_list"
   ]
  },
  {
   "cell_type": "code",
   "execution_count": null,
   "metadata": {},
   "outputs": [],
   "source": []
  }
 ],
 "metadata": {
  "interpreter": {
   "hash": "aee8b7b246df8f9039afb4144a1f6fd8d2ca17a180786b69acc140d282b71a49"
  },
  "kernelspec": {
   "display_name": "Python 3 (ipykernel)",
   "language": "python",
   "name": "python3"
  },
  "language_info": {
   "codemirror_mode": {
    "name": "ipython",
    "version": 3
   },
   "file_extension": ".py",
   "mimetype": "text/x-python",
   "name": "python",
   "nbconvert_exporter": "python",
   "pygments_lexer": "ipython3",
   "version": "3.9.7"
  }
 },
 "nbformat": 4,
 "nbformat_minor": 2
}
