{
 "cells": [
  {
   "cell_type": "code",
   "execution_count": 1,
   "metadata": {},
   "outputs": [],
   "source": [
    "import pandas as pd\n",
    "import numpy as np\n",
    "import matplotlib.pyplot as plt\n",
    "import seaborn as sb\n",
    "\n",
    "sb.set()"
   ]
  },
  {
   "cell_type": "code",
   "execution_count": 2,
   "metadata": {},
   "outputs": [
    {
     "data": {
      "text/html": [
       "<div>\n",
       "<style scoped>\n",
       "    .dataframe tbody tr th:only-of-type {\n",
       "        vertical-align: middle;\n",
       "    }\n",
       "\n",
       "    .dataframe tbody tr th {\n",
       "        vertical-align: top;\n",
       "    }\n",
       "\n",
       "    .dataframe thead th {\n",
       "        text-align: right;\n",
       "    }\n",
       "</style>\n",
       "<table border=\"1\" class=\"dataframe\">\n",
       "  <thead>\n",
       "    <tr style=\"text-align: right;\">\n",
       "      <th></th>\n",
       "      <th>ADI</th>\n",
       "      <th>Age</th>\n",
       "      <th>person_id</th>\n",
       "      <th>Gender</th>\n",
       "      <th>Subgroup</th>\n",
       "      <th>absence_indicator</th>\n",
       "      <th>analytic_period_id</th>\n",
       "      <th>tenure</th>\n",
       "      <th>overtime</th>\n",
       "      <th>salary</th>\n",
       "      <th>...</th>\n",
       "      <th>extreme_heat_ssp585_2045</th>\n",
       "      <th>wildfire_potential_2018</th>\n",
       "      <th>wildfire_potential_2019</th>\n",
       "      <th>wildfire_potential_2019.1</th>\n",
       "      <th>wildfire_potential_ssp245_2025</th>\n",
       "      <th>wildfire_potential_ssp245_2035</th>\n",
       "      <th>wildfire_potential_ssp245_2045</th>\n",
       "      <th>wildfire_potential_ssp585_2025</th>\n",
       "      <th>wildfire_potential_ssp585_2035</th>\n",
       "      <th>wildfire_potential_ssp585_2045</th>\n",
       "    </tr>\n",
       "  </thead>\n",
       "  <tbody>\n",
       "    <tr>\n",
       "      <th>0</th>\n",
       "      <td>28</td>\n",
       "      <td>37</td>\n",
       "      <td>3030515063</td>\n",
       "      <td>Male</td>\n",
       "      <td>Subgroup P</td>\n",
       "      <td>0</td>\n",
       "      <td>1</td>\n",
       "      <td>18.25</td>\n",
       "      <td>1</td>\n",
       "      <td>115700.0</td>\n",
       "      <td>...</td>\n",
       "      <td>13.380953</td>\n",
       "      <td>10.975000</td>\n",
       "      <td>11.460870</td>\n",
       "      <td>12.070652</td>\n",
       "      <td>6.033403</td>\n",
       "      <td>6.347014</td>\n",
       "      <td>6.512159</td>\n",
       "      <td>6.093082</td>\n",
       "      <td>6.504460</td>\n",
       "      <td>6.743331</td>\n",
       "    </tr>\n",
       "    <tr>\n",
       "      <th>1</th>\n",
       "      <td>18</td>\n",
       "      <td>34</td>\n",
       "      <td>9786383567</td>\n",
       "      <td>Male</td>\n",
       "      <td>Subgroup P</td>\n",
       "      <td>0</td>\n",
       "      <td>1</td>\n",
       "      <td>3.99</td>\n",
       "      <td>7</td>\n",
       "      <td>81435.0</td>\n",
       "      <td>...</td>\n",
       "      <td>13.380953</td>\n",
       "      <td>11.141304</td>\n",
       "      <td>11.520652</td>\n",
       "      <td>11.871739</td>\n",
       "      <td>6.033403</td>\n",
       "      <td>6.347014</td>\n",
       "      <td>6.512159</td>\n",
       "      <td>6.093082</td>\n",
       "      <td>6.504460</td>\n",
       "      <td>6.743331</td>\n",
       "    </tr>\n",
       "    <tr>\n",
       "      <th>2</th>\n",
       "      <td>15</td>\n",
       "      <td>36</td>\n",
       "      <td>5602306401</td>\n",
       "      <td>Male</td>\n",
       "      <td>Subgroup P</td>\n",
       "      <td>0</td>\n",
       "      <td>1</td>\n",
       "      <td>3.05</td>\n",
       "      <td>1</td>\n",
       "      <td>86400.0</td>\n",
       "      <td>...</td>\n",
       "      <td>15.597403</td>\n",
       "      <td>10.393478</td>\n",
       "      <td>10.777174</td>\n",
       "      <td>11.659783</td>\n",
       "      <td>6.064177</td>\n",
       "      <td>6.380910</td>\n",
       "      <td>6.548825</td>\n",
       "      <td>6.117186</td>\n",
       "      <td>6.522880</td>\n",
       "      <td>6.771772</td>\n",
       "    </tr>\n",
       "    <tr>\n",
       "      <th>3</th>\n",
       "      <td>36</td>\n",
       "      <td>41</td>\n",
       "      <td>8107765424</td>\n",
       "      <td>Male</td>\n",
       "      <td>Subgroup P</td>\n",
       "      <td>0</td>\n",
       "      <td>1</td>\n",
       "      <td>20.29</td>\n",
       "      <td>1</td>\n",
       "      <td>79176.0</td>\n",
       "      <td>...</td>\n",
       "      <td>12.290043</td>\n",
       "      <td>11.039130</td>\n",
       "      <td>11.023913</td>\n",
       "      <td>11.963043</td>\n",
       "      <td>6.069724</td>\n",
       "      <td>6.365864</td>\n",
       "      <td>6.512409</td>\n",
       "      <td>6.091926</td>\n",
       "      <td>6.469195</td>\n",
       "      <td>6.700504</td>\n",
       "    </tr>\n",
       "    <tr>\n",
       "      <th>4</th>\n",
       "      <td>49</td>\n",
       "      <td>51</td>\n",
       "      <td>7879842771</td>\n",
       "      <td>Male</td>\n",
       "      <td>Subgroup P</td>\n",
       "      <td>0</td>\n",
       "      <td>1</td>\n",
       "      <td>13.66</td>\n",
       "      <td>7</td>\n",
       "      <td>94511.0</td>\n",
       "      <td>...</td>\n",
       "      <td>12.290043</td>\n",
       "      <td>10.760870</td>\n",
       "      <td>11.308696</td>\n",
       "      <td>12.006522</td>\n",
       "      <td>6.069724</td>\n",
       "      <td>6.365864</td>\n",
       "      <td>6.512409</td>\n",
       "      <td>6.091926</td>\n",
       "      <td>6.469195</td>\n",
       "      <td>6.700504</td>\n",
       "    </tr>\n",
       "  </tbody>\n",
       "</table>\n",
       "<p>5 rows × 74 columns</p>\n",
       "</div>"
      ],
      "text/plain": [
       "   ADI  Age   person_id Gender    Subgroup  absence_indicator  \\\n",
       "0   28   37  3030515063   Male  Subgroup P                  0   \n",
       "1   18   34  9786383567   Male  Subgroup P                  0   \n",
       "2   15   36  5602306401   Male  Subgroup P                  0   \n",
       "3   36   41  8107765424   Male  Subgroup P                  0   \n",
       "4   49   51  7879842771   Male  Subgroup P                  0   \n",
       "\n",
       "   analytic_period_id  tenure  overtime    salary  ...  \\\n",
       "0                   1   18.25         1  115700.0  ...   \n",
       "1                   1    3.99         7   81435.0  ...   \n",
       "2                   1    3.05         1   86400.0  ...   \n",
       "3                   1   20.29         1   79176.0  ...   \n",
       "4                   1   13.66         7   94511.0  ...   \n",
       "\n",
       "   extreme_heat_ssp585_2045  wildfire_potential_2018  wildfire_potential_2019  \\\n",
       "0                 13.380953                10.975000                11.460870   \n",
       "1                 13.380953                11.141304                11.520652   \n",
       "2                 15.597403                10.393478                10.777174   \n",
       "3                 12.290043                11.039130                11.023913   \n",
       "4                 12.290043                10.760870                11.308696   \n",
       "\n",
       "   wildfire_potential_2019.1  wildfire_potential_ssp245_2025  \\\n",
       "0                  12.070652                        6.033403   \n",
       "1                  11.871739                        6.033403   \n",
       "2                  11.659783                        6.064177   \n",
       "3                  11.963043                        6.069724   \n",
       "4                  12.006522                        6.069724   \n",
       "\n",
       "   wildfire_potential_ssp245_2035  wildfire_potential_ssp245_2045  \\\n",
       "0                        6.347014                        6.512159   \n",
       "1                        6.347014                        6.512159   \n",
       "2                        6.380910                        6.548825   \n",
       "3                        6.365864                        6.512409   \n",
       "4                        6.365864                        6.512409   \n",
       "\n",
       "   wildfire_potential_ssp585_2025  wildfire_potential_ssp585_2035  \\\n",
       "0                        6.093082                        6.504460   \n",
       "1                        6.093082                        6.504460   \n",
       "2                        6.117186                        6.522880   \n",
       "3                        6.091926                        6.469195   \n",
       "4                        6.091926                        6.469195   \n",
       "\n",
       "   wildfire_potential_ssp585_2045  \n",
       "0                        6.743331  \n",
       "1                        6.743331  \n",
       "2                        6.771772  \n",
       "3                        6.700504  \n",
       "4                        6.700504  \n",
       "\n",
       "[5 rows x 74 columns]"
      ]
     },
     "execution_count": 2,
     "metadata": {},
     "output_type": "execute_result"
    }
   ],
   "source": [
    "df = pd.read_csv('Dataset.csv', index_col=0)\n",
    "df.head()"
   ]
  },
  {
   "cell_type": "code",
   "execution_count": 3,
   "metadata": {
    "scrolled": true
   },
   "outputs": [
    {
     "data": {
      "text/html": [
       "<div>\n",
       "<style scoped>\n",
       "    .dataframe tbody tr th:only-of-type {\n",
       "        vertical-align: middle;\n",
       "    }\n",
       "\n",
       "    .dataframe tbody tr th {\n",
       "        vertical-align: top;\n",
       "    }\n",
       "\n",
       "    .dataframe thead th {\n",
       "        text-align: right;\n",
       "    }\n",
       "</style>\n",
       "<table border=\"1\" class=\"dataframe\">\n",
       "  <thead>\n",
       "    <tr style=\"text-align: right;\">\n",
       "      <th></th>\n",
       "      <th>ADI</th>\n",
       "      <th>Age</th>\n",
       "      <th>person_id</th>\n",
       "      <th>Gender</th>\n",
       "      <th>Subgroup</th>\n",
       "      <th>absence_indicator</th>\n",
       "      <th>analytic_period_id</th>\n",
       "      <th>tenure</th>\n",
       "      <th>overtime</th>\n",
       "      <th>salary</th>\n",
       "      <th>...</th>\n",
       "      <th>extreme_heat_ssp585_2045</th>\n",
       "      <th>wildfire_potential_2018</th>\n",
       "      <th>wildfire_potential_2019</th>\n",
       "      <th>wildfire_potential_2019.1</th>\n",
       "      <th>wildfire_potential_ssp245_2025</th>\n",
       "      <th>wildfire_potential_ssp245_2035</th>\n",
       "      <th>wildfire_potential_ssp245_2045</th>\n",
       "      <th>wildfire_potential_ssp585_2025</th>\n",
       "      <th>wildfire_potential_ssp585_2035</th>\n",
       "      <th>wildfire_potential_ssp585_2045</th>\n",
       "    </tr>\n",
       "  </thead>\n",
       "  <tbody>\n",
       "    <tr>\n",
       "      <th>0</th>\n",
       "      <td>28</td>\n",
       "      <td>37</td>\n",
       "      <td>3030515063</td>\n",
       "      <td>1</td>\n",
       "      <td>Subgroup P</td>\n",
       "      <td>0</td>\n",
       "      <td>1</td>\n",
       "      <td>18.25</td>\n",
       "      <td>1</td>\n",
       "      <td>115700.0</td>\n",
       "      <td>...</td>\n",
       "      <td>13.380953</td>\n",
       "      <td>10.975000</td>\n",
       "      <td>11.460870</td>\n",
       "      <td>12.070652</td>\n",
       "      <td>6.033403</td>\n",
       "      <td>6.347014</td>\n",
       "      <td>6.512159</td>\n",
       "      <td>6.093082</td>\n",
       "      <td>6.504460</td>\n",
       "      <td>6.743331</td>\n",
       "    </tr>\n",
       "    <tr>\n",
       "      <th>1</th>\n",
       "      <td>18</td>\n",
       "      <td>34</td>\n",
       "      <td>9786383567</td>\n",
       "      <td>1</td>\n",
       "      <td>Subgroup P</td>\n",
       "      <td>0</td>\n",
       "      <td>1</td>\n",
       "      <td>3.99</td>\n",
       "      <td>7</td>\n",
       "      <td>81435.0</td>\n",
       "      <td>...</td>\n",
       "      <td>13.380953</td>\n",
       "      <td>11.141304</td>\n",
       "      <td>11.520652</td>\n",
       "      <td>11.871739</td>\n",
       "      <td>6.033403</td>\n",
       "      <td>6.347014</td>\n",
       "      <td>6.512159</td>\n",
       "      <td>6.093082</td>\n",
       "      <td>6.504460</td>\n",
       "      <td>6.743331</td>\n",
       "    </tr>\n",
       "    <tr>\n",
       "      <th>2</th>\n",
       "      <td>15</td>\n",
       "      <td>36</td>\n",
       "      <td>5602306401</td>\n",
       "      <td>1</td>\n",
       "      <td>Subgroup P</td>\n",
       "      <td>0</td>\n",
       "      <td>1</td>\n",
       "      <td>3.05</td>\n",
       "      <td>1</td>\n",
       "      <td>86400.0</td>\n",
       "      <td>...</td>\n",
       "      <td>15.597403</td>\n",
       "      <td>10.393478</td>\n",
       "      <td>10.777174</td>\n",
       "      <td>11.659783</td>\n",
       "      <td>6.064177</td>\n",
       "      <td>6.380910</td>\n",
       "      <td>6.548825</td>\n",
       "      <td>6.117186</td>\n",
       "      <td>6.522880</td>\n",
       "      <td>6.771772</td>\n",
       "    </tr>\n",
       "    <tr>\n",
       "      <th>3</th>\n",
       "      <td>36</td>\n",
       "      <td>41</td>\n",
       "      <td>8107765424</td>\n",
       "      <td>1</td>\n",
       "      <td>Subgroup P</td>\n",
       "      <td>0</td>\n",
       "      <td>1</td>\n",
       "      <td>20.29</td>\n",
       "      <td>1</td>\n",
       "      <td>79176.0</td>\n",
       "      <td>...</td>\n",
       "      <td>12.290043</td>\n",
       "      <td>11.039130</td>\n",
       "      <td>11.023913</td>\n",
       "      <td>11.963043</td>\n",
       "      <td>6.069724</td>\n",
       "      <td>6.365864</td>\n",
       "      <td>6.512409</td>\n",
       "      <td>6.091926</td>\n",
       "      <td>6.469195</td>\n",
       "      <td>6.700504</td>\n",
       "    </tr>\n",
       "    <tr>\n",
       "      <th>4</th>\n",
       "      <td>49</td>\n",
       "      <td>51</td>\n",
       "      <td>7879842771</td>\n",
       "      <td>1</td>\n",
       "      <td>Subgroup P</td>\n",
       "      <td>0</td>\n",
       "      <td>1</td>\n",
       "      <td>13.66</td>\n",
       "      <td>7</td>\n",
       "      <td>94511.0</td>\n",
       "      <td>...</td>\n",
       "      <td>12.290043</td>\n",
       "      <td>10.760870</td>\n",
       "      <td>11.308696</td>\n",
       "      <td>12.006522</td>\n",
       "      <td>6.069724</td>\n",
       "      <td>6.365864</td>\n",
       "      <td>6.512409</td>\n",
       "      <td>6.091926</td>\n",
       "      <td>6.469195</td>\n",
       "      <td>6.700504</td>\n",
       "    </tr>\n",
       "  </tbody>\n",
       "</table>\n",
       "<p>5 rows × 74 columns</p>\n",
       "</div>"
      ],
      "text/plain": [
       "   ADI  Age   person_id  Gender    Subgroup  absence_indicator  \\\n",
       "0   28   37  3030515063       1  Subgroup P                  0   \n",
       "1   18   34  9786383567       1  Subgroup P                  0   \n",
       "2   15   36  5602306401       1  Subgroup P                  0   \n",
       "3   36   41  8107765424       1  Subgroup P                  0   \n",
       "4   49   51  7879842771       1  Subgroup P                  0   \n",
       "\n",
       "   analytic_period_id  tenure  overtime    salary  ...  \\\n",
       "0                   1   18.25         1  115700.0  ...   \n",
       "1                   1    3.99         7   81435.0  ...   \n",
       "2                   1    3.05         1   86400.0  ...   \n",
       "3                   1   20.29         1   79176.0  ...   \n",
       "4                   1   13.66         7   94511.0  ...   \n",
       "\n",
       "   extreme_heat_ssp585_2045  wildfire_potential_2018  wildfire_potential_2019  \\\n",
       "0                 13.380953                10.975000                11.460870   \n",
       "1                 13.380953                11.141304                11.520652   \n",
       "2                 15.597403                10.393478                10.777174   \n",
       "3                 12.290043                11.039130                11.023913   \n",
       "4                 12.290043                10.760870                11.308696   \n",
       "\n",
       "   wildfire_potential_2019.1  wildfire_potential_ssp245_2025  \\\n",
       "0                  12.070652                        6.033403   \n",
       "1                  11.871739                        6.033403   \n",
       "2                  11.659783                        6.064177   \n",
       "3                  11.963043                        6.069724   \n",
       "4                  12.006522                        6.069724   \n",
       "\n",
       "   wildfire_potential_ssp245_2035  wildfire_potential_ssp245_2045  \\\n",
       "0                        6.347014                        6.512159   \n",
       "1                        6.347014                        6.512159   \n",
       "2                        6.380910                        6.548825   \n",
       "3                        6.365864                        6.512409   \n",
       "4                        6.365864                        6.512409   \n",
       "\n",
       "   wildfire_potential_ssp585_2025  wildfire_potential_ssp585_2035  \\\n",
       "0                        6.093082                        6.504460   \n",
       "1                        6.093082                        6.504460   \n",
       "2                        6.117186                        6.522880   \n",
       "3                        6.091926                        6.469195   \n",
       "4                        6.091926                        6.469195   \n",
       "\n",
       "   wildfire_potential_ssp585_2045  \n",
       "0                        6.743331  \n",
       "1                        6.743331  \n",
       "2                        6.771772  \n",
       "3                        6.700504  \n",
       "4                        6.700504  \n",
       "\n",
       "[5 rows x 74 columns]"
      ]
     },
     "execution_count": 3,
     "metadata": {},
     "output_type": "execute_result"
    }
   ],
   "source": [
    "# set gender to 1 and 0\n",
    "\n",
    "df['Gender'] = np.where(df['Gender'] == 'Male', 1, 0)\n",
    "df.head()"
   ]
  },
  {
   "cell_type": "code",
   "execution_count": 4,
   "metadata": {},
   "outputs": [
    {
     "data": {
      "text/html": [
       "<div>\n",
       "<style scoped>\n",
       "    .dataframe tbody tr th:only-of-type {\n",
       "        vertical-align: middle;\n",
       "    }\n",
       "\n",
       "    .dataframe tbody tr th {\n",
       "        vertical-align: top;\n",
       "    }\n",
       "\n",
       "    .dataframe thead th {\n",
       "        text-align: right;\n",
       "    }\n",
       "</style>\n",
       "<table border=\"1\" class=\"dataframe\">\n",
       "  <thead>\n",
       "    <tr style=\"text-align: right;\">\n",
       "      <th></th>\n",
       "      <th>ADI</th>\n",
       "      <th>Age</th>\n",
       "      <th>person_id</th>\n",
       "      <th>Gender</th>\n",
       "      <th>Subgroup</th>\n",
       "      <th>absence_indicator</th>\n",
       "      <th>analytic_period_id</th>\n",
       "      <th>tenure</th>\n",
       "      <th>overtime</th>\n",
       "      <th>salary</th>\n",
       "      <th>...</th>\n",
       "      <th>extreme_heat_ssp585_2045</th>\n",
       "      <th>wildfire_potential_2018</th>\n",
       "      <th>wildfire_potential_2019</th>\n",
       "      <th>wildfire_potential_2019.1</th>\n",
       "      <th>wildfire_potential_ssp245_2025</th>\n",
       "      <th>wildfire_potential_ssp245_2035</th>\n",
       "      <th>wildfire_potential_ssp245_2045</th>\n",
       "      <th>wildfire_potential_ssp585_2025</th>\n",
       "      <th>wildfire_potential_ssp585_2035</th>\n",
       "      <th>wildfire_potential_ssp585_2045</th>\n",
       "    </tr>\n",
       "  </thead>\n",
       "  <tbody>\n",
       "    <tr>\n",
       "      <th>0</th>\n",
       "      <td>28</td>\n",
       "      <td>37</td>\n",
       "      <td>3030515063</td>\n",
       "      <td>1</td>\n",
       "      <td>Subgroup P</td>\n",
       "      <td>0</td>\n",
       "      <td>1</td>\n",
       "      <td>18.25</td>\n",
       "      <td>1</td>\n",
       "      <td>115700.0</td>\n",
       "      <td>...</td>\n",
       "      <td>13.380953</td>\n",
       "      <td>10.975000</td>\n",
       "      <td>11.460870</td>\n",
       "      <td>12.070652</td>\n",
       "      <td>6.033403</td>\n",
       "      <td>6.347014</td>\n",
       "      <td>6.512159</td>\n",
       "      <td>6.093082</td>\n",
       "      <td>6.504460</td>\n",
       "      <td>6.743331</td>\n",
       "    </tr>\n",
       "    <tr>\n",
       "      <th>1</th>\n",
       "      <td>18</td>\n",
       "      <td>34</td>\n",
       "      <td>9786383567</td>\n",
       "      <td>1</td>\n",
       "      <td>Subgroup P</td>\n",
       "      <td>0</td>\n",
       "      <td>1</td>\n",
       "      <td>3.99</td>\n",
       "      <td>7</td>\n",
       "      <td>81435.0</td>\n",
       "      <td>...</td>\n",
       "      <td>13.380953</td>\n",
       "      <td>11.141304</td>\n",
       "      <td>11.520652</td>\n",
       "      <td>11.871739</td>\n",
       "      <td>6.033403</td>\n",
       "      <td>6.347014</td>\n",
       "      <td>6.512159</td>\n",
       "      <td>6.093082</td>\n",
       "      <td>6.504460</td>\n",
       "      <td>6.743331</td>\n",
       "    </tr>\n",
       "    <tr>\n",
       "      <th>2</th>\n",
       "      <td>15</td>\n",
       "      <td>36</td>\n",
       "      <td>5602306401</td>\n",
       "      <td>1</td>\n",
       "      <td>Subgroup P</td>\n",
       "      <td>0</td>\n",
       "      <td>1</td>\n",
       "      <td>3.05</td>\n",
       "      <td>1</td>\n",
       "      <td>86400.0</td>\n",
       "      <td>...</td>\n",
       "      <td>15.597403</td>\n",
       "      <td>10.393478</td>\n",
       "      <td>10.777174</td>\n",
       "      <td>11.659783</td>\n",
       "      <td>6.064177</td>\n",
       "      <td>6.380910</td>\n",
       "      <td>6.548825</td>\n",
       "      <td>6.117186</td>\n",
       "      <td>6.522880</td>\n",
       "      <td>6.771772</td>\n",
       "    </tr>\n",
       "    <tr>\n",
       "      <th>3</th>\n",
       "      <td>36</td>\n",
       "      <td>41</td>\n",
       "      <td>8107765424</td>\n",
       "      <td>1</td>\n",
       "      <td>Subgroup P</td>\n",
       "      <td>0</td>\n",
       "      <td>1</td>\n",
       "      <td>20.29</td>\n",
       "      <td>1</td>\n",
       "      <td>79176.0</td>\n",
       "      <td>...</td>\n",
       "      <td>12.290043</td>\n",
       "      <td>11.039130</td>\n",
       "      <td>11.023913</td>\n",
       "      <td>11.963043</td>\n",
       "      <td>6.069724</td>\n",
       "      <td>6.365864</td>\n",
       "      <td>6.512409</td>\n",
       "      <td>6.091926</td>\n",
       "      <td>6.469195</td>\n",
       "      <td>6.700504</td>\n",
       "    </tr>\n",
       "    <tr>\n",
       "      <th>4</th>\n",
       "      <td>49</td>\n",
       "      <td>51</td>\n",
       "      <td>7879842771</td>\n",
       "      <td>1</td>\n",
       "      <td>Subgroup P</td>\n",
       "      <td>0</td>\n",
       "      <td>1</td>\n",
       "      <td>13.66</td>\n",
       "      <td>7</td>\n",
       "      <td>94511.0</td>\n",
       "      <td>...</td>\n",
       "      <td>12.290043</td>\n",
       "      <td>10.760870</td>\n",
       "      <td>11.308696</td>\n",
       "      <td>12.006522</td>\n",
       "      <td>6.069724</td>\n",
       "      <td>6.365864</td>\n",
       "      <td>6.512409</td>\n",
       "      <td>6.091926</td>\n",
       "      <td>6.469195</td>\n",
       "      <td>6.700504</td>\n",
       "    </tr>\n",
       "  </tbody>\n",
       "</table>\n",
       "<p>5 rows × 74 columns</p>\n",
       "</div>"
      ],
      "text/plain": [
       "   ADI  Age   person_id  Gender    Subgroup  absence_indicator  \\\n",
       "0   28   37  3030515063       1  Subgroup P                  0   \n",
       "1   18   34  9786383567       1  Subgroup P                  0   \n",
       "2   15   36  5602306401       1  Subgroup P                  0   \n",
       "3   36   41  8107765424       1  Subgroup P                  0   \n",
       "4   49   51  7879842771       1  Subgroup P                  0   \n",
       "\n",
       "   analytic_period_id  tenure  overtime    salary  ...  \\\n",
       "0                   1   18.25         1  115700.0  ...   \n",
       "1                   1    3.99         7   81435.0  ...   \n",
       "2                   1    3.05         1   86400.0  ...   \n",
       "3                   1   20.29         1   79176.0  ...   \n",
       "4                   1   13.66         7   94511.0  ...   \n",
       "\n",
       "   extreme_heat_ssp585_2045  wildfire_potential_2018  wildfire_potential_2019  \\\n",
       "0                 13.380953                10.975000                11.460870   \n",
       "1                 13.380953                11.141304                11.520652   \n",
       "2                 15.597403                10.393478                10.777174   \n",
       "3                 12.290043                11.039130                11.023913   \n",
       "4                 12.290043                10.760870                11.308696   \n",
       "\n",
       "   wildfire_potential_2019.1  wildfire_potential_ssp245_2025  \\\n",
       "0                  12.070652                        6.033403   \n",
       "1                  11.871739                        6.033403   \n",
       "2                  11.659783                        6.064177   \n",
       "3                  11.963043                        6.069724   \n",
       "4                  12.006522                        6.069724   \n",
       "\n",
       "   wildfire_potential_ssp245_2035  wildfire_potential_ssp245_2045  \\\n",
       "0                        6.347014                        6.512159   \n",
       "1                        6.347014                        6.512159   \n",
       "2                        6.380910                        6.548825   \n",
       "3                        6.365864                        6.512409   \n",
       "4                        6.365864                        6.512409   \n",
       "\n",
       "   wildfire_potential_ssp585_2025  wildfire_potential_ssp585_2035  \\\n",
       "0                        6.093082                        6.504460   \n",
       "1                        6.093082                        6.504460   \n",
       "2                        6.117186                        6.522880   \n",
       "3                        6.091926                        6.469195   \n",
       "4                        6.091926                        6.469195   \n",
       "\n",
       "   wildfire_potential_ssp585_2045  \n",
       "0                        6.743331  \n",
       "1                        6.743331  \n",
       "2                        6.771772  \n",
       "3                        6.700504  \n",
       "4                        6.700504  \n",
       "\n",
       "[5 rows x 74 columns]"
      ]
     },
     "execution_count": 4,
     "metadata": {},
     "output_type": "execute_result"
    }
   ],
   "source": [
    "# uncomment below to run for outdoor\n",
    "df_P = pd.DataFrame(df[df['Subgroup'] == 'Subgroup P'])\n",
    "\n",
    "# uncomment below to run for indoor\n",
    "# df_P = pd.DataFrame(df[df['Subgroup'] == 'Subgroup C'])\n",
    "\n",
    "df_P.head()"
   ]
  },
  {
   "cell_type": "code",
   "execution_count": 5,
   "metadata": {},
   "outputs": [
    {
     "data": {
      "text/plain": [
       "(19623, 74)"
      ]
     },
     "execution_count": 5,
     "metadata": {},
     "output_type": "execute_result"
    }
   ],
   "source": [
    "df_P.shape"
   ]
  },
  {
   "cell_type": "code",
   "execution_count": 6,
   "metadata": {},
   "outputs": [
    {
     "data": {
      "text/plain": [
       "(19623, 74)"
      ]
     },
     "execution_count": 6,
     "metadata": {},
     "output_type": "execute_result"
    }
   ],
   "source": [
    "# Data Cleaning\n",
    "\n",
    "df_wrong_days = df_P.loc[df_P['absence_indicator'] > 365]\n",
    "df_P = df_P.drop(df_wrong_days.index)\n",
    "\n",
    "df_P.shape"
   ]
  },
  {
   "cell_type": "code",
   "execution_count": 7,
   "metadata": {},
   "outputs": [
    {
     "name": "stdout",
     "output_type": "stream",
     "text": [
      "<class 'pandas.core.frame.DataFrame'>\n",
      "Index: 19623 entries, 0 to 39616\n",
      "Data columns (total 74 columns):\n",
      " #   Column                              Non-Null Count  Dtype  \n",
      "---  ------                              --------------  -----  \n",
      " 0   ADI                                 19623 non-null  int64  \n",
      " 1   Age                                 19623 non-null  int64  \n",
      " 2   person_id                           19623 non-null  int64  \n",
      " 3   Gender                              19623 non-null  int32  \n",
      " 4   Subgroup                            19623 non-null  object \n",
      " 5   absence_indicator                   19623 non-null  int64  \n",
      " 6   analytic_period_id                  19623 non-null  int64  \n",
      " 7   tenure                              19623 non-null  float64\n",
      " 8   overtime                            19623 non-null  int64  \n",
      " 9   salary                              19623 non-null  float64\n",
      " 10  performance_rating                  19623 non-null  int64  \n",
      " 11  BiometricScreeningParticipants      19623 non-null  int64  \n",
      " 12  HRQParticipants                     19623 non-null  int64  \n",
      " 13  lsbio_cholesterol                   19623 non-null  int64  \n",
      " 14  lsbio_glucose                       19623 non-null  int64  \n",
      " 15  lsbio_bp                            19623 non-null  int64  \n",
      " 16  lsbio_weight                        19623 non-null  int64  \n",
      " 17  lsbio_trig                          19623 non-null  int64  \n",
      " 18  lshrq_physact                       19623 non-null  int64  \n",
      " 19  lshrq_tobacco                       19623 non-null  int64  \n",
      " 20  lshrq_nutrition                     19623 non-null  int64  \n",
      " 21  lshrq_stress                        19623 non-null  int64  \n",
      " 22  lshrq_genHealth                     19623 non-null  int64  \n",
      " 23  lshrq_wellbeing                     19623 non-null  int64  \n",
      " 24  lshrq_alcohol                       19623 non-null  int64  \n",
      " 25  lshrq_sleeping                      19623 non-null  int64  \n",
      " 26  cc_RespiratorySinusAllergy_chronic  19623 non-null  int64  \n",
      " 27  cc_diabetes                         19623 non-null  int64  \n",
      " 28  cc_cancer                           19623 non-null  int64  \n",
      " 29  cc_mskChronic                       19623 non-null  int64  \n",
      " 30  cc_cholesterol                      19623 non-null  int64  \n",
      " 31  cc_cardiac                          19623 non-null  int64  \n",
      " 32  cc_depression                       19623 non-null  int64  \n",
      " 33  cc_obesity                          19623 non-null  int64  \n",
      " 34  cc_mskAllOther                      19623 non-null  int64  \n",
      " 35  cc_behavioralAllOther               19623 non-null  int64  \n",
      " 36  cc_ckd                              19623 non-null  int64  \n",
      " 37  concurrent_risk                     19623 non-null  float64\n",
      " 38  rx_nonClaimant                      19623 non-null  int64  \n",
      " 39  rx_nonCompliant                     19623 non-null  int64  \n",
      " 40  prog_1                              19623 non-null  int64  \n",
      " 41  prog_2                              19623 non-null  int64  \n",
      " 42  prog_3                              19623 non-null  int64  \n",
      " 43  prog_4                              19623 non-null  int64  \n",
      " 44  prog_5                              19623 non-null  int64  \n",
      " 45  prog_6                              19623 non-null  int64  \n",
      " 46  prog_7                              19623 non-null  int64  \n",
      " 47  prog_8                              19623 non-null  int64  \n",
      " 48  prog_9                              19623 non-null  int64  \n",
      " 49  prog_10                             19623 non-null  int64  \n",
      " 50  prog_11                             19623 non-null  int64  \n",
      " 51  prog_12                             19623 non-null  int64  \n",
      " 52  prog_13                             19623 non-null  int64  \n",
      " 53  prog_14                             19623 non-null  int64  \n",
      " 54  prog_15                             19623 non-null  int64  \n",
      " 55  prog_16                             19623 non-null  int64  \n",
      " 56  extreme_heat_2018                   19623 non-null  int64  \n",
      " 57  extreme_heat_2019                   19623 non-null  int64  \n",
      " 58  extreme_heat_2020                   19623 non-null  int64  \n",
      " 59  extreme_heat_ssp245_2025            19623 non-null  float64\n",
      " 60  extreme_heat_ssp245_2035            19623 non-null  float64\n",
      " 61  extreme_heat_ssp245_2045            19623 non-null  float64\n",
      " 62  extreme_heat_ssp585_2025            19623 non-null  float64\n",
      " 63  extreme_heat_ssp585_2035            19623 non-null  float64\n",
      " 64  extreme_heat_ssp585_2045            19623 non-null  float64\n",
      " 65  wildfire_potential_2018             19623 non-null  float64\n",
      " 66  wildfire_potential_2019             19623 non-null  float64\n",
      " 67  wildfire_potential_2019.1           19623 non-null  float64\n",
      " 68  wildfire_potential_ssp245_2025      19623 non-null  float64\n",
      " 69  wildfire_potential_ssp245_2035      19623 non-null  float64\n",
      " 70  wildfire_potential_ssp245_2045      19623 non-null  float64\n",
      " 71  wildfire_potential_ssp585_2025      19623 non-null  float64\n",
      " 72  wildfire_potential_ssp585_2035      19623 non-null  float64\n",
      " 73  wildfire_potential_ssp585_2045      19623 non-null  float64\n",
      "dtypes: float64(18), int32(1), int64(54), object(1)\n",
      "memory usage: 11.2+ MB\n"
     ]
    }
   ],
   "source": [
    "df_P.info()"
   ]
  },
  {
   "cell_type": "code",
   "execution_count": 8,
   "metadata": {},
   "outputs": [],
   "source": [
    "health_factors = ['ADI', 'Age', 'Gender', 'lsbio_cholesterol', 'lsbio_glucose', 'lsbio_bp', 'lsbio_weight', 'lsbio_trig', \n",
    "                  'lshrq_physact', 'lshrq_tobacco', 'lshrq_nutrition', 'lshrq_stress', 'lshrq_genHealth', 'lshrq_wellbeing', 'lshrq_alcohol', 'lshrq_sleeping', \n",
    "                  'cc_RespiratorySinusAllergy_chronic', 'cc_diabetes', 'cc_cancer', 'cc_mskChronic', 'cc_cholesterol', 'cc_cardiac', 'cc_depression', 'cc_obesity', \n",
    "                  'cc_mskAllOther', 'cc_behavioralAllOther', 'cc_ckd', 'concurrent_risk', 'rx_nonClaimant', 'rx_nonCompliant']\n",
    "\n",
    "categorical_variables = ['Gender', 'lsbio_cholesterol', 'lsbio_glucose', 'lsbio_bp', 'lsbio_weight', 'lsbio_trig', \n",
    "                         'lshrq_physact', 'lshrq_tobacco', 'lshrq_nutrition', 'lshrq_stress', 'lshrq_genHealth', 'lshrq_wellbeing', 'lshrq_alcohol', 'lshrq_sleeping', \n",
    "                         'cc_RespiratorySinusAllergy_chronic', 'cc_diabetes', 'cc_cancer', 'cc_mskChronic', 'cc_cholesterol', 'cc_cardiac', 'cc_depression', 'cc_obesity', \n",
    "                         'cc_mskAllOther', 'cc_behavioralAllOther', 'cc_ckd', 'concurrent_risk', 'rx_nonClaimant', 'rx_nonCompliant']"
   ]
  },
  {
   "cell_type": "markdown",
   "metadata": {},
   "source": [
    "# absence_indicator vs health"
   ]
  },
  {
   "cell_type": "markdown",
   "metadata": {},
   "source": [
    "## linear regression"
   ]
  },
  {
   "cell_type": "code",
   "execution_count": 9,
   "metadata": {},
   "outputs": [
    {
     "name": "stdout",
     "output_type": "stream",
     "text": [
      "Train Set : (14717, 1) (14717, 30)\n",
      "Test Set  : (4906, 1) (4906, 30)\n"
     ]
    }
   ],
   "source": [
    "# y variable = absence_indicator\n",
    "# x variables = health_factors\n",
    "from sklearn.model_selection import train_test_split\n",
    "from sklearn.linear_model import LinearRegression\n",
    "from sklearn.metrics import mean_squared_error\n",
    "\n",
    "y = pd.DataFrame(df_P['absence_indicator'])\n",
    "x = pd.DataFrame(df_P[health_factors])\n",
    "\n",
    "x[categorical_variables] = x[categorical_variables].astype('category')\n",
    "\n",
    "x_train, x_test, y_train, y_test = train_test_split(x, y, test_size = 0.25)\n",
    "\n",
    "print(\"Train Set :\", y_train.shape, x_train.shape)\n",
    "print(\"Test Set  :\", y_test.shape, x_test.shape)"
   ]
  },
  {
   "cell_type": "code",
   "execution_count": 10,
   "metadata": {},
   "outputs": [
    {
     "data": {
      "text/plain": [
       "array([  0,  25,  18,  46,   2,   9,  42, 101,  52,   1,  64, 126,  11,\n",
       "        17,  31,   5,  29,  86,   6,  15,  75,  16,  21,  32,   4,  81,\n",
       "        39,  20,  56,  45,  44,  19,   7,  36,  27,  10,  33,  43,  65,\n",
       "        37,  61,  12, 115,  91,  30,  50,  59,  71,  55,  38,   8, 106,\n",
       "        40,  48,  22,  58,  35,  13,  96,  60,  26,  83, 132,  47,  77,\n",
       "        28,  88,  78, 181,  23,   3, 121,  66,  57,  82, 111,  51,  89,\n",
       "        74,  69,  67,  14,  24, 112,  85,  92, 203,  41, 114, 156, 161,\n",
       "       125, 105, 110,  72,  98,  53,  63,  95,  84,  76,  54,  34, 116,\n",
       "        90, 141, 118, 131, 204,  80,  73, 104,  99, 245, 138, 119, 150,\n",
       "        70,  93, 188,  97,  68, 100, 136, 235, 182, 261,  94, 102, 217,\n",
       "       358, 322, 226,  62, 152, 120, 129, 218, 117, 163, 142, 133, 240,\n",
       "       147, 122, 211,  87, 127, 109, 113,  79, 128, 124, 199, 103, 154,\n",
       "       262, 201,  49, 184, 145, 169, 265, 171, 214, 149, 123, 168, 195],\n",
       "      dtype=int64)"
      ]
     },
     "execution_count": 10,
     "metadata": {},
     "output_type": "execute_result"
    }
   ],
   "source": [
    "y.absence_indicator.unique()"
   ]
  },
  {
   "cell_type": "code",
   "execution_count": 11,
   "metadata": {},
   "outputs": [
    {
     "data": {
      "text/plain": [
       "absence_indicator\n",
       "0      15752\n",
       "1        641\n",
       "6        227\n",
       "11       180\n",
       "16       132\n",
       "       ...  \n",
       "226        1\n",
       "218        1\n",
       "163        1\n",
       "147        1\n",
       "195        1\n",
       "Name: count, Length: 169, dtype: int64"
      ]
     },
     "execution_count": 11,
     "metadata": {},
     "output_type": "execute_result"
    }
   ],
   "source": [
    "y.absence_indicator.value_counts()"
   ]
  },
  {
   "cell_type": "code",
   "execution_count": 12,
   "metadata": {},
   "outputs": [
    {
     "name": "stdout",
     "output_type": "stream",
     "text": [
      "Intercept of Regression \t: b =  [2.04846281]\n",
      "Goodness of Fit of Model \tTrain Dataset\n",
      "Explained Variance (R^2) \t: 0.15354278006670363\n",
      "Mean Squared Error (MSE) \t: 318.7078609727103\n",
      "\n",
      "Goodness of Fit of Model \tTest Dataset\n",
      "Explained Variance (R^2) \t: 0.13309885326108228\n",
      "Mean Squared Error (MSE) \t: 344.58361081832174\n",
      "\n"
     ]
    }
   ],
   "source": [
    "linreg = LinearRegression()\n",
    "\n",
    "linreg.fit(x_train, y_train)\n",
    "\n",
    "print('Intercept of Regression \\t: b = ', linreg.intercept_)\n",
    "\n",
    "y_train_pred = linreg.predict(x_train)\n",
    "y_test_pred = linreg.predict(x_test)\n",
    "\n",
    "# Check the Goodness of Fit (on Train Data)\n",
    "print(\"Goodness of Fit of Model \\tTrain Dataset\")\n",
    "print(\"Explained Variance (R^2) \\t:\", linreg.score(x_train, y_train))\n",
    "print(\"Mean Squared Error (MSE) \\t:\", mean_squared_error(y_train, y_train_pred))\n",
    "print()\n",
    "\n",
    "# Check the Goodness of Fit (on Test Data)\n",
    "print(\"Goodness of Fit of Model \\tTest Dataset\")\n",
    "print(\"Explained Variance (R^2) \\t:\", linreg.score(x_test, y_test))\n",
    "print(\"Mean Squared Error (MSE) \\t:\", mean_squared_error(y_test, y_test_pred))\n",
    "print()"
   ]
  },
  {
   "cell_type": "code",
   "execution_count": 13,
   "metadata": {},
   "outputs": [
    {
     "name": "stdout",
     "output_type": "stream",
     "text": [
      "                            OLS Regression Results                            \n",
      "==============================================================================\n",
      "Dep. Variable:      absence_indicator   R-squared:                       0.154\n",
      "Model:                            OLS   Adj. R-squared:                  0.152\n",
      "Method:                 Least Squares   F-statistic:                     88.80\n",
      "Date:                Fri, 05 Apr 2024   Prob (F-statistic):               0.00\n",
      "Time:                        23:27:38   Log-Likelihood:                -63299.\n",
      "No. Observations:               14717   AIC:                         1.267e+05\n",
      "Df Residuals:                   14686   BIC:                         1.269e+05\n",
      "Df Model:                          30                                         \n",
      "Covariance Type:            nonrobust                                         \n",
      "======================================================================================================\n",
      "                                         coef    std err          t      P>|t|      [0.025      0.975]\n",
      "------------------------------------------------------------------------------------------------------\n",
      "const                                  2.0485      0.989      2.071      0.038       0.110       3.987\n",
      "ADI                                    0.0419      0.010      3.999      0.000       0.021       0.063\n",
      "Age                                   -0.0951      0.015     -6.321      0.000      -0.125      -0.066\n",
      "Gender                                -1.4051      0.409     -3.439      0.001      -2.206      -0.604\n",
      "lsbio_cholesterol                     -0.1040      0.547     -0.190      0.849      -1.177       0.969\n",
      "lsbio_glucose                         -1.7029      1.508     -1.129      0.259      -4.660       1.254\n",
      "lsbio_bp                              -0.5321      0.554     -0.960      0.337      -1.619       0.554\n",
      "lsbio_weight                          -0.5151      0.560     -0.920      0.357      -1.612       0.582\n",
      "lsbio_trig                             0.2863      0.636      0.450      0.653      -0.960       1.533\n",
      "lshrq_physact                         -0.3036      0.420     -0.722      0.470      -1.128       0.521\n",
      "lshrq_tobacco                          0.5149      0.735      0.701      0.483      -0.925       1.955\n",
      "lshrq_nutrition                        0.0330      0.433      0.076      0.939      -0.815       0.881\n",
      "lshrq_stress                          -0.8531      0.539     -1.581      0.114      -1.910       0.204\n",
      "lshrq_genHealth                        0.0122      0.757      0.016      0.987      -1.471       1.496\n",
      "lshrq_wellbeing                       -1.2159      0.633     -1.922      0.055      -2.456       0.024\n",
      "lshrq_alcohol                         -0.5633      0.519     -1.086      0.278      -1.580       0.454\n",
      "lshrq_sleeping                         0.7975      0.651      1.226      0.220      -0.478       2.073\n",
      "cc_RespiratorySinusAllergy_chronic     0.0534      0.585      0.091      0.927      -1.093       1.200\n",
      "cc_diabetes                            0.8671      0.713      1.215      0.224      -0.531       2.266\n",
      "cc_cancer                              0.4511      0.783      0.576      0.565      -1.084       1.987\n",
      "cc_mskChronic                          5.9726      0.362     16.492      0.000       5.263       6.682\n",
      "cc_cholesterol                         0.1226      0.519      0.236      0.813      -0.895       1.140\n",
      "cc_cardiac                             0.3489      0.512      0.682      0.495      -0.654       1.352\n",
      "cc_depression                          9.0563      0.580     15.626      0.000       7.920      10.192\n",
      "cc_obesity                             1.5072      0.361      4.174      0.000       0.799       2.215\n",
      "cc_mskAllOther                         1.1965      0.478      2.501      0.012       0.259       2.134\n",
      "cc_behavioralAllOther                  2.7237      0.442      6.166      0.000       1.858       3.589\n",
      "cc_ckd                                -1.2955      1.814     -0.714      0.475      -4.851       2.261\n",
      "concurrent_risk                        3.3328      0.111     30.157      0.000       3.116       3.549\n",
      "rx_nonClaimant                         1.8833      0.506      3.725      0.000       0.892       2.874\n",
      "rx_nonCompliant                        3.2506      0.637      5.100      0.000       2.001       4.500\n",
      "==============================================================================\n",
      "Omnibus:                    16014.158   Durbin-Watson:                   2.013\n",
      "Prob(Omnibus):                  0.000   Jarque-Bera (JB):          1805748.771\n",
      "Skew:                           5.447   Prob(JB):                         0.00\n",
      "Kurtosis:                      56.161   Cond. No.                         692.\n",
      "==============================================================================\n",
      "\n",
      "Notes:\n",
      "[1] Standard Errors assume that the covariance matrix of the errors is correctly specified.\n"
     ]
    }
   ],
   "source": [
    "import statsmodels.api as sm\n",
    "\n",
    "x_train_with_constant = sm.add_constant(x_train)\n",
    "model = sm.OLS(y_train, x_train_with_constant)\n",
    "result = model.fit()\n",
    "\n",
    "print(result.summary())"
   ]
  },
  {
   "cell_type": "code",
   "execution_count": 14,
   "metadata": {},
   "outputs": [
    {
     "name": "stdout",
     "output_type": "stream",
     "text": [
      "{'p-value': ['const', 'ADI', 'Age', 'Gender', 'lshrq_wellbeing', 'cc_mskChronic', 'cc_depression', 'cc_obesity', 'cc_mskAllOther', 'cc_behavioralAllOther', 'concurrent_risk', 'rx_nonClaimant', 'rx_nonCompliant']}\n"
     ]
    }
   ],
   "source": [
    "significant_variable_P = {}\n",
    "\n",
    "p_value_dataframe = pd.DataFrame(result.pvalues)\n",
    "p_value_dataframe = p_value_dataframe.rename(columns={0: 'p-value'})\n",
    "p_value_dataframe = p_value_dataframe.round(2)\n",
    "\n",
    "significant_variable_P['p-value'] = p_value_dataframe[(p_value_dataframe['p-value'] < 0.1)].index.tolist()\n",
    "\n",
    "\n",
    "print(significant_variable_P)"
   ]
  },
  {
   "cell_type": "code",
   "execution_count": 15,
   "metadata": {},
   "outputs": [
    {
     "data": {
      "image/png": "[encoded data removed]",
      "text/plain": [
       "<Figure size 640x480 with 1 Axes>"
      ]
     },
     "metadata": {},
     "output_type": "display_data"
    }
   ],
   "source": [
    "from statsmodels.graphics.gofplots import qqplot\n",
    "\n",
    "# Obtain residuals\n",
    "residuals = result.resid\n",
    "\n",
    "# Create Q-Q plot of residuals\n",
    "qqplot(residuals, line='s')\n",
    "plt.title('Normal Q-Q Plot of Residuals')\n",
    "plt.xlabel('Theoretical Quantile')\n",
    "plt.ylabel('Standardized Residuals')\n",
    "plt.show()"
   ]
  },
  {
   "cell_type": "markdown",
   "metadata": {},
   "source": [
    "### transformation"
   ]
  },
  {
   "cell_type": "markdown",
   "metadata": {},
   "source": [
    "#### square root"
   ]
  },
  {
   "cell_type": "code",
   "execution_count": 16,
   "metadata": {},
   "outputs": [
    {
     "name": "stdout",
     "output_type": "stream",
     "text": [
      "Train Set : (14717, 1) (14717, 30)\n",
      "Test Set  : (4906, 1) (4906, 30)\n"
     ]
    }
   ],
   "source": [
    "y = pd.DataFrame(df_P['absence_indicator'])\n",
    "y['absence_indicator'] = np.sqrt(y['absence_indicator'])\n",
    "\n",
    "x_train, x_test, y_train, y_test = train_test_split(x, y, test_size = 0.25)\n",
    "\n",
    "print(\"Train Set :\", y_train.shape, x_train.shape)\n",
    "print(\"Test Set  :\", y_test.shape, x_test.shape)"
   ]
  },
  {
   "cell_type": "code",
   "execution_count": 17,
   "metadata": {},
   "outputs": [
    {
     "name": "stdout",
     "output_type": "stream",
     "text": [
      "Intercept of Regression \t: b =  [0.5420731]\n",
      "Goodness of Fit of Model \tTrain Dataset\n",
      "Explained Variance (R^2) \t: 0.20346895259218734\n",
      "Mean Squared Error (MSE) \t: 3.9604675315494213\n",
      "\n",
      "Goodness of Fit of Model \tTest Dataset\n",
      "Explained Variance (R^2) \t: 0.18690334126985264\n",
      "Mean Squared Error (MSE) \t: 4.151127125629937\n",
      "\n"
     ]
    }
   ],
   "source": [
    "linreg = LinearRegression()\n",
    "\n",
    "linreg.fit(x_train, y_train)\n",
    "\n",
    "print('Intercept of Regression \\t: b = ', linreg.intercept_)\n",
    "\n",
    "y_train_pred = linreg.predict(x_train)\n",
    "y_test_pred = linreg.predict(x_test)\n",
    "\n",
    "# Check the Goodness of Fit (on Train Data)\n",
    "print(\"Goodness of Fit of Model \\tTrain Dataset\")\n",
    "print(\"Explained Variance (R^2) \\t:\", linreg.score(x_train, y_train))\n",
    "print(\"Mean Squared Error (MSE) \\t:\", mean_squared_error(y_train, y_train_pred))\n",
    "print()\n",
    "\n",
    "# Check the Goodness of Fit (on Test Data)\n",
    "print(\"Goodness of Fit of Model \\tTest Dataset\")\n",
    "print(\"Explained Variance (R^2) \\t:\", linreg.score(x_test, y_test))\n",
    "print(\"Mean Squared Error (MSE) \\t:\", mean_squared_error(y_test, y_test_pred))\n",
    "print()"
   ]
  },
  {
   "cell_type": "code",
   "execution_count": 18,
   "metadata": {},
   "outputs": [
    {
     "name": "stdout",
     "output_type": "stream",
     "text": [
      "                            OLS Regression Results                            \n",
      "==============================================================================\n",
      "Dep. Variable:      absence_indicator   R-squared:                       0.203\n",
      "Model:                            OLS   Adj. R-squared:                  0.202\n",
      "Method:                 Least Squares   F-statistic:                     125.0\n",
      "Date:                Fri, 05 Apr 2024   Prob (F-statistic):               0.00\n",
      "Time:                        23:27:39   Log-Likelihood:                -31010.\n",
      "No. Observations:               14717   AIC:                         6.208e+04\n",
      "Df Residuals:                   14686   BIC:                         6.232e+04\n",
      "Df Model:                          30                                         \n",
      "Covariance Type:            nonrobust                                         \n",
      "======================================================================================================\n",
      "                                         coef    std err          t      P>|t|      [0.025      0.975]\n",
      "------------------------------------------------------------------------------------------------------\n",
      "const                                  0.5421      0.111      4.888      0.000       0.325       0.759\n",
      "ADI                                    0.0059      0.001      5.042      0.000       0.004       0.008\n",
      "Age                                   -0.0170      0.002    -10.116      0.000      -0.020      -0.014\n",
      "Gender                                -0.1888      0.046     -4.132      0.000      -0.278      -0.099\n",
      "lsbio_cholesterol                     -0.1033      0.061     -1.701      0.089      -0.222       0.016\n",
      "lsbio_glucose                         -0.1614      0.170     -0.952      0.341      -0.494       0.171\n",
      "lsbio_bp                              -0.0953      0.062     -1.542      0.123      -0.216       0.026\n",
      "lsbio_weight                           0.0272      0.063      0.434      0.664      -0.096       0.150\n",
      "lsbio_trig                             0.0820      0.071      1.150      0.250      -0.058       0.222\n",
      "lshrq_physact                         -0.0776      0.047     -1.654      0.098      -0.169       0.014\n",
      "lshrq_tobacco                          0.0224      0.084      0.267      0.790      -0.142       0.187\n",
      "lshrq_nutrition                        0.0665      0.048      1.378      0.168      -0.028       0.161\n",
      "lshrq_stress                          -0.0619      0.060     -1.031      0.302      -0.180       0.056\n",
      "lshrq_genHealth                        0.0260      0.085      0.307      0.759      -0.140       0.192\n",
      "lshrq_wellbeing                       -0.1384      0.071     -1.963      0.050      -0.277      -0.000\n",
      "lshrq_alcohol                         -0.0818      0.058     -1.415      0.157      -0.195       0.032\n",
      "lshrq_sleeping                         0.1234      0.073      1.683      0.092      -0.020       0.267\n",
      "cc_RespiratorySinusAllergy_chronic     0.0413      0.066      0.630      0.529      -0.087       0.170\n",
      "cc_diabetes                            0.0424      0.079      0.535      0.593      -0.113       0.198\n",
      "cc_cancer                              0.1919      0.088      2.169      0.030       0.019       0.365\n",
      "cc_mskChronic                          0.8467      0.040     20.942      0.000       0.767       0.926\n",
      "cc_cholesterol                         0.0284      0.058      0.489      0.625      -0.086       0.142\n",
      "cc_cardiac                             0.1638      0.057      2.850      0.004       0.051       0.276\n",
      "cc_depression                          1.1966      0.065     18.455      0.000       1.069       1.324\n",
      "cc_obesity                             0.1921      0.040      4.770      0.000       0.113       0.271\n",
      "cc_mskAllOther                         0.2371      0.053      4.443      0.000       0.133       0.342\n",
      "cc_behavioralAllOther                  0.4563      0.049      9.236      0.000       0.359       0.553\n",
      "cc_ckd                                 0.2038      0.210      0.972      0.331      -0.207       0.615\n",
      "concurrent_risk                        0.4342      0.013     34.730      0.000       0.410       0.459\n",
      "rx_nonClaimant                         0.2560      0.057      4.512      0.000       0.145       0.367\n",
      "rx_nonCompliant                        0.1843      0.071      2.594      0.009       0.045       0.324\n",
      "==============================================================================\n",
      "Omnibus:                     7208.275   Durbin-Watson:                   1.984\n",
      "Prob(Omnibus):                  0.000   Jarque-Bera (JB):            49085.126\n",
      "Skew:                           2.278   Prob(JB):                         0.00\n",
      "Kurtosis:                      10.700   Cond. No.                         717.\n",
      "==============================================================================\n",
      "\n",
      "Notes:\n",
      "[1] Standard Errors assume that the covariance matrix of the errors is correctly specified.\n"
     ]
    }
   ],
   "source": [
    "import statsmodels.api as sm\n",
    "\n",
    "x_train_with_constant = sm.add_constant(x_train)\n",
    "model = sm.OLS(y_train, x_train_with_constant)\n",
    "result = model.fit()\n",
    "\n",
    "print(result.summary())"
   ]
  },
  {
   "cell_type": "code",
   "execution_count": 19,
   "metadata": {},
   "outputs": [
    {
     "name": "stdout",
     "output_type": "stream",
     "text": [
      "{'p-value': ['const', 'ADI', 'Age', 'Gender', 'lsbio_cholesterol', 'lshrq_wellbeing', 'lshrq_sleeping', 'cc_cancer', 'cc_mskChronic', 'cc_cardiac', 'cc_depression', 'cc_obesity', 'cc_mskAllOther', 'cc_behavioralAllOther', 'concurrent_risk', 'rx_nonClaimant', 'rx_nonCompliant']}\n"
     ]
    }
   ],
   "source": [
    "significant_variable_P = {}\n",
    "\n",
    "p_value_dataframe = pd.DataFrame(result.pvalues)\n",
    "p_value_dataframe = p_value_dataframe.rename(columns={0: 'p-value'})\n",
    "p_value_dataframe = p_value_dataframe.round(2)\n",
    "\n",
    "significant_variable_P['p-value'] = p_value_dataframe[(p_value_dataframe['p-value'] < 0.1)].index.tolist()\n",
    "\n",
    "\n",
    "print(significant_variable_P)"
   ]
  },
  {
   "cell_type": "code",
   "execution_count": 20,
   "metadata": {},
   "outputs": [
    {
     "data": {
      "image/png": "[encoded data removed]",
      "text/plain": [
       "<Figure size 640x480 with 1 Axes>"
      ]
     },
     "metadata": {},
     "output_type": "display_data"
    }
   ],
   "source": [
    "from statsmodels.graphics.gofplots import qqplot\n",
    "\n",
    "# Obtain residuals\n",
    "residuals = result.resid\n",
    "\n",
    "# Create Q-Q plot of residuals\n",
    "qqplot(residuals, line='s')\n",
    "plt.title('Normal Q-Q Plot of Residuals')\n",
    "plt.xlabel('Theoretical Quantile')\n",
    "plt.ylabel('Standardized Residuals')\n",
    "plt.show()"
   ]
  },
  {
   "cell_type": "markdown",
   "metadata": {},
   "source": [
    "#### logarithmic"
   ]
  },
  {
   "cell_type": "code",
   "execution_count": 21,
   "metadata": {},
   "outputs": [
    {
     "name": "stdout",
     "output_type": "stream",
     "text": [
      "Train Set : (14717, 1) (14717, 30)\n",
      "Test Set  : (4906, 1) (4906, 30)\n"
     ]
    },
    {
     "name": "stderr",
     "output_type": "stream",
     "text": [
      "C:\\Users\\Willis\\AppData\\Local\\Temp\\ipykernel_17012\\4257889001.py:2: FutureWarning: Setting an item of incompatible dtype is deprecated and will raise in a future error of pandas. Value '[3.21887582 2.89037176 3.8286414  ... 1.79175947 4.21950771 0.        ]' has dtype incompatible with int64, please explicitly cast to a compatible dtype first.\n",
      "  y.loc[y['absence_indicator'] != 0, 'absence_indicator'] = np.log(y.loc[y['absence_indicator'] != 0, 'absence_indicator'])\n"
     ]
    }
   ],
   "source": [
    "y = pd.DataFrame(df_P['absence_indicator'])\n",
    "y.loc[y['absence_indicator'] != 0, 'absence_indicator'] = np.log(y.loc[y['absence_indicator'] != 0, 'absence_indicator'])\n",
    "\n",
    "x_train, x_test, y_train, y_test = train_test_split(x, y, test_size = 0.25)\n",
    "\n",
    "print(\"Train Set :\", y_train.shape, x_train.shape)\n",
    "print(\"Test Set  :\", y_test.shape, x_test.shape)"
   ]
  },
  {
   "cell_type": "code",
   "execution_count": 22,
   "metadata": {},
   "outputs": [
    {
     "name": "stdout",
     "output_type": "stream",
     "text": [
      "Intercept of Regression \t: b =  [0.30122021]\n",
      "Goodness of Fit of Model \tTrain Dataset\n",
      "Explained Variance (R^2) \t: 0.19181445474058156\n",
      "Mean Squared Error (MSE) \t: 1.1912892062576628\n",
      "\n",
      "Goodness of Fit of Model \tTest Dataset\n",
      "Explained Variance (R^2) \t: 0.20608506356494116\n",
      "Mean Squared Error (MSE) \t: 1.2080772174176906\n",
      "\n"
     ]
    }
   ],
   "source": [
    "linreg = LinearRegression()\n",
    "\n",
    "linreg.fit(x_train, y_train)\n",
    "\n",
    "print('Intercept of Regression \\t: b = ', linreg.intercept_)\n",
    "\n",
    "y_train_pred = linreg.predict(x_train)\n",
    "y_test_pred = linreg.predict(x_test)\n",
    "\n",
    "# Check the Goodness of Fit (on Train Data)\n",
    "print(\"Goodness of Fit of Model \\tTrain Dataset\")\n",
    "print(\"Explained Variance (R^2) \\t:\", linreg.score(x_train, y_train))\n",
    "print(\"Mean Squared Error (MSE) \\t:\", mean_squared_error(y_train, y_train_pred))\n",
    "print()\n",
    "\n",
    "# Check the Goodness of Fit (on Test Data)\n",
    "print(\"Goodness of Fit of Model \\tTest Dataset\")\n",
    "print(\"Explained Variance (R^2) \\t:\", linreg.score(x_test, y_test))\n",
    "print(\"Mean Squared Error (MSE) \\t:\", mean_squared_error(y_test, y_test_pred))\n",
    "print()"
   ]
  },
  {
   "cell_type": "code",
   "execution_count": 23,
   "metadata": {},
   "outputs": [
    {
     "name": "stdout",
     "output_type": "stream",
     "text": [
      "                            OLS Regression Results                            \n",
      "==============================================================================\n",
      "Dep. Variable:      absence_indicator   R-squared:                       0.192\n",
      "Model:                            OLS   Adj. R-squared:                  0.190\n",
      "Method:                 Least Squares   F-statistic:                     116.2\n",
      "Date:                Fri, 05 Apr 2024   Prob (F-statistic):               0.00\n",
      "Time:                        23:27:39   Log-Likelihood:                -22171.\n",
      "No. Observations:               14717   AIC:                         4.440e+04\n",
      "Df Residuals:                   14686   BIC:                         4.464e+04\n",
      "Df Model:                          30                                         \n",
      "Covariance Type:            nonrobust                                         \n",
      "======================================================================================================\n",
      "                                         coef    std err          t      P>|t|      [0.025      0.975]\n",
      "------------------------------------------------------------------------------------------------------\n",
      "const                                  0.3012      0.060      4.983      0.000       0.183       0.420\n",
      "ADI                                    0.0043      0.001      6.712      0.000       0.003       0.006\n",
      "Age                                   -0.0091      0.001     -9.890      0.000      -0.011      -0.007\n",
      "Gender                                -0.1272      0.025     -5.098      0.000      -0.176      -0.078\n",
      "lsbio_cholesterol                     -0.0492      0.033     -1.474      0.140      -0.115       0.016\n",
      "lsbio_glucose                         -0.0021      0.094     -0.022      0.982      -0.186       0.182\n",
      "lsbio_bp                              -0.0566      0.034     -1.678      0.093      -0.123       0.009\n",
      "lsbio_weight                          -0.0067      0.034     -0.197      0.844      -0.074       0.060\n",
      "lsbio_trig                             0.0388      0.039      0.991      0.321      -0.038       0.116\n",
      "lshrq_physact                         -0.0379      0.026     -1.466      0.143      -0.089       0.013\n",
      "lshrq_tobacco                         -0.0457      0.046     -0.996      0.319      -0.136       0.044\n",
      "lshrq_nutrition                        0.0588      0.026      2.221      0.026       0.007       0.111\n",
      "lshrq_stress                          -0.0297      0.033     -0.899      0.369      -0.094       0.035\n",
      "lshrq_genHealth                        0.0356      0.047      0.750      0.453      -0.057       0.129\n",
      "lshrq_wellbeing                       -0.0966      0.039     -2.492      0.013      -0.173      -0.021\n",
      "lshrq_alcohol                         -0.0309      0.032     -0.981      0.326      -0.093       0.031\n",
      "lshrq_sleeping                         0.0830      0.040      2.081      0.037       0.005       0.161\n",
      "cc_RespiratorySinusAllergy_chronic     0.0166      0.036      0.462      0.644      -0.054       0.087\n",
      "cc_diabetes                           -0.0254      0.043     -0.589      0.556      -0.110       0.059\n",
      "cc_cancer                              0.1420      0.048      2.967      0.003       0.048       0.236\n",
      "cc_mskChronic                          0.4742      0.022     21.479      0.000       0.431       0.517\n",
      "cc_cholesterol                        -0.0296      0.032     -0.930      0.353      -0.092       0.033\n",
      "cc_cardiac                             0.1155      0.031      3.710      0.000       0.054       0.177\n",
      "cc_depression                          0.6017      0.035     17.059      0.000       0.533       0.671\n",
      "cc_obesity                             0.1094      0.022      4.941      0.000       0.066       0.153\n",
      "cc_mskAllOther                         0.1262      0.029      4.334      0.000       0.069       0.183\n",
      "cc_behavioralAllOther                  0.2327      0.027      8.661      0.000       0.180       0.285\n",
      "cc_ckd                                -0.0790      0.115     -0.686      0.493      -0.305       0.147\n",
      "concurrent_risk                        0.2188      0.007     32.316      0.000       0.206       0.232\n",
      "rx_nonClaimant                         0.1375      0.031      4.461      0.000       0.077       0.198\n",
      "rx_nonCompliant                        0.1986      0.039      5.119      0.000       0.123       0.275\n",
      "==============================================================================\n",
      "Omnibus:                     4715.602   Durbin-Watson:                   1.990\n",
      "Prob(Omnibus):                  0.000   Jarque-Bera (JB):            13279.256\n",
      "Skew:                           1.716   Prob(JB):                         0.00\n",
      "Kurtosis:                       6.142   Cond. No.                         718.\n",
      "==============================================================================\n",
      "\n",
      "Notes:\n",
      "[1] Standard Errors assume that the covariance matrix of the errors is correctly specified.\n"
     ]
    }
   ],
   "source": [
    "import statsmodels.api as sm\n",
    "\n",
    "x_train_with_constant = sm.add_constant(x_train)\n",
    "model = sm.OLS(y_train, x_train_with_constant)\n",
    "result = model.fit()\n",
    "\n",
    "print(result.summary())"
   ]
  },
  {
   "cell_type": "code",
   "execution_count": 24,
   "metadata": {},
   "outputs": [
    {
     "name": "stdout",
     "output_type": "stream",
     "text": [
      "{'significant_variable': ['const', 'ADI', 'Age', 'Gender', 'lsbio_bp', 'lshrq_nutrition', 'lshrq_wellbeing', 'lshrq_sleeping', 'cc_cancer', 'cc_mskChronic', 'cc_cardiac', 'cc_depression', 'cc_obesity', 'cc_mskAllOther', 'cc_behavioralAllOther', 'concurrent_risk', 'rx_nonClaimant', 'rx_nonCompliant']}\n"
     ]
    }
   ],
   "source": [
    "significant_variable_lr = {}\n",
    "\n",
    "p_value_dataframe = pd.DataFrame(result.pvalues)\n",
    "p_value_dataframe = p_value_dataframe.rename(columns={0: 'p-value'})\n",
    "p_value_dataframe = p_value_dataframe.round(2)\n",
    "\n",
    "significant_variable_lr['significant_variable'] = p_value_dataframe[(p_value_dataframe['p-value'] < 0.1)].index.tolist()\n",
    "\n",
    "\n",
    "print(significant_variable_lr)"
   ]
  },
  {
   "cell_type": "code",
   "execution_count": 25,
   "metadata": {},
   "outputs": [
    {
     "data": {
      "image/png": "[encoded data removed]",
      "text/plain": [
       "<Figure size 640x480 with 1 Axes>"
      ]
     },
     "metadata": {},
     "output_type": "display_data"
    }
   ],
   "source": [
    "from statsmodels.graphics.gofplots import qqplot\n",
    "\n",
    "# Obtain residuals\n",
    "residuals = result.resid\n",
    "\n",
    "# Create Q-Q plot of residuals\n",
    "qqplot(residuals, line='s')\n",
    "plt.title('Normal Q-Q Plot of Residuals')\n",
    "plt.xlabel('Theoretical Quantile')\n",
    "plt.ylabel('Standardized Residuals')\n",
    "plt.show()"
   ]
  },
  {
   "cell_type": "markdown",
   "metadata": {},
   "source": [
    "## Decision Tree Regressor"
   ]
  },
  {
   "cell_type": "code",
   "execution_count": 26,
   "metadata": {},
   "outputs": [
    {
     "name": "stdout",
     "output_type": "stream",
     "text": [
      "Train Set : (14717, 1) (14717, 30)\n",
      "Test Set  : (4906, 1) (4906, 30)\n"
     ]
    }
   ],
   "source": [
    "# y variable = absence_indicator\n",
    "# x variables = health_factors\n",
    "from sklearn.model_selection import train_test_split\n",
    "from sklearn.tree import DecisionTreeRegressor\n",
    "from sklearn.metrics import mean_squared_error\n",
    "\n",
    "y = pd.DataFrame(df_P['absence_indicator'])\n",
    "x = pd.DataFrame(df_P[health_factors])\n",
    "\n",
    "x[categorical_variables] = x[categorical_variables].astype('category')\n",
    "\n",
    "x_train, x_test, y_train, y_test = train_test_split(x, y, test_size = 0.25)\n",
    "\n",
    "print(\"Train Set :\", y_train.shape, x_train.shape)\n",
    "print(\"Test Set  :\", y_test.shape, x_test.shape)"
   ]
  },
  {
   "cell_type": "code",
   "execution_count": 27,
   "metadata": {},
   "outputs": [
    {
     "name": "stdout",
     "output_type": "stream",
     "text": [
      "Mean Squared Error (Train Dataset): 334.44156040961724\n",
      "Mean Squared Error (Test Dataset): 323.306352150528\n"
     ]
    }
   ],
   "source": [
    "decisiontreemodel = DecisionTreeRegressor(max_depth=3)\n",
    "result = decisiontreemodel.fit(x_train, y_train)\n",
    "\n",
    "y_train_pred = decisiontreemodel.predict(x_train)\n",
    "train_mse = mean_squared_error(y_train_pred, y_train)\n",
    "y_test_pred = decisiontreemodel.predict(x_test)\n",
    "test_mse = mean_squared_error(y_test_pred, y_test)\n",
    "\n",
    "print(\"Mean Squared Error (Train Dataset):\", train_mse)\n",
    "print(\"Mean Squared Error (Test Dataset):\", test_mse)"
   ]
  },
  {
   "cell_type": "code",
   "execution_count": 28,
   "metadata": {},
   "outputs": [
    {
     "name": "stdout",
     "output_type": "stream",
     "text": [
      "Best max_depth: 3\n"
     ]
    }
   ],
   "source": [
    "from sklearn.model_selection import GridSearchCV\n",
    "\n",
    "param_grid = {'max_depth': range(1, 11)}\n",
    "\n",
    "decisiontreemodel = DecisionTreeRegressor()\n",
    "\n",
    "grid_search = GridSearchCV(estimator=decisiontreemodel, param_grid=param_grid, cv=5)\n",
    "\n",
    "grid_search.fit(x_train, y_train)\n",
    "best_max_depth = grid_search.best_params_['max_depth']\n",
    "\n",
    "print(\"Best max_depth:\", best_max_depth)"
   ]
  },
  {
   "cell_type": "code",
   "execution_count": 29,
   "metadata": {},
   "outputs": [
    {
     "name": "stdout",
     "output_type": "stream",
     "text": [
      "Mean Squared Error (Train Dataset): 334.44156040961724\n",
      "Mean Squared Error (Test Dataset): 323.306352150528\n"
     ]
    }
   ],
   "source": [
    "decisiontreemodel = DecisionTreeRegressor(max_depth=best_max_depth)\n",
    "result = decisiontreemodel.fit(x_train, y_train)\n",
    "\n",
    "y_train_pred = decisiontreemodel.predict(x_train)\n",
    "train_mse = mean_squared_error(y_train_pred, y_train)\n",
    "y_test_pred = decisiontreemodel.predict(x_test)\n",
    "test_mse = mean_squared_error(y_test_pred, y_test)\n",
    "\n",
    "print(\"Mean Squared Error (Train Dataset):\", train_mse)\n",
    "print(\"Mean Squared Error (Test Dataset):\", test_mse)"
   ]
  },
  {
   "cell_type": "code",
   "execution_count": 30,
   "metadata": {},
   "outputs": [
    {
     "name": "stdout",
     "output_type": "stream",
     "text": [
      "{'significant_variables': ['cc_mskChronic', 'cc_depression', 'concurrent_risk']}\n"
     ]
    }
   ],
   "source": [
    "significant_variable = {}\n",
    "significant_variable['significant_variables'] = []\n",
    "fr = decisiontreemodel.feature_importances_ \n",
    "importance_dict = dict(zip(x_train.columns, fr))\n",
    "for key in importance_dict:\n",
    "    if importance_dict[key] > 0:\n",
    "        significant_variable['significant_variables'].append(key)\n",
    "        \n",
    "print(significant_variable)"
   ]
  },
  {
   "cell_type": "markdown",
   "metadata": {},
   "source": [
    "### transformation"
   ]
  },
  {
   "cell_type": "markdown",
   "metadata": {},
   "source": [
    "#### sqrt"
   ]
  },
  {
   "cell_type": "code",
   "execution_count": 31,
   "metadata": {},
   "outputs": [
    {
     "name": "stdout",
     "output_type": "stream",
     "text": [
      "Train Set : (14717, 1) (14717, 30)\n",
      "Test Set  : (4906, 1) (4906, 30)\n"
     ]
    }
   ],
   "source": [
    "y = pd.DataFrame(df_P['absence_indicator'])\n",
    "y['absence_indicator'] = np.sqrt(y['absence_indicator'])\n",
    "\n",
    "x_train, x_test, y_train, y_test = train_test_split(x, y, test_size = 0.25)\n",
    "\n",
    "print(\"Train Set :\", y_train.shape, x_train.shape)\n",
    "print(\"Test Set  :\", y_test.shape, x_test.shape)"
   ]
  },
  {
   "cell_type": "code",
   "execution_count": 32,
   "metadata": {},
   "outputs": [
    {
     "name": "stdout",
     "output_type": "stream",
     "text": [
      "Mean Squared Error (Train Dataset): 4.122760706407181\n",
      "Mean Squared Error (Test Dataset): 4.233707164371486\n"
     ]
    }
   ],
   "source": [
    "decisiontreemodel = DecisionTreeRegressor(max_depth=3)\n",
    "result = decisiontreemodel.fit(x_train, y_train)\n",
    "\n",
    "y_train_pred = decisiontreemodel.predict(x_train)\n",
    "train_mse = mean_squared_error(y_train_pred, y_train)\n",
    "y_test_pred = decisiontreemodel.predict(x_test)\n",
    "test_mse = mean_squared_error(y_test_pred, y_test)\n",
    "\n",
    "print(\"Mean Squared Error (Train Dataset):\", train_mse)\n",
    "print(\"Mean Squared Error (Test Dataset):\", test_mse)"
   ]
  },
  {
   "cell_type": "code",
   "execution_count": 33,
   "metadata": {},
   "outputs": [
    {
     "name": "stdout",
     "output_type": "stream",
     "text": [
      "Best max_depth: 4\n"
     ]
    }
   ],
   "source": [
    "from sklearn.model_selection import GridSearchCV\n",
    "\n",
    "param_grid = {'max_depth': range(1, 11)}\n",
    "\n",
    "decisiontreemodel = DecisionTreeRegressor()\n",
    "\n",
    "grid_search = GridSearchCV(estimator=decisiontreemodel, param_grid=param_grid, cv=5)\n",
    "\n",
    "grid_search.fit(x_train, y_train)\n",
    "best_max_depth = grid_search.best_params_['max_depth']\n",
    "\n",
    "print(\"Best max_depth:\", best_max_depth)"
   ]
  },
  {
   "cell_type": "code",
   "execution_count": 34,
   "metadata": {},
   "outputs": [
    {
     "name": "stdout",
     "output_type": "stream",
     "text": [
      "Mean Squared Error (Train Dataset): 4.024359571264135\n",
      "Mean Squared Error (Test Dataset): 4.163531051445179\n"
     ]
    }
   ],
   "source": [
    "decisiontreemodel = DecisionTreeRegressor(max_depth=best_max_depth)\n",
    "result = decisiontreemodel.fit(x_train, y_train)\n",
    "\n",
    "y_train_pred = decisiontreemodel.predict(x_train)\n",
    "train_mse = mean_squared_error(y_train_pred, y_train)\n",
    "y_test_pred = decisiontreemodel.predict(x_test)\n",
    "test_mse = mean_squared_error(y_test_pred, y_test)\n",
    "\n",
    "print(\"Mean Squared Error (Train Dataset):\", train_mse)\n",
    "print(\"Mean Squared Error (Test Dataset):\", test_mse)"
   ]
  },
  {
   "cell_type": "code",
   "execution_count": 35,
   "metadata": {},
   "outputs": [
    {
     "name": "stdout",
     "output_type": "stream",
     "text": [
      "{'significant_variables': ['Age', 'Gender', 'cc_mskChronic', 'cc_depression', 'cc_obesity', 'cc_behavioralAllOther', 'concurrent_risk']}\n"
     ]
    }
   ],
   "source": [
    "significant_variable = {}\n",
    "significant_variable['significant_variables'] = []\n",
    "fr = decisiontreemodel.feature_importances_ \n",
    "importance_dict = dict(zip(x_train.columns, fr))\n",
    "for key in importance_dict:\n",
    "    if importance_dict[key] > 0:\n",
    "        significant_variable['significant_variables'].append(key)\n",
    "        \n",
    "print(significant_variable)"
   ]
  },
  {
   "cell_type": "markdown",
   "metadata": {},
   "source": [
    "#### logarithmic"
   ]
  },
  {
   "cell_type": "code",
   "execution_count": 36,
   "metadata": {},
   "outputs": [
    {
     "name": "stdout",
     "output_type": "stream",
     "text": [
      "Train Set : (14717, 1) (14717, 30)\n",
      "Test Set  : (4906, 1) (4906, 30)\n"
     ]
    },
    {
     "name": "stderr",
     "output_type": "stream",
     "text": [
      "C:\\Users\\Willis\\AppData\\Local\\Temp\\ipykernel_17012\\4257889001.py:2: FutureWarning: Setting an item of incompatible dtype is deprecated and will raise in a future error of pandas. Value '[3.21887582 2.89037176 3.8286414  ... 1.79175947 4.21950771 0.        ]' has dtype incompatible with int64, please explicitly cast to a compatible dtype first.\n",
      "  y.loc[y['absence_indicator'] != 0, 'absence_indicator'] = np.log(y.loc[y['absence_indicator'] != 0, 'absence_indicator'])\n"
     ]
    }
   ],
   "source": [
    "y = pd.DataFrame(df_P['absence_indicator'])\n",
    "y.loc[y['absence_indicator'] != 0, 'absence_indicator'] = np.log(y.loc[y['absence_indicator'] != 0, 'absence_indicator'])\n",
    "\n",
    "x_train, x_test, y_train, y_test = train_test_split(x, y, test_size = 0.25)\n",
    "\n",
    "print(\"Train Set :\", y_train.shape, x_train.shape)\n",
    "print(\"Test Set  :\", y_test.shape, x_test.shape)"
   ]
  },
  {
   "cell_type": "code",
   "execution_count": 37,
   "metadata": {},
   "outputs": [
    {
     "name": "stdout",
     "output_type": "stream",
     "text": [
      "Mean Squared Error (Train Dataset): 1.2332585246547842\n",
      "Mean Squared Error (Test Dataset): 1.2532705120428085\n"
     ]
    }
   ],
   "source": [
    "decisiontreemodel = DecisionTreeRegressor(max_depth=3)\n",
    "result = decisiontreemodel.fit(x_train, y_train)\n",
    "\n",
    "y_train_pred = decisiontreemodel.predict(x_train)\n",
    "train_mse = mean_squared_error(y_train_pred, y_train)\n",
    "y_test_pred = decisiontreemodel.predict(x_test)\n",
    "test_mse = mean_squared_error(y_test_pred, y_test)\n",
    "\n",
    "print(\"Mean Squared Error (Train Dataset):\", train_mse)\n",
    "print(\"Mean Squared Error (Test Dataset):\", test_mse)"
   ]
  },
  {
   "cell_type": "code",
   "execution_count": 38,
   "metadata": {},
   "outputs": [
    {
     "name": "stdout",
     "output_type": "stream",
     "text": [
      "Best max_depth: 5\n"
     ]
    }
   ],
   "source": [
    "from sklearn.model_selection import GridSearchCV\n",
    "\n",
    "param_grid = {'max_depth': range(1, 11)}\n",
    "\n",
    "decisiontreemodel = DecisionTreeRegressor()\n",
    "\n",
    "grid_search = GridSearchCV(estimator=decisiontreemodel, param_grid=param_grid, cv=5)\n",
    "\n",
    "grid_search.fit(x_train, y_train)\n",
    "best_max_depth = grid_search.best_params_['max_depth']\n",
    "\n",
    "print(\"Best max_depth:\", best_max_depth)"
   ]
  },
  {
   "cell_type": "code",
   "execution_count": 39,
   "metadata": {},
   "outputs": [
    {
     "name": "stdout",
     "output_type": "stream",
     "text": [
      "Mean Squared Error (Train Dataset): 1.1782423343103756\n",
      "Mean Squared Error (Test Dataset): 1.2293432445745816\n"
     ]
    }
   ],
   "source": [
    "decisiontreemodel = DecisionTreeRegressor(max_depth=best_max_depth)\n",
    "result = decisiontreemodel.fit(x_train, y_train)\n",
    "\n",
    "y_train_pred = decisiontreemodel.predict(x_train)\n",
    "train_mse = mean_squared_error(y_train_pred, y_train)\n",
    "y_test_pred = decisiontreemodel.predict(x_test)\n",
    "test_mse = mean_squared_error(y_test_pred, y_test)\n",
    "\n",
    "print(\"Mean Squared Error (Train Dataset):\", train_mse)\n",
    "print(\"Mean Squared Error (Test Dataset):\", test_mse)"
   ]
  },
  {
   "cell_type": "code",
   "execution_count": 40,
   "metadata": {},
   "outputs": [
    {
     "name": "stdout",
     "output_type": "stream",
     "text": [
      "{'significant_variable': ['ADI', 'Age', 'cc_mskChronic', 'cc_cholesterol', 'cc_depression', 'cc_obesity', 'cc_behavioralAllOther', 'cc_ckd', 'concurrent_risk', 'rx_nonClaimant', 'rx_nonCompliant']}\n"
     ]
    }
   ],
   "source": [
    "significant_variable_dt = {}\n",
    "significant_variable_dt['significant_variable'] = []\n",
    "fr = decisiontreemodel.feature_importances_ \n",
    "importance_dict = dict(zip(x_train.columns, fr))\n",
    "for key in importance_dict:\n",
    "    if importance_dict[key] > 0:\n",
    "        significant_variable_dt['significant_variable'].append(key)\n",
    "        \n",
    "print(significant_variable_dt)"
   ]
  },
  {
   "cell_type": "markdown",
   "metadata": {},
   "source": [
    "## Random Forest Regressor"
   ]
  },
  {
   "cell_type": "code",
   "execution_count": 41,
   "metadata": {},
   "outputs": [
    {
     "name": "stdout",
     "output_type": "stream",
     "text": [
      "Train Set : (14717, 1) (14717, 30)\n",
      "Test Set  : (4906, 1) (4906, 30)\n"
     ]
    }
   ],
   "source": [
    "y = pd.DataFrame(df_P['absence_indicator'])\n",
    "x = pd.DataFrame(df_P[health_factors])\n",
    "\n",
    "x[categorical_variables] = x[categorical_variables].astype('category')\n",
    "\n",
    "from sklearn.model_selection import train_test_split\n",
    "from sklearn.metrics import mean_squared_error\n",
    "from sklearn.ensemble import RandomForestRegressor\n",
    "from sklearn.metrics import mean_squared_error, accuracy_score, precision_score, recall_score\n",
    "\n",
    "x_train, x_test, y_train, y_test = train_test_split(x, y, test_size = 0.25)\n",
    "\n",
    "print(\"Train Set :\", y_train.shape, x_train.shape)\n",
    "print(\"Test Set  :\", y_test.shape, x_test.shape)"
   ]
  },
  {
   "cell_type": "code",
   "execution_count": 42,
   "metadata": {},
   "outputs": [
    {
     "name": "stderr",
     "output_type": "stream",
     "text": [
      "C:\\Users\\Willis\\AppData\\Local\\Temp\\ipykernel_17012\\2405233170.py:2: DataConversionWarning: A column-vector y was passed when a 1d array was expected. Please change the shape of y to (n_samples,), for example using ravel().\n",
      "  randomforest.fit(x_train, y_train)\n"
     ]
    },
    {
     "name": "stdout",
     "output_type": "stream",
     "text": [
      "Mean Squared Error (Train Dataset): 290.8511612080893\n",
      "Mean Squared Error (Test Dataset): 352.77231853481965\n"
     ]
    }
   ],
   "source": [
    "randomforest = RandomForestRegressor(n_estimators=100, max_depth=5, random_state=42)\n",
    "randomforest.fit(x_train, y_train)\n",
    "\n",
    "y_train_pred = randomforest.predict(x_train)\n",
    "train_mse = mean_squared_error(y_train_pred, y_train)\n",
    "y_test_pred = randomforest.predict(x_test)\n",
    "test_mse = mean_squared_error(y_test_pred, y_test)\n",
    "\n",
    "print(\"Mean Squared Error (Train Dataset):\", train_mse)\n",
    "print(\"Mean Squared Error (Test Dataset):\", test_mse)"
   ]
  },
  {
   "cell_type": "code",
   "execution_count": 43,
   "metadata": {},
   "outputs": [
    {
     "name": "stderr",
     "output_type": "stream",
     "text": [
      "C:\\Users\\Willis\\anaconda3\\Lib\\site-packages\\sklearn\\model_selection\\_validation.py:686: DataConversionWarning: A column-vector y was passed when a 1d array was expected. Please change the shape of y to (n_samples,), for example using ravel().\n",
      "  estimator.fit(X_train, y_train, **fit_params)\n",
      "C:\\Users\\Willis\\anaconda3\\Lib\\site-packages\\sklearn\\model_selection\\_validation.py:686: DataConversionWarning: A column-vector y was passed when a 1d array was expected. Please change the shape of y to (n_samples,), for example using ravel().\n",
      "  estimator.fit(X_train, y_train, **fit_params)\n",
      "C:\\Users\\Willis\\anaconda3\\Lib\\site-packages\\sklearn\\model_selection\\_validation.py:686: DataConversionWarning: A column-vector y was passed when a 1d array was expected. Please change the shape of y to (n_samples,), for example using ravel().\n",
      "  estimator.fit(X_train, y_train, **fit_params)\n",
      "C:\\Users\\Willis\\anaconda3\\Lib\\site-packages\\sklearn\\model_selection\\_validation.py:686: DataConversionWarning: A column-vector y was passed when a 1d array was expected. Please change the shape of y to (n_samples,), for example using ravel().\n",
      "  estimator.fit(X_train, y_train, **fit_params)\n",
      "C:\\Users\\Willis\\anaconda3\\Lib\\site-packages\\sklearn\\model_selection\\_validation.py:686: DataConversionWarning: A column-vector y was passed when a 1d array was expected. Please change the shape of y to (n_samples,), for example using ravel().\n",
      "  estimator.fit(X_train, y_train, **fit_params)\n",
      "C:\\Users\\Willis\\anaconda3\\Lib\\site-packages\\sklearn\\model_selection\\_validation.py:686: DataConversionWarning: A column-vector y was passed when a 1d array was expected. Please change the shape of y to (n_samples,), for example using ravel().\n",
      "  estimator.fit(X_train, y_train, **fit_params)\n",
      "C:\\Users\\Willis\\anaconda3\\Lib\\site-packages\\sklearn\\model_selection\\_validation.py:686: DataConversionWarning: A column-vector y was passed when a 1d array was expected. Please change the shape of y to (n_samples,), for example using ravel().\n",
      "  estimator.fit(X_train, y_train, **fit_params)\n",
      "C:\\Users\\Willis\\anaconda3\\Lib\\site-packages\\sklearn\\model_selection\\_validation.py:686: DataConversionWarning: A column-vector y was passed when a 1d array was expected. Please change the shape of y to (n_samples,), for example using ravel().\n",
      "  estimator.fit(X_train, y_train, **fit_params)\n",
      "C:\\Users\\Willis\\anaconda3\\Lib\\site-packages\\sklearn\\model_selection\\_validation.py:686: DataConversionWarning: A column-vector y was passed when a 1d array was expected. Please change the shape of y to (n_samples,), for example using ravel().\n",
      "  estimator.fit(X_train, y_train, **fit_params)\n",
      "C:\\Users\\Willis\\anaconda3\\Lib\\site-packages\\sklearn\\model_selection\\_validation.py:686: DataConversionWarning: A column-vector y was passed when a 1d array was expected. Please change the shape of y to (n_samples,), for example using ravel().\n",
      "  estimator.fit(X_train, y_train, **fit_params)\n",
      "C:\\Users\\Willis\\anaconda3\\Lib\\site-packages\\sklearn\\model_selection\\_validation.py:686: DataConversionWarning: A column-vector y was passed when a 1d array was expected. Please change the shape of y to (n_samples,), for example using ravel().\n",
      "  estimator.fit(X_train, y_train, **fit_params)\n",
      "C:\\Users\\Willis\\anaconda3\\Lib\\site-packages\\sklearn\\model_selection\\_validation.py:686: DataConversionWarning: A column-vector y was passed when a 1d array was expected. Please change the shape of y to (n_samples,), for example using ravel().\n",
      "  estimator.fit(X_train, y_train, **fit_params)\n",
      "C:\\Users\\Willis\\anaconda3\\Lib\\site-packages\\sklearn\\model_selection\\_validation.py:686: DataConversionWarning: A column-vector y was passed when a 1d array was expected. Please change the shape of y to (n_samples,), for example using ravel().\n",
      "  estimator.fit(X_train, y_train, **fit_params)\n",
      "C:\\Users\\Willis\\anaconda3\\Lib\\site-packages\\sklearn\\model_selection\\_validation.py:686: DataConversionWarning: A column-vector y was passed when a 1d array was expected. Please change the shape of y to (n_samples,), for example using ravel().\n",
      "  estimator.fit(X_train, y_train, **fit_params)\n",
      "C:\\Users\\Willis\\anaconda3\\Lib\\site-packages\\sklearn\\model_selection\\_validation.py:686: DataConversionWarning: A column-vector y was passed when a 1d array was expected. Please change the shape of y to (n_samples,), for example using ravel().\n",
      "  estimator.fit(X_train, y_train, **fit_params)\n",
      "C:\\Users\\Willis\\anaconda3\\Lib\\site-packages\\sklearn\\model_selection\\_validation.py:686: DataConversionWarning: A column-vector y was passed when a 1d array was expected. Please change the shape of y to (n_samples,), for example using ravel().\n",
      "  estimator.fit(X_train, y_train, **fit_params)\n",
      "C:\\Users\\Willis\\anaconda3\\Lib\\site-packages\\sklearn\\model_selection\\_validation.py:686: DataConversionWarning: A column-vector y was passed when a 1d array was expected. Please change the shape of y to (n_samples,), for example using ravel().\n",
      "  estimator.fit(X_train, y_train, **fit_params)\n",
      "C:\\Users\\Willis\\anaconda3\\Lib\\site-packages\\sklearn\\model_selection\\_validation.py:686: DataConversionWarning: A column-vector y was passed when a 1d array was expected. Please change the shape of y to (n_samples,), for example using ravel().\n",
      "  estimator.fit(X_train, y_train, **fit_params)\n",
      "C:\\Users\\Willis\\anaconda3\\Lib\\site-packages\\sklearn\\model_selection\\_validation.py:686: DataConversionWarning: A column-vector y was passed when a 1d array was expected. Please change the shape of y to (n_samples,), for example using ravel().\n",
      "  estimator.fit(X_train, y_train, **fit_params)\n",
      "C:\\Users\\Willis\\anaconda3\\Lib\\site-packages\\sklearn\\model_selection\\_validation.py:686: DataConversionWarning: A column-vector y was passed when a 1d array was expected. Please change the shape of y to (n_samples,), for example using ravel().\n",
      "  estimator.fit(X_train, y_train, **fit_params)\n",
      "C:\\Users\\Willis\\anaconda3\\Lib\\site-packages\\sklearn\\model_selection\\_validation.py:686: DataConversionWarning: A column-vector y was passed when a 1d array was expected. Please change the shape of y to (n_samples,), for example using ravel().\n",
      "  estimator.fit(X_train, y_train, **fit_params)\n",
      "C:\\Users\\Willis\\anaconda3\\Lib\\site-packages\\sklearn\\model_selection\\_validation.py:686: DataConversionWarning: A column-vector y was passed when a 1d array was expected. Please change the shape of y to (n_samples,), for example using ravel().\n",
      "  estimator.fit(X_train, y_train, **fit_params)\n",
      "C:\\Users\\Willis\\anaconda3\\Lib\\site-packages\\sklearn\\model_selection\\_validation.py:686: DataConversionWarning: A column-vector y was passed when a 1d array was expected. Please change the shape of y to (n_samples,), for example using ravel().\n",
      "  estimator.fit(X_train, y_train, **fit_params)\n",
      "C:\\Users\\Willis\\anaconda3\\Lib\\site-packages\\sklearn\\model_selection\\_validation.py:686: DataConversionWarning: A column-vector y was passed when a 1d array was expected. Please change the shape of y to (n_samples,), for example using ravel().\n",
      "  estimator.fit(X_train, y_train, **fit_params)\n",
      "C:\\Users\\Willis\\anaconda3\\Lib\\site-packages\\sklearn\\model_selection\\_validation.py:686: DataConversionWarning: A column-vector y was passed when a 1d array was expected. Please change the shape of y to (n_samples,), for example using ravel().\n",
      "  estimator.fit(X_train, y_train, **fit_params)\n",
      "C:\\Users\\Willis\\anaconda3\\Lib\\site-packages\\sklearn\\model_selection\\_search.py:909: DataConversionWarning: A column-vector y was passed when a 1d array was expected. Please change the shape of y to (n_samples,), for example using ravel().\n",
      "  self.best_estimator_.fit(X, y, **fit_params)\n"
     ]
    },
    {
     "name": "stdout",
     "output_type": "stream",
     "text": [
      "{'max_depth': 6, 'min_samples_split': 12, 'n_estimators': 137}\n"
     ]
    }
   ],
   "source": [
    "from sklearn.model_selection import RandomizedSearchCV\n",
    "from scipy.stats import randint\n",
    "\n",
    "param_dist = {\n",
    "    'n_estimators': randint(50, 200),\n",
    "    'max_depth': [None] + list(range(5, 20)),\n",
    "    'min_samples_split': randint(2, 20)\n",
    "}\n",
    "\n",
    "randomized_search = RandomizedSearchCV(estimator=RandomForestRegressor(), param_distributions=param_dist, n_iter=5, cv=5, scoring='neg_mean_squared_error', random_state=42)\n",
    "\n",
    "randomized_search.fit(x_train, y_train)\n",
    "\n",
    "best_params = randomized_search.best_params_\n",
    "print(best_params)"
   ]
  },
  {
   "cell_type": "code",
   "execution_count": 44,
   "metadata": {},
   "outputs": [
    {
     "name": "stderr",
     "output_type": "stream",
     "text": [
      "C:\\Users\\Willis\\AppData\\Local\\Temp\\ipykernel_17012\\3010193299.py:2: DataConversionWarning: A column-vector y was passed when a 1d array was expected. Please change the shape of y to (n_samples,), for example using ravel().\n",
      "  randomforest.fit(x_train, y_train)\n"
     ]
    },
    {
     "name": "stdout",
     "output_type": "stream",
     "text": [
      "Mean Squared Error (Train Dataset): 276.2229196592432\n",
      "Mean Squared Error (Test Dataset): 351.16528459912837\n"
     ]
    }
   ],
   "source": [
    "randomforest = RandomForestRegressor(n_estimators=best_params['n_estimators'], max_depth=best_params['max_depth'], min_samples_split=best_params['min_samples_split'], random_state=42)\n",
    "randomforest.fit(x_train, y_train)\n",
    "\n",
    "y_train_pred = randomforest.predict(x_train)\n",
    "train_mse = mean_squared_error(y_train_pred, y_train)\n",
    "y_test_pred = randomforest.predict(x_test)\n",
    "test_mse = mean_squared_error(y_test_pred, y_test)\n",
    "\n",
    "print(\"Mean Squared Error (Train Dataset):\", train_mse)\n",
    "print(\"Mean Squared Error (Test Dataset):\", test_mse)"
   ]
  },
  {
   "cell_type": "markdown",
   "metadata": {},
   "source": [
    "### transformation"
   ]
  },
  {
   "cell_type": "markdown",
   "metadata": {},
   "source": [
    "#### sqrt"
   ]
  },
  {
   "cell_type": "code",
   "execution_count": 45,
   "metadata": {},
   "outputs": [
    {
     "name": "stdout",
     "output_type": "stream",
     "text": [
      "Train Set : (14717, 1) (14717, 30)\n",
      "Test Set  : (4906, 1) (4906, 30)\n"
     ]
    }
   ],
   "source": [
    "y = pd.DataFrame(df_P['absence_indicator'])\n",
    "y['absence_indicator'] = np.sqrt(y['absence_indicator'])\n",
    "\n",
    "x_train, x_test, y_train, y_test = train_test_split(x, y, test_size = 0.25)\n",
    "\n",
    "print(\"Train Set :\", y_train.shape, x_train.shape)\n",
    "print(\"Test Set  :\", y_test.shape, x_test.shape)"
   ]
  },
  {
   "cell_type": "code",
   "execution_count": 46,
   "metadata": {},
   "outputs": [
    {
     "name": "stderr",
     "output_type": "stream",
     "text": [
      "C:\\Users\\Willis\\AppData\\Local\\Temp\\ipykernel_17012\\2405233170.py:2: DataConversionWarning: A column-vector y was passed when a 1d array was expected. Please change the shape of y to (n_samples,), for example using ravel().\n",
      "  randomforest.fit(x_train, y_train)\n"
     ]
    },
    {
     "name": "stdout",
     "output_type": "stream",
     "text": [
      "Mean Squared Error (Train Dataset): 3.75962048852372\n",
      "Mean Squared Error (Test Dataset): 4.204635182259026\n"
     ]
    }
   ],
   "source": [
    "randomforest = RandomForestRegressor(n_estimators=100, max_depth=5, random_state=42)\n",
    "randomforest.fit(x_train, y_train)\n",
    "\n",
    "y_train_pred = randomforest.predict(x_train)\n",
    "train_mse = mean_squared_error(y_train_pred, y_train)\n",
    "y_test_pred = randomforest.predict(x_test)\n",
    "test_mse = mean_squared_error(y_test_pred, y_test)\n",
    "\n",
    "print(\"Mean Squared Error (Train Dataset):\", train_mse)\n",
    "print(\"Mean Squared Error (Test Dataset):\", test_mse)"
   ]
  },
  {
   "cell_type": "code",
   "execution_count": 47,
   "metadata": {},
   "outputs": [
    {
     "name": "stderr",
     "output_type": "stream",
     "text": [
      "C:\\Users\\Willis\\anaconda3\\Lib\\site-packages\\sklearn\\model_selection\\_validation.py:686: DataConversionWarning: A column-vector y was passed when a 1d array was expected. Please change the shape of y to (n_samples,), for example using ravel().\n",
      "  estimator.fit(X_train, y_train, **fit_params)\n",
      "C:\\Users\\Willis\\anaconda3\\Lib\\site-packages\\sklearn\\model_selection\\_validation.py:686: DataConversionWarning: A column-vector y was passed when a 1d array was expected. Please change the shape of y to (n_samples,), for example using ravel().\n",
      "  estimator.fit(X_train, y_train, **fit_params)\n",
      "C:\\Users\\Willis\\anaconda3\\Lib\\site-packages\\sklearn\\model_selection\\_validation.py:686: DataConversionWarning: A column-vector y was passed when a 1d array was expected. Please change the shape of y to (n_samples,), for example using ravel().\n",
      "  estimator.fit(X_train, y_train, **fit_params)\n",
      "C:\\Users\\Willis\\anaconda3\\Lib\\site-packages\\sklearn\\model_selection\\_validation.py:686: DataConversionWarning: A column-vector y was passed when a 1d array was expected. Please change the shape of y to (n_samples,), for example using ravel().\n",
      "  estimator.fit(X_train, y_train, **fit_params)\n",
      "C:\\Users\\Willis\\anaconda3\\Lib\\site-packages\\sklearn\\model_selection\\_validation.py:686: DataConversionWarning: A column-vector y was passed when a 1d array was expected. Please change the shape of y to (n_samples,), for example using ravel().\n",
      "  estimator.fit(X_train, y_train, **fit_params)\n",
      "C:\\Users\\Willis\\anaconda3\\Lib\\site-packages\\sklearn\\model_selection\\_validation.py:686: DataConversionWarning: A column-vector y was passed when a 1d array was expected. Please change the shape of y to (n_samples,), for example using ravel().\n",
      "  estimator.fit(X_train, y_train, **fit_params)\n",
      "C:\\Users\\Willis\\anaconda3\\Lib\\site-packages\\sklearn\\model_selection\\_validation.py:686: DataConversionWarning: A column-vector y was passed when a 1d array was expected. Please change the shape of y to (n_samples,), for example using ravel().\n",
      "  estimator.fit(X_train, y_train, **fit_params)\n",
      "C:\\Users\\Willis\\anaconda3\\Lib\\site-packages\\sklearn\\model_selection\\_validation.py:686: DataConversionWarning: A column-vector y was passed when a 1d array was expected. Please change the shape of y to (n_samples,), for example using ravel().\n",
      "  estimator.fit(X_train, y_train, **fit_params)\n",
      "C:\\Users\\Willis\\anaconda3\\Lib\\site-packages\\sklearn\\model_selection\\_validation.py:686: DataConversionWarning: A column-vector y was passed when a 1d array was expected. Please change the shape of y to (n_samples,), for example using ravel().\n",
      "  estimator.fit(X_train, y_train, **fit_params)\n",
      "C:\\Users\\Willis\\anaconda3\\Lib\\site-packages\\sklearn\\model_selection\\_validation.py:686: DataConversionWarning: A column-vector y was passed when a 1d array was expected. Please change the shape of y to (n_samples,), for example using ravel().\n",
      "  estimator.fit(X_train, y_train, **fit_params)\n",
      "C:\\Users\\Willis\\anaconda3\\Lib\\site-packages\\sklearn\\model_selection\\_validation.py:686: DataConversionWarning: A column-vector y was passed when a 1d array was expected. Please change the shape of y to (n_samples,), for example using ravel().\n",
      "  estimator.fit(X_train, y_train, **fit_params)\n",
      "C:\\Users\\Willis\\anaconda3\\Lib\\site-packages\\sklearn\\model_selection\\_validation.py:686: DataConversionWarning: A column-vector y was passed when a 1d array was expected. Please change the shape of y to (n_samples,), for example using ravel().\n",
      "  estimator.fit(X_train, y_train, **fit_params)\n",
      "C:\\Users\\Willis\\anaconda3\\Lib\\site-packages\\sklearn\\model_selection\\_validation.py:686: DataConversionWarning: A column-vector y was passed when a 1d array was expected. Please change the shape of y to (n_samples,), for example using ravel().\n",
      "  estimator.fit(X_train, y_train, **fit_params)\n",
      "C:\\Users\\Willis\\anaconda3\\Lib\\site-packages\\sklearn\\model_selection\\_validation.py:686: DataConversionWarning: A column-vector y was passed when a 1d array was expected. Please change the shape of y to (n_samples,), for example using ravel().\n",
      "  estimator.fit(X_train, y_train, **fit_params)\n",
      "C:\\Users\\Willis\\anaconda3\\Lib\\site-packages\\sklearn\\model_selection\\_validation.py:686: DataConversionWarning: A column-vector y was passed when a 1d array was expected. Please change the shape of y to (n_samples,), for example using ravel().\n",
      "  estimator.fit(X_train, y_train, **fit_params)\n",
      "C:\\Users\\Willis\\anaconda3\\Lib\\site-packages\\sklearn\\model_selection\\_validation.py:686: DataConversionWarning: A column-vector y was passed when a 1d array was expected. Please change the shape of y to (n_samples,), for example using ravel().\n",
      "  estimator.fit(X_train, y_train, **fit_params)\n",
      "C:\\Users\\Willis\\anaconda3\\Lib\\site-packages\\sklearn\\model_selection\\_validation.py:686: DataConversionWarning: A column-vector y was passed when a 1d array was expected. Please change the shape of y to (n_samples,), for example using ravel().\n",
      "  estimator.fit(X_train, y_train, **fit_params)\n",
      "C:\\Users\\Willis\\anaconda3\\Lib\\site-packages\\sklearn\\model_selection\\_validation.py:686: DataConversionWarning: A column-vector y was passed when a 1d array was expected. Please change the shape of y to (n_samples,), for example using ravel().\n",
      "  estimator.fit(X_train, y_train, **fit_params)\n",
      "C:\\Users\\Willis\\anaconda3\\Lib\\site-packages\\sklearn\\model_selection\\_validation.py:686: DataConversionWarning: A column-vector y was passed when a 1d array was expected. Please change the shape of y to (n_samples,), for example using ravel().\n",
      "  estimator.fit(X_train, y_train, **fit_params)\n",
      "C:\\Users\\Willis\\anaconda3\\Lib\\site-packages\\sklearn\\model_selection\\_validation.py:686: DataConversionWarning: A column-vector y was passed when a 1d array was expected. Please change the shape of y to (n_samples,), for example using ravel().\n",
      "  estimator.fit(X_train, y_train, **fit_params)\n",
      "C:\\Users\\Willis\\anaconda3\\Lib\\site-packages\\sklearn\\model_selection\\_validation.py:686: DataConversionWarning: A column-vector y was passed when a 1d array was expected. Please change the shape of y to (n_samples,), for example using ravel().\n",
      "  estimator.fit(X_train, y_train, **fit_params)\n",
      "C:\\Users\\Willis\\anaconda3\\Lib\\site-packages\\sklearn\\model_selection\\_validation.py:686: DataConversionWarning: A column-vector y was passed when a 1d array was expected. Please change the shape of y to (n_samples,), for example using ravel().\n",
      "  estimator.fit(X_train, y_train, **fit_params)\n",
      "C:\\Users\\Willis\\anaconda3\\Lib\\site-packages\\sklearn\\model_selection\\_validation.py:686: DataConversionWarning: A column-vector y was passed when a 1d array was expected. Please change the shape of y to (n_samples,), for example using ravel().\n",
      "  estimator.fit(X_train, y_train, **fit_params)\n",
      "C:\\Users\\Willis\\anaconda3\\Lib\\site-packages\\sklearn\\model_selection\\_validation.py:686: DataConversionWarning: A column-vector y was passed when a 1d array was expected. Please change the shape of y to (n_samples,), for example using ravel().\n",
      "  estimator.fit(X_train, y_train, **fit_params)\n",
      "C:\\Users\\Willis\\anaconda3\\Lib\\site-packages\\sklearn\\model_selection\\_validation.py:686: DataConversionWarning: A column-vector y was passed when a 1d array was expected. Please change the shape of y to (n_samples,), for example using ravel().\n",
      "  estimator.fit(X_train, y_train, **fit_params)\n",
      "C:\\Users\\Willis\\anaconda3\\Lib\\site-packages\\sklearn\\model_selection\\_search.py:909: DataConversionWarning: A column-vector y was passed when a 1d array was expected. Please change the shape of y to (n_samples,), for example using ravel().\n",
      "  self.best_estimator_.fit(X, y, **fit_params)\n"
     ]
    },
    {
     "name": "stdout",
     "output_type": "stream",
     "text": [
      "{'max_depth': 6, 'min_samples_split': 12, 'n_estimators': 137}\n"
     ]
    }
   ],
   "source": [
    "from sklearn.model_selection import RandomizedSearchCV\n",
    "from scipy.stats import randint\n",
    "\n",
    "param_dist = {\n",
    "    'n_estimators': randint(50, 200),\n",
    "    'max_depth': [None] + list(range(5, 20)),\n",
    "    'min_samples_split': randint(2, 20)\n",
    "}\n",
    "\n",
    "randomized_search = RandomizedSearchCV(estimator=RandomForestRegressor(), param_distributions=param_dist, n_iter=5, cv=5, scoring='neg_mean_squared_error', random_state=42)\n",
    "\n",
    "randomized_search.fit(x_train, y_train)\n",
    "\n",
    "best_params = randomized_search.best_params_\n",
    "print(best_params)"
   ]
  },
  {
   "cell_type": "code",
   "execution_count": 48,
   "metadata": {},
   "outputs": [
    {
     "name": "stderr",
     "output_type": "stream",
     "text": [
      "C:\\Users\\Willis\\AppData\\Local\\Temp\\ipykernel_17012\\3010193299.py:2: DataConversionWarning: A column-vector y was passed when a 1d array was expected. Please change the shape of y to (n_samples,), for example using ravel().\n",
      "  randomforest.fit(x_train, y_train)\n"
     ]
    },
    {
     "name": "stdout",
     "output_type": "stream",
     "text": [
      "Mean Squared Error (Train Dataset): 3.611506255853728\n",
      "Mean Squared Error (Test Dataset): 4.167827805614124\n"
     ]
    }
   ],
   "source": [
    "randomforest = RandomForestRegressor(n_estimators=best_params['n_estimators'], max_depth=best_params['max_depth'], min_samples_split=best_params['min_samples_split'], random_state=42)\n",
    "randomforest.fit(x_train, y_train)\n",
    "\n",
    "y_train_pred = randomforest.predict(x_train)\n",
    "train_mse = mean_squared_error(y_train_pred, y_train)\n",
    "y_test_pred = randomforest.predict(x_test)\n",
    "test_mse = mean_squared_error(y_test_pred, y_test)\n",
    "\n",
    "print(\"Mean Squared Error (Train Dataset):\", train_mse)\n",
    "print(\"Mean Squared Error (Test Dataset):\", test_mse)"
   ]
  },
  {
   "cell_type": "markdown",
   "metadata": {},
   "source": [
    "#### logarithmic"
   ]
  },
  {
   "cell_type": "code",
   "execution_count": 80,
   "metadata": {},
   "outputs": [
    {
     "name": "stdout",
     "output_type": "stream",
     "text": [
      "Train Set : (14717, 1) (14717, 30)\n",
      "Test Set  : (4906, 1) (4906, 30)\n"
     ]
    },
    {
     "name": "stderr",
     "output_type": "stream",
     "text": [
      "C:\\Users\\Willis\\AppData\\Local\\Temp\\ipykernel_17012\\4257889001.py:2: FutureWarning: Setting an item of incompatible dtype is deprecated and will raise in a future error of pandas. Value '[3.21887582 2.89037176 3.8286414  ... 1.79175947 4.21950771 0.        ]' has dtype incompatible with int64, please explicitly cast to a compatible dtype first.\n",
      "  y.loc[y['absence_indicator'] != 0, 'absence_indicator'] = np.log(y.loc[y['absence_indicator'] != 0, 'absence_indicator'])\n"
     ]
    }
   ],
   "source": [
    "y = pd.DataFrame(df_P['absence_indicator'])\n",
    "y.loc[y['absence_indicator'] != 0, 'absence_indicator'] = np.log(y.loc[y['absence_indicator'] != 0, 'absence_indicator'])\n",
    "\n",
    "x_train, x_test, y_train, y_test = train_test_split(x, y, test_size = 0.25)\n",
    "\n",
    "print(\"Train Set :\", y_train.shape, x_train.shape)\n",
    "print(\"Test Set  :\", y_test.shape, x_test.shape)"
   ]
  },
  {
   "cell_type": "code",
   "execution_count": 71,
   "metadata": {},
   "outputs": [
    {
     "name": "stderr",
     "output_type": "stream",
     "text": [
      "C:\\Users\\Willis\\AppData\\Local\\Temp\\ipykernel_17012\\2405233170.py:2: DataConversionWarning: A column-vector y was passed when a 1d array was expected. Please change the shape of y to (n_samples,), for example using ravel().\n",
      "  randomforest.fit(x_train, y_train)\n"
     ]
    },
    {
     "name": "stdout",
     "output_type": "stream",
     "text": [
      "Mean Squared Error (Train Dataset): 1.1421105576962476\n",
      "Mean Squared Error (Test Dataset): 1.2140471718788315\n"
     ]
    }
   ],
   "source": [
    "randomforest = RandomForestRegressor(n_estimators=100, max_depth=5, random_state=42)\n",
    "randomforest.fit(x_train, y_train)\n",
    "\n",
    "y_train_pred = randomforest.predict(x_train)\n",
    "train_mse = mean_squared_error(y_train_pred, y_train)\n",
    "y_test_pred = randomforest.predict(x_test)\n",
    "test_mse = mean_squared_error(y_test_pred, y_test)\n",
    "\n",
    "print(\"Mean Squared Error (Train Dataset):\", train_mse)\n",
    "print(\"Mean Squared Error (Test Dataset):\", test_mse)"
   ]
  },
  {
   "cell_type": "code",
   "execution_count": 51,
   "metadata": {},
   "outputs": [
    {
     "name": "stderr",
     "output_type": "stream",
     "text": [
      "C:\\Users\\Willis\\anaconda3\\Lib\\site-packages\\sklearn\\model_selection\\_validation.py:686: DataConversionWarning: A column-vector y was passed when a 1d array was expected. Please change the shape of y to (n_samples,), for example using ravel().\n",
      "  estimator.fit(X_train, y_train, **fit_params)\n",
      "C:\\Users\\Willis\\anaconda3\\Lib\\site-packages\\sklearn\\model_selection\\_validation.py:686: DataConversionWarning: A column-vector y was passed when a 1d array was expected. Please change the shape of y to (n_samples,), for example using ravel().\n",
      "  estimator.fit(X_train, y_train, **fit_params)\n",
      "C:\\Users\\Willis\\anaconda3\\Lib\\site-packages\\sklearn\\model_selection\\_validation.py:686: DataConversionWarning: A column-vector y was passed when a 1d array was expected. Please change the shape of y to (n_samples,), for example using ravel().\n",
      "  estimator.fit(X_train, y_train, **fit_params)\n",
      "C:\\Users\\Willis\\anaconda3\\Lib\\site-packages\\sklearn\\model_selection\\_validation.py:686: DataConversionWarning: A column-vector y was passed when a 1d array was expected. Please change the shape of y to (n_samples,), for example using ravel().\n",
      "  estimator.fit(X_train, y_train, **fit_params)\n",
      "C:\\Users\\Willis\\anaconda3\\Lib\\site-packages\\sklearn\\model_selection\\_validation.py:686: DataConversionWarning: A column-vector y was passed when a 1d array was expected. Please change the shape of y to (n_samples,), for example using ravel().\n",
      "  estimator.fit(X_train, y_train, **fit_params)\n",
      "C:\\Users\\Willis\\anaconda3\\Lib\\site-packages\\sklearn\\model_selection\\_validation.py:686: DataConversionWarning: A column-vector y was passed when a 1d array was expected. Please change the shape of y to (n_samples,), for example using ravel().\n",
      "  estimator.fit(X_train, y_train, **fit_params)\n",
      "C:\\Users\\Willis\\anaconda3\\Lib\\site-packages\\sklearn\\model_selection\\_validation.py:686: DataConversionWarning: A column-vector y was passed when a 1d array was expected. Please change the shape of y to (n_samples,), for example using ravel().\n",
      "  estimator.fit(X_train, y_train, **fit_params)\n",
      "C:\\Users\\Willis\\anaconda3\\Lib\\site-packages\\sklearn\\model_selection\\_validation.py:686: DataConversionWarning: A column-vector y was passed when a 1d array was expected. Please change the shape of y to (n_samples,), for example using ravel().\n",
      "  estimator.fit(X_train, y_train, **fit_params)\n",
      "C:\\Users\\Willis\\anaconda3\\Lib\\site-packages\\sklearn\\model_selection\\_validation.py:686: DataConversionWarning: A column-vector y was passed when a 1d array was expected. Please change the shape of y to (n_samples,), for example using ravel().\n",
      "  estimator.fit(X_train, y_train, **fit_params)\n",
      "C:\\Users\\Willis\\anaconda3\\Lib\\site-packages\\sklearn\\model_selection\\_validation.py:686: DataConversionWarning: A column-vector y was passed when a 1d array was expected. Please change the shape of y to (n_samples,), for example using ravel().\n",
      "  estimator.fit(X_train, y_train, **fit_params)\n",
      "C:\\Users\\Willis\\anaconda3\\Lib\\site-packages\\sklearn\\model_selection\\_validation.py:686: DataConversionWarning: A column-vector y was passed when a 1d array was expected. Please change the shape of y to (n_samples,), for example using ravel().\n",
      "  estimator.fit(X_train, y_train, **fit_params)\n",
      "C:\\Users\\Willis\\anaconda3\\Lib\\site-packages\\sklearn\\model_selection\\_validation.py:686: DataConversionWarning: A column-vector y was passed when a 1d array was expected. Please change the shape of y to (n_samples,), for example using ravel().\n",
      "  estimator.fit(X_train, y_train, **fit_params)\n",
      "C:\\Users\\Willis\\anaconda3\\Lib\\site-packages\\sklearn\\model_selection\\_validation.py:686: DataConversionWarning: A column-vector y was passed when a 1d array was expected. Please change the shape of y to (n_samples,), for example using ravel().\n",
      "  estimator.fit(X_train, y_train, **fit_params)\n",
      "C:\\Users\\Willis\\anaconda3\\Lib\\site-packages\\sklearn\\model_selection\\_validation.py:686: DataConversionWarning: A column-vector y was passed when a 1d array was expected. Please change the shape of y to (n_samples,), for example using ravel().\n",
      "  estimator.fit(X_train, y_train, **fit_params)\n",
      "C:\\Users\\Willis\\anaconda3\\Lib\\site-packages\\sklearn\\model_selection\\_validation.py:686: DataConversionWarning: A column-vector y was passed when a 1d array was expected. Please change the shape of y to (n_samples,), for example using ravel().\n",
      "  estimator.fit(X_train, y_train, **fit_params)\n",
      "C:\\Users\\Willis\\anaconda3\\Lib\\site-packages\\sklearn\\model_selection\\_validation.py:686: DataConversionWarning: A column-vector y was passed when a 1d array was expected. Please change the shape of y to (n_samples,), for example using ravel().\n",
      "  estimator.fit(X_train, y_train, **fit_params)\n",
      "C:\\Users\\Willis\\anaconda3\\Lib\\site-packages\\sklearn\\model_selection\\_validation.py:686: DataConversionWarning: A column-vector y was passed when a 1d array was expected. Please change the shape of y to (n_samples,), for example using ravel().\n",
      "  estimator.fit(X_train, y_train, **fit_params)\n",
      "C:\\Users\\Willis\\anaconda3\\Lib\\site-packages\\sklearn\\model_selection\\_validation.py:686: DataConversionWarning: A column-vector y was passed when a 1d array was expected. Please change the shape of y to (n_samples,), for example using ravel().\n",
      "  estimator.fit(X_train, y_train, **fit_params)\n",
      "C:\\Users\\Willis\\anaconda3\\Lib\\site-packages\\sklearn\\model_selection\\_validation.py:686: DataConversionWarning: A column-vector y was passed when a 1d array was expected. Please change the shape of y to (n_samples,), for example using ravel().\n",
      "  estimator.fit(X_train, y_train, **fit_params)\n",
      "C:\\Users\\Willis\\anaconda3\\Lib\\site-packages\\sklearn\\model_selection\\_validation.py:686: DataConversionWarning: A column-vector y was passed when a 1d array was expected. Please change the shape of y to (n_samples,), for example using ravel().\n",
      "  estimator.fit(X_train, y_train, **fit_params)\n",
      "C:\\Users\\Willis\\anaconda3\\Lib\\site-packages\\sklearn\\model_selection\\_validation.py:686: DataConversionWarning: A column-vector y was passed when a 1d array was expected. Please change the shape of y to (n_samples,), for example using ravel().\n",
      "  estimator.fit(X_train, y_train, **fit_params)\n",
      "C:\\Users\\Willis\\anaconda3\\Lib\\site-packages\\sklearn\\model_selection\\_validation.py:686: DataConversionWarning: A column-vector y was passed when a 1d array was expected. Please change the shape of y to (n_samples,), for example using ravel().\n",
      "  estimator.fit(X_train, y_train, **fit_params)\n",
      "C:\\Users\\Willis\\anaconda3\\Lib\\site-packages\\sklearn\\model_selection\\_validation.py:686: DataConversionWarning: A column-vector y was passed when a 1d array was expected. Please change the shape of y to (n_samples,), for example using ravel().\n",
      "  estimator.fit(X_train, y_train, **fit_params)\n",
      "C:\\Users\\Willis\\anaconda3\\Lib\\site-packages\\sklearn\\model_selection\\_validation.py:686: DataConversionWarning: A column-vector y was passed when a 1d array was expected. Please change the shape of y to (n_samples,), for example using ravel().\n",
      "  estimator.fit(X_train, y_train, **fit_params)\n",
      "C:\\Users\\Willis\\anaconda3\\Lib\\site-packages\\sklearn\\model_selection\\_validation.py:686: DataConversionWarning: A column-vector y was passed when a 1d array was expected. Please change the shape of y to (n_samples,), for example using ravel().\n",
      "  estimator.fit(X_train, y_train, **fit_params)\n",
      "C:\\Users\\Willis\\anaconda3\\Lib\\site-packages\\sklearn\\model_selection\\_search.py:909: DataConversionWarning: A column-vector y was passed when a 1d array was expected. Please change the shape of y to (n_samples,), for example using ravel().\n",
      "  self.best_estimator_.fit(X, y, **fit_params)\n"
     ]
    },
    {
     "name": "stdout",
     "output_type": "stream",
     "text": [
      "{'max_depth': 6, 'min_samples_split': 12, 'n_estimators': 137}\n"
     ]
    }
   ],
   "source": [
    "from sklearn.model_selection import RandomizedSearchCV\n",
    "from scipy.stats import randint\n",
    "\n",
    "param_dist = {\n",
    "    'n_estimators': randint(50, 200),\n",
    "    'max_depth': [None] + list(range(5, 20)),\n",
    "    'min_samples_split': randint(2, 20)\n",
    "}\n",
    "\n",
    "randomized_search = RandomizedSearchCV(estimator=RandomForestRegressor(), param_distributions=param_dist, n_iter=5, cv=5, scoring='neg_mean_squared_error', random_state=42)\n",
    "\n",
    "randomized_search.fit(x_train, y_train)\n",
    "\n",
    "best_params = randomized_search.best_params_\n",
    "print(best_params)"
   ]
  },
  {
   "cell_type": "code",
   "execution_count": 81,
   "metadata": {},
   "outputs": [
    {
     "name": "stderr",
     "output_type": "stream",
     "text": [
      "C:\\Users\\Willis\\AppData\\Local\\Temp\\ipykernel_17012\\3010193299.py:2: DataConversionWarning: A column-vector y was passed when a 1d array was expected. Please change the shape of y to (n_samples,), for example using ravel().\n",
      "  randomforest.fit(x_train, y_train)\n"
     ]
    },
    {
     "name": "stdout",
     "output_type": "stream",
     "text": [
      "Mean Squared Error (Train Dataset): 1.0893345816764661\n",
      "Mean Squared Error (Test Dataset): 1.248696730881368\n"
     ]
    }
   ],
   "source": [
    "randomforest = RandomForestRegressor(n_estimators=best_params['n_estimators'], max_depth=best_params['max_depth'], min_samples_split=best_params['min_samples_split'], random_state=42)\n",
    "randomforest.fit(x_train, y_train)\n",
    "\n",
    "y_train_pred = randomforest.predict(x_train)\n",
    "train_mse = mean_squared_error(y_train_pred, y_train)\n",
    "y_test_pred = randomforest.predict(x_test)\n",
    "test_mse = mean_squared_error(y_test_pred, y_test)\n",
    "\n",
    "print(\"Mean Squared Error (Train Dataset):\", train_mse)\n",
    "print(\"Mean Squared Error (Test Dataset):\", test_mse)"
   ]
  },
  {
   "cell_type": "code",
   "execution_count": 84,
   "metadata": {},
   "outputs": [
    {
     "data": {
      "text/plain": [
       "{'significant_variable': ['concurrent_risk',\n",
       "  'cc_mskChronic',\n",
       "  'Age',\n",
       "  'cc_depression',\n",
       "  'ADI',\n",
       "  'cc_behavioralAllOther',\n",
       "  'Gender',\n",
       "  'cc_obesity',\n",
       "  'rx_nonCompliant',\n",
       "  'cc_ckd',\n",
       "  'cc_mskAllOther',\n",
       "  'cc_RespiratorySinusAllergy_chronic',\n",
       "  'lshrq_stress',\n",
       "  'rx_nonClaimant',\n",
       "  'lshrq_nutrition',\n",
       "  'cc_diabetes',\n",
       "  'lshrq_sleeping',\n",
       "  'cc_cardiac']}"
      ]
     },
     "execution_count": 84,
     "metadata": {},
     "output_type": "execute_result"
    }
   ],
   "source": [
    "significant_variable_rf = {}\n",
    "significant_variable_rf['significant_variable'] = []\n",
    "\n",
    "feature_importances = randomforest.feature_importances_\n",
    "feature_importance_dict = dict(zip(x_train.columns, feature_importances))\n",
    "sorted_features = sorted(feature_importance_dict.items(), key=lambda x: x[1], reverse=True)\n",
    "\n",
    "for feature, importance in sorted_features:\n",
    "    if importance > 0.003:\n",
    "        significant_variable_rf['significant_variable'].append(feature)\n",
    "\n",
    "significant_variable_rf"
   ]
  },
  {
   "cell_type": "code",
   "execution_count": 83,
   "metadata": {},
   "outputs": [
    {
     "data": {
      "text/plain": [
       "[('concurrent_risk', 0.5604172252067459),\n",
       " ('cc_mskChronic', 0.13778756071584658),\n",
       " ('Age', 0.08051061468334417),\n",
       " ('cc_depression', 0.06861768611562448),\n",
       " ('ADI', 0.05373892924326449),\n",
       " ('cc_behavioralAllOther', 0.013832497930064802),\n",
       " ('Gender', 0.013359754808718463),\n",
       " ('cc_obesity', 0.008025876967960048),\n",
       " ('rx_nonCompliant', 0.005102426637278593),\n",
       " ('cc_ckd', 0.005044159461773198),\n",
       " ('cc_mskAllOther', 0.00498514447895134),\n",
       " ('cc_RespiratorySinusAllergy_chronic', 0.004436892729247332),\n",
       " ('lshrq_stress', 0.004380217431672493),\n",
       " ('rx_nonClaimant', 0.0038164081719711377),\n",
       " ('lshrq_nutrition', 0.003786953161512144),\n",
       " ('cc_diabetes', 0.0035721746928800706),\n",
       " ('lshrq_sleeping', 0.00352314187254029),\n",
       " ('cc_cardiac', 0.0030431350988575426),\n",
       " ('lsbio_bp', 0.002516548147443187),\n",
       " ('lshrq_wellbeing', 0.0021205819966701282),\n",
       " ('cc_cancer', 0.0021174418607974345),\n",
       " ('cc_cholesterol', 0.002094929627709826),\n",
       " ('lshrq_genHealth', 0.001895624606337082),\n",
       " ('lshrq_physact', 0.00181027243572397),\n",
       " ('lsbio_weight', 0.0017885311809297936),\n",
       " ('lshrq_tobacco', 0.001701110954672527),\n",
       " ('lsbio_glucose', 0.0016397415719307654),\n",
       " ('lsbio_cholesterol', 0.0015945529454877568),\n",
       " ('lshrq_alcohol', 0.0014725085141492804),\n",
       " ('lsbio_trig', 0.0012673567498952558)]"
      ]
     },
     "execution_count": 83,
     "metadata": {},
     "output_type": "execute_result"
    }
   ],
   "source": [
    "sorted_features"
   ]
  },
  {
   "cell_type": "markdown",
   "metadata": {},
   "source": [
    "### Significant Variable"
   ]
  },
  {
   "cell_type": "code",
   "execution_count": 55,
   "metadata": {},
   "outputs": [
    {
     "data": {
      "text/plain": [
       "{'significant_variable': ['const',\n",
       "  'ADI',\n",
       "  'Age',\n",
       "  'Gender',\n",
       "  'lsbio_bp',\n",
       "  'lshrq_nutrition',\n",
       "  'lshrq_wellbeing',\n",
       "  'lshrq_sleeping',\n",
       "  'cc_cancer',\n",
       "  'cc_mskChronic',\n",
       "  'cc_cardiac',\n",
       "  'cc_depression',\n",
       "  'cc_obesity',\n",
       "  'cc_mskAllOther',\n",
       "  'cc_behavioralAllOther',\n",
       "  'concurrent_risk',\n",
       "  'rx_nonClaimant',\n",
       "  'rx_nonCompliant']}"
      ]
     },
     "execution_count": 55,
     "metadata": {},
     "output_type": "execute_result"
    }
   ],
   "source": [
    "significant_variable_lr"
   ]
  },
  {
   "cell_type": "code",
   "execution_count": 56,
   "metadata": {},
   "outputs": [
    {
     "data": {
      "text/plain": [
       "{'significant_variable': ['ADI',\n",
       "  'Age',\n",
       "  'cc_mskChronic',\n",
       "  'cc_cholesterol',\n",
       "  'cc_depression',\n",
       "  'cc_obesity',\n",
       "  'cc_behavioralAllOther',\n",
       "  'cc_ckd',\n",
       "  'concurrent_risk',\n",
       "  'rx_nonClaimant',\n",
       "  'rx_nonCompliant']}"
      ]
     },
     "execution_count": 56,
     "metadata": {},
     "output_type": "execute_result"
    }
   ],
   "source": [
    "significant_variable_dt"
   ]
  },
  {
   "cell_type": "code",
   "execution_count": 57,
   "metadata": {},
   "outputs": [
    {
     "data": {
      "text/plain": [
       "{'significant_variable': ['concurrent_risk',\n",
       "  'cc_mskChronic',\n",
       "  'cc_depression',\n",
       "  'Age',\n",
       "  'ADI',\n",
       "  'Gender',\n",
       "  'cc_behavioralAllOther',\n",
       "  'rx_nonCompliant',\n",
       "  'cc_obesity',\n",
       "  'cc_ckd',\n",
       "  'cc_mskAllOther',\n",
       "  'cc_diabetes',\n",
       "  'rx_nonClaimant']}"
      ]
     },
     "execution_count": 57,
     "metadata": {},
     "output_type": "execute_result"
    }
   ],
   "source": [
    "significant_variable_rf"
   ]
  },
  {
   "cell_type": "code",
   "execution_count": 58,
   "metadata": {},
   "outputs": [],
   "source": [
    "from collections import Counter\n",
    "\n",
    "significant_health_variables = sum([d['significant_variable'] for d in [significant_variable_lr, significant_variable_dt, significant_variable_rf]], [])\n",
    "\n",
    "significant_health_variables_counts = Counter(significant_health_variables)"
   ]
  },
  {
   "cell_type": "code",
   "execution_count": 59,
   "metadata": {},
   "outputs": [
    {
     "data": {
      "text/plain": [
       "['lsbio_bp',\n",
       " 'lshrq_nutrition',\n",
       " 'lshrq_wellbeing',\n",
       " 'lshrq_sleeping',\n",
       " 'cc_cancer',\n",
       " 'cc_mskChronic',\n",
       " 'cc_cardiac',\n",
       " 'cc_depression',\n",
       " 'cc_obesity',\n",
       " 'cc_mskAllOther',\n",
       " 'cc_behavioralAllOther',\n",
       " 'concurrent_risk',\n",
       " 'rx_nonClaimant',\n",
       " 'rx_nonCompliant',\n",
       " 'cc_cholesterol',\n",
       " 'cc_ckd',\n",
       " 'cc_diabetes']"
      ]
     },
     "execution_count": 59,
     "metadata": {},
     "output_type": "execute_result"
    }
   ],
   "source": [
    "significant_health_variables_list = []\n",
    "\n",
    "for key, value in significant_health_variables_counts.items():\n",
    "    if key != 'const' and key != 'ADI' and key != 'Gender' and key != 'Age':\n",
    "        significant_health_variables_list.append(key)\n",
    "\n",
    "significant_health_variables_list"
   ]
  },
  {
   "cell_type": "code",
   "execution_count": null,
   "metadata": {},
   "outputs": [],
   "source": []
  }
 ],
 "metadata": {
  "interpreter": {
   "hash": "aee8b7b246df8f9039afb4144a1f6fd8d2ca17a180786b69acc140d282b71a49"
  },
  "kernelspec": {
   "display_name": "Python 3 (ipykernel)",
   "language": "python",
   "name": "python3"
  },
  "language_info": {
   "codemirror_mode": {
    "name": "ipython",
    "version": 3
   },
   "file_extension": ".py",
   "mimetype": "text/x-python",
   "name": "python",
   "nbconvert_exporter": "python",
   "pygments_lexer": "ipython3",
   "version": "3.11.7"
  }
 },
 "nbformat": 4,
 "nbformat_minor": 4
}
