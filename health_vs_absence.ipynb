{
 "cells": [
  {
   "cell_type": "code",
   "execution_count": 1,
   "metadata": {},
   "outputs": [],
   "source": [
    "import pandas as pd\n",
    "import numpy as np\n",
    "import matplotlib.pyplot as plt\n",
    "import seaborn as sb\n",
    "\n",
    "sb.set()"
   ]
  },
  {
   "cell_type": "code",
   "execution_count": 2,
   "metadata": {},
   "outputs": [
    {
     "data": {
      "text/html": [
       "<div>\n",
       "<style scoped>\n",
       "    .dataframe tbody tr th:only-of-type {\n",
       "        vertical-align: middle;\n",
       "    }\n",
       "\n",
       "    .dataframe tbody tr th {\n",
       "        vertical-align: top;\n",
       "    }\n",
       "\n",
       "    .dataframe thead th {\n",
       "        text-align: right;\n",
       "    }\n",
       "</style>\n",
       "<table border=\"1\" class=\"dataframe\">\n",
       "  <thead>\n",
       "    <tr style=\"text-align: right;\">\n",
       "      <th></th>\n",
       "      <th>ADI</th>\n",
       "      <th>Age</th>\n",
       "      <th>person_id</th>\n",
       "      <th>Gender</th>\n",
       "      <th>Subgroup</th>\n",
       "      <th>absence_indicator</th>\n",
       "      <th>analytic_period_id</th>\n",
       "      <th>tenure</th>\n",
       "      <th>overtime</th>\n",
       "      <th>salary</th>\n",
       "      <th>...</th>\n",
       "      <th>extreme_heat_ssp585_2045</th>\n",
       "      <th>wildfire_potential_2018</th>\n",
       "      <th>wildfire_potential_2019</th>\n",
       "      <th>wildfire_potential_2019.1</th>\n",
       "      <th>wildfire_potential_ssp245_2025</th>\n",
       "      <th>wildfire_potential_ssp245_2035</th>\n",
       "      <th>wildfire_potential_ssp245_2045</th>\n",
       "      <th>wildfire_potential_ssp585_2025</th>\n",
       "      <th>wildfire_potential_ssp585_2035</th>\n",
       "      <th>wildfire_potential_ssp585_2045</th>\n",
       "    </tr>\n",
       "  </thead>\n",
       "  <tbody>\n",
       "    <tr>\n",
       "      <th>0</th>\n",
       "      <td>28</td>\n",
       "      <td>37</td>\n",
       "      <td>3030515063</td>\n",
       "      <td>Male</td>\n",
       "      <td>Subgroup P</td>\n",
       "      <td>0</td>\n",
       "      <td>1</td>\n",
       "      <td>18.25</td>\n",
       "      <td>1</td>\n",
       "      <td>115700.0</td>\n",
       "      <td>...</td>\n",
       "      <td>13.380953</td>\n",
       "      <td>10.975000</td>\n",
       "      <td>11.460870</td>\n",
       "      <td>12.070652</td>\n",
       "      <td>6.033403</td>\n",
       "      <td>6.347014</td>\n",
       "      <td>6.512159</td>\n",
       "      <td>6.093082</td>\n",
       "      <td>6.504460</td>\n",
       "      <td>6.743331</td>\n",
       "    </tr>\n",
       "    <tr>\n",
       "      <th>1</th>\n",
       "      <td>18</td>\n",
       "      <td>34</td>\n",
       "      <td>9786383567</td>\n",
       "      <td>Male</td>\n",
       "      <td>Subgroup P</td>\n",
       "      <td>0</td>\n",
       "      <td>1</td>\n",
       "      <td>3.99</td>\n",
       "      <td>7</td>\n",
       "      <td>81435.0</td>\n",
       "      <td>...</td>\n",
       "      <td>13.380953</td>\n",
       "      <td>11.141304</td>\n",
       "      <td>11.520652</td>\n",
       "      <td>11.871739</td>\n",
       "      <td>6.033403</td>\n",
       "      <td>6.347014</td>\n",
       "      <td>6.512159</td>\n",
       "      <td>6.093082</td>\n",
       "      <td>6.504460</td>\n",
       "      <td>6.743331</td>\n",
       "    </tr>\n",
       "    <tr>\n",
       "      <th>2</th>\n",
       "      <td>15</td>\n",
       "      <td>36</td>\n",
       "      <td>5602306401</td>\n",
       "      <td>Male</td>\n",
       "      <td>Subgroup P</td>\n",
       "      <td>0</td>\n",
       "      <td>1</td>\n",
       "      <td>3.05</td>\n",
       "      <td>1</td>\n",
       "      <td>86400.0</td>\n",
       "      <td>...</td>\n",
       "      <td>15.597403</td>\n",
       "      <td>10.393478</td>\n",
       "      <td>10.777174</td>\n",
       "      <td>11.659783</td>\n",
       "      <td>6.064177</td>\n",
       "      <td>6.380910</td>\n",
       "      <td>6.548825</td>\n",
       "      <td>6.117186</td>\n",
       "      <td>6.522880</td>\n",
       "      <td>6.771772</td>\n",
       "    </tr>\n",
       "    <tr>\n",
       "      <th>3</th>\n",
       "      <td>36</td>\n",
       "      <td>41</td>\n",
       "      <td>8107765424</td>\n",
       "      <td>Male</td>\n",
       "      <td>Subgroup P</td>\n",
       "      <td>0</td>\n",
       "      <td>1</td>\n",
       "      <td>20.29</td>\n",
       "      <td>1</td>\n",
       "      <td>79176.0</td>\n",
       "      <td>...</td>\n",
       "      <td>12.290043</td>\n",
       "      <td>11.039130</td>\n",
       "      <td>11.023913</td>\n",
       "      <td>11.963043</td>\n",
       "      <td>6.069724</td>\n",
       "      <td>6.365864</td>\n",
       "      <td>6.512409</td>\n",
       "      <td>6.091926</td>\n",
       "      <td>6.469195</td>\n",
       "      <td>6.700504</td>\n",
       "    </tr>\n",
       "    <tr>\n",
       "      <th>4</th>\n",
       "      <td>49</td>\n",
       "      <td>51</td>\n",
       "      <td>7879842771</td>\n",
       "      <td>Male</td>\n",
       "      <td>Subgroup P</td>\n",
       "      <td>0</td>\n",
       "      <td>1</td>\n",
       "      <td>13.66</td>\n",
       "      <td>7</td>\n",
       "      <td>94511.0</td>\n",
       "      <td>...</td>\n",
       "      <td>12.290043</td>\n",
       "      <td>10.760870</td>\n",
       "      <td>11.308696</td>\n",
       "      <td>12.006522</td>\n",
       "      <td>6.069724</td>\n",
       "      <td>6.365864</td>\n",
       "      <td>6.512409</td>\n",
       "      <td>6.091926</td>\n",
       "      <td>6.469195</td>\n",
       "      <td>6.700504</td>\n",
       "    </tr>\n",
       "  </tbody>\n",
       "</table>\n",
       "<p>5 rows × 74 columns</p>\n",
       "</div>"
      ],
      "text/plain": [
       "   ADI  Age   person_id Gender    Subgroup  absence_indicator  \\\n",
       "0   28   37  3030515063   Male  Subgroup P                  0   \n",
       "1   18   34  9786383567   Male  Subgroup P                  0   \n",
       "2   15   36  5602306401   Male  Subgroup P                  0   \n",
       "3   36   41  8107765424   Male  Subgroup P                  0   \n",
       "4   49   51  7879842771   Male  Subgroup P                  0   \n",
       "\n",
       "   analytic_period_id  tenure  overtime    salary  ...  \\\n",
       "0                   1   18.25         1  115700.0  ...   \n",
       "1                   1    3.99         7   81435.0  ...   \n",
       "2                   1    3.05         1   86400.0  ...   \n",
       "3                   1   20.29         1   79176.0  ...   \n",
       "4                   1   13.66         7   94511.0  ...   \n",
       "\n",
       "   extreme_heat_ssp585_2045  wildfire_potential_2018  wildfire_potential_2019  \\\n",
       "0                 13.380953                10.975000                11.460870   \n",
       "1                 13.380953                11.141304                11.520652   \n",
       "2                 15.597403                10.393478                10.777174   \n",
       "3                 12.290043                11.039130                11.023913   \n",
       "4                 12.290043                10.760870                11.308696   \n",
       "\n",
       "   wildfire_potential_2019.1  wildfire_potential_ssp245_2025  \\\n",
       "0                  12.070652                        6.033403   \n",
       "1                  11.871739                        6.033403   \n",
       "2                  11.659783                        6.064177   \n",
       "3                  11.963043                        6.069724   \n",
       "4                  12.006522                        6.069724   \n",
       "\n",
       "   wildfire_potential_ssp245_2035  wildfire_potential_ssp245_2045  \\\n",
       "0                        6.347014                        6.512159   \n",
       "1                        6.347014                        6.512159   \n",
       "2                        6.380910                        6.548825   \n",
       "3                        6.365864                        6.512409   \n",
       "4                        6.365864                        6.512409   \n",
       "\n",
       "   wildfire_potential_ssp585_2025  wildfire_potential_ssp585_2035  \\\n",
       "0                        6.093082                        6.504460   \n",
       "1                        6.093082                        6.504460   \n",
       "2                        6.117186                        6.522880   \n",
       "3                        6.091926                        6.469195   \n",
       "4                        6.091926                        6.469195   \n",
       "\n",
       "   wildfire_potential_ssp585_2045  \n",
       "0                        6.743331  \n",
       "1                        6.743331  \n",
       "2                        6.771772  \n",
       "3                        6.700504  \n",
       "4                        6.700504  \n",
       "\n",
       "[5 rows x 74 columns]"
      ]
     },
     "execution_count": 2,
     "metadata": {},
     "output_type": "execute_result"
    }
   ],
   "source": [
    "df = pd.read_csv('Dataset.csv', index_col=0)\n",
    "df.head()"
   ]
  },
  {
   "cell_type": "code",
   "execution_count": 3,
   "metadata": {
    "scrolled": true
   },
   "outputs": [
    {
     "data": {
      "text/html": [
       "<div>\n",
       "<style scoped>\n",
       "    .dataframe tbody tr th:only-of-type {\n",
       "        vertical-align: middle;\n",
       "    }\n",
       "\n",
       "    .dataframe tbody tr th {\n",
       "        vertical-align: top;\n",
       "    }\n",
       "\n",
       "    .dataframe thead th {\n",
       "        text-align: right;\n",
       "    }\n",
       "</style>\n",
       "<table border=\"1\" class=\"dataframe\">\n",
       "  <thead>\n",
       "    <tr style=\"text-align: right;\">\n",
       "      <th></th>\n",
       "      <th>ADI</th>\n",
       "      <th>Age</th>\n",
       "      <th>person_id</th>\n",
       "      <th>Gender</th>\n",
       "      <th>Subgroup</th>\n",
       "      <th>absence_indicator</th>\n",
       "      <th>analytic_period_id</th>\n",
       "      <th>tenure</th>\n",
       "      <th>overtime</th>\n",
       "      <th>salary</th>\n",
       "      <th>...</th>\n",
       "      <th>extreme_heat_ssp585_2045</th>\n",
       "      <th>wildfire_potential_2018</th>\n",
       "      <th>wildfire_potential_2019</th>\n",
       "      <th>wildfire_potential_2019.1</th>\n",
       "      <th>wildfire_potential_ssp245_2025</th>\n",
       "      <th>wildfire_potential_ssp245_2035</th>\n",
       "      <th>wildfire_potential_ssp245_2045</th>\n",
       "      <th>wildfire_potential_ssp585_2025</th>\n",
       "      <th>wildfire_potential_ssp585_2035</th>\n",
       "      <th>wildfire_potential_ssp585_2045</th>\n",
       "    </tr>\n",
       "  </thead>\n",
       "  <tbody>\n",
       "    <tr>\n",
       "      <th>0</th>\n",
       "      <td>28</td>\n",
       "      <td>37</td>\n",
       "      <td>3030515063</td>\n",
       "      <td>1</td>\n",
       "      <td>Subgroup P</td>\n",
       "      <td>0</td>\n",
       "      <td>1</td>\n",
       "      <td>18.25</td>\n",
       "      <td>1</td>\n",
       "      <td>115700.0</td>\n",
       "      <td>...</td>\n",
       "      <td>13.380953</td>\n",
       "      <td>10.975000</td>\n",
       "      <td>11.460870</td>\n",
       "      <td>12.070652</td>\n",
       "      <td>6.033403</td>\n",
       "      <td>6.347014</td>\n",
       "      <td>6.512159</td>\n",
       "      <td>6.093082</td>\n",
       "      <td>6.504460</td>\n",
       "      <td>6.743331</td>\n",
       "    </tr>\n",
       "    <tr>\n",
       "      <th>1</th>\n",
       "      <td>18</td>\n",
       "      <td>34</td>\n",
       "      <td>9786383567</td>\n",
       "      <td>1</td>\n",
       "      <td>Subgroup P</td>\n",
       "      <td>0</td>\n",
       "      <td>1</td>\n",
       "      <td>3.99</td>\n",
       "      <td>7</td>\n",
       "      <td>81435.0</td>\n",
       "      <td>...</td>\n",
       "      <td>13.380953</td>\n",
       "      <td>11.141304</td>\n",
       "      <td>11.520652</td>\n",
       "      <td>11.871739</td>\n",
       "      <td>6.033403</td>\n",
       "      <td>6.347014</td>\n",
       "      <td>6.512159</td>\n",
       "      <td>6.093082</td>\n",
       "      <td>6.504460</td>\n",
       "      <td>6.743331</td>\n",
       "    </tr>\n",
       "    <tr>\n",
       "      <th>2</th>\n",
       "      <td>15</td>\n",
       "      <td>36</td>\n",
       "      <td>5602306401</td>\n",
       "      <td>1</td>\n",
       "      <td>Subgroup P</td>\n",
       "      <td>0</td>\n",
       "      <td>1</td>\n",
       "      <td>3.05</td>\n",
       "      <td>1</td>\n",
       "      <td>86400.0</td>\n",
       "      <td>...</td>\n",
       "      <td>15.597403</td>\n",
       "      <td>10.393478</td>\n",
       "      <td>10.777174</td>\n",
       "      <td>11.659783</td>\n",
       "      <td>6.064177</td>\n",
       "      <td>6.380910</td>\n",
       "      <td>6.548825</td>\n",
       "      <td>6.117186</td>\n",
       "      <td>6.522880</td>\n",
       "      <td>6.771772</td>\n",
       "    </tr>\n",
       "    <tr>\n",
       "      <th>3</th>\n",
       "      <td>36</td>\n",
       "      <td>41</td>\n",
       "      <td>8107765424</td>\n",
       "      <td>1</td>\n",
       "      <td>Subgroup P</td>\n",
       "      <td>0</td>\n",
       "      <td>1</td>\n",
       "      <td>20.29</td>\n",
       "      <td>1</td>\n",
       "      <td>79176.0</td>\n",
       "      <td>...</td>\n",
       "      <td>12.290043</td>\n",
       "      <td>11.039130</td>\n",
       "      <td>11.023913</td>\n",
       "      <td>11.963043</td>\n",
       "      <td>6.069724</td>\n",
       "      <td>6.365864</td>\n",
       "      <td>6.512409</td>\n",
       "      <td>6.091926</td>\n",
       "      <td>6.469195</td>\n",
       "      <td>6.700504</td>\n",
       "    </tr>\n",
       "    <tr>\n",
       "      <th>4</th>\n",
       "      <td>49</td>\n",
       "      <td>51</td>\n",
       "      <td>7879842771</td>\n",
       "      <td>1</td>\n",
       "      <td>Subgroup P</td>\n",
       "      <td>0</td>\n",
       "      <td>1</td>\n",
       "      <td>13.66</td>\n",
       "      <td>7</td>\n",
       "      <td>94511.0</td>\n",
       "      <td>...</td>\n",
       "      <td>12.290043</td>\n",
       "      <td>10.760870</td>\n",
       "      <td>11.308696</td>\n",
       "      <td>12.006522</td>\n",
       "      <td>6.069724</td>\n",
       "      <td>6.365864</td>\n",
       "      <td>6.512409</td>\n",
       "      <td>6.091926</td>\n",
       "      <td>6.469195</td>\n",
       "      <td>6.700504</td>\n",
       "    </tr>\n",
       "  </tbody>\n",
       "</table>\n",
       "<p>5 rows × 74 columns</p>\n",
       "</div>"
      ],
      "text/plain": [
       "   ADI  Age   person_id  Gender    Subgroup  absence_indicator  \\\n",
       "0   28   37  3030515063       1  Subgroup P                  0   \n",
       "1   18   34  9786383567       1  Subgroup P                  0   \n",
       "2   15   36  5602306401       1  Subgroup P                  0   \n",
       "3   36   41  8107765424       1  Subgroup P                  0   \n",
       "4   49   51  7879842771       1  Subgroup P                  0   \n",
       "\n",
       "   analytic_period_id  tenure  overtime    salary  ...  \\\n",
       "0                   1   18.25         1  115700.0  ...   \n",
       "1                   1    3.99         7   81435.0  ...   \n",
       "2                   1    3.05         1   86400.0  ...   \n",
       "3                   1   20.29         1   79176.0  ...   \n",
       "4                   1   13.66         7   94511.0  ...   \n",
       "\n",
       "   extreme_heat_ssp585_2045  wildfire_potential_2018  wildfire_potential_2019  \\\n",
       "0                 13.380953                10.975000                11.460870   \n",
       "1                 13.380953                11.141304                11.520652   \n",
       "2                 15.597403                10.393478                10.777174   \n",
       "3                 12.290043                11.039130                11.023913   \n",
       "4                 12.290043                10.760870                11.308696   \n",
       "\n",
       "   wildfire_potential_2019.1  wildfire_potential_ssp245_2025  \\\n",
       "0                  12.070652                        6.033403   \n",
       "1                  11.871739                        6.033403   \n",
       "2                  11.659783                        6.064177   \n",
       "3                  11.963043                        6.069724   \n",
       "4                  12.006522                        6.069724   \n",
       "\n",
       "   wildfire_potential_ssp245_2035  wildfire_potential_ssp245_2045  \\\n",
       "0                        6.347014                        6.512159   \n",
       "1                        6.347014                        6.512159   \n",
       "2                        6.380910                        6.548825   \n",
       "3                        6.365864                        6.512409   \n",
       "4                        6.365864                        6.512409   \n",
       "\n",
       "   wildfire_potential_ssp585_2025  wildfire_potential_ssp585_2035  \\\n",
       "0                        6.093082                        6.504460   \n",
       "1                        6.093082                        6.504460   \n",
       "2                        6.117186                        6.522880   \n",
       "3                        6.091926                        6.469195   \n",
       "4                        6.091926                        6.469195   \n",
       "\n",
       "   wildfire_potential_ssp585_2045  \n",
       "0                        6.743331  \n",
       "1                        6.743331  \n",
       "2                        6.771772  \n",
       "3                        6.700504  \n",
       "4                        6.700504  \n",
       "\n",
       "[5 rows x 74 columns]"
      ]
     },
     "execution_count": 3,
     "metadata": {},
     "output_type": "execute_result"
    }
   ],
   "source": [
    "# set gender to 1 and 0\n",
    "\n",
    "df['Gender'] = np.where(df['Gender'] == 'Male', 1, 0)\n",
    "df.head()"
   ]
  },
  {
   "cell_type": "code",
   "execution_count": 4,
   "metadata": {},
   "outputs": [
    {
     "data": {
      "text/html": [
       "<div>\n",
       "<style scoped>\n",
       "    .dataframe tbody tr th:only-of-type {\n",
       "        vertical-align: middle;\n",
       "    }\n",
       "\n",
       "    .dataframe tbody tr th {\n",
       "        vertical-align: top;\n",
       "    }\n",
       "\n",
       "    .dataframe thead th {\n",
       "        text-align: right;\n",
       "    }\n",
       "</style>\n",
       "<table border=\"1\" class=\"dataframe\">\n",
       "  <thead>\n",
       "    <tr style=\"text-align: right;\">\n",
       "      <th></th>\n",
       "      <th>ADI</th>\n",
       "      <th>Age</th>\n",
       "      <th>person_id</th>\n",
       "      <th>Gender</th>\n",
       "      <th>Subgroup</th>\n",
       "      <th>absence_indicator</th>\n",
       "      <th>analytic_period_id</th>\n",
       "      <th>tenure</th>\n",
       "      <th>overtime</th>\n",
       "      <th>salary</th>\n",
       "      <th>...</th>\n",
       "      <th>extreme_heat_ssp585_2045</th>\n",
       "      <th>wildfire_potential_2018</th>\n",
       "      <th>wildfire_potential_2019</th>\n",
       "      <th>wildfire_potential_2019.1</th>\n",
       "      <th>wildfire_potential_ssp245_2025</th>\n",
       "      <th>wildfire_potential_ssp245_2035</th>\n",
       "      <th>wildfire_potential_ssp245_2045</th>\n",
       "      <th>wildfire_potential_ssp585_2025</th>\n",
       "      <th>wildfire_potential_ssp585_2035</th>\n",
       "      <th>wildfire_potential_ssp585_2045</th>\n",
       "    </tr>\n",
       "  </thead>\n",
       "  <tbody>\n",
       "    <tr>\n",
       "      <th>0</th>\n",
       "      <td>28</td>\n",
       "      <td>37</td>\n",
       "      <td>3030515063</td>\n",
       "      <td>1</td>\n",
       "      <td>Subgroup P</td>\n",
       "      <td>0</td>\n",
       "      <td>1</td>\n",
       "      <td>18.25</td>\n",
       "      <td>1</td>\n",
       "      <td>115700.0</td>\n",
       "      <td>...</td>\n",
       "      <td>13.380953</td>\n",
       "      <td>10.975000</td>\n",
       "      <td>11.460870</td>\n",
       "      <td>12.070652</td>\n",
       "      <td>6.033403</td>\n",
       "      <td>6.347014</td>\n",
       "      <td>6.512159</td>\n",
       "      <td>6.093082</td>\n",
       "      <td>6.504460</td>\n",
       "      <td>6.743331</td>\n",
       "    </tr>\n",
       "    <tr>\n",
       "      <th>1</th>\n",
       "      <td>18</td>\n",
       "      <td>34</td>\n",
       "      <td>9786383567</td>\n",
       "      <td>1</td>\n",
       "      <td>Subgroup P</td>\n",
       "      <td>0</td>\n",
       "      <td>1</td>\n",
       "      <td>3.99</td>\n",
       "      <td>7</td>\n",
       "      <td>81435.0</td>\n",
       "      <td>...</td>\n",
       "      <td>13.380953</td>\n",
       "      <td>11.141304</td>\n",
       "      <td>11.520652</td>\n",
       "      <td>11.871739</td>\n",
       "      <td>6.033403</td>\n",
       "      <td>6.347014</td>\n",
       "      <td>6.512159</td>\n",
       "      <td>6.093082</td>\n",
       "      <td>6.504460</td>\n",
       "      <td>6.743331</td>\n",
       "    </tr>\n",
       "    <tr>\n",
       "      <th>2</th>\n",
       "      <td>15</td>\n",
       "      <td>36</td>\n",
       "      <td>5602306401</td>\n",
       "      <td>1</td>\n",
       "      <td>Subgroup P</td>\n",
       "      <td>0</td>\n",
       "      <td>1</td>\n",
       "      <td>3.05</td>\n",
       "      <td>1</td>\n",
       "      <td>86400.0</td>\n",
       "      <td>...</td>\n",
       "      <td>15.597403</td>\n",
       "      <td>10.393478</td>\n",
       "      <td>10.777174</td>\n",
       "      <td>11.659783</td>\n",
       "      <td>6.064177</td>\n",
       "      <td>6.380910</td>\n",
       "      <td>6.548825</td>\n",
       "      <td>6.117186</td>\n",
       "      <td>6.522880</td>\n",
       "      <td>6.771772</td>\n",
       "    </tr>\n",
       "    <tr>\n",
       "      <th>3</th>\n",
       "      <td>36</td>\n",
       "      <td>41</td>\n",
       "      <td>8107765424</td>\n",
       "      <td>1</td>\n",
       "      <td>Subgroup P</td>\n",
       "      <td>0</td>\n",
       "      <td>1</td>\n",
       "      <td>20.29</td>\n",
       "      <td>1</td>\n",
       "      <td>79176.0</td>\n",
       "      <td>...</td>\n",
       "      <td>12.290043</td>\n",
       "      <td>11.039130</td>\n",
       "      <td>11.023913</td>\n",
       "      <td>11.963043</td>\n",
       "      <td>6.069724</td>\n",
       "      <td>6.365864</td>\n",
       "      <td>6.512409</td>\n",
       "      <td>6.091926</td>\n",
       "      <td>6.469195</td>\n",
       "      <td>6.700504</td>\n",
       "    </tr>\n",
       "    <tr>\n",
       "      <th>4</th>\n",
       "      <td>49</td>\n",
       "      <td>51</td>\n",
       "      <td>7879842771</td>\n",
       "      <td>1</td>\n",
       "      <td>Subgroup P</td>\n",
       "      <td>0</td>\n",
       "      <td>1</td>\n",
       "      <td>13.66</td>\n",
       "      <td>7</td>\n",
       "      <td>94511.0</td>\n",
       "      <td>...</td>\n",
       "      <td>12.290043</td>\n",
       "      <td>10.760870</td>\n",
       "      <td>11.308696</td>\n",
       "      <td>12.006522</td>\n",
       "      <td>6.069724</td>\n",
       "      <td>6.365864</td>\n",
       "      <td>6.512409</td>\n",
       "      <td>6.091926</td>\n",
       "      <td>6.469195</td>\n",
       "      <td>6.700504</td>\n",
       "    </tr>\n",
       "  </tbody>\n",
       "</table>\n",
       "<p>5 rows × 74 columns</p>\n",
       "</div>"
      ],
      "text/plain": [
       "   ADI  Age   person_id  Gender    Subgroup  absence_indicator  \\\n",
       "0   28   37  3030515063       1  Subgroup P                  0   \n",
       "1   18   34  9786383567       1  Subgroup P                  0   \n",
       "2   15   36  5602306401       1  Subgroup P                  0   \n",
       "3   36   41  8107765424       1  Subgroup P                  0   \n",
       "4   49   51  7879842771       1  Subgroup P                  0   \n",
       "\n",
       "   analytic_period_id  tenure  overtime    salary  ...  \\\n",
       "0                   1   18.25         1  115700.0  ...   \n",
       "1                   1    3.99         7   81435.0  ...   \n",
       "2                   1    3.05         1   86400.0  ...   \n",
       "3                   1   20.29         1   79176.0  ...   \n",
       "4                   1   13.66         7   94511.0  ...   \n",
       "\n",
       "   extreme_heat_ssp585_2045  wildfire_potential_2018  wildfire_potential_2019  \\\n",
       "0                 13.380953                10.975000                11.460870   \n",
       "1                 13.380953                11.141304                11.520652   \n",
       "2                 15.597403                10.393478                10.777174   \n",
       "3                 12.290043                11.039130                11.023913   \n",
       "4                 12.290043                10.760870                11.308696   \n",
       "\n",
       "   wildfire_potential_2019.1  wildfire_potential_ssp245_2025  \\\n",
       "0                  12.070652                        6.033403   \n",
       "1                  11.871739                        6.033403   \n",
       "2                  11.659783                        6.064177   \n",
       "3                  11.963043                        6.069724   \n",
       "4                  12.006522                        6.069724   \n",
       "\n",
       "   wildfire_potential_ssp245_2035  wildfire_potential_ssp245_2045  \\\n",
       "0                        6.347014                        6.512159   \n",
       "1                        6.347014                        6.512159   \n",
       "2                        6.380910                        6.548825   \n",
       "3                        6.365864                        6.512409   \n",
       "4                        6.365864                        6.512409   \n",
       "\n",
       "   wildfire_potential_ssp585_2025  wildfire_potential_ssp585_2035  \\\n",
       "0                        6.093082                        6.504460   \n",
       "1                        6.093082                        6.504460   \n",
       "2                        6.117186                        6.522880   \n",
       "3                        6.091926                        6.469195   \n",
       "4                        6.091926                        6.469195   \n",
       "\n",
       "   wildfire_potential_ssp585_2045  \n",
       "0                        6.743331  \n",
       "1                        6.743331  \n",
       "2                        6.771772  \n",
       "3                        6.700504  \n",
       "4                        6.700504  \n",
       "\n",
       "[5 rows x 74 columns]"
      ]
     },
     "execution_count": 4,
     "metadata": {},
     "output_type": "execute_result"
    }
   ],
   "source": [
    "df_P = pd.DataFrame(df[df['Subgroup'] == 'Subgroup P'])\n",
    "df_P.head()"
   ]
  },
  {
   "cell_type": "code",
   "execution_count": 5,
   "metadata": {},
   "outputs": [
    {
     "data": {
      "text/plain": [
       "(19623, 74)"
      ]
     },
     "execution_count": 5,
     "metadata": {},
     "output_type": "execute_result"
    }
   ],
   "source": [
    "df_P.shape"
   ]
  },
  {
   "cell_type": "code",
   "execution_count": 6,
   "metadata": {},
   "outputs": [
    {
     "data": {
      "text/plain": [
       "(19623, 74)"
      ]
     },
     "execution_count": 6,
     "metadata": {},
     "output_type": "execute_result"
    }
   ],
   "source": [
    "# Data Cleaning\n",
    "\n",
    "df_wrong_days = df_P.loc[df_P['absence_indicator'] > 365]\n",
    "df_P = df_P.drop(df_wrong_days.index)\n",
    "\n",
    "df_P.shape"
   ]
  },
  {
   "cell_type": "code",
   "execution_count": 7,
   "metadata": {},
   "outputs": [
    {
     "name": "stdout",
     "output_type": "stream",
     "text": [
      "<class 'pandas.core.frame.DataFrame'>\n",
      "Index: 19623 entries, 0 to 39616\n",
      "Data columns (total 74 columns):\n",
      " #   Column                              Non-Null Count  Dtype  \n",
      "---  ------                              --------------  -----  \n",
      " 0   ADI                                 19623 non-null  int64  \n",
      " 1   Age                                 19623 non-null  int64  \n",
      " 2   person_id                           19623 non-null  int64  \n",
      " 3   Gender                              19623 non-null  int64  \n",
      " 4   Subgroup                            19623 non-null  object \n",
      " 5   absence_indicator                   19623 non-null  int64  \n",
      " 6   analytic_period_id                  19623 non-null  int64  \n",
      " 7   tenure                              19623 non-null  float64\n",
      " 8   overtime                            19623 non-null  int64  \n",
      " 9   salary                              19623 non-null  float64\n",
      " 10  performance_rating                  19623 non-null  int64  \n",
      " 11  BiometricScreeningParticipants      19623 non-null  int64  \n",
      " 12  HRQParticipants                     19623 non-null  int64  \n",
      " 13  lsbio_cholesterol                   19623 non-null  int64  \n",
      " 14  lsbio_glucose                       19623 non-null  int64  \n",
      " 15  lsbio_bp                            19623 non-null  int64  \n",
      " 16  lsbio_weight                        19623 non-null  int64  \n",
      " 17  lsbio_trig                          19623 non-null  int64  \n",
      " 18  lshrq_physact                       19623 non-null  int64  \n",
      " 19  lshrq_tobacco                       19623 non-null  int64  \n",
      " 20  lshrq_nutrition                     19623 non-null  int64  \n",
      " 21  lshrq_stress                        19623 non-null  int64  \n",
      " 22  lshrq_genHealth                     19623 non-null  int64  \n",
      " 23  lshrq_wellbeing                     19623 non-null  int64  \n",
      " 24  lshrq_alcohol                       19623 non-null  int64  \n",
      " 25  lshrq_sleeping                      19623 non-null  int64  \n",
      " 26  cc_RespiratorySinusAllergy_chronic  19623 non-null  int64  \n",
      " 27  cc_diabetes                         19623 non-null  int64  \n",
      " 28  cc_cancer                           19623 non-null  int64  \n",
      " 29  cc_mskChronic                       19623 non-null  int64  \n",
      " 30  cc_cholesterol                      19623 non-null  int64  \n",
      " 31  cc_cardiac                          19623 non-null  int64  \n",
      " 32  cc_depression                       19623 non-null  int64  \n",
      " 33  cc_obesity                          19623 non-null  int64  \n",
      " 34  cc_mskAllOther                      19623 non-null  int64  \n",
      " 35  cc_behavioralAllOther               19623 non-null  int64  \n",
      " 36  cc_ckd                              19623 non-null  int64  \n",
      " 37  concurrent_risk                     19623 non-null  float64\n",
      " 38  rx_nonClaimant                      19623 non-null  int64  \n",
      " 39  rx_nonCompliant                     19623 non-null  int64  \n",
      " 40  prog_1                              19623 non-null  int64  \n",
      " 41  prog_2                              19623 non-null  int64  \n",
      " 42  prog_3                              19623 non-null  int64  \n",
      " 43  prog_4                              19623 non-null  int64  \n",
      " 44  prog_5                              19623 non-null  int64  \n",
      " 45  prog_6                              19623 non-null  int64  \n",
      " 46  prog_7                              19623 non-null  int64  \n",
      " 47  prog_8                              19623 non-null  int64  \n",
      " 48  prog_9                              19623 non-null  int64  \n",
      " 49  prog_10                             19623 non-null  int64  \n",
      " 50  prog_11                             19623 non-null  int64  \n",
      " 51  prog_12                             19623 non-null  int64  \n",
      " 52  prog_13                             19623 non-null  int64  \n",
      " 53  prog_14                             19623 non-null  int64  \n",
      " 54  prog_15                             19623 non-null  int64  \n",
      " 55  prog_16                             19623 non-null  int64  \n",
      " 56  extreme_heat_2018                   19623 non-null  int64  \n",
      " 57  extreme_heat_2019                   19623 non-null  int64  \n",
      " 58  extreme_heat_2020                   19623 non-null  int64  \n",
      " 59  extreme_heat_ssp245_2025            19623 non-null  float64\n",
      " 60  extreme_heat_ssp245_2035            19623 non-null  float64\n",
      " 61  extreme_heat_ssp245_2045            19623 non-null  float64\n",
      " 62  extreme_heat_ssp585_2025            19623 non-null  float64\n",
      " 63  extreme_heat_ssp585_2035            19623 non-null  float64\n",
      " 64  extreme_heat_ssp585_2045            19623 non-null  float64\n",
      " 65  wildfire_potential_2018             19623 non-null  float64\n",
      " 66  wildfire_potential_2019             19623 non-null  float64\n",
      " 67  wildfire_potential_2019.1           19623 non-null  float64\n",
      " 68  wildfire_potential_ssp245_2025      19623 non-null  float64\n",
      " 69  wildfire_potential_ssp245_2035      19623 non-null  float64\n",
      " 70  wildfire_potential_ssp245_2045      19623 non-null  float64\n",
      " 71  wildfire_potential_ssp585_2025      19623 non-null  float64\n",
      " 72  wildfire_potential_ssp585_2035      19623 non-null  float64\n",
      " 73  wildfire_potential_ssp585_2045      19623 non-null  float64\n",
      "dtypes: float64(18), int64(55), object(1)\n",
      "memory usage: 11.2+ MB\n"
     ]
    }
   ],
   "source": [
    "df_P.info()"
   ]
  },
  {
   "cell_type": "code",
   "execution_count": 8,
   "metadata": {},
   "outputs": [],
   "source": [
    "health_factors = ['ADI', 'Age', 'Gender', 'lsbio_cholesterol', 'lsbio_glucose', 'lsbio_bp', 'lsbio_weight', 'lsbio_trig', \n",
    "                  'lshrq_physact', 'lshrq_tobacco', 'lshrq_nutrition', 'lshrq_stress', 'lshrq_genHealth', 'lshrq_wellbeing', 'lshrq_alcohol', 'lshrq_sleeping', \n",
    "                  'cc_RespiratorySinusAllergy_chronic', 'cc_diabetes', 'cc_cancer', 'cc_mskChronic', 'cc_cholesterol', 'cc_cardiac', 'cc_depression', 'cc_obesity', \n",
    "                  'cc_mskAllOther', 'cc_behavioralAllOther', 'cc_ckd', 'concurrent_risk', 'rx_nonClaimant', 'rx_nonCompliant']\n",
    "\n",
    "categorical_variables = ['Gender', 'lsbio_cholesterol', 'lsbio_glucose', 'lsbio_bp', 'lsbio_weight', 'lsbio_trig', \n",
    "                         'lshrq_physact', 'lshrq_tobacco', 'lshrq_nutrition', 'lshrq_stress', 'lshrq_genHealth', 'lshrq_wellbeing', 'lshrq_alcohol', 'lshrq_sleeping', \n",
    "                         'cc_RespiratorySinusAllergy_chronic', 'cc_diabetes', 'cc_cancer', 'cc_mskChronic', 'cc_cholesterol', 'cc_cardiac', 'cc_depression', 'cc_obesity', \n",
    "                         'cc_mskAllOther', 'cc_behavioralAllOther', 'cc_ckd', 'concurrent_risk', 'rx_nonClaimant', 'rx_nonCompliant']"
   ]
  },
  {
   "cell_type": "markdown",
   "metadata": {},
   "source": [
    "# absence_indicator vs health"
   ]
  },
  {
   "cell_type": "markdown",
   "metadata": {},
   "source": [
    "## linear regression"
   ]
  },
  {
   "cell_type": "code",
   "execution_count": 9,
   "metadata": {},
   "outputs": [
    {
     "name": "stdout",
     "output_type": "stream",
     "text": [
      "Train Set : (14717, 1) (14717, 30)\n",
      "Test Set  : (4906, 1) (4906, 30)\n"
     ]
    }
   ],
   "source": [
    "# y variable = absence_indicator\n",
    "# x variables = health_factors\n",
    "from sklearn.model_selection import train_test_split\n",
    "from sklearn.linear_model import LinearRegression\n",
    "from sklearn.metrics import mean_squared_error\n",
    "\n",
    "y = pd.DataFrame(df_P['absence_indicator'])\n",
    "x = pd.DataFrame(df_P[health_factors])\n",
    "\n",
    "x[categorical_variables] = x[categorical_variables].astype('category')\n",
    "\n",
    "x_train, x_test, y_train, y_test = train_test_split(x, y, test_size = 0.25)\n",
    "\n",
    "print(\"Train Set :\", y_train.shape, x_train.shape)\n",
    "print(\"Test Set  :\", y_test.shape, x_test.shape)"
   ]
  },
  {
   "cell_type": "code",
   "execution_count": 10,
   "metadata": {},
   "outputs": [
    {
     "data": {
      "text/plain": [
       "array([  0,  25,  18,  46,   2,   9,  42, 101,  52,   1,  64, 126,  11,\n",
       "        17,  31,   5,  29,  86,   6,  15,  75,  16,  21,  32,   4,  81,\n",
       "        39,  20,  56,  45,  44,  19,   7,  36,  27,  10,  33,  43,  65,\n",
       "        37,  61,  12, 115,  91,  30,  50,  59,  71,  55,  38,   8, 106,\n",
       "        40,  48,  22,  58,  35,  13,  96,  60,  26,  83, 132,  47,  77,\n",
       "        28,  88,  78, 181,  23,   3, 121,  66,  57,  82, 111,  51,  89,\n",
       "        74,  69,  67,  14,  24, 112,  85,  92, 203,  41, 114, 156, 161,\n",
       "       125, 105, 110,  72,  98,  53,  63,  95,  84,  76,  54,  34, 116,\n",
       "        90, 141, 118, 131, 204,  80,  73, 104,  99, 245, 138, 119, 150,\n",
       "        70,  93, 188,  97,  68, 100, 136, 235, 182, 261,  94, 102, 217,\n",
       "       358, 322, 226,  62, 152, 120, 129, 218, 117, 163, 142, 133, 240,\n",
       "       147, 122, 211,  87, 127, 109, 113,  79, 128, 124, 199, 103, 154,\n",
       "       262, 201,  49, 184, 145, 169, 265, 171, 214, 149, 123, 168, 195])"
      ]
     },
     "execution_count": 10,
     "metadata": {},
     "output_type": "execute_result"
    }
   ],
   "source": [
    "y.absence_indicator.unique()"
   ]
  },
  {
   "cell_type": "code",
   "execution_count": 11,
   "metadata": {},
   "outputs": [
    {
     "data": {
      "text/plain": [
       "absence_indicator\n",
       "0      15752\n",
       "1        641\n",
       "6        227\n",
       "11       180\n",
       "16       132\n",
       "       ...  \n",
       "147        1\n",
       "145        1\n",
       "201        1\n",
       "184        1\n",
       "195        1\n",
       "Name: count, Length: 169, dtype: int64"
      ]
     },
     "execution_count": 11,
     "metadata": {},
     "output_type": "execute_result"
    }
   ],
   "source": [
    "y.absence_indicator.value_counts()"
   ]
  },
  {
   "cell_type": "code",
   "execution_count": 12,
   "metadata": {},
   "outputs": [
    {
     "name": "stdout",
     "output_type": "stream",
     "text": [
      "Intercept of Regression \t: b =  [2.89736438]\n",
      "Goodness of Fit of Model \tTrain Dataset\n",
      "Explained Variance (R^2) \t: 0.14665087133701882\n",
      "Mean Squared Error (MSE) \t: 337.28776882006997\n",
      "\n",
      "Goodness of Fit of Model \tTest Dataset\n",
      "Explained Variance (R^2) \t: 0.1539587954231173\n",
      "Mean Squared Error (MSE) \t: 288.73905071636364\n",
      "\n"
     ]
    }
   ],
   "source": [
    "linreg = LinearRegression()\n",
    "\n",
    "linreg.fit(x_train, y_train)\n",
    "\n",
    "print('Intercept of Regression \\t: b = ', linreg.intercept_)\n",
    "\n",
    "y_train_pred = linreg.predict(x_train)\n",
    "y_test_pred = linreg.predict(x_test)\n",
    "\n",
    "# Check the Goodness of Fit (on Train Data)\n",
    "print(\"Goodness of Fit of Model \\tTrain Dataset\")\n",
    "print(\"Explained Variance (R^2) \\t:\", linreg.score(x_train, y_train))\n",
    "print(\"Mean Squared Error (MSE) \\t:\", mean_squared_error(y_train, y_train_pred))\n",
    "print()\n",
    "\n",
    "# Check the Goodness of Fit (on Test Data)\n",
    "print(\"Goodness of Fit of Model \\tTest Dataset\")\n",
    "print(\"Explained Variance (R^2) \\t:\", linreg.score(x_test, y_test))\n",
    "print(\"Mean Squared Error (MSE) \\t:\", mean_squared_error(y_test, y_test_pred))\n",
    "print()"
   ]
  },
  {
   "cell_type": "code",
   "execution_count": 13,
   "metadata": {},
   "outputs": [
    {
     "name": "stdout",
     "output_type": "stream",
     "text": [
      "                            OLS Regression Results                            \n",
      "==============================================================================\n",
      "Dep. Variable:      absence_indicator   R-squared:                       0.147\n",
      "Model:                            OLS   Adj. R-squared:                  0.145\n",
      "Method:                 Least Squares   F-statistic:                     84.13\n",
      "Date:                Fri, 29 Mar 2024   Prob (F-statistic):               0.00\n",
      "Time:                        13:34:36   Log-Likelihood:                -63716.\n",
      "No. Observations:               14717   AIC:                         1.275e+05\n",
      "Df Residuals:                   14686   BIC:                         1.277e+05\n",
      "Df Model:                          30                                         \n",
      "Covariance Type:            nonrobust                                         \n",
      "======================================================================================================\n",
      "                                         coef    std err          t      P>|t|      [0.025      0.975]\n",
      "------------------------------------------------------------------------------------------------------\n",
      "const                                  2.8974      1.027      2.822      0.005       0.885       4.909\n",
      "ADI                                    0.0396      0.011      3.674      0.000       0.018       0.061\n",
      "Age                                   -0.0943      0.016     -6.076      0.000      -0.125      -0.064\n",
      "Gender                                -1.9288      0.424     -4.551      0.000      -2.760      -1.098\n",
      "lsbio_cholesterol                     -0.4825      0.563     -0.857      0.391      -1.586       0.621\n",
      "lsbio_glucose                          0.7047      1.546      0.456      0.649      -2.327       3.736\n",
      "lsbio_bp                              -0.8157      0.571     -1.428      0.153      -1.935       0.304\n",
      "lsbio_weight                          -0.4802      0.576     -0.833      0.405      -1.610       0.650\n",
      "lsbio_trig                             0.4451      0.664      0.671      0.502      -0.856       1.746\n",
      "lshrq_physact                         -0.2968      0.431     -0.689      0.491      -1.141       0.547\n",
      "lshrq_tobacco                         -0.7793      0.759     -1.027      0.305      -2.267       0.709\n",
      "lshrq_nutrition                        0.0389      0.443      0.088      0.930      -0.830       0.908\n",
      "lshrq_stress                          -0.5141      0.549     -0.936      0.349      -1.591       0.563\n",
      "lshrq_genHealth                       -0.0342      0.786     -0.043      0.965      -1.575       1.507\n",
      "lshrq_wellbeing                       -1.4552      0.649     -2.243      0.025      -2.727      -0.184\n",
      "lshrq_alcohol                         -0.4639      0.533     -0.870      0.384      -1.509       0.581\n",
      "lshrq_sleeping                         0.8867      0.666      1.332      0.183      -0.418       2.192\n",
      "cc_RespiratorySinusAllergy_chronic     0.0273      0.599      0.046      0.964      -1.147       1.202\n",
      "cc_diabetes                            0.7735      0.724      1.069      0.285      -0.645       2.192\n",
      "cc_cancer                             -0.3837      0.821     -0.468      0.640      -1.992       1.225\n",
      "cc_mskChronic                          6.2410      0.374     16.692      0.000       5.508       6.974\n",
      "cc_cholesterol                        -0.8330      0.535     -1.557      0.120      -1.882       0.216\n",
      "cc_cardiac                             0.3392      0.528      0.642      0.521      -0.696       1.374\n",
      "cc_depression                          8.4553      0.594     14.227      0.000       7.290       9.620\n",
      "cc_obesity                             1.6865      0.369      4.566      0.000       0.963       2.410\n",
      "cc_mskAllOther                         1.4670      0.488      3.005      0.003       0.510       2.424\n",
      "cc_behavioralAllOther                  2.9258      0.455      6.430      0.000       2.034       3.818\n",
      "cc_ckd                                -0.0823      1.887     -0.044      0.965      -3.781       3.616\n",
      "concurrent_risk                        3.3306      0.114     29.156      0.000       3.107       3.554\n",
      "rx_nonClaimant                         1.6248      0.523      3.105      0.002       0.599       2.650\n",
      "rx_nonCompliant                        2.9053      0.651      4.461      0.000       1.629       4.182\n",
      "==============================================================================\n",
      "Omnibus:                    16334.440   Durbin-Watson:                   2.022\n",
      "Prob(Omnibus):                  0.000   Jarque-Bera (JB):          1928552.889\n",
      "Skew:                           5.628   Prob(JB):                         0.00\n",
      "Kurtosis:                      57.939   Cond. No.                         701.\n",
      "==============================================================================\n",
      "\n",
      "Notes:\n",
      "[1] Standard Errors assume that the covariance matrix of the errors is correctly specified.\n"
     ]
    }
   ],
   "source": [
    "import statsmodels.api as sm\n",
    "\n",
    "x_train_with_constant = sm.add_constant(x_train)\n",
    "model = sm.OLS(y_train, x_train_with_constant)\n",
    "result = model.fit()\n",
    "\n",
    "print(result.summary())"
   ]
  },
  {
   "cell_type": "code",
   "execution_count": 14,
   "metadata": {},
   "outputs": [
    {
     "name": "stdout",
     "output_type": "stream",
     "text": [
      "{'p-value': ['const', 'ADI', 'Age', 'Gender', 'lshrq_wellbeing', 'cc_mskChronic', 'cc_depression', 'cc_obesity', 'cc_mskAllOther', 'cc_behavioralAllOther', 'concurrent_risk', 'rx_nonClaimant', 'rx_nonCompliant']}\n"
     ]
    }
   ],
   "source": [
    "significant_variable_P = {}\n",
    "\n",
    "p_value_dataframe = pd.DataFrame(result.pvalues)\n",
    "p_value_dataframe = p_value_dataframe.rename(columns={0: 'p-value'})\n",
    "p_value_dataframe = p_value_dataframe.round(2)\n",
    "\n",
    "significant_variable_P['p-value'] = p_value_dataframe[(p_value_dataframe['p-value'] < 0.1)].index.tolist()\n",
    "\n",
    "\n",
    "print(significant_variable_P)"
   ]
  },
  {
   "cell_type": "code",
   "execution_count": 15,
   "metadata": {},
   "outputs": [
    {
     "data": {
      "image/png": "[encoded data removed]",
      "text/plain": [
       "<Figure size 432x288 with 1 Axes>"
      ]
     },
     "metadata": {
      "needs_background": "light"
     },
     "output_type": "display_data"
    }
   ],
   "source": [
    "from statsmodels.graphics.gofplots import qqplot\n",
    "\n",
    "# Obtain residuals\n",
    "residuals = result.resid\n",
    "\n",
    "# Create Q-Q plot of residuals\n",
    "qqplot(residuals, line='s')\n",
    "plt.title('Normal Q-Q Plot of Residuals')\n",
    "plt.xlabel('Theoretical Quantile')\n",
    "plt.ylabel('Standardized Residuals')\n",
    "plt.show()"
   ]
  },
  {
   "cell_type": "markdown",
   "metadata": {},
   "source": [
    "### transformation"
   ]
  },
  {
   "cell_type": "markdown",
   "metadata": {},
   "source": [
    "#### square root"
   ]
  },
  {
   "cell_type": "code",
   "execution_count": 16,
   "metadata": {},
   "outputs": [
    {
     "name": "stdout",
     "output_type": "stream",
     "text": [
      "Train Set : (14717, 1) (14717, 30)\n",
      "Test Set  : (4906, 1) (4906, 30)\n"
     ]
    }
   ],
   "source": [
    "y = pd.DataFrame(df_P['absence_indicator'])\n",
    "y['absence_indicator'] = np.sqrt(y['absence_indicator'])\n",
    "\n",
    "x_train, x_test, y_train, y_test = train_test_split(x, y, test_size = 0.25)\n",
    "\n",
    "print(\"Train Set :\", y_train.shape, x_train.shape)\n",
    "print(\"Test Set  :\", y_test.shape, x_test.shape)"
   ]
  },
  {
   "cell_type": "code",
   "execution_count": 17,
   "metadata": {},
   "outputs": [
    {
     "name": "stdout",
     "output_type": "stream",
     "text": [
      "Intercept of Regression \t: b =  [0.55700287]\n",
      "Goodness of Fit of Model \tTrain Dataset\n",
      "Explained Variance (R^2) \t: 0.19295244334517825\n",
      "Mean Squared Error (MSE) \t: 4.029135347084305\n",
      "\n",
      "Goodness of Fit of Model \tTest Dataset\n",
      "Explained Variance (R^2) \t: 0.21880806184359036\n",
      "Mean Squared Error (MSE) \t: 3.940438100682792\n",
      "\n"
     ]
    }
   ],
   "source": [
    "linreg = LinearRegression()\n",
    "\n",
    "linreg.fit(x_train, y_train)\n",
    "\n",
    "print('Intercept of Regression \\t: b = ', linreg.intercept_)\n",
    "\n",
    "y_train_pred = linreg.predict(x_train)\n",
    "y_test_pred = linreg.predict(x_test)\n",
    "\n",
    "# Check the Goodness of Fit (on Train Data)\n",
    "print(\"Goodness of Fit of Model \\tTrain Dataset\")\n",
    "print(\"Explained Variance (R^2) \\t:\", linreg.score(x_train, y_train))\n",
    "print(\"Mean Squared Error (MSE) \\t:\", mean_squared_error(y_train, y_train_pred))\n",
    "print()\n",
    "\n",
    "# Check the Goodness of Fit (on Test Data)\n",
    "print(\"Goodness of Fit of Model \\tTest Dataset\")\n",
    "print(\"Explained Variance (R^2) \\t:\", linreg.score(x_test, y_test))\n",
    "print(\"Mean Squared Error (MSE) \\t:\", mean_squared_error(y_test, y_test_pred))\n",
    "print()"
   ]
  },
  {
   "cell_type": "code",
   "execution_count": 18,
   "metadata": {},
   "outputs": [
    {
     "name": "stdout",
     "output_type": "stream",
     "text": [
      "                            OLS Regression Results                            \n",
      "==============================================================================\n",
      "Dep. Variable:      absence_indicator   R-squared:                       0.193\n",
      "Model:                            OLS   Adj. R-squared:                  0.191\n",
      "Method:                 Least Squares   F-statistic:                     117.0\n",
      "Date:                Fri, 29 Mar 2024   Prob (F-statistic):               0.00\n",
      "Time:                        13:34:37   Log-Likelihood:                -31137.\n",
      "No. Observations:               14717   AIC:                         6.234e+04\n",
      "Df Residuals:                   14686   BIC:                         6.257e+04\n",
      "Df Model:                          30                                         \n",
      "Covariance Type:            nonrobust                                         \n",
      "======================================================================================================\n",
      "                                         coef    std err          t      P>|t|      [0.025      0.975]\n",
      "------------------------------------------------------------------------------------------------------\n",
      "const                                  0.5570      0.112      4.994      0.000       0.338       0.776\n",
      "ADI                                    0.0066      0.001      5.595      0.000       0.004       0.009\n",
      "Age                                   -0.0155      0.002     -9.106      0.000      -0.019      -0.012\n",
      "Gender                                -0.1978      0.046     -4.271      0.000      -0.289      -0.107\n",
      "lsbio_cholesterol                     -0.0930      0.061     -1.514      0.130      -0.213       0.027\n",
      "lsbio_glucose                          0.0987      0.175      0.566      0.572      -0.243       0.441\n",
      "lsbio_bp                              -0.1322      0.063     -2.115      0.034      -0.255      -0.010\n",
      "lsbio_weight                           0.0280      0.063      0.444      0.657      -0.096       0.151\n",
      "lsbio_trig                             0.1094      0.073      1.505      0.132      -0.033       0.252\n",
      "lshrq_physact                         -0.0796      0.047     -1.680      0.093      -0.173       0.013\n",
      "lshrq_tobacco                          0.0404      0.083      0.486      0.627      -0.122       0.203\n",
      "lshrq_nutrition                        0.0396      0.049      0.814      0.416      -0.056       0.135\n",
      "lshrq_stress                          -0.0603      0.060     -1.000      0.317      -0.179       0.058\n",
      "lshrq_genHealth                       -0.0552      0.086     -0.645      0.519      -0.223       0.113\n",
      "lshrq_wellbeing                       -0.1270      0.071     -1.783      0.075      -0.267       0.013\n",
      "lshrq_alcohol                         -0.0868      0.058     -1.487      0.137      -0.201       0.028\n",
      "lshrq_sleeping                         0.1376      0.073      1.885      0.059      -0.005       0.281\n",
      "cc_RespiratorySinusAllergy_chronic    -0.0043      0.066     -0.066      0.948      -0.133       0.125\n",
      "cc_diabetes                            0.0158      0.080      0.198      0.843      -0.141       0.172\n",
      "cc_cancer                              0.2652      0.089      2.981      0.003       0.091       0.440\n",
      "cc_mskChronic                          0.8376      0.041     20.554      0.000       0.758       0.917\n",
      "cc_cholesterol                        -0.0005      0.058     -0.008      0.993      -0.115       0.114\n",
      "cc_cardiac                             0.1347      0.058      2.340      0.019       0.022       0.248\n",
      "cc_depression                          1.1259      0.065     17.270      0.000       0.998       1.254\n",
      "cc_obesity                             0.2205      0.040      5.449      0.000       0.141       0.300\n",
      "cc_mskAllOther                         0.2551      0.053      4.798      0.000       0.151       0.359\n",
      "cc_behavioralAllOther                  0.4100      0.049      8.303      0.000       0.313       0.507\n",
      "cc_ckd                                -0.0463      0.210     -0.220      0.826      -0.459       0.366\n",
      "concurrent_risk                        0.4059      0.012     32.821      0.000       0.382       0.430\n",
      "rx_nonClaimant                         0.1858      0.057      3.270      0.001       0.074       0.297\n",
      "rx_nonCompliant                        0.2827      0.071      3.961      0.000       0.143       0.423\n",
      "==============================================================================\n",
      "Omnibus:                     7319.228   Durbin-Watson:                   2.009\n",
      "Prob(Omnibus):                  0.000   Jarque-Bera (JB):            51693.651\n",
      "Skew:                           2.307   Prob(JB):                         0.00\n",
      "Kurtosis:                      10.938   Cond. No.                         713.\n",
      "==============================================================================\n",
      "\n",
      "Notes:\n",
      "[1] Standard Errors assume that the covariance matrix of the errors is correctly specified.\n"
     ]
    }
   ],
   "source": [
    "import statsmodels.api as sm\n",
    "\n",
    "x_train_with_constant = sm.add_constant(x_train)\n",
    "model = sm.OLS(y_train, x_train_with_constant)\n",
    "result = model.fit()\n",
    "\n",
    "print(result.summary())"
   ]
  },
  {
   "cell_type": "code",
   "execution_count": 19,
   "metadata": {},
   "outputs": [
    {
     "name": "stdout",
     "output_type": "stream",
     "text": [
      "{'p-value': ['const', 'ADI', 'Age', 'Gender', 'lsbio_bp', 'lshrq_physact', 'lshrq_wellbeing', 'lshrq_sleeping', 'cc_cancer', 'cc_mskChronic', 'cc_cardiac', 'cc_depression', 'cc_obesity', 'cc_mskAllOther', 'cc_behavioralAllOther', 'concurrent_risk', 'rx_nonClaimant', 'rx_nonCompliant']}\n"
     ]
    }
   ],
   "source": [
    "significant_variable_P = {}\n",
    "\n",
    "p_value_dataframe = pd.DataFrame(result.pvalues)\n",
    "p_value_dataframe = p_value_dataframe.rename(columns={0: 'p-value'})\n",
    "p_value_dataframe = p_value_dataframe.round(2)\n",
    "\n",
    "significant_variable_P['p-value'] = p_value_dataframe[(p_value_dataframe['p-value'] < 0.1)].index.tolist()\n",
    "\n",
    "\n",
    "print(significant_variable_P)"
   ]
  },
  {
   "cell_type": "code",
   "execution_count": 20,
   "metadata": {},
   "outputs": [
    {
     "data": {
      "image/png": "[encoded data removed]",
      "text/plain": [
       "<Figure size 432x288 with 1 Axes>"
      ]
     },
     "metadata": {
      "needs_background": "light"
     },
     "output_type": "display_data"
    }
   ],
   "source": [
    "from statsmodels.graphics.gofplots import qqplot\n",
    "\n",
    "# Obtain residuals\n",
    "residuals = result.resid\n",
    "\n",
    "# Create Q-Q plot of residuals\n",
    "qqplot(residuals, line='s')\n",
    "plt.title('Normal Q-Q Plot of Residuals')\n",
    "plt.xlabel('Theoretical Quantile')\n",
    "plt.ylabel('Standardized Residuals')\n",
    "plt.show()"
   ]
  },
  {
   "cell_type": "markdown",
   "metadata": {},
   "source": [
    "#### logarithmic"
   ]
  },
  {
   "cell_type": "code",
   "execution_count": 46,
   "metadata": {},
   "outputs": [
    {
     "name": "stdout",
     "output_type": "stream",
     "text": [
      "Train Set : (14717, 1) (14717, 30)\n",
      "Test Set  : (4906, 1) (4906, 30)\n"
     ]
    }
   ],
   "source": [
    "y = pd.DataFrame(df_P['absence_indicator'])\n",
    "y.loc[y['absence_indicator'] != 0, 'absence_indicator'] = np.log(y.loc[y['absence_indicator'] != 0, 'absence_indicator'])\n",
    "\n",
    "x_train, x_test, y_train, y_test = train_test_split(x, y, test_size = 0.25)\n",
    "\n",
    "print(\"Train Set :\", y_train.shape, x_train.shape)\n",
    "print(\"Test Set  :\", y_test.shape, x_test.shape)"
   ]
  },
  {
   "cell_type": "code",
   "execution_count": 47,
   "metadata": {},
   "outputs": [
    {
     "name": "stdout",
     "output_type": "stream",
     "text": [
      "Intercept of Regression \t: b =  [0.28651866]\n",
      "Goodness of Fit of Model \tTrain Dataset\n",
      "Explained Variance (R^2) \t: 0.1982008936773847\n",
      "Mean Squared Error (MSE) \t: 1.1923224088086586\n",
      "\n",
      "Goodness of Fit of Model \tTest Dataset\n",
      "Explained Variance (R^2) \t: 0.18671503019658398\n",
      "Mean Squared Error (MSE) \t: 1.205841988235218\n",
      "\n"
     ]
    }
   ],
   "source": [
    "linreg = LinearRegression()\n",
    "\n",
    "linreg.fit(x_train, y_train)\n",
    "\n",
    "print('Intercept of Regression \\t: b = ', linreg.intercept_)\n",
    "\n",
    "y_train_pred = linreg.predict(x_train)\n",
    "y_test_pred = linreg.predict(x_test)\n",
    "\n",
    "# Check the Goodness of Fit (on Train Data)\n",
    "print(\"Goodness of Fit of Model \\tTrain Dataset\")\n",
    "print(\"Explained Variance (R^2) \\t:\", linreg.score(x_train, y_train))\n",
    "print(\"Mean Squared Error (MSE) \\t:\", mean_squared_error(y_train, y_train_pred))\n",
    "print()\n",
    "\n",
    "# Check the Goodness of Fit (on Test Data)\n",
    "print(\"Goodness of Fit of Model \\tTest Dataset\")\n",
    "print(\"Explained Variance (R^2) \\t:\", linreg.score(x_test, y_test))\n",
    "print(\"Mean Squared Error (MSE) \\t:\", mean_squared_error(y_test, y_test_pred))\n",
    "print()"
   ]
  },
  {
   "cell_type": "code",
   "execution_count": 48,
   "metadata": {},
   "outputs": [
    {
     "name": "stdout",
     "output_type": "stream",
     "text": [
      "                            OLS Regression Results                            \n",
      "==============================================================================\n",
      "Dep. Variable:      absence_indicator   R-squared:                       0.198\n",
      "Model:                            OLS   Adj. R-squared:                  0.197\n",
      "Method:                 Least Squares   F-statistic:                     121.0\n",
      "Date:                Fri, 29 Mar 2024   Prob (F-statistic):               0.00\n",
      "Time:                        16:11:49   Log-Likelihood:                -22177.\n",
      "No. Observations:               14717   AIC:                         4.442e+04\n",
      "Df Residuals:                   14686   BIC:                         4.465e+04\n",
      "Df Model:                          30                                         \n",
      "Covariance Type:            nonrobust                                         \n",
      "======================================================================================================\n",
      "                                         coef    std err          t      P>|t|      [0.025      0.975]\n",
      "------------------------------------------------------------------------------------------------------\n",
      "const                                  0.2865      0.061      4.729      0.000       0.168       0.405\n",
      "ADI                                    0.0038      0.001      5.878      0.000       0.003       0.005\n",
      "Age                                   -0.0091      0.001     -9.886      0.000      -0.011      -0.007\n",
      "Gender                                -0.1160      0.025     -4.604      0.000      -0.165      -0.067\n",
      "lsbio_cholesterol                     -0.0485      0.033     -1.459      0.145      -0.114       0.017\n",
      "lsbio_glucose                         -0.0640      0.092     -0.697      0.486      -0.244       0.116\n",
      "lsbio_bp                              -0.0352      0.034     -1.031      0.302      -0.102       0.032\n",
      "lsbio_weight                           0.0139      0.034      0.403      0.687      -0.053       0.081\n",
      "lsbio_trig                             0.0112      0.039      0.286      0.775      -0.066       0.088\n",
      "lshrq_physact                         -0.0509      0.026     -1.975      0.048      -0.101      -0.000\n",
      "lshrq_tobacco                         -0.0014      0.046     -0.032      0.975      -0.091       0.088\n",
      "lshrq_nutrition                        0.0391      0.027      1.472      0.141      -0.013       0.091\n",
      "lshrq_stress                          -0.0194      0.033     -0.592      0.554      -0.084       0.045\n",
      "lshrq_genHealth                        0.0289      0.047      0.618      0.537      -0.063       0.121\n",
      "lshrq_wellbeing                       -0.1401      0.039     -3.620      0.000      -0.216      -0.064\n",
      "lshrq_alcohol                         -0.0180      0.032     -0.569      0.569      -0.080       0.044\n",
      "lshrq_sleeping                         0.0815      0.040      2.047      0.041       0.003       0.160\n",
      "cc_RespiratorySinusAllergy_chronic     0.0347      0.037      0.951      0.341      -0.037       0.106\n",
      "cc_diabetes                           -0.0107      0.044     -0.245      0.806      -0.096       0.075\n",
      "cc_cancer                              0.0961      0.048      1.989      0.047       0.001       0.191\n",
      "cc_mskChronic                          0.4800      0.022     21.629      0.000       0.437       0.524\n",
      "cc_cholesterol                        -0.0266      0.032     -0.834      0.404      -0.089       0.036\n",
      "cc_cardiac                             0.1265      0.031      4.058      0.000       0.065       0.188\n",
      "cc_depression                          0.6597      0.036     18.359      0.000       0.589       0.730\n",
      "cc_obesity                             0.1109      0.022      5.023      0.000       0.068       0.154\n",
      "cc_mskAllOther                         0.1632      0.029      5.596      0.000       0.106       0.220\n",
      "cc_behavioralAllOther                  0.2035      0.027      7.524      0.000       0.151       0.257\n",
      "cc_ckd                                 0.0028      0.110      0.026      0.979      -0.212       0.218\n",
      "concurrent_risk                        0.2245      0.007     33.281      0.000       0.211       0.238\n",
      "rx_nonClaimant                         0.1523      0.031      4.909      0.000       0.091       0.213\n",
      "rx_nonCompliant                        0.1751      0.039      4.477      0.000       0.098       0.252\n",
      "==============================================================================\n",
      "Omnibus:                     4643.998   Durbin-Watson:                   1.975\n",
      "Prob(Omnibus):                  0.000   Jarque-Bera (JB):            13022.719\n",
      "Skew:                           1.689   Prob(JB):                         0.00\n",
      "Kurtosis:                       6.134   Cond. No.                         683.\n",
      "==============================================================================\n",
      "\n",
      "Notes:\n",
      "[1] Standard Errors assume that the covariance matrix of the errors is correctly specified.\n"
     ]
    }
   ],
   "source": [
    "import statsmodels.api as sm\n",
    "\n",
    "x_train_with_constant = sm.add_constant(x_train)\n",
    "model = sm.OLS(y_train, x_train_with_constant)\n",
    "result = model.fit()\n",
    "\n",
    "print(result.summary())"
   ]
  },
  {
   "cell_type": "code",
   "execution_count": 49,
   "metadata": {},
   "outputs": [
    {
     "name": "stdout",
     "output_type": "stream",
     "text": [
      "{'p-value': ['const', 'ADI', 'Age', 'Gender', 'lshrq_physact', 'lshrq_wellbeing', 'lshrq_sleeping', 'cc_cancer', 'cc_mskChronic', 'cc_cardiac', 'cc_depression', 'cc_obesity', 'cc_mskAllOther', 'cc_behavioralAllOther', 'concurrent_risk', 'rx_nonClaimant', 'rx_nonCompliant']}\n"
     ]
    }
   ],
   "source": [
    "significant_variable_P = {}\n",
    "\n",
    "p_value_dataframe = pd.DataFrame(result.pvalues)\n",
    "p_value_dataframe = p_value_dataframe.rename(columns={0: 'p-value'})\n",
    "p_value_dataframe = p_value_dataframe.round(2)\n",
    "\n",
    "significant_variable_P['p-value'] = p_value_dataframe[(p_value_dataframe['p-value'] < 0.1)].index.tolist()\n",
    "\n",
    "\n",
    "print(significant_variable_P)"
   ]
  },
  {
   "cell_type": "code",
   "execution_count": 50,
   "metadata": {},
   "outputs": [
    {
     "data": {
      "image/png": "[encoded data removed]",
      "text/plain": [
       "<Figure size 432x288 with 1 Axes>"
      ]
     },
     "metadata": {
      "needs_background": "light"
     },
     "output_type": "display_data"
    }
   ],
   "source": [
    "from statsmodels.graphics.gofplots import qqplot\n",
    "\n",
    "# Obtain residuals\n",
    "residuals = result.resid\n",
    "\n",
    "# Create Q-Q plot of residuals\n",
    "qqplot(residuals, line='s')\n",
    "plt.title('Normal Q-Q Plot of Residuals')\n",
    "plt.xlabel('Theoretical Quantile')\n",
    "plt.ylabel('Standardized Residuals')\n",
    "plt.show()"
   ]
  },
  {
   "cell_type": "code",
   "execution_count": 57,
   "metadata": {},
   "outputs": [
    {
     "name": "stderr",
     "output_type": "stream",
     "text": [
      "/Users/willisthebeast/opt/anaconda3/lib/python3.9/site-packages/sklearn/utils/validation.py:1300: DataConversionWarning: A column-vector y was passed when a 1d array was expected. Please change the shape of y to (n_samples, ), for example using ravel().\n",
      "  y = column_or_1d(y, warn=True)\n"
     ]
    },
    {
     "name": "stdout",
     "output_type": "stream",
     "text": [
      "Intercept of Regression \t: b =  [-0.28654503]\n",
      "Goodness of Fit of Model \tTrain Dataset\n",
      "Explained Variance (R^2) \t: 0.7532105728069579\n",
      "Mean Squared Error (MSE) \t: 0.24678942719304206\n",
      "\n",
      "Goodness of Fit of Model \tTest Dataset\n",
      "Explained Variance (R^2) \t: 0.7545862209539339\n",
      "Mean Squared Error (MSE) \t: 0.24541377904606604\n"
     ]
    },
    {
     "name": "stderr",
     "output_type": "stream",
     "text": [
      "/Users/willisthebeast/opt/anaconda3/lib/python3.9/site-packages/sklearn/linear_model/_logistic.py:469: ConvergenceWarning: lbfgs failed to converge (status=1):\n",
      "STOP: TOTAL NO. of ITERATIONS REACHED LIMIT.\n",
      "\n",
      "Increase the number of iterations (max_iter) or scale the data as shown in:\n",
      "    https://scikit-learn.org/stable/modules/preprocessing.html\n",
      "Please also refer to the documentation for alternative solver options:\n",
      "    https://scikit-learn.org/stable/modules/linear_model.html#logistic-regression\n",
      "  n_iter_i = _check_optimize_result(\n"
     ]
    }
   ],
   "source": [
    "from sklearn.model_selection import train_test_split\n",
    "from sklearn.linear_model import LogisticRegression\n",
    "from sklearn.metrics import mean_squared_error\n",
    "import statsmodels.api as sm\n",
    "\n",
    "health_environment_factors = ['ADI', 'Age', 'Gender', 'lsbio_cholesterol', 'lsbio_glucose', 'lsbio_bp', 'lsbio_weight', 'lsbio_trig', \n",
    "                  'lshrq_physact', 'lshrq_tobacco', 'lshrq_nutrition', 'lshrq_stress', 'lshrq_genHealth', 'lshrq_wellbeing', 'lshrq_alcohol', 'lshrq_sleeping', \n",
    "                  'cc_RespiratorySinusAllergy_chronic', 'cc_diabetes', 'cc_cancer', 'cc_depression', 'cc_cholesterol', 'cc_cardiac', 'cc_obesity', \n",
    "                  'cc_mskAllOther', 'cc_behavioralAllOther', 'cc_ckd', 'concurrent_risk', 'rx_nonClaimant', 'rx_nonCompliant', \n",
    "                  'extreme_heat_2018', 'wildfire_potential_2018']\n",
    "\n",
    "y = pd.DataFrame(df_P['cc_mskChronic'])\n",
    "y['cc_mskChronic'] = y['cc_mskChronic'].astype('category')\n",
    "\n",
    "x = pd.DataFrame(df_P[health_environment_factors])\n",
    "x[health_environment_factors] = x[health_environment_factors].astype('category')\n",
    "\n",
    "x_train, x_test, y_train, y_test = train_test_split(x, y, test_size = 0.25)\n",
    "\n",
    "logmodel = LogisticRegression()\n",
    "\n",
    "logmodel.fit(x_train, y_train)\n",
    "\n",
    "print('Intercept of Regression \\t: b = ', logmodel.intercept_)\n",
    "\n",
    "# coef_value = pd.DataFrame(list(zip(x.columns, logreg.coef_[0])), columns = [\"Predictors\", \"Coefficients\"])\n",
    "# print(coef_value)\n",
    "# print()\n",
    "\n",
    "y_train_pred = logmodel.predict(x_train)\n",
    "y_test_pred = logmodel.predict(x_test)\n",
    "\n",
    "# Check the Goodness of Fit (on Train Data)\n",
    "print(\"Goodness of Fit of Model \\tTrain Dataset\")\n",
    "print(\"Explained Variance (R^2) \\t:\", logmodel.score(x_train, y_train))\n",
    "print(\"Mean Squared Error (MSE) \\t:\", mean_squared_error(y_train, y_train_pred))\n",
    "print()\n",
    "\n",
    "# Check the Goodness of Fit (on Test Data)\n",
    "print(\"Goodness of Fit of Model \\tTest Dataset\")\n",
    "print(\"Explained Variance (R^2) \\t:\", logmodel.score(x_test, y_test))\n",
    "print(\"Mean Squared Error (MSE) \\t:\", mean_squared_error(y_test, y_test_pred))"
   ]
  },
  {
   "cell_type": "code",
   "execution_count": 58,
   "metadata": {},
   "outputs": [
    {
     "name": "stdout",
     "output_type": "stream",
     "text": [
      "Warning: Maximum number of iterations has been exceeded.\n",
      "         Current function value: 0.487472\n",
      "         Iterations: 35\n",
      "                           Logit Regression Results                           \n",
      "==============================================================================\n",
      "Dep. Variable:          cc_mskChronic   No. Observations:                14717\n",
      "Model:                          Logit   Df Residuals:                    14685\n",
      "Method:                           MLE   Df Model:                           31\n",
      "Date:                Fri, 29 Mar 2024   Pseudo R-squ.:                  0.1637\n",
      "Time:                        16:21:18   Log-Likelihood:                -7174.1\n",
      "converged:                      False   LL-Null:                       -8578.3\n",
      "Covariance Type:            nonrobust   LLR p-value:                     0.000\n",
      "======================================================================================================\n",
      "                                         coef    std err          z      P>|z|      [0.025      0.975]\n",
      "------------------------------------------------------------------------------------------------------\n",
      "const                                 -1.0809      0.316     -3.425      0.001      -1.699      -0.462\n",
      "ADI                                    0.0037      0.001      2.468      0.014       0.001       0.007\n",
      "Age                                    0.0138      0.002      6.493      0.000       0.010       0.018\n",
      "Gender                                -0.1577      0.055     -2.845      0.004      -0.266      -0.049\n",
      "lsbio_cholesterol                      0.0231      0.074      0.313      0.754      -0.122       0.168\n",
      "lsbio_glucose                         -0.0832      0.206     -0.404      0.686      -0.487       0.320\n",
      "lsbio_bp                              -0.0880      0.076     -1.161      0.246      -0.237       0.061\n",
      "lsbio_weight                           0.1083      0.078      1.396      0.163      -0.044       0.260\n",
      "lsbio_trig                             0.1466      0.086      1.698      0.090      -0.023       0.316\n",
      "lshrq_physact                          0.0146      0.057      0.254      0.800      -0.098       0.127\n",
      "lshrq_tobacco                         -0.0023      0.100     -0.023      0.982      -0.197       0.193\n",
      "lshrq_nutrition                       -0.0378      0.059     -0.639      0.523      -0.154       0.078\n",
      "lshrq_stress                          -0.0332      0.072     -0.458      0.647      -0.175       0.109\n",
      "lshrq_genHealth                        0.2299      0.102      2.252      0.024       0.030       0.430\n",
      "lshrq_wellbeing                       -0.0892      0.087     -1.026      0.305      -0.260       0.081\n",
      "lshrq_alcohol                          0.2758      0.069      4.017      0.000       0.141       0.410\n",
      "lshrq_sleeping                         0.2059      0.086      2.389      0.017       0.037       0.375\n",
      "cc_RespiratorySinusAllergy_chronic     0.4365      0.076      5.741      0.000       0.287       0.586\n",
      "cc_diabetes                           -0.5294      0.096     -5.533      0.000      -0.717      -0.342\n",
      "cc_cancer                             -0.0539      0.108     -0.501      0.617      -0.265       0.157\n",
      "cc_depression                          0.2538      0.077      3.295      0.001       0.103       0.405\n",
      "cc_cholesterol                         0.0717      0.068      1.050      0.294      -0.062       0.205\n",
      "cc_cardiac                            -0.3812      0.069     -5.514      0.000      -0.517      -0.246\n",
      "cc_obesity                             0.2543      0.049      5.227      0.000       0.159       0.350\n",
      "cc_mskAllOther                       -19.3632    435.003     -0.045      0.964    -871.953     833.227\n",
      "cc_behavioralAllOther                  0.5598      0.058      9.666      0.000       0.446       0.673\n",
      "cc_ckd                                -0.5165      0.266     -1.942      0.052      -1.038       0.005\n",
      "concurrent_risk                        0.3189      0.017     19.307      0.000       0.287       0.351\n",
      "rx_nonClaimant                        -1.0796      0.069    -15.657      0.000      -1.215      -0.944\n",
      "rx_nonCompliant                       -0.4814      0.083     -5.776      0.000      -0.645      -0.318\n",
      "extreme_heat_2018                     -0.0249      0.012     -2.084      0.037      -0.048      -0.001\n",
      "wildfire_potential_2018                0.0007      0.028      0.023      0.981      -0.055       0.056\n",
      "======================================================================================================\n",
      "\n",
      "Possibly complete quasi-separation: A fraction 0.12 of observations can be\n",
      "perfectly predicted. This might indicate that there is complete\n",
      "quasi-separation. In this case some parameters will not be identified.\n"
     ]
    },
    {
     "name": "stderr",
     "output_type": "stream",
     "text": [
      "/Users/willisthebeast/opt/anaconda3/lib/python3.9/site-packages/statsmodels/base/model.py:607: ConvergenceWarning: Maximum Likelihood optimization failed to converge. Check mle_retvals\n",
      "  warnings.warn(\"Maximum Likelihood optimization failed to \"\n"
     ]
    }
   ],
   "source": [
    "x_with_constant = sm.add_constant(x_train)\n",
    "model = sm.Logit(y_train, x_with_constant)\n",
    "result = model.fit()\n",
    "\n",
    "print(result.summary())"
   ]
  },
  {
   "cell_type": "markdown",
   "metadata": {},
   "source": [
    "## Decision Tree Regressor"
   ]
  },
  {
   "cell_type": "code",
   "execution_count": 26,
   "metadata": {},
   "outputs": [
    {
     "name": "stdout",
     "output_type": "stream",
     "text": [
      "Train Set : (14717, 1) (14717, 30)\n",
      "Test Set  : (4906, 1) (4906, 30)\n"
     ]
    }
   ],
   "source": [
    "# y variable = absence_indicator\n",
    "# x variables = health_factors\n",
    "from sklearn.model_selection import train_test_split\n",
    "from sklearn.tree import DecisionTreeRegressor\n",
    "from sklearn.metrics import mean_squared_error\n",
    "\n",
    "y = pd.DataFrame(df_P['absence_indicator'])\n",
    "x = pd.DataFrame(df_P[health_factors])\n",
    "\n",
    "x[categorical_variables] = x[categorical_variables].astype('category')\n",
    "\n",
    "x_train, x_test, y_train, y_test = train_test_split(x, y, test_size = 0.25)\n",
    "\n",
    "print(\"Train Set :\", y_train.shape, x_train.shape)\n",
    "print(\"Test Set  :\", y_test.shape, x_test.shape)"
   ]
  },
  {
   "cell_type": "code",
   "execution_count": 27,
   "metadata": {},
   "outputs": [
    {
     "name": "stdout",
     "output_type": "stream",
     "text": [
      "Mean Squared Error (Train Dataset): 322.2924437381792\n",
      "Mean Squared Error (Test Dataset): 358.8142131752411\n"
     ]
    }
   ],
   "source": [
    "decisiontreemodel = DecisionTreeRegressor(max_depth=3)\n",
    "result = decisiontreemodel.fit(x_train, y_train)\n",
    "\n",
    "y_train_pred = decisiontreemodel.predict(x_train)\n",
    "train_mse = mean_squared_error(y_train_pred, y_train)\n",
    "y_test_pred = decisiontreemodel.predict(x_test)\n",
    "test_mse = mean_squared_error(y_test_pred, y_test)\n",
    "\n",
    "print(\"Mean Squared Error (Train Dataset):\", train_mse)\n",
    "print(\"Mean Squared Error (Test Dataset):\", test_mse)"
   ]
  },
  {
   "cell_type": "code",
   "execution_count": 28,
   "metadata": {},
   "outputs": [
    {
     "name": "stdout",
     "output_type": "stream",
     "text": [
      "Best max_depth: 3\n"
     ]
    }
   ],
   "source": [
    "from sklearn.model_selection import GridSearchCV\n",
    "\n",
    "param_grid = {'max_depth': range(1, 11)}\n",
    "\n",
    "decisiontreemodel = DecisionTreeRegressor()\n",
    "\n",
    "grid_search = GridSearchCV(estimator=decisiontreemodel, param_grid=param_grid, cv=5)\n",
    "\n",
    "grid_search.fit(x_train, y_train)\n",
    "best_max_depth = grid_search.best_params_['max_depth']\n",
    "\n",
    "print(\"Best max_depth:\", best_max_depth)"
   ]
  },
  {
   "cell_type": "code",
   "execution_count": 29,
   "metadata": {},
   "outputs": [
    {
     "name": "stdout",
     "output_type": "stream",
     "text": [
      "Mean Squared Error (Train Dataset): 322.2924437381792\n",
      "Mean Squared Error (Test Dataset): 358.8142131752411\n"
     ]
    }
   ],
   "source": [
    "decisiontreemodel = DecisionTreeRegressor(max_depth=best_max_depth)\n",
    "result = decisiontreemodel.fit(x_train, y_train)\n",
    "\n",
    "y_train_pred = decisiontreemodel.predict(x_train)\n",
    "train_mse = mean_squared_error(y_train_pred, y_train)\n",
    "y_test_pred = decisiontreemodel.predict(x_test)\n",
    "test_mse = mean_squared_error(y_test_pred, y_test)\n",
    "\n",
    "print(\"Mean Squared Error (Train Dataset):\", train_mse)\n",
    "print(\"Mean Squared Error (Test Dataset):\", test_mse)"
   ]
  },
  {
   "cell_type": "code",
   "execution_count": 30,
   "metadata": {},
   "outputs": [
    {
     "name": "stdout",
     "output_type": "stream",
     "text": [
      "{'significant_variables': ['Gender', 'cc_mskChronic', 'cc_depression', 'concurrent_risk']}\n"
     ]
    }
   ],
   "source": [
    "significant_variable = {}\n",
    "significant_variable['significant_variables'] = []\n",
    "fr = decisiontreemodel.feature_importances_ \n",
    "importance_dict = dict(zip(x_train.columns, fr))\n",
    "for key in importance_dict:\n",
    "    if importance_dict[key] > 0:\n",
    "        significant_variable['significant_variables'].append(key)\n",
    "        \n",
    "print(significant_variable)"
   ]
  },
  {
   "cell_type": "markdown",
   "metadata": {},
   "source": [
    "### transformation"
   ]
  },
  {
   "cell_type": "markdown",
   "metadata": {},
   "source": [
    "#### sqrt"
   ]
  },
  {
   "cell_type": "code",
   "execution_count": 31,
   "metadata": {},
   "outputs": [
    {
     "name": "stdout",
     "output_type": "stream",
     "text": [
      "Train Set : (14717, 1) (14717, 30)\n",
      "Test Set  : (4906, 1) (4906, 30)\n"
     ]
    }
   ],
   "source": [
    "y = pd.DataFrame(df_P['absence_indicator'])\n",
    "y['absence_indicator'] = np.sqrt(y['absence_indicator'])\n",
    "\n",
    "x_train, x_test, y_train, y_test = train_test_split(x, y, test_size = 0.25)\n",
    "\n",
    "print(\"Train Set :\", y_train.shape, x_train.shape)\n",
    "print(\"Test Set  :\", y_test.shape, x_test.shape)"
   ]
  },
  {
   "cell_type": "code",
   "execution_count": 32,
   "metadata": {},
   "outputs": [
    {
     "name": "stdout",
     "output_type": "stream",
     "text": [
      "Mean Squared Error (Train Dataset): 3.9935059256187517\n",
      "Mean Squared Error (Test Dataset): 4.585729469602217\n"
     ]
    }
   ],
   "source": [
    "decisiontreemodel = DecisionTreeRegressor(max_depth=3)\n",
    "result = decisiontreemodel.fit(x_train, y_train)\n",
    "\n",
    "y_train_pred = decisiontreemodel.predict(x_train)\n",
    "train_mse = mean_squared_error(y_train_pred, y_train)\n",
    "y_test_pred = decisiontreemodel.predict(x_test)\n",
    "test_mse = mean_squared_error(y_test_pred, y_test)\n",
    "\n",
    "print(\"Mean Squared Error (Train Dataset):\", train_mse)\n",
    "print(\"Mean Squared Error (Test Dataset):\", test_mse)"
   ]
  },
  {
   "cell_type": "code",
   "execution_count": 33,
   "metadata": {},
   "outputs": [
    {
     "name": "stdout",
     "output_type": "stream",
     "text": [
      "Best max_depth: 4\n"
     ]
    }
   ],
   "source": [
    "from sklearn.model_selection import GridSearchCV\n",
    "\n",
    "param_grid = {'max_depth': range(1, 11)}\n",
    "\n",
    "decisiontreemodel = DecisionTreeRegressor()\n",
    "\n",
    "grid_search = GridSearchCV(estimator=decisiontreemodel, param_grid=param_grid, cv=5)\n",
    "\n",
    "grid_search.fit(x_train, y_train)\n",
    "best_max_depth = grid_search.best_params_['max_depth']\n",
    "\n",
    "print(\"Best max_depth:\", best_max_depth)"
   ]
  },
  {
   "cell_type": "code",
   "execution_count": 34,
   "metadata": {},
   "outputs": [
    {
     "name": "stdout",
     "output_type": "stream",
     "text": [
      "Mean Squared Error (Train Dataset): 3.9031945303415703\n",
      "Mean Squared Error (Test Dataset): 4.529973847377811\n"
     ]
    }
   ],
   "source": [
    "decisiontreemodel = DecisionTreeRegressor(max_depth=best_max_depth)\n",
    "result = decisiontreemodel.fit(x_train, y_train)\n",
    "\n",
    "y_train_pred = decisiontreemodel.predict(x_train)\n",
    "train_mse = mean_squared_error(y_train_pred, y_train)\n",
    "y_test_pred = decisiontreemodel.predict(x_test)\n",
    "test_mse = mean_squared_error(y_test_pred, y_test)\n",
    "\n",
    "print(\"Mean Squared Error (Train Dataset):\", train_mse)\n",
    "print(\"Mean Squared Error (Test Dataset):\", test_mse)"
   ]
  },
  {
   "cell_type": "code",
   "execution_count": 35,
   "metadata": {},
   "outputs": [
    {
     "name": "stdout",
     "output_type": "stream",
     "text": [
      "{'significant_variables': ['ADI', 'Age', 'Gender', 'cc_mskChronic', 'cc_depression', 'cc_behavioralAllOther', 'concurrent_risk']}\n"
     ]
    }
   ],
   "source": [
    "significant_variable = {}\n",
    "significant_variable['significant_variables'] = []\n",
    "fr = decisiontreemodel.feature_importances_ \n",
    "importance_dict = dict(zip(x_train.columns, fr))\n",
    "for key in importance_dict:\n",
    "    if importance_dict[key] > 0:\n",
    "        significant_variable['significant_variables'].append(key)\n",
    "        \n",
    "print(significant_variable)"
   ]
  },
  {
   "cell_type": "markdown",
   "metadata": {},
   "source": [
    "#### logarithmic"
   ]
  },
  {
   "cell_type": "code",
   "execution_count": 36,
   "metadata": {},
   "outputs": [
    {
     "name": "stdout",
     "output_type": "stream",
     "text": [
      "Train Set : (14717, 1) (14717, 30)\n",
      "Test Set  : (4906, 1) (4906, 30)\n"
     ]
    }
   ],
   "source": [
    "y = pd.DataFrame(df_P['absence_indicator'])\n",
    "y.loc[y['absence_indicator'] != 0, 'absence_indicator'] = np.log(y.loc[y['absence_indicator'] != 0, 'absence_indicator'])\n",
    "\n",
    "x_train, x_test, y_train, y_test = train_test_split(x, y, test_size = 0.25)\n",
    "\n",
    "print(\"Train Set :\", y_train.shape, x_train.shape)\n",
    "print(\"Test Set  :\", y_test.shape, x_test.shape)"
   ]
  },
  {
   "cell_type": "code",
   "execution_count": 37,
   "metadata": {},
   "outputs": [
    {
     "name": "stdout",
     "output_type": "stream",
     "text": [
      "Mean Squared Error (Train Dataset): 1.2266617828447377\n",
      "Mean Squared Error (Test Dataset): 1.264650283154867\n"
     ]
    }
   ],
   "source": [
    "decisiontreemodel = DecisionTreeRegressor(max_depth=3)\n",
    "result = decisiontreemodel.fit(x_train, y_train)\n",
    "\n",
    "y_train_pred = decisiontreemodel.predict(x_train)\n",
    "train_mse = mean_squared_error(y_train_pred, y_train)\n",
    "y_test_pred = decisiontreemodel.predict(x_test)\n",
    "test_mse = mean_squared_error(y_test_pred, y_test)\n",
    "\n",
    "print(\"Mean Squared Error (Train Dataset):\", train_mse)\n",
    "print(\"Mean Squared Error (Test Dataset):\", test_mse)"
   ]
  },
  {
   "cell_type": "code",
   "execution_count": 38,
   "metadata": {},
   "outputs": [
    {
     "name": "stdout",
     "output_type": "stream",
     "text": [
      "Best max_depth: 4\n"
     ]
    }
   ],
   "source": [
    "from sklearn.model_selection import GridSearchCV\n",
    "\n",
    "param_grid = {'max_depth': range(1, 11)}\n",
    "\n",
    "decisiontreemodel = DecisionTreeRegressor()\n",
    "\n",
    "grid_search = GridSearchCV(estimator=decisiontreemodel, param_grid=param_grid, cv=5)\n",
    "\n",
    "grid_search.fit(x_train, y_train)\n",
    "best_max_depth = grid_search.best_params_['max_depth']\n",
    "\n",
    "print(\"Best max_depth:\", best_max_depth)"
   ]
  },
  {
   "cell_type": "code",
   "execution_count": 39,
   "metadata": {},
   "outputs": [
    {
     "name": "stdout",
     "output_type": "stream",
     "text": [
      "Mean Squared Error (Train Dataset): 1.2014990319844576\n",
      "Mean Squared Error (Test Dataset): 1.2481312755011718\n"
     ]
    }
   ],
   "source": [
    "decisiontreemodel = DecisionTreeRegressor(max_depth=best_max_depth)\n",
    "result = decisiontreemodel.fit(x_train, y_train)\n",
    "\n",
    "y_train_pred = decisiontreemodel.predict(x_train)\n",
    "train_mse = mean_squared_error(y_train_pred, y_train)\n",
    "y_test_pred = decisiontreemodel.predict(x_test)\n",
    "test_mse = mean_squared_error(y_test_pred, y_test)\n",
    "\n",
    "print(\"Mean Squared Error (Train Dataset):\", train_mse)\n",
    "print(\"Mean Squared Error (Test Dataset):\", test_mse)"
   ]
  },
  {
   "cell_type": "code",
   "execution_count": 40,
   "metadata": {},
   "outputs": [
    {
     "name": "stdout",
     "output_type": "stream",
     "text": [
      "{'significant_variables': ['ADI', 'Gender', 'cc_mskChronic', 'cc_depression', 'cc_behavioralAllOther', 'concurrent_risk', 'rx_nonCompliant']}\n"
     ]
    }
   ],
   "source": [
    "significant_variable = {}\n",
    "significant_variable['significant_variables'] = []\n",
    "fr = decisiontreemodel.feature_importances_ \n",
    "importance_dict = dict(zip(x_train.columns, fr))\n",
    "for key in importance_dict:\n",
    "    if importance_dict[key] > 0:\n",
    "        significant_variable['significant_variables'].append(key)\n",
    "        \n",
    "print(significant_variable)"
   ]
  },
  {
   "cell_type": "markdown",
   "metadata": {},
   "source": [
    "## Random Forest Regressor"
   ]
  },
  {
   "cell_type": "code",
   "execution_count": 41,
   "metadata": {},
   "outputs": [
    {
     "name": "stdout",
     "output_type": "stream",
     "text": [
      "Train Set : (14717, 1) (14717, 30)\n",
      "Test Set  : (4906, 1) (4906, 30)\n"
     ]
    }
   ],
   "source": [
    "y = pd.DataFrame(df_P['absence_indicator'])\n",
    "x = pd.DataFrame(df_P[health_factors])\n",
    "\n",
    "x[categorical_variables] = x[categorical_variables].astype('category')\n",
    "\n",
    "from sklearn.model_selection import train_test_split\n",
    "from sklearn.metrics import mean_squared_error\n",
    "from sklearn.ensemble import RandomForestRegressor\n",
    "from sklearn.metrics import mean_squared_error, accuracy_score, precision_score, recall_score\n",
    "\n",
    "x_train, x_test, y_train, y_test = train_test_split(x, y, test_size = 0.25)\n",
    "\n",
    "print(\"Train Set :\", y_train.shape, x_train.shape)\n",
    "print(\"Test Set  :\", y_test.shape, x_test.shape)"
   ]
  },
  {
   "cell_type": "code",
   "execution_count": 42,
   "metadata": {},
   "outputs": [
    {
     "name": "stderr",
     "output_type": "stream",
     "text": [
      "/Users/willisthebeast/opt/anaconda3/lib/python3.9/site-packages/sklearn/base.py:1474: DataConversionWarning: A column-vector y was passed when a 1d array was expected. Please change the shape of y to (n_samples,), for example using ravel().\n",
      "  return fit_method(estimator, *args, **kwargs)\n"
     ]
    },
    {
     "name": "stdout",
     "output_type": "stream",
     "text": [
      "Mean Squared Error (Train Dataset): 302.22552994875724\n",
      "Mean Squared Error (Test Dataset): 323.8525891123536\n"
     ]
    }
   ],
   "source": [
    "randomforest = RandomForestRegressor(n_estimators=100, max_depth=5, random_state=42)\n",
    "randomforest.fit(x_train, y_train)\n",
    "\n",
    "y_train_pred = randomforest.predict(x_train)\n",
    "train_mse = mean_squared_error(y_train_pred, y_train)\n",
    "y_test_pred = randomforest.predict(x_test)\n",
    "test_mse = mean_squared_error(y_test_pred, y_test)\n",
    "\n",
    "print(\"Mean Squared Error (Train Dataset):\", train_mse)\n",
    "print(\"Mean Squared Error (Test Dataset):\", test_mse)"
   ]
  },
  {
   "cell_type": "code",
   "execution_count": 45,
   "metadata": {},
   "outputs": [
    {
     "name": "stderr",
     "output_type": "stream",
     "text": [
      "/Users/willisthebeast/opt/anaconda3/lib/python3.9/site-packages/sklearn/base.py:1474: DataConversionWarning: A column-vector y was passed when a 1d array was expected. Please change the shape of y to (n_samples,), for example using ravel().\n",
      "  return fit_method(estimator, *args, **kwargs)\n",
      "/Users/willisthebeast/opt/anaconda3/lib/python3.9/site-packages/sklearn/base.py:1474: DataConversionWarning: A column-vector y was passed when a 1d array was expected. Please change the shape of y to (n_samples,), for example using ravel().\n",
      "  return fit_method(estimator, *args, **kwargs)\n",
      "/Users/willisthebeast/opt/anaconda3/lib/python3.9/site-packages/sklearn/base.py:1474: DataConversionWarning: A column-vector y was passed when a 1d array was expected. Please change the shape of y to (n_samples,), for example using ravel().\n",
      "  return fit_method(estimator, *args, **kwargs)\n",
      "/Users/willisthebeast/opt/anaconda3/lib/python3.9/site-packages/sklearn/base.py:1474: DataConversionWarning: A column-vector y was passed when a 1d array was expected. Please change the shape of y to (n_samples,), for example using ravel().\n",
      "  return fit_method(estimator, *args, **kwargs)\n",
      "/Users/willisthebeast/opt/anaconda3/lib/python3.9/site-packages/sklearn/base.py:1474: DataConversionWarning: A column-vector y was passed when a 1d array was expected. Please change the shape of y to (n_samples,), for example using ravel().\n",
      "  return fit_method(estimator, *args, **kwargs)\n",
      "/Users/willisthebeast/opt/anaconda3/lib/python3.9/site-packages/sklearn/base.py:1474: DataConversionWarning: A column-vector y was passed when a 1d array was expected. Please change the shape of y to (n_samples,), for example using ravel().\n",
      "  return fit_method(estimator, *args, **kwargs)\n",
      "/Users/willisthebeast/opt/anaconda3/lib/python3.9/site-packages/sklearn/base.py:1474: DataConversionWarning: A column-vector y was passed when a 1d array was expected. Please change the shape of y to (n_samples,), for example using ravel().\n",
      "  return fit_method(estimator, *args, **kwargs)\n",
      "/Users/willisthebeast/opt/anaconda3/lib/python3.9/site-packages/sklearn/base.py:1474: DataConversionWarning: A column-vector y was passed when a 1d array was expected. Please change the shape of y to (n_samples,), for example using ravel().\n",
      "  return fit_method(estimator, *args, **kwargs)\n",
      "/Users/willisthebeast/opt/anaconda3/lib/python3.9/site-packages/sklearn/base.py:1474: DataConversionWarning: A column-vector y was passed when a 1d array was expected. Please change the shape of y to (n_samples,), for example using ravel().\n",
      "  return fit_method(estimator, *args, **kwargs)\n",
      "/Users/willisthebeast/opt/anaconda3/lib/python3.9/site-packages/sklearn/base.py:1474: DataConversionWarning: A column-vector y was passed when a 1d array was expected. Please change the shape of y to (n_samples,), for example using ravel().\n",
      "  return fit_method(estimator, *args, **kwargs)\n",
      "/Users/willisthebeast/opt/anaconda3/lib/python3.9/site-packages/sklearn/base.py:1474: DataConversionWarning: A column-vector y was passed when a 1d array was expected. Please change the shape of y to (n_samples,), for example using ravel().\n",
      "  return fit_method(estimator, *args, **kwargs)\n",
      "/Users/willisthebeast/opt/anaconda3/lib/python3.9/site-packages/sklearn/base.py:1474: DataConversionWarning: A column-vector y was passed when a 1d array was expected. Please change the shape of y to (n_samples,), for example using ravel().\n",
      "  return fit_method(estimator, *args, **kwargs)\n",
      "/Users/willisthebeast/opt/anaconda3/lib/python3.9/site-packages/sklearn/base.py:1474: DataConversionWarning: A column-vector y was passed when a 1d array was expected. Please change the shape of y to (n_samples,), for example using ravel().\n",
      "  return fit_method(estimator, *args, **kwargs)\n",
      "/Users/willisthebeast/opt/anaconda3/lib/python3.9/site-packages/sklearn/base.py:1474: DataConversionWarning: A column-vector y was passed when a 1d array was expected. Please change the shape of y to (n_samples,), for example using ravel().\n",
      "  return fit_method(estimator, *args, **kwargs)\n",
      "/Users/willisthebeast/opt/anaconda3/lib/python3.9/site-packages/sklearn/base.py:1474: DataConversionWarning: A column-vector y was passed when a 1d array was expected. Please change the shape of y to (n_samples,), for example using ravel().\n",
      "  return fit_method(estimator, *args, **kwargs)\n",
      "/Users/willisthebeast/opt/anaconda3/lib/python3.9/site-packages/sklearn/base.py:1474: DataConversionWarning: A column-vector y was passed when a 1d array was expected. Please change the shape of y to (n_samples,), for example using ravel().\n",
      "  return fit_method(estimator, *args, **kwargs)\n",
      "/Users/willisthebeast/opt/anaconda3/lib/python3.9/site-packages/sklearn/base.py:1474: DataConversionWarning: A column-vector y was passed when a 1d array was expected. Please change the shape of y to (n_samples,), for example using ravel().\n",
      "  return fit_method(estimator, *args, **kwargs)\n",
      "/Users/willisthebeast/opt/anaconda3/lib/python3.9/site-packages/sklearn/base.py:1474: DataConversionWarning: A column-vector y was passed when a 1d array was expected. Please change the shape of y to (n_samples,), for example using ravel().\n",
      "  return fit_method(estimator, *args, **kwargs)\n",
      "/Users/willisthebeast/opt/anaconda3/lib/python3.9/site-packages/sklearn/base.py:1474: DataConversionWarning: A column-vector y was passed when a 1d array was expected. Please change the shape of y to (n_samples,), for example using ravel().\n",
      "  return fit_method(estimator, *args, **kwargs)\n",
      "/Users/willisthebeast/opt/anaconda3/lib/python3.9/site-packages/sklearn/base.py:1474: DataConversionWarning: A column-vector y was passed when a 1d array was expected. Please change the shape of y to (n_samples,), for example using ravel().\n",
      "  return fit_method(estimator, *args, **kwargs)\n",
      "/Users/willisthebeast/opt/anaconda3/lib/python3.9/site-packages/sklearn/base.py:1474: DataConversionWarning: A column-vector y was passed when a 1d array was expected. Please change the shape of y to (n_samples,), for example using ravel().\n",
      "  return fit_method(estimator, *args, **kwargs)\n",
      "/Users/willisthebeast/opt/anaconda3/lib/python3.9/site-packages/sklearn/base.py:1474: DataConversionWarning: A column-vector y was passed when a 1d array was expected. Please change the shape of y to (n_samples,), for example using ravel().\n",
      "  return fit_method(estimator, *args, **kwargs)\n",
      "/Users/willisthebeast/opt/anaconda3/lib/python3.9/site-packages/sklearn/base.py:1474: DataConversionWarning: A column-vector y was passed when a 1d array was expected. Please change the shape of y to (n_samples,), for example using ravel().\n",
      "  return fit_method(estimator, *args, **kwargs)\n",
      "/Users/willisthebeast/opt/anaconda3/lib/python3.9/site-packages/sklearn/base.py:1474: DataConversionWarning: A column-vector y was passed when a 1d array was expected. Please change the shape of y to (n_samples,), for example using ravel().\n",
      "  return fit_method(estimator, *args, **kwargs)\n",
      "/Users/willisthebeast/opt/anaconda3/lib/python3.9/site-packages/sklearn/base.py:1474: DataConversionWarning: A column-vector y was passed when a 1d array was expected. Please change the shape of y to (n_samples,), for example using ravel().\n",
      "  return fit_method(estimator, *args, **kwargs)\n",
      "/Users/willisthebeast/opt/anaconda3/lib/python3.9/site-packages/sklearn/base.py:1474: DataConversionWarning: A column-vector y was passed when a 1d array was expected. Please change the shape of y to (n_samples,), for example using ravel().\n",
      "  return fit_method(estimator, *args, **kwargs)\n"
     ]
    },
    {
     "name": "stdout",
     "output_type": "stream",
     "text": [
      "{'max_depth': 6, 'min_samples_split': 12, 'n_estimators': 137}\n"
     ]
    }
   ],
   "source": [
    "from sklearn.model_selection import RandomizedSearchCV\n",
    "from scipy.stats import randint\n",
    "\n",
    "param_dist = {\n",
    "    'n_estimators': randint(50, 200),\n",
    "    'max_depth': [None] + list(range(5, 20)),\n",
    "    'min_samples_split': randint(2, 20)\n",
    "}\n",
    "\n",
    "randomized_search = RandomizedSearchCV(estimator=RandomForestRegressor(), param_distributions=param_dist, n_iter=5, cv=5, scoring='neg_mean_squared_error', random_state=42)\n",
    "\n",
    "randomized_search.fit(x_train, y_train)\n",
    "\n",
    "best_params = randomized_search.best_params_\n",
    "print(best_params)"
   ]
  },
  {
   "cell_type": "code",
   "execution_count": null,
   "metadata": {},
   "outputs": [],
   "source": []
  }
 ],
 "metadata": {
  "interpreter": {
   "hash": "aee8b7b246df8f9039afb4144a1f6fd8d2ca17a180786b69acc140d282b71a49"
  },
  "kernelspec": {
   "display_name": "Python 3 (ipykernel)",
   "language": "python",
   "name": "python3"
  },
  "language_info": {
   "codemirror_mode": {
    "name": "ipython",
    "version": 3
   },
   "file_extension": ".py",
   "mimetype": "text/x-python",
   "name": "python",
   "nbconvert_exporter": "python",
   "pygments_lexer": "ipython3",
   "version": "3.9.7"
  }
 },
 "nbformat": 4,
 "nbformat_minor": 2
}
